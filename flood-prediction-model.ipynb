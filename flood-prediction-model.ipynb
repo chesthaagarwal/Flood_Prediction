{
 "cells": [
  {
   "cell_type": "markdown",
   "metadata": {
    "id": "gmb9AAPibKIv",
    "papermill": {
     "duration": 0.060269,
     "end_time": "2022-12-01T13:44:40.229230",
     "exception": false,
     "start_time": "2022-12-01T13:44:40.168961",
     "status": "completed"
    },
    "tags": []
   },
   "source": [
    "#**1.Introduction**\n",
    "\n",
    ">>Context\n",
    "\n",
    ">Kerala is a state in South India known for its beautiful beaches and backwaters. Also known as 'God's own country' it was named one of the 10 paradises of the world by National Geographic.\n",
    "Due to climate change, Kerala has been affected by unprecedented rainfall/floods in recent years. This dataset was obtained from Indian government's open data initiative to understand the trends.\n",
    "\n",
    " > Machine Learning algorithms to predict the chances of Flood in the state of Kerala using the Kerela flood dataset from almost the past 100 years \n",
    "\n",
    "\n",
    "> Here we are using 4 Machine Learning Algorithms which are KNN Classification, Logistic Regression, Support Vector Machine, and Decision Tree to obtain the best possible model to predict the flooding conditions using Kerela's rainfall data which is pertaining to the past 100 years of rainfall in the state \n",
    "\n",
    "\n",
    ">>*This raw dataset has the monthly and annual rainfall in millimeters (mms) from the year 1901 to 2018.*\n"
   ]
  },
  {
   "cell_type": "markdown",
   "metadata": {
    "id": "Mn-h4fqh-Hag",
    "papermill": {
     "duration": 0.058508,
     "end_time": "2022-12-01T13:44:40.347721",
     "exception": false,
     "start_time": "2022-12-01T13:44:40.289213",
     "status": "completed"
    },
    "tags": []
   },
   "source": [
    "#**2. Method**\n",
    "\n",
    "The analysis follows the steps as below.\n",
    "\n",
    "1. Review the data structure and clean it if it is necessary.\n",
    "2. Proceeding Exploratory Data Analysis to review the rainfall situation.\n",
    "3. Predict the rainfall by season and then seek other methods to improve the prediction.\n",
    "4. Use Algorithm methods to predict and evaluate the performance.\n",
    "5. Use HyperParameters over models to predict and review the outputs."
   ]
  },
  {
   "cell_type": "markdown",
   "metadata": {
    "id": "Cj6uEz6f_h6v",
    "papermill": {
     "duration": 0.059498,
     "end_time": "2022-12-01T13:44:40.463904",
     "exception": false,
     "start_time": "2022-12-01T13:44:40.404406",
     "status": "completed"
    },
    "tags": []
   },
   "source": [
    "#**3.EDA**"
   ]
  },
  {
   "cell_type": "code",
   "execution_count": 1,
   "metadata": {
    "execution": {
     "iopub.execute_input": "2022-12-01T13:44:40.586820Z",
     "iopub.status.busy": "2022-12-01T13:44:40.586026Z",
     "iopub.status.idle": "2022-12-01T13:44:41.643468Z",
     "shell.execute_reply": "2022-12-01T13:44:41.642805Z",
     "shell.execute_reply.started": "2022-12-01T13:43:29.348047Z"
    },
    "id": "Q8EDVhDyKn16",
    "papermill": {
     "duration": 1.120745,
     "end_time": "2022-12-01T13:44:41.643596",
     "exception": false,
     "start_time": "2022-12-01T13:44:40.522851",
     "status": "completed"
    },
    "tags": []
   },
   "outputs": [],
   "source": [
    "import pandas as pd\n",
    "import numpy as np\n",
    "import seaborn as sns\n",
    "import matplotlib.pyplot as plt\n",
    "import warnings\n",
    "warnings.filterwarnings('ignore')"
   ]
  },
  {
   "cell_type": "code",
   "execution_count": 2,
   "metadata": {
    "execution": {
     "iopub.execute_input": "2022-12-01T13:44:41.776554Z",
     "iopub.status.busy": "2022-12-01T13:44:41.775823Z",
     "iopub.status.idle": "2022-12-01T13:44:41.817509Z",
     "shell.execute_reply": "2022-12-01T13:44:41.818166Z",
     "shell.execute_reply.started": "2022-12-01T13:43:30.181089Z"
    },
    "id": "9xFPbwvLMWvs",
    "papermill": {
     "duration": 0.114363,
     "end_time": "2022-12-01T13:44:41.818335",
     "exception": false,
     "start_time": "2022-12-01T13:44:41.703972",
     "status": "completed"
    },
    "tags": []
   },
   "outputs": [
    {
     "data": {
      "text/html": [
       "<div>\n",
       "<style scoped>\n",
       "    .dataframe tbody tr th:only-of-type {\n",
       "        vertical-align: middle;\n",
       "    }\n",
       "\n",
       "    .dataframe tbody tr th {\n",
       "        vertical-align: top;\n",
       "    }\n",
       "\n",
       "    .dataframe thead th {\n",
       "        text-align: right;\n",
       "    }\n",
       "</style>\n",
       "<table border=\"1\" class=\"dataframe\">\n",
       "  <thead>\n",
       "    <tr style=\"text-align: right;\">\n",
       "      <th></th>\n",
       "      <th>SUBDIVISION</th>\n",
       "      <th>YEAR</th>\n",
       "      <th>JAN</th>\n",
       "      <th>FEB</th>\n",
       "      <th>MAR</th>\n",
       "      <th>APR</th>\n",
       "      <th>MAY</th>\n",
       "      <th>JUN</th>\n",
       "      <th>JUL</th>\n",
       "      <th>AUG</th>\n",
       "      <th>SEP</th>\n",
       "      <th>OCT</th>\n",
       "      <th>NOV</th>\n",
       "      <th>DEC</th>\n",
       "      <th>ANNUAL RAINFALL</th>\n",
       "      <th>FLOODS</th>\n",
       "    </tr>\n",
       "  </thead>\n",
       "  <tbody>\n",
       "    <tr>\n",
       "      <th>0</th>\n",
       "      <td>KERALA</td>\n",
       "      <td>1901</td>\n",
       "      <td>28.7</td>\n",
       "      <td>44.7</td>\n",
       "      <td>51.6</td>\n",
       "      <td>160.0</td>\n",
       "      <td>174.7</td>\n",
       "      <td>824.6</td>\n",
       "      <td>743.0</td>\n",
       "      <td>357.5</td>\n",
       "      <td>197.7</td>\n",
       "      <td>266.9</td>\n",
       "      <td>350.8</td>\n",
       "      <td>48.4</td>\n",
       "      <td>3248.6</td>\n",
       "      <td>YES</td>\n",
       "    </tr>\n",
       "    <tr>\n",
       "      <th>1</th>\n",
       "      <td>KERALA</td>\n",
       "      <td>1902</td>\n",
       "      <td>6.7</td>\n",
       "      <td>2.6</td>\n",
       "      <td>57.3</td>\n",
       "      <td>83.9</td>\n",
       "      <td>134.5</td>\n",
       "      <td>390.9</td>\n",
       "      <td>1205.0</td>\n",
       "      <td>315.8</td>\n",
       "      <td>491.6</td>\n",
       "      <td>358.4</td>\n",
       "      <td>158.3</td>\n",
       "      <td>121.5</td>\n",
       "      <td>3326.6</td>\n",
       "      <td>YES</td>\n",
       "    </tr>\n",
       "    <tr>\n",
       "      <th>2</th>\n",
       "      <td>KERALA</td>\n",
       "      <td>1903</td>\n",
       "      <td>3.2</td>\n",
       "      <td>18.6</td>\n",
       "      <td>3.1</td>\n",
       "      <td>83.6</td>\n",
       "      <td>249.7</td>\n",
       "      <td>558.6</td>\n",
       "      <td>1022.5</td>\n",
       "      <td>420.2</td>\n",
       "      <td>341.8</td>\n",
       "      <td>354.1</td>\n",
       "      <td>157.0</td>\n",
       "      <td>59.0</td>\n",
       "      <td>3271.2</td>\n",
       "      <td>YES</td>\n",
       "    </tr>\n",
       "    <tr>\n",
       "      <th>3</th>\n",
       "      <td>KERALA</td>\n",
       "      <td>1904</td>\n",
       "      <td>23.7</td>\n",
       "      <td>3.0</td>\n",
       "      <td>32.2</td>\n",
       "      <td>71.5</td>\n",
       "      <td>235.7</td>\n",
       "      <td>1098.2</td>\n",
       "      <td>725.5</td>\n",
       "      <td>351.8</td>\n",
       "      <td>222.7</td>\n",
       "      <td>328.1</td>\n",
       "      <td>33.9</td>\n",
       "      <td>3.3</td>\n",
       "      <td>3129.7</td>\n",
       "      <td>YES</td>\n",
       "    </tr>\n",
       "    <tr>\n",
       "      <th>4</th>\n",
       "      <td>KERALA</td>\n",
       "      <td>1905</td>\n",
       "      <td>1.2</td>\n",
       "      <td>22.3</td>\n",
       "      <td>9.4</td>\n",
       "      <td>105.9</td>\n",
       "      <td>263.3</td>\n",
       "      <td>850.2</td>\n",
       "      <td>520.5</td>\n",
       "      <td>293.6</td>\n",
       "      <td>217.2</td>\n",
       "      <td>383.5</td>\n",
       "      <td>74.4</td>\n",
       "      <td>0.2</td>\n",
       "      <td>2741.6</td>\n",
       "      <td>NO</td>\n",
       "    </tr>\n",
       "  </tbody>\n",
       "</table>\n",
       "</div>"
      ],
      "text/plain": [
       "  SUBDIVISION  YEAR   JAN   FEB   MAR    APR    MAY     JUN     JUL    AUG  \\\n",
       "0      KERALA  1901  28.7  44.7  51.6  160.0  174.7   824.6   743.0  357.5   \n",
       "1      KERALA  1902   6.7   2.6  57.3   83.9  134.5   390.9  1205.0  315.8   \n",
       "2      KERALA  1903   3.2  18.6   3.1   83.6  249.7   558.6  1022.5  420.2   \n",
       "3      KERALA  1904  23.7   3.0  32.2   71.5  235.7  1098.2   725.5  351.8   \n",
       "4      KERALA  1905   1.2  22.3   9.4  105.9  263.3   850.2   520.5  293.6   \n",
       "\n",
       "     SEP    OCT    NOV    DEC   ANNUAL RAINFALL FLOODS  \n",
       "0  197.7  266.9  350.8   48.4            3248.6    YES  \n",
       "1  491.6  358.4  158.3  121.5            3326.6    YES  \n",
       "2  341.8  354.1  157.0   59.0            3271.2    YES  \n",
       "3  222.7  328.1   33.9    3.3            3129.7    YES  \n",
       "4  217.2  383.5   74.4    0.2            2741.6     NO  "
      ]
     },
     "execution_count": 2,
     "metadata": {},
     "output_type": "execute_result"
    }
   ],
   "source": [
    "df = pd.read_csv('/kaggle/input/kerela-flood/kerala.csv')\n",
    "df.head()"
   ]
  },
  {
   "cell_type": "markdown",
   "metadata": {
    "id": "vi8GGhEfdIsn",
    "papermill": {
     "duration": 0.057365,
     "end_time": "2022-12-01T13:44:41.933318",
     "exception": false,
     "start_time": "2022-12-01T13:44:41.875953",
     "status": "completed"
    },
    "tags": []
   },
   "source": [
    "Finding number of missing values\n"
   ]
  },
  {
   "cell_type": "code",
   "execution_count": 3,
   "metadata": {
    "execution": {
     "iopub.execute_input": "2022-12-01T13:44:42.056054Z",
     "iopub.status.busy": "2022-12-01T13:44:42.055338Z",
     "iopub.status.idle": "2022-12-01T13:44:42.064338Z",
     "shell.execute_reply": "2022-12-01T13:44:42.063604Z",
     "shell.execute_reply.started": "2022-12-01T13:43:30.223755Z"
    },
    "id": "7NmjBU4VMgTC",
    "papermill": {
     "duration": 0.071961,
     "end_time": "2022-12-01T13:44:42.064468",
     "exception": false,
     "start_time": "2022-12-01T13:44:41.992507",
     "status": "completed"
    },
    "tags": []
   },
   "outputs": [
    {
     "data": {
      "text/plain": [
       "SUBDIVISION         0\n",
       "YEAR                0\n",
       "JAN                 0\n",
       "FEB                 0\n",
       "MAR                 0\n",
       "APR                 0\n",
       "MAY                 0\n",
       "JUN                 0\n",
       "JUL                 0\n",
       "AUG                 0\n",
       "SEP                 0\n",
       "OCT                 0\n",
       "NOV                 0\n",
       "DEC                 0\n",
       " ANNUAL RAINFALL    0\n",
       "FLOODS              0\n",
       "dtype: int64"
      ]
     },
     "execution_count": 3,
     "metadata": {},
     "output_type": "execute_result"
    }
   ],
   "source": [
    "df.isnull().sum()"
   ]
  },
  {
   "cell_type": "code",
   "execution_count": 4,
   "metadata": {
    "execution": {
     "iopub.execute_input": "2022-12-01T13:44:42.194723Z",
     "iopub.status.busy": "2022-12-01T13:44:42.193288Z",
     "iopub.status.idle": "2022-12-01T13:44:42.201558Z",
     "shell.execute_reply": "2022-12-01T13:44:42.200922Z",
     "shell.execute_reply.started": "2022-12-01T13:43:30.232527Z"
    },
    "id": "aEnadj8qdOgW",
    "papermill": {
     "duration": 0.074843,
     "end_time": "2022-12-01T13:44:42.201704",
     "exception": false,
     "start_time": "2022-12-01T13:44:42.126861",
     "status": "completed"
    },
    "tags": []
   },
   "outputs": [
    {
     "name": "stdout",
     "output_type": "stream",
     "text": [
      "(118, 16)\n"
     ]
    }
   ],
   "source": [
    "print(df.shape)"
   ]
  },
  {
   "cell_type": "code",
   "execution_count": 5,
   "metadata": {
    "execution": {
     "iopub.execute_input": "2022-12-01T13:44:42.350108Z",
     "iopub.status.busy": "2022-12-01T13:44:42.345876Z",
     "iopub.status.idle": "2022-12-01T13:44:42.400167Z",
     "shell.execute_reply": "2022-12-01T13:44:42.399476Z",
     "shell.execute_reply.started": "2022-12-01T13:43:30.245301Z"
    },
    "id": "_FOnb5QUdZp-",
    "papermill": {
     "duration": 0.125644,
     "end_time": "2022-12-01T13:44:42.400299",
     "exception": false,
     "start_time": "2022-12-01T13:44:42.274655",
     "status": "completed"
    },
    "tags": []
   },
   "outputs": [
    {
     "data": {
      "text/html": [
       "<div>\n",
       "<style scoped>\n",
       "    .dataframe tbody tr th:only-of-type {\n",
       "        vertical-align: middle;\n",
       "    }\n",
       "\n",
       "    .dataframe tbody tr th {\n",
       "        vertical-align: top;\n",
       "    }\n",
       "\n",
       "    .dataframe thead th {\n",
       "        text-align: right;\n",
       "    }\n",
       "</style>\n",
       "<table border=\"1\" class=\"dataframe\">\n",
       "  <thead>\n",
       "    <tr style=\"text-align: right;\">\n",
       "      <th></th>\n",
       "      <th>YEAR</th>\n",
       "      <th>JAN</th>\n",
       "      <th>FEB</th>\n",
       "      <th>MAR</th>\n",
       "      <th>APR</th>\n",
       "      <th>MAY</th>\n",
       "      <th>JUN</th>\n",
       "      <th>JUL</th>\n",
       "      <th>AUG</th>\n",
       "      <th>SEP</th>\n",
       "      <th>OCT</th>\n",
       "      <th>NOV</th>\n",
       "      <th>DEC</th>\n",
       "      <th>ANNUAL RAINFALL</th>\n",
       "    </tr>\n",
       "  </thead>\n",
       "  <tbody>\n",
       "    <tr>\n",
       "      <th>count</th>\n",
       "      <td>118.000000</td>\n",
       "      <td>118.000000</td>\n",
       "      <td>118.000000</td>\n",
       "      <td>118.000000</td>\n",
       "      <td>118.000000</td>\n",
       "      <td>118.000000</td>\n",
       "      <td>118.000000</td>\n",
       "      <td>118.000000</td>\n",
       "      <td>118.000000</td>\n",
       "      <td>118.000000</td>\n",
       "      <td>118.000000</td>\n",
       "      <td>118.000000</td>\n",
       "      <td>118.000000</td>\n",
       "      <td>118.000000</td>\n",
       "    </tr>\n",
       "    <tr>\n",
       "      <th>mean</th>\n",
       "      <td>1959.500000</td>\n",
       "      <td>12.218644</td>\n",
       "      <td>15.633898</td>\n",
       "      <td>36.670339</td>\n",
       "      <td>110.330508</td>\n",
       "      <td>228.644915</td>\n",
       "      <td>651.617797</td>\n",
       "      <td>698.220339</td>\n",
       "      <td>430.369492</td>\n",
       "      <td>246.207627</td>\n",
       "      <td>293.207627</td>\n",
       "      <td>162.311017</td>\n",
       "      <td>40.009322</td>\n",
       "      <td>2925.405085</td>\n",
       "    </tr>\n",
       "    <tr>\n",
       "      <th>std</th>\n",
       "      <td>34.207699</td>\n",
       "      <td>15.473766</td>\n",
       "      <td>16.406290</td>\n",
       "      <td>30.063862</td>\n",
       "      <td>44.633452</td>\n",
       "      <td>147.548778</td>\n",
       "      <td>186.181363</td>\n",
       "      <td>228.988966</td>\n",
       "      <td>181.980463</td>\n",
       "      <td>121.901131</td>\n",
       "      <td>93.705253</td>\n",
       "      <td>83.200485</td>\n",
       "      <td>36.676330</td>\n",
       "      <td>452.169407</td>\n",
       "    </tr>\n",
       "    <tr>\n",
       "      <th>min</th>\n",
       "      <td>1901.000000</td>\n",
       "      <td>0.000000</td>\n",
       "      <td>0.000000</td>\n",
       "      <td>0.100000</td>\n",
       "      <td>13.100000</td>\n",
       "      <td>53.400000</td>\n",
       "      <td>196.800000</td>\n",
       "      <td>167.500000</td>\n",
       "      <td>178.600000</td>\n",
       "      <td>41.300000</td>\n",
       "      <td>68.500000</td>\n",
       "      <td>31.500000</td>\n",
       "      <td>0.100000</td>\n",
       "      <td>2068.800000</td>\n",
       "    </tr>\n",
       "    <tr>\n",
       "      <th>25%</th>\n",
       "      <td>1930.250000</td>\n",
       "      <td>2.175000</td>\n",
       "      <td>4.700000</td>\n",
       "      <td>18.100000</td>\n",
       "      <td>74.350000</td>\n",
       "      <td>125.050000</td>\n",
       "      <td>535.550000</td>\n",
       "      <td>533.200000</td>\n",
       "      <td>316.725000</td>\n",
       "      <td>155.425000</td>\n",
       "      <td>222.125000</td>\n",
       "      <td>93.025000</td>\n",
       "      <td>10.350000</td>\n",
       "      <td>2613.525000</td>\n",
       "    </tr>\n",
       "    <tr>\n",
       "      <th>50%</th>\n",
       "      <td>1959.500000</td>\n",
       "      <td>5.800000</td>\n",
       "      <td>8.350000</td>\n",
       "      <td>28.400000</td>\n",
       "      <td>110.400000</td>\n",
       "      <td>184.600000</td>\n",
       "      <td>625.600000</td>\n",
       "      <td>691.650000</td>\n",
       "      <td>386.250000</td>\n",
       "      <td>223.550000</td>\n",
       "      <td>284.300000</td>\n",
       "      <td>152.450000</td>\n",
       "      <td>31.100000</td>\n",
       "      <td>2934.300000</td>\n",
       "    </tr>\n",
       "    <tr>\n",
       "      <th>75%</th>\n",
       "      <td>1988.750000</td>\n",
       "      <td>18.175000</td>\n",
       "      <td>21.400000</td>\n",
       "      <td>49.825000</td>\n",
       "      <td>136.450000</td>\n",
       "      <td>264.875000</td>\n",
       "      <td>786.975000</td>\n",
       "      <td>832.425000</td>\n",
       "      <td>500.100000</td>\n",
       "      <td>334.500000</td>\n",
       "      <td>355.150000</td>\n",
       "      <td>218.325000</td>\n",
       "      <td>54.025000</td>\n",
       "      <td>3170.400000</td>\n",
       "    </tr>\n",
       "    <tr>\n",
       "      <th>max</th>\n",
       "      <td>2018.000000</td>\n",
       "      <td>83.500000</td>\n",
       "      <td>79.000000</td>\n",
       "      <td>217.200000</td>\n",
       "      <td>238.000000</td>\n",
       "      <td>738.800000</td>\n",
       "      <td>1098.200000</td>\n",
       "      <td>1526.500000</td>\n",
       "      <td>1398.900000</td>\n",
       "      <td>526.700000</td>\n",
       "      <td>567.900000</td>\n",
       "      <td>365.600000</td>\n",
       "      <td>202.300000</td>\n",
       "      <td>4473.000000</td>\n",
       "    </tr>\n",
       "  </tbody>\n",
       "</table>\n",
       "</div>"
      ],
      "text/plain": [
       "              YEAR         JAN         FEB         MAR         APR  \\\n",
       "count   118.000000  118.000000  118.000000  118.000000  118.000000   \n",
       "mean   1959.500000   12.218644   15.633898   36.670339  110.330508   \n",
       "std      34.207699   15.473766   16.406290   30.063862   44.633452   \n",
       "min    1901.000000    0.000000    0.000000    0.100000   13.100000   \n",
       "25%    1930.250000    2.175000    4.700000   18.100000   74.350000   \n",
       "50%    1959.500000    5.800000    8.350000   28.400000  110.400000   \n",
       "75%    1988.750000   18.175000   21.400000   49.825000  136.450000   \n",
       "max    2018.000000   83.500000   79.000000  217.200000  238.000000   \n",
       "\n",
       "              MAY          JUN          JUL          AUG         SEP  \\\n",
       "count  118.000000   118.000000   118.000000   118.000000  118.000000   \n",
       "mean   228.644915   651.617797   698.220339   430.369492  246.207627   \n",
       "std    147.548778   186.181363   228.988966   181.980463  121.901131   \n",
       "min     53.400000   196.800000   167.500000   178.600000   41.300000   \n",
       "25%    125.050000   535.550000   533.200000   316.725000  155.425000   \n",
       "50%    184.600000   625.600000   691.650000   386.250000  223.550000   \n",
       "75%    264.875000   786.975000   832.425000   500.100000  334.500000   \n",
       "max    738.800000  1098.200000  1526.500000  1398.900000  526.700000   \n",
       "\n",
       "              OCT         NOV         DEC   ANNUAL RAINFALL  \n",
       "count  118.000000  118.000000  118.000000        118.000000  \n",
       "mean   293.207627  162.311017   40.009322       2925.405085  \n",
       "std     93.705253   83.200485   36.676330        452.169407  \n",
       "min     68.500000   31.500000    0.100000       2068.800000  \n",
       "25%    222.125000   93.025000   10.350000       2613.525000  \n",
       "50%    284.300000  152.450000   31.100000       2934.300000  \n",
       "75%    355.150000  218.325000   54.025000       3170.400000  \n",
       "max    567.900000  365.600000  202.300000       4473.000000  "
      ]
     },
     "execution_count": 5,
     "metadata": {},
     "output_type": "execute_result"
    }
   ],
   "source": [
    "df.describe()"
   ]
  },
  {
   "cell_type": "code",
   "execution_count": 6,
   "metadata": {
    "execution": {
     "iopub.execute_input": "2022-12-01T13:44:42.547214Z",
     "iopub.status.busy": "2022-12-01T13:44:42.546477Z",
     "iopub.status.idle": "2022-12-01T13:44:42.571434Z",
     "shell.execute_reply": "2022-12-01T13:44:42.569939Z",
     "shell.execute_reply.started": "2022-12-01T13:43:30.308115Z"
    },
    "id": "pGO1vmnHdld7",
    "papermill": {
     "duration": 0.111344,
     "end_time": "2022-12-01T13:44:42.571589",
     "exception": false,
     "start_time": "2022-12-01T13:44:42.460245",
     "status": "completed"
    },
    "tags": []
   },
   "outputs": [
    {
     "data": {
      "text/html": [
       "<div>\n",
       "<style scoped>\n",
       "    .dataframe tbody tr th:only-of-type {\n",
       "        vertical-align: middle;\n",
       "    }\n",
       "\n",
       "    .dataframe tbody tr th {\n",
       "        vertical-align: top;\n",
       "    }\n",
       "\n",
       "    .dataframe thead th {\n",
       "        text-align: right;\n",
       "    }\n",
       "</style>\n",
       "<table border=\"1\" class=\"dataframe\">\n",
       "  <thead>\n",
       "    <tr style=\"text-align: right;\">\n",
       "      <th></th>\n",
       "      <th>YEAR</th>\n",
       "      <th>JAN</th>\n",
       "      <th>FEB</th>\n",
       "      <th>MAR</th>\n",
       "      <th>APR</th>\n",
       "      <th>MAY</th>\n",
       "      <th>JUN</th>\n",
       "      <th>JUL</th>\n",
       "      <th>AUG</th>\n",
       "      <th>SEP</th>\n",
       "      <th>OCT</th>\n",
       "      <th>NOV</th>\n",
       "      <th>DEC</th>\n",
       "      <th>ANNUAL RAINFALL</th>\n",
       "    </tr>\n",
       "  </thead>\n",
       "  <tbody>\n",
       "    <tr>\n",
       "      <th>YEAR</th>\n",
       "      <td>1.000000</td>\n",
       "      <td>-0.225531</td>\n",
       "      <td>0.003879</td>\n",
       "      <td>-0.012842</td>\n",
       "      <td>0.086865</td>\n",
       "      <td>-0.059661</td>\n",
       "      <td>-0.174938</td>\n",
       "      <td>-0.223403</td>\n",
       "      <td>0.044173</td>\n",
       "      <td>0.107655</td>\n",
       "      <td>-0.030223</td>\n",
       "      <td>-0.130129</td>\n",
       "      <td>-0.123643</td>\n",
       "      <td>-0.198048</td>\n",
       "    </tr>\n",
       "    <tr>\n",
       "      <th>JAN</th>\n",
       "      <td>-0.225531</td>\n",
       "      <td>1.000000</td>\n",
       "      <td>0.019613</td>\n",
       "      <td>0.078626</td>\n",
       "      <td>0.034807</td>\n",
       "      <td>0.071420</td>\n",
       "      <td>0.189375</td>\n",
       "      <td>0.034423</td>\n",
       "      <td>0.008677</td>\n",
       "      <td>-0.113502</td>\n",
       "      <td>-0.035044</td>\n",
       "      <td>-0.011034</td>\n",
       "      <td>-0.089809</td>\n",
       "      <td>0.118648</td>\n",
       "    </tr>\n",
       "    <tr>\n",
       "      <th>FEB</th>\n",
       "      <td>0.003879</td>\n",
       "      <td>0.019613</td>\n",
       "      <td>1.000000</td>\n",
       "      <td>0.245375</td>\n",
       "      <td>0.123706</td>\n",
       "      <td>-0.083500</td>\n",
       "      <td>0.054114</td>\n",
       "      <td>0.005789</td>\n",
       "      <td>0.023259</td>\n",
       "      <td>0.066317</td>\n",
       "      <td>0.053133</td>\n",
       "      <td>-0.162880</td>\n",
       "      <td>-0.127025</td>\n",
       "      <td>0.061457</td>\n",
       "    </tr>\n",
       "    <tr>\n",
       "      <th>MAR</th>\n",
       "      <td>-0.012842</td>\n",
       "      <td>0.078626</td>\n",
       "      <td>0.245375</td>\n",
       "      <td>1.000000</td>\n",
       "      <td>0.074014</td>\n",
       "      <td>-0.102961</td>\n",
       "      <td>0.019000</td>\n",
       "      <td>0.018330</td>\n",
       "      <td>0.042411</td>\n",
       "      <td>0.143850</td>\n",
       "      <td>-0.023066</td>\n",
       "      <td>-0.032612</td>\n",
       "      <td>0.026292</td>\n",
       "      <td>0.116103</td>\n",
       "    </tr>\n",
       "    <tr>\n",
       "      <th>APR</th>\n",
       "      <td>0.086865</td>\n",
       "      <td>0.034807</td>\n",
       "      <td>0.123706</td>\n",
       "      <td>0.074014</td>\n",
       "      <td>1.000000</td>\n",
       "      <td>-0.114566</td>\n",
       "      <td>0.072990</td>\n",
       "      <td>0.014977</td>\n",
       "      <td>-0.047842</td>\n",
       "      <td>0.012928</td>\n",
       "      <td>0.113172</td>\n",
       "      <td>0.022206</td>\n",
       "      <td>-0.110392</td>\n",
       "      <td>0.112358</td>\n",
       "    </tr>\n",
       "    <tr>\n",
       "      <th>MAY</th>\n",
       "      <td>-0.059661</td>\n",
       "      <td>0.071420</td>\n",
       "      <td>-0.083500</td>\n",
       "      <td>-0.102961</td>\n",
       "      <td>-0.114566</td>\n",
       "      <td>1.000000</td>\n",
       "      <td>0.001235</td>\n",
       "      <td>-0.046518</td>\n",
       "      <td>-0.124412</td>\n",
       "      <td>0.116860</td>\n",
       "      <td>0.197102</td>\n",
       "      <td>0.094934</td>\n",
       "      <td>-0.118077</td>\n",
       "      <td>0.314723</td>\n",
       "    </tr>\n",
       "    <tr>\n",
       "      <th>JUN</th>\n",
       "      <td>-0.174938</td>\n",
       "      <td>0.189375</td>\n",
       "      <td>0.054114</td>\n",
       "      <td>0.019000</td>\n",
       "      <td>0.072990</td>\n",
       "      <td>0.001235</td>\n",
       "      <td>1.000000</td>\n",
       "      <td>0.094939</td>\n",
       "      <td>-0.014549</td>\n",
       "      <td>-0.052634</td>\n",
       "      <td>0.001156</td>\n",
       "      <td>0.015967</td>\n",
       "      <td>-0.085188</td>\n",
       "      <td>0.453407</td>\n",
       "    </tr>\n",
       "    <tr>\n",
       "      <th>JUL</th>\n",
       "      <td>-0.223403</td>\n",
       "      <td>0.034423</td>\n",
       "      <td>0.005789</td>\n",
       "      <td>0.018330</td>\n",
       "      <td>0.014977</td>\n",
       "      <td>-0.046518</td>\n",
       "      <td>0.094939</td>\n",
       "      <td>1.000000</td>\n",
       "      <td>0.154467</td>\n",
       "      <td>0.209441</td>\n",
       "      <td>0.025223</td>\n",
       "      <td>-0.028526</td>\n",
       "      <td>-0.013573</td>\n",
       "      <td>0.651990</td>\n",
       "    </tr>\n",
       "    <tr>\n",
       "      <th>AUG</th>\n",
       "      <td>0.044173</td>\n",
       "      <td>0.008677</td>\n",
       "      <td>0.023259</td>\n",
       "      <td>0.042411</td>\n",
       "      <td>-0.047842</td>\n",
       "      <td>-0.124412</td>\n",
       "      <td>-0.014549</td>\n",
       "      <td>0.154467</td>\n",
       "      <td>1.000000</td>\n",
       "      <td>0.098215</td>\n",
       "      <td>-0.181496</td>\n",
       "      <td>-0.112729</td>\n",
       "      <td>0.142090</td>\n",
       "      <td>0.413036</td>\n",
       "    </tr>\n",
       "    <tr>\n",
       "      <th>SEP</th>\n",
       "      <td>0.107655</td>\n",
       "      <td>-0.113502</td>\n",
       "      <td>0.066317</td>\n",
       "      <td>0.143850</td>\n",
       "      <td>0.012928</td>\n",
       "      <td>0.116860</td>\n",
       "      <td>-0.052634</td>\n",
       "      <td>0.209441</td>\n",
       "      <td>0.098215</td>\n",
       "      <td>1.000000</td>\n",
       "      <td>-0.032348</td>\n",
       "      <td>-0.027615</td>\n",
       "      <td>-0.011007</td>\n",
       "      <td>0.428344</td>\n",
       "    </tr>\n",
       "    <tr>\n",
       "      <th>OCT</th>\n",
       "      <td>-0.030223</td>\n",
       "      <td>-0.035044</td>\n",
       "      <td>0.053133</td>\n",
       "      <td>-0.023066</td>\n",
       "      <td>0.113172</td>\n",
       "      <td>0.197102</td>\n",
       "      <td>0.001156</td>\n",
       "      <td>0.025223</td>\n",
       "      <td>-0.181496</td>\n",
       "      <td>-0.032348</td>\n",
       "      <td>1.000000</td>\n",
       "      <td>-0.024060</td>\n",
       "      <td>-0.039067</td>\n",
       "      <td>0.205861</td>\n",
       "    </tr>\n",
       "    <tr>\n",
       "      <th>NOV</th>\n",
       "      <td>-0.130129</td>\n",
       "      <td>-0.011034</td>\n",
       "      <td>-0.162880</td>\n",
       "      <td>-0.032612</td>\n",
       "      <td>0.022206</td>\n",
       "      <td>0.094934</td>\n",
       "      <td>0.015967</td>\n",
       "      <td>-0.028526</td>\n",
       "      <td>-0.112729</td>\n",
       "      <td>-0.027615</td>\n",
       "      <td>-0.024060</td>\n",
       "      <td>1.000000</td>\n",
       "      <td>0.070720</td>\n",
       "      <td>0.148783</td>\n",
       "    </tr>\n",
       "    <tr>\n",
       "      <th>DEC</th>\n",
       "      <td>-0.123643</td>\n",
       "      <td>-0.089809</td>\n",
       "      <td>-0.127025</td>\n",
       "      <td>0.026292</td>\n",
       "      <td>-0.110392</td>\n",
       "      <td>-0.118077</td>\n",
       "      <td>-0.085188</td>\n",
       "      <td>-0.013573</td>\n",
       "      <td>0.142090</td>\n",
       "      <td>-0.011007</td>\n",
       "      <td>-0.039067</td>\n",
       "      <td>0.070720</td>\n",
       "      <td>1.000000</td>\n",
       "      <td>0.042967</td>\n",
       "    </tr>\n",
       "    <tr>\n",
       "      <th>ANNUAL RAINFALL</th>\n",
       "      <td>-0.198048</td>\n",
       "      <td>0.118648</td>\n",
       "      <td>0.061457</td>\n",
       "      <td>0.116103</td>\n",
       "      <td>0.112358</td>\n",
       "      <td>0.314723</td>\n",
       "      <td>0.453407</td>\n",
       "      <td>0.651990</td>\n",
       "      <td>0.413036</td>\n",
       "      <td>0.428344</td>\n",
       "      <td>0.205861</td>\n",
       "      <td>0.148783</td>\n",
       "      <td>0.042967</td>\n",
       "      <td>1.000000</td>\n",
       "    </tr>\n",
       "  </tbody>\n",
       "</table>\n",
       "</div>"
      ],
      "text/plain": [
       "                      YEAR       JAN       FEB       MAR       APR       MAY  \\\n",
       "YEAR              1.000000 -0.225531  0.003879 -0.012842  0.086865 -0.059661   \n",
       "JAN              -0.225531  1.000000  0.019613  0.078626  0.034807  0.071420   \n",
       "FEB               0.003879  0.019613  1.000000  0.245375  0.123706 -0.083500   \n",
       "MAR              -0.012842  0.078626  0.245375  1.000000  0.074014 -0.102961   \n",
       "APR               0.086865  0.034807  0.123706  0.074014  1.000000 -0.114566   \n",
       "MAY              -0.059661  0.071420 -0.083500 -0.102961 -0.114566  1.000000   \n",
       "JUN              -0.174938  0.189375  0.054114  0.019000  0.072990  0.001235   \n",
       "JUL              -0.223403  0.034423  0.005789  0.018330  0.014977 -0.046518   \n",
       "AUG               0.044173  0.008677  0.023259  0.042411 -0.047842 -0.124412   \n",
       "SEP               0.107655 -0.113502  0.066317  0.143850  0.012928  0.116860   \n",
       "OCT              -0.030223 -0.035044  0.053133 -0.023066  0.113172  0.197102   \n",
       "NOV              -0.130129 -0.011034 -0.162880 -0.032612  0.022206  0.094934   \n",
       "DEC              -0.123643 -0.089809 -0.127025  0.026292 -0.110392 -0.118077   \n",
       " ANNUAL RAINFALL -0.198048  0.118648  0.061457  0.116103  0.112358  0.314723   \n",
       "\n",
       "                       JUN       JUL       AUG       SEP       OCT       NOV  \\\n",
       "YEAR             -0.174938 -0.223403  0.044173  0.107655 -0.030223 -0.130129   \n",
       "JAN               0.189375  0.034423  0.008677 -0.113502 -0.035044 -0.011034   \n",
       "FEB               0.054114  0.005789  0.023259  0.066317  0.053133 -0.162880   \n",
       "MAR               0.019000  0.018330  0.042411  0.143850 -0.023066 -0.032612   \n",
       "APR               0.072990  0.014977 -0.047842  0.012928  0.113172  0.022206   \n",
       "MAY               0.001235 -0.046518 -0.124412  0.116860  0.197102  0.094934   \n",
       "JUN               1.000000  0.094939 -0.014549 -0.052634  0.001156  0.015967   \n",
       "JUL               0.094939  1.000000  0.154467  0.209441  0.025223 -0.028526   \n",
       "AUG              -0.014549  0.154467  1.000000  0.098215 -0.181496 -0.112729   \n",
       "SEP              -0.052634  0.209441  0.098215  1.000000 -0.032348 -0.027615   \n",
       "OCT               0.001156  0.025223 -0.181496 -0.032348  1.000000 -0.024060   \n",
       "NOV               0.015967 -0.028526 -0.112729 -0.027615 -0.024060  1.000000   \n",
       "DEC              -0.085188 -0.013573  0.142090 -0.011007 -0.039067  0.070720   \n",
       " ANNUAL RAINFALL  0.453407  0.651990  0.413036  0.428344  0.205861  0.148783   \n",
       "\n",
       "                       DEC   ANNUAL RAINFALL  \n",
       "YEAR             -0.123643         -0.198048  \n",
       "JAN              -0.089809          0.118648  \n",
       "FEB              -0.127025          0.061457  \n",
       "MAR               0.026292          0.116103  \n",
       "APR              -0.110392          0.112358  \n",
       "MAY              -0.118077          0.314723  \n",
       "JUN              -0.085188          0.453407  \n",
       "JUL              -0.013573          0.651990  \n",
       "AUG               0.142090          0.413036  \n",
       "SEP              -0.011007          0.428344  \n",
       "OCT              -0.039067          0.205861  \n",
       "NOV               0.070720          0.148783  \n",
       "DEC               1.000000          0.042967  \n",
       " ANNUAL RAINFALL  0.042967          1.000000  "
      ]
     },
     "execution_count": 6,
     "metadata": {},
     "output_type": "execute_result"
    }
   ],
   "source": [
    "df.corr()"
   ]
  },
  {
   "cell_type": "code",
   "execution_count": 7,
   "metadata": {
    "execution": {
     "iopub.execute_input": "2022-12-01T13:44:42.703553Z",
     "iopub.status.busy": "2022-12-01T13:44:42.702506Z",
     "iopub.status.idle": "2022-12-01T13:44:42.705798Z",
     "shell.execute_reply": "2022-12-01T13:44:42.705253Z",
     "shell.execute_reply.started": "2022-12-01T13:43:30.335465Z"
    },
    "id": "jhX61C07MuBH",
    "papermill": {
     "duration": 0.069985,
     "end_time": "2022-12-01T13:44:42.705929",
     "exception": false,
     "start_time": "2022-12-01T13:44:42.635944",
     "status": "completed"
    },
    "tags": []
   },
   "outputs": [],
   "source": [
    "df['FLOODS'].replace(['YES','NO'],[1,0],inplace=True)"
   ]
  },
  {
   "cell_type": "code",
   "execution_count": 8,
   "metadata": {
    "execution": {
     "iopub.execute_input": "2022-12-01T13:44:42.831451Z",
     "iopub.status.busy": "2022-12-01T13:44:42.830441Z",
     "iopub.status.idle": "2022-12-01T13:44:42.835451Z",
     "shell.execute_reply": "2022-12-01T13:44:42.834876Z",
     "shell.execute_reply.started": "2022-12-01T13:43:30.343101Z"
    },
    "id": "wLfvvdCmNceT",
    "papermill": {
     "duration": 0.070125,
     "end_time": "2022-12-01T13:44:42.835582",
     "exception": false,
     "start_time": "2022-12-01T13:44:42.765457",
     "status": "completed"
    },
    "tags": []
   },
   "outputs": [],
   "source": [
    "df.drop('SUBDIVISION',axis = 1,inplace=True)"
   ]
  },
  {
   "cell_type": "code",
   "execution_count": 9,
   "metadata": {
    "execution": {
     "iopub.execute_input": "2022-12-01T13:44:42.991367Z",
     "iopub.status.busy": "2022-12-01T13:44:42.990275Z",
     "iopub.status.idle": "2022-12-01T13:44:42.994846Z",
     "shell.execute_reply": "2022-12-01T13:44:42.995389Z",
     "shell.execute_reply.started": "2022-12-01T13:43:30.354816Z"
    },
    "id": "UikK1eojM4pf",
    "papermill": {
     "duration": 0.089614,
     "end_time": "2022-12-01T13:44:42.995543",
     "exception": false,
     "start_time": "2022-12-01T13:44:42.905929",
     "status": "completed"
    },
    "tags": []
   },
   "outputs": [
    {
     "data": {
      "text/html": [
       "<div>\n",
       "<style scoped>\n",
       "    .dataframe tbody tr th:only-of-type {\n",
       "        vertical-align: middle;\n",
       "    }\n",
       "\n",
       "    .dataframe tbody tr th {\n",
       "        vertical-align: top;\n",
       "    }\n",
       "\n",
       "    .dataframe thead th {\n",
       "        text-align: right;\n",
       "    }\n",
       "</style>\n",
       "<table border=\"1\" class=\"dataframe\">\n",
       "  <thead>\n",
       "    <tr style=\"text-align: right;\">\n",
       "      <th></th>\n",
       "      <th>YEAR</th>\n",
       "      <th>JAN</th>\n",
       "      <th>FEB</th>\n",
       "      <th>MAR</th>\n",
       "      <th>APR</th>\n",
       "      <th>MAY</th>\n",
       "      <th>JUN</th>\n",
       "      <th>JUL</th>\n",
       "      <th>AUG</th>\n",
       "      <th>SEP</th>\n",
       "      <th>OCT</th>\n",
       "      <th>NOV</th>\n",
       "      <th>DEC</th>\n",
       "      <th>ANNUAL RAINFALL</th>\n",
       "      <th>FLOODS</th>\n",
       "    </tr>\n",
       "  </thead>\n",
       "  <tbody>\n",
       "    <tr>\n",
       "      <th>0</th>\n",
       "      <td>1901</td>\n",
       "      <td>28.7</td>\n",
       "      <td>44.7</td>\n",
       "      <td>51.6</td>\n",
       "      <td>160.0</td>\n",
       "      <td>174.7</td>\n",
       "      <td>824.6</td>\n",
       "      <td>743.0</td>\n",
       "      <td>357.5</td>\n",
       "      <td>197.7</td>\n",
       "      <td>266.9</td>\n",
       "      <td>350.8</td>\n",
       "      <td>48.4</td>\n",
       "      <td>3248.6</td>\n",
       "      <td>1</td>\n",
       "    </tr>\n",
       "    <tr>\n",
       "      <th>1</th>\n",
       "      <td>1902</td>\n",
       "      <td>6.7</td>\n",
       "      <td>2.6</td>\n",
       "      <td>57.3</td>\n",
       "      <td>83.9</td>\n",
       "      <td>134.5</td>\n",
       "      <td>390.9</td>\n",
       "      <td>1205.0</td>\n",
       "      <td>315.8</td>\n",
       "      <td>491.6</td>\n",
       "      <td>358.4</td>\n",
       "      <td>158.3</td>\n",
       "      <td>121.5</td>\n",
       "      <td>3326.6</td>\n",
       "      <td>1</td>\n",
       "    </tr>\n",
       "    <tr>\n",
       "      <th>2</th>\n",
       "      <td>1903</td>\n",
       "      <td>3.2</td>\n",
       "      <td>18.6</td>\n",
       "      <td>3.1</td>\n",
       "      <td>83.6</td>\n",
       "      <td>249.7</td>\n",
       "      <td>558.6</td>\n",
       "      <td>1022.5</td>\n",
       "      <td>420.2</td>\n",
       "      <td>341.8</td>\n",
       "      <td>354.1</td>\n",
       "      <td>157.0</td>\n",
       "      <td>59.0</td>\n",
       "      <td>3271.2</td>\n",
       "      <td>1</td>\n",
       "    </tr>\n",
       "    <tr>\n",
       "      <th>3</th>\n",
       "      <td>1904</td>\n",
       "      <td>23.7</td>\n",
       "      <td>3.0</td>\n",
       "      <td>32.2</td>\n",
       "      <td>71.5</td>\n",
       "      <td>235.7</td>\n",
       "      <td>1098.2</td>\n",
       "      <td>725.5</td>\n",
       "      <td>351.8</td>\n",
       "      <td>222.7</td>\n",
       "      <td>328.1</td>\n",
       "      <td>33.9</td>\n",
       "      <td>3.3</td>\n",
       "      <td>3129.7</td>\n",
       "      <td>1</td>\n",
       "    </tr>\n",
       "    <tr>\n",
       "      <th>4</th>\n",
       "      <td>1905</td>\n",
       "      <td>1.2</td>\n",
       "      <td>22.3</td>\n",
       "      <td>9.4</td>\n",
       "      <td>105.9</td>\n",
       "      <td>263.3</td>\n",
       "      <td>850.2</td>\n",
       "      <td>520.5</td>\n",
       "      <td>293.6</td>\n",
       "      <td>217.2</td>\n",
       "      <td>383.5</td>\n",
       "      <td>74.4</td>\n",
       "      <td>0.2</td>\n",
       "      <td>2741.6</td>\n",
       "      <td>0</td>\n",
       "    </tr>\n",
       "  </tbody>\n",
       "</table>\n",
       "</div>"
      ],
      "text/plain": [
       "   YEAR   JAN   FEB   MAR    APR    MAY     JUN     JUL    AUG    SEP    OCT  \\\n",
       "0  1901  28.7  44.7  51.6  160.0  174.7   824.6   743.0  357.5  197.7  266.9   \n",
       "1  1902   6.7   2.6  57.3   83.9  134.5   390.9  1205.0  315.8  491.6  358.4   \n",
       "2  1903   3.2  18.6   3.1   83.6  249.7   558.6  1022.5  420.2  341.8  354.1   \n",
       "3  1904  23.7   3.0  32.2   71.5  235.7  1098.2   725.5  351.8  222.7  328.1   \n",
       "4  1905   1.2  22.3   9.4  105.9  263.3   850.2   520.5  293.6  217.2  383.5   \n",
       "\n",
       "     NOV    DEC   ANNUAL RAINFALL  FLOODS  \n",
       "0  350.8   48.4            3248.6       1  \n",
       "1  158.3  121.5            3326.6       1  \n",
       "2  157.0   59.0            3271.2       1  \n",
       "3   33.9    3.3            3129.7       1  \n",
       "4   74.4    0.2            2741.6       0  "
      ]
     },
     "execution_count": 9,
     "metadata": {},
     "output_type": "execute_result"
    }
   ],
   "source": [
    "df.head()"
   ]
  },
  {
   "cell_type": "markdown",
   "metadata": {
    "id": "qyo5RZlyAIsW",
    "papermill": {
     "duration": 0.058448,
     "end_time": "2022-12-01T13:44:43.116001",
     "exception": false,
     "start_time": "2022-12-01T13:44:43.057553",
     "status": "completed"
    },
    "tags": []
   },
   "source": [
    "#**4. Analyze**"
   ]
  },
  {
   "cell_type": "code",
   "execution_count": 10,
   "metadata": {
    "execution": {
     "iopub.execute_input": "2022-12-01T13:44:43.249435Z",
     "iopub.status.busy": "2022-12-01T13:44:43.248343Z",
     "iopub.status.idle": "2022-12-01T13:44:43.254837Z",
     "shell.execute_reply": "2022-12-01T13:44:43.254133Z",
     "shell.execute_reply.started": "2022-12-01T13:43:30.379338Z"
    },
    "id": "bPWG1K93NFfX",
    "papermill": {
     "duration": 0.074609,
     "end_time": "2022-12-01T13:44:43.254964",
     "exception": false,
     "start_time": "2022-12-01T13:44:43.180355",
     "status": "completed"
    },
    "tags": []
   },
   "outputs": [],
   "source": [
    "x = df.iloc[:,:-1]\n",
    "y = df.iloc[:,-1]"
   ]
  },
  {
   "cell_type": "code",
   "execution_count": 11,
   "metadata": {
    "execution": {
     "iopub.execute_input": "2022-12-01T13:44:43.400415Z",
     "iopub.status.busy": "2022-12-01T13:44:43.393605Z",
     "iopub.status.idle": "2022-12-01T13:44:43.408019Z",
     "shell.execute_reply": "2022-12-01T13:44:43.407249Z",
     "shell.execute_reply.started": "2022-12-01T13:43:30.388707Z"
    },
    "executionInfo": {
     "elapsed": 63,
     "status": "ok",
     "timestamp": 1661249528826,
     "user": {
      "displayName": "Ruturaj Ranpise",
      "userId": "13134967451216320931"
     },
     "user_tz": -330
    },
    "id": "7lOTToOSOXAO",
    "outputId": "093efda2-aa4f-4cf4-b552-f70c7938739e",
    "papermill": {
     "duration": 0.089316,
     "end_time": "2022-12-01T13:44:43.408157",
     "exception": false,
     "start_time": "2022-12-01T13:44:43.318841",
     "status": "completed"
    },
    "tags": []
   },
   "outputs": [
    {
     "data": {
      "text/html": [
       "<div>\n",
       "<style scoped>\n",
       "    .dataframe tbody tr th:only-of-type {\n",
       "        vertical-align: middle;\n",
       "    }\n",
       "\n",
       "    .dataframe tbody tr th {\n",
       "        vertical-align: top;\n",
       "    }\n",
       "\n",
       "    .dataframe thead th {\n",
       "        text-align: right;\n",
       "    }\n",
       "</style>\n",
       "<table border=\"1\" class=\"dataframe\">\n",
       "  <thead>\n",
       "    <tr style=\"text-align: right;\">\n",
       "      <th></th>\n",
       "      <th>YEAR</th>\n",
       "      <th>JAN</th>\n",
       "      <th>FEB</th>\n",
       "      <th>MAR</th>\n",
       "      <th>APR</th>\n",
       "      <th>MAY</th>\n",
       "      <th>JUN</th>\n",
       "      <th>JUL</th>\n",
       "      <th>AUG</th>\n",
       "      <th>SEP</th>\n",
       "      <th>OCT</th>\n",
       "      <th>NOV</th>\n",
       "      <th>DEC</th>\n",
       "      <th>ANNUAL RAINFALL</th>\n",
       "    </tr>\n",
       "  </thead>\n",
       "  <tbody>\n",
       "    <tr>\n",
       "      <th>0</th>\n",
       "      <td>1901</td>\n",
       "      <td>28.7</td>\n",
       "      <td>44.7</td>\n",
       "      <td>51.6</td>\n",
       "      <td>160.0</td>\n",
       "      <td>174.7</td>\n",
       "      <td>824.6</td>\n",
       "      <td>743.0</td>\n",
       "      <td>357.5</td>\n",
       "      <td>197.7</td>\n",
       "      <td>266.9</td>\n",
       "      <td>350.8</td>\n",
       "      <td>48.4</td>\n",
       "      <td>3248.6</td>\n",
       "    </tr>\n",
       "    <tr>\n",
       "      <th>1</th>\n",
       "      <td>1902</td>\n",
       "      <td>6.7</td>\n",
       "      <td>2.6</td>\n",
       "      <td>57.3</td>\n",
       "      <td>83.9</td>\n",
       "      <td>134.5</td>\n",
       "      <td>390.9</td>\n",
       "      <td>1205.0</td>\n",
       "      <td>315.8</td>\n",
       "      <td>491.6</td>\n",
       "      <td>358.4</td>\n",
       "      <td>158.3</td>\n",
       "      <td>121.5</td>\n",
       "      <td>3326.6</td>\n",
       "    </tr>\n",
       "    <tr>\n",
       "      <th>2</th>\n",
       "      <td>1903</td>\n",
       "      <td>3.2</td>\n",
       "      <td>18.6</td>\n",
       "      <td>3.1</td>\n",
       "      <td>83.6</td>\n",
       "      <td>249.7</td>\n",
       "      <td>558.6</td>\n",
       "      <td>1022.5</td>\n",
       "      <td>420.2</td>\n",
       "      <td>341.8</td>\n",
       "      <td>354.1</td>\n",
       "      <td>157.0</td>\n",
       "      <td>59.0</td>\n",
       "      <td>3271.2</td>\n",
       "    </tr>\n",
       "    <tr>\n",
       "      <th>3</th>\n",
       "      <td>1904</td>\n",
       "      <td>23.7</td>\n",
       "      <td>3.0</td>\n",
       "      <td>32.2</td>\n",
       "      <td>71.5</td>\n",
       "      <td>235.7</td>\n",
       "      <td>1098.2</td>\n",
       "      <td>725.5</td>\n",
       "      <td>351.8</td>\n",
       "      <td>222.7</td>\n",
       "      <td>328.1</td>\n",
       "      <td>33.9</td>\n",
       "      <td>3.3</td>\n",
       "      <td>3129.7</td>\n",
       "    </tr>\n",
       "    <tr>\n",
       "      <th>4</th>\n",
       "      <td>1905</td>\n",
       "      <td>1.2</td>\n",
       "      <td>22.3</td>\n",
       "      <td>9.4</td>\n",
       "      <td>105.9</td>\n",
       "      <td>263.3</td>\n",
       "      <td>850.2</td>\n",
       "      <td>520.5</td>\n",
       "      <td>293.6</td>\n",
       "      <td>217.2</td>\n",
       "      <td>383.5</td>\n",
       "      <td>74.4</td>\n",
       "      <td>0.2</td>\n",
       "      <td>2741.6</td>\n",
       "    </tr>\n",
       "  </tbody>\n",
       "</table>\n",
       "</div>"
      ],
      "text/plain": [
       "   YEAR   JAN   FEB   MAR    APR    MAY     JUN     JUL    AUG    SEP    OCT  \\\n",
       "0  1901  28.7  44.7  51.6  160.0  174.7   824.6   743.0  357.5  197.7  266.9   \n",
       "1  1902   6.7   2.6  57.3   83.9  134.5   390.9  1205.0  315.8  491.6  358.4   \n",
       "2  1903   3.2  18.6   3.1   83.6  249.7   558.6  1022.5  420.2  341.8  354.1   \n",
       "3  1904  23.7   3.0  32.2   71.5  235.7  1098.2   725.5  351.8  222.7  328.1   \n",
       "4  1905   1.2  22.3   9.4  105.9  263.3   850.2   520.5  293.6  217.2  383.5   \n",
       "\n",
       "     NOV    DEC   ANNUAL RAINFALL  \n",
       "0  350.8   48.4            3248.6  \n",
       "1  158.3  121.5            3326.6  \n",
       "2  157.0   59.0            3271.2  \n",
       "3   33.9    3.3            3129.7  \n",
       "4   74.4    0.2            2741.6  "
      ]
     },
     "execution_count": 11,
     "metadata": {},
     "output_type": "execute_result"
    }
   ],
   "source": [
    "x.head()"
   ]
  },
  {
   "cell_type": "code",
   "execution_count": 12,
   "metadata": {
    "execution": {
     "iopub.execute_input": "2022-12-01T13:44:43.538588Z",
     "iopub.status.busy": "2022-12-01T13:44:43.537639Z",
     "iopub.status.idle": "2022-12-01T13:44:43.542515Z",
     "shell.execute_reply": "2022-12-01T13:44:43.541718Z",
     "shell.execute_reply.started": "2022-12-01T13:43:30.410879Z"
    },
    "executionInfo": {
     "elapsed": 62,
     "status": "ok",
     "timestamp": 1661249528827,
     "user": {
      "displayName": "Ruturaj Ranpise",
      "userId": "13134967451216320931"
     },
     "user_tz": -330
    },
    "id": "HsxWYSKZOYlw",
    "outputId": "52078cb6-346e-43e1-e040-440e21e4109d",
    "papermill": {
     "duration": 0.072997,
     "end_time": "2022-12-01T13:44:43.542648",
     "exception": false,
     "start_time": "2022-12-01T13:44:43.469651",
     "status": "completed"
    },
    "tags": []
   },
   "outputs": [
    {
     "data": {
      "text/plain": [
       "0    1\n",
       "1    1\n",
       "2    1\n",
       "3    1\n",
       "4    0\n",
       "Name: FLOODS, dtype: int64"
      ]
     },
     "execution_count": 12,
     "metadata": {},
     "output_type": "execute_result"
    }
   ],
   "source": [
    "y.head()"
   ]
  },
  {
   "cell_type": "markdown",
   "metadata": {
    "id": "gR4MJeLDOn6M",
    "papermill": {
     "duration": 0.064366,
     "end_time": "2022-12-01T13:44:43.677409",
     "exception": false,
     "start_time": "2022-12-01T13:44:43.613043",
     "status": "completed"
    },
    "tags": []
   },
   "source": [
    "*Let's see how the rainfall index varies during the rainy season, usually from  June to September.* "
   ]
  },
  {
   "cell_type": "code",
   "execution_count": 13,
   "metadata": {
    "execution": {
     "iopub.execute_input": "2022-12-01T13:44:43.816332Z",
     "iopub.status.busy": "2022-12-01T13:44:43.815284Z",
     "iopub.status.idle": "2022-12-01T13:44:44.446323Z",
     "shell.execute_reply": "2022-12-01T13:44:44.446872Z",
     "shell.execute_reply.started": "2022-12-01T13:43:30.423008Z"
    },
    "executionInfo": {
     "elapsed": 1441,
     "status": "ok",
     "timestamp": 1661249530214,
     "user": {
      "displayName": "Ruturaj Ranpise",
      "userId": "13134967451216320931"
     },
     "user_tz": -330
    },
    "id": "NN6nfNxmOfAq",
    "outputId": "61ea2225-550a-40d6-a9cb-b3cea7a32bd4",
    "papermill": {
     "duration": 0.703388,
     "end_time": "2022-12-01T13:44:44.447049",
     "exception": false,
     "start_time": "2022-12-01T13:44:43.743661",
     "status": "completed"
    },
    "tags": []
   },
   "outputs": [
    {
     "data": {
      "image/png": "[encoded data removed]",
      "text/plain": [
       "<Figure size 432x288 with 4 Axes>"
      ]
     },
     "metadata": {
      "needs_background": "light"
     },
     "output_type": "display_data"
    }
   ],
   "source": [
    "AvgIndex = df[['JUN','JUL','AUG','SEP']]\n",
    "AvgIndex.hist()\n",
    "plt.show()"
   ]
  },
  {
   "cell_type": "markdown",
   "metadata": {
    "id": "vE1lhhC7QO55",
    "papermill": {
     "duration": 0.060881,
     "end_time": "2022-12-01T13:44:44.573251",
     "exception": false,
     "start_time": "2022-12-01T13:44:44.512370",
     "status": "completed"
    },
    "tags": []
   },
   "source": [
    "*Data is widely distributed , let's scale it down to 0 and 1*"
   ]
  },
  {
   "cell_type": "code",
   "execution_count": 14,
   "metadata": {
    "execution": {
     "iopub.execute_input": "2022-12-01T13:44:44.708796Z",
     "iopub.status.busy": "2022-12-01T13:44:44.708002Z",
     "iopub.status.idle": "2022-12-01T13:44:44.781590Z",
     "shell.execute_reply": "2022-12-01T13:44:44.780965Z",
     "shell.execute_reply.started": "2022-12-01T13:43:30.952936Z"
    },
    "executionInfo": {
     "elapsed": 51,
     "status": "ok",
     "timestamp": 1661249530215,
     "user": {
      "displayName": "Ruturaj Ranpise",
      "userId": "13134967451216320931"
     },
     "user_tz": -330
    },
    "id": "YAf1ubBmPvNE",
    "outputId": "6a2d8151-10d0-471c-ed37-c661627528b5",
    "papermill": {
     "duration": 0.143795,
     "end_time": "2022-12-01T13:44:44.781718",
     "exception": false,
     "start_time": "2022-12-01T13:44:44.637923",
     "status": "completed"
    },
    "tags": []
   },
   "outputs": [
    {
     "data": {
      "text/plain": [
       "array([[0.        , 0.34371257, 0.56582278, ..., 0.95570189, 0.2388724 ,\n",
       "        0.49072457],\n",
       "       [0.00854701, 0.08023952, 0.03291139, ..., 0.37952709, 0.60039565,\n",
       "        0.52316779],\n",
       "       [0.01709402, 0.03832335, 0.23544304, ..., 0.37563604, 0.29129575,\n",
       "        0.50012478],\n",
       "       ...,\n",
       "       [0.98290598, 0.02874251, 0.04810127, ..., 0.28105358, 0.11622156,\n",
       "        0.0448382 ],\n",
       "       [0.99145299, 0.02275449, 0.08607595, ..., 0.18258007, 0.18793274,\n",
       "        0.02008984],\n",
       "       [1.        , 0.34850299, 0.65949367, ..., 0.28105358, 0.3214639 ,\n",
       "        1.        ]])"
      ]
     },
     "execution_count": 14,
     "metadata": {},
     "output_type": "execute_result"
    }
   ],
   "source": [
    "from sklearn import preprocessing\n",
    "minmax = preprocessing.MinMaxScaler(feature_range=(0,1))\n",
    "minmax.fit_transform(x)"
   ]
  },
  {
   "cell_type": "code",
   "execution_count": 15,
   "metadata": {
    "execution": {
     "iopub.execute_input": "2022-12-01T13:44:44.916061Z",
     "iopub.status.busy": "2022-12-01T13:44:44.915205Z",
     "iopub.status.idle": "2022-12-01T13:44:44.973891Z",
     "shell.execute_reply": "2022-12-01T13:44:44.974533Z",
     "shell.execute_reply.started": "2022-12-01T13:43:31.013016Z"
    },
    "id": "CVm6OPAEQcZH",
    "papermill": {
     "duration": 0.128,
     "end_time": "2022-12-01T13:44:44.974723",
     "exception": false,
     "start_time": "2022-12-01T13:44:44.846723",
     "status": "completed"
    },
    "tags": []
   },
   "outputs": [],
   "source": [
    "from sklearn.model_selection import train_test_split\n",
    "xtrain,xtest,ytrain,ytest=train_test_split(x,y,test_size=0.3,random_state=1)"
   ]
  },
  {
   "cell_type": "markdown",
   "metadata": {
    "id": "Dz1trRhIREEs",
    "papermill": {
     "duration": 0.062911,
     "end_time": "2022-12-01T13:44:45.099392",
     "exception": false,
     "start_time": "2022-12-01T13:44:45.036481",
     "status": "completed"
    },
    "tags": []
   },
   "source": [
    "#Prediction Algorithms:\n"
   ]
  },
  {
   "cell_type": "code",
   "execution_count": 16,
   "metadata": {
    "execution": {
     "iopub.execute_input": "2022-12-01T13:44:45.230179Z",
     "iopub.status.busy": "2022-12-01T13:44:45.229326Z",
     "iopub.status.idle": "2022-12-01T13:44:45.420349Z",
     "shell.execute_reply": "2022-12-01T13:44:45.419645Z",
     "shell.execute_reply.started": "2022-12-01T13:43:31.069946Z"
    },
    "id": "HnIc8QjrTuu2",
    "papermill": {
     "duration": 0.259052,
     "end_time": "2022-12-01T13:44:45.420485",
     "exception": false,
     "start_time": "2022-12-01T13:44:45.161433",
     "status": "completed"
    },
    "tags": []
   },
   "outputs": [],
   "source": [
    "from sklearn.neighbors import KNeighborsClassifier\n",
    "from sklearn.linear_model import LogisticRegression\n",
    "from sklearn.svm import SVC\n",
    "from sklearn.tree import DecisionTreeClassifier\n",
    "from sklearn.metrics import classification_report"
   ]
  },
  {
   "cell_type": "code",
   "execution_count": 17,
   "metadata": {
    "execution": {
     "iopub.execute_input": "2022-12-01T13:44:45.556592Z",
     "iopub.status.busy": "2022-12-01T13:44:45.555670Z",
     "iopub.status.idle": "2022-12-01T13:44:45.649034Z",
     "shell.execute_reply": "2022-12-01T13:44:45.648251Z",
     "shell.execute_reply.started": "2022-12-01T13:43:31.205356Z"
    },
    "id": "rSvGfGZhSsZM",
    "papermill": {
     "duration": 0.164628,
     "end_time": "2022-12-01T13:44:45.649190",
     "exception": false,
     "start_time": "2022-12-01T13:44:45.484562",
     "status": "completed"
    },
    "tags": []
   },
   "outputs": [],
   "source": [
    "def mymodel(model):\n",
    "    model.fit(xtrain, ytrain)\n",
    "    ypred = model.predict(xtest)\n",
    "    \n",
    "    train = model.score(xtrain, ytrain)\n",
    "    test = model.score(xtest, ytest)\n",
    "    \n",
    "    print(f\"Training Accuracy : {train}\\nTesting Accuracy : {test}\\n\\n\")\n",
    "    print(classification_report(ytest, ypred))\n",
    "    \n",
    "    return model"
   ]
  },
  {
   "cell_type": "markdown",
   "metadata": {
    "id": "gnnOkIRHUnfF",
    "papermill": {
     "duration": 0.119475,
     "end_time": "2022-12-01T13:44:45.834680",
     "exception": false,
     "start_time": "2022-12-01T13:44:45.715205",
     "status": "completed"
    },
    "tags": []
   },
   "source": [
    "##*1. KNN Alogrithm*\n",
    "\n",
    "---\n",
    "\n"
   ]
  },
  {
   "cell_type": "code",
   "execution_count": 18,
   "metadata": {
    "execution": {
     "iopub.execute_input": "2022-12-01T13:44:45.977368Z",
     "iopub.status.busy": "2022-12-01T13:44:45.976585Z",
     "iopub.status.idle": "2022-12-01T13:44:46.009091Z",
     "shell.execute_reply": "2022-12-01T13:44:46.008421Z",
     "shell.execute_reply.started": "2022-12-01T13:43:31.289424Z"
    },
    "executionInfo": {
     "elapsed": 47,
     "status": "ok",
     "timestamp": 1661249530218,
     "user": {
      "displayName": "Ruturaj Ranpise",
      "userId": "13134967451216320931"
     },
     "user_tz": -330
    },
    "id": "bF6NfQ2pTzmd",
    "outputId": "4ffc3592-e380-4ef5-a020-05c71726e2ca",
    "papermill": {
     "duration": 0.102406,
     "end_time": "2022-12-01T13:44:46.009250",
     "exception": false,
     "start_time": "2022-12-01T13:44:45.906844",
     "status": "completed"
    },
    "tags": []
   },
   "outputs": [
    {
     "name": "stdout",
     "output_type": "stream",
     "text": [
      "Training Accuracy : 0.9878048780487805\n",
      "Testing Accuracy : 0.9722222222222222\n",
      "\n",
      "\n",
      "              precision    recall  f1-score   support\n",
      "\n",
      "           0       1.00      0.94      0.97        16\n",
      "           1       0.95      1.00      0.98        20\n",
      "\n",
      "    accuracy                           0.97        36\n",
      "   macro avg       0.98      0.97      0.97        36\n",
      "weighted avg       0.97      0.97      0.97        36\n",
      "\n"
     ]
    }
   ],
   "source": [
    "knn = mymodel(KNeighborsClassifier())"
   ]
  },
  {
   "cell_type": "markdown",
   "metadata": {
    "id": "Nc49yqY5f8XX",
    "papermill": {
     "duration": 0.067656,
     "end_time": "2022-12-01T13:44:46.144864",
     "exception": false,
     "start_time": "2022-12-01T13:44:46.077208",
     "status": "completed"
    },
    "tags": []
   },
   "source": [
    "##*2. Logistic Regression Alogrithm*\n",
    "\n",
    "---\n",
    "\n"
   ]
  },
  {
   "cell_type": "code",
   "execution_count": 19,
   "metadata": {
    "execution": {
     "iopub.execute_input": "2022-12-01T13:44:46.293216Z",
     "iopub.status.busy": "2022-12-01T13:44:46.292334Z",
     "iopub.status.idle": "2022-12-01T13:44:46.336029Z",
     "shell.execute_reply": "2022-12-01T13:44:46.336541Z",
     "shell.execute_reply.started": "2022-12-01T13:43:31.320265Z"
    },
    "executionInfo": {
     "elapsed": 44,
     "status": "ok",
     "timestamp": 1661249530219,
     "user": {
      "displayName": "Ruturaj Ranpise",
      "userId": "13134967451216320931"
     },
     "user_tz": -330
    },
    "id": "83WVRSRHUeFI",
    "outputId": "ad467289-3d36-4c1d-d142-0035ebe225ed",
    "papermill": {
     "duration": 0.126196,
     "end_time": "2022-12-01T13:44:46.336719",
     "exception": false,
     "start_time": "2022-12-01T13:44:46.210523",
     "status": "completed"
    },
    "tags": []
   },
   "outputs": [
    {
     "name": "stdout",
     "output_type": "stream",
     "text": [
      "Training Accuracy : 1.0\n",
      "Testing Accuracy : 0.9722222222222222\n",
      "\n",
      "\n",
      "              precision    recall  f1-score   support\n",
      "\n",
      "           0       0.94      1.00      0.97        16\n",
      "           1       1.00      0.95      0.97        20\n",
      "\n",
      "    accuracy                           0.97        36\n",
      "   macro avg       0.97      0.97      0.97        36\n",
      "weighted avg       0.97      0.97      0.97        36\n",
      "\n"
     ]
    }
   ],
   "source": [
    "logreg = mymodel(LogisticRegression())"
   ]
  },
  {
   "cell_type": "markdown",
   "metadata": {
    "id": "phWGP86QgBxK",
    "papermill": {
     "duration": 0.064204,
     "end_time": "2022-12-01T13:44:46.468640",
     "exception": false,
     "start_time": "2022-12-01T13:44:46.404436",
     "status": "completed"
    },
    "tags": []
   },
   "source": [
    "##*3. Support Vector Machine Alogrithm*\n",
    "\n",
    "---\n",
    "\n"
   ]
  },
  {
   "cell_type": "code",
   "execution_count": 20,
   "metadata": {
    "execution": {
     "iopub.execute_input": "2022-12-01T13:44:46.614682Z",
     "iopub.status.busy": "2022-12-01T13:44:46.613889Z",
     "iopub.status.idle": "2022-12-01T13:44:46.629720Z",
     "shell.execute_reply": "2022-12-01T13:44:46.630319Z",
     "shell.execute_reply.started": "2022-12-01T13:43:31.371226Z"
    },
    "executionInfo": {
     "elapsed": 41,
     "status": "ok",
     "timestamp": 1661249530220,
     "user": {
      "displayName": "Ruturaj Ranpise",
      "userId": "13134967451216320931"
     },
     "user_tz": -330
    },
    "id": "C2aQ8fe5VN-p",
    "outputId": "6c18b5d8-5032-4d88-8838-289c627a5108",
    "papermill": {
     "duration": 0.091125,
     "end_time": "2022-12-01T13:44:46.630520",
     "exception": false,
     "start_time": "2022-12-01T13:44:46.539395",
     "status": "completed"
    },
    "tags": []
   },
   "outputs": [
    {
     "name": "stdout",
     "output_type": "stream",
     "text": [
      "Training Accuracy : 0.975609756097561\n",
      "Testing Accuracy : 1.0\n",
      "\n",
      "\n",
      "              precision    recall  f1-score   support\n",
      "\n",
      "           0       1.00      1.00      1.00        16\n",
      "           1       1.00      1.00      1.00        20\n",
      "\n",
      "    accuracy                           1.00        36\n",
      "   macro avg       1.00      1.00      1.00        36\n",
      "weighted avg       1.00      1.00      1.00        36\n",
      "\n"
     ]
    }
   ],
   "source": [
    "svm = mymodel(SVC())"
   ]
  },
  {
   "cell_type": "markdown",
   "metadata": {
    "id": "dNRSmJgWgds2",
    "papermill": {
     "duration": 0.066587,
     "end_time": "2022-12-01T13:44:46.764407",
     "exception": false,
     "start_time": "2022-12-01T13:44:46.697820",
     "status": "completed"
    },
    "tags": []
   },
   "source": [
    "##*4. Decision Tree Alogrithm*\n",
    "\n",
    "---\n",
    "\n"
   ]
  },
  {
   "cell_type": "code",
   "execution_count": 21,
   "metadata": {
    "execution": {
     "iopub.execute_input": "2022-12-01T13:44:46.909904Z",
     "iopub.status.busy": "2022-12-01T13:44:46.909150Z",
     "iopub.status.idle": "2022-12-01T13:44:46.927201Z",
     "shell.execute_reply": "2022-12-01T13:44:46.927810Z",
     "shell.execute_reply.started": "2022-12-01T13:43:31.394138Z"
    },
    "executionInfo": {
     "elapsed": 36,
     "status": "ok",
     "timestamp": 1661249530220,
     "user": {
      "displayName": "Ruturaj Ranpise",
      "userId": "13134967451216320931"
     },
     "user_tz": -330
    },
    "id": "afOQPrbmVavE",
    "outputId": "0b44cdaf-20cb-4ad1-e40e-db54eb0a571a",
    "papermill": {
     "duration": 0.095411,
     "end_time": "2022-12-01T13:44:46.927977",
     "exception": false,
     "start_time": "2022-12-01T13:44:46.832566",
     "status": "completed"
    },
    "tags": []
   },
   "outputs": [
    {
     "name": "stdout",
     "output_type": "stream",
     "text": [
      "Training Accuracy : 1.0\n",
      "Testing Accuracy : 0.9722222222222222\n",
      "\n",
      "\n",
      "              precision    recall  f1-score   support\n",
      "\n",
      "           0       1.00      0.94      0.97        16\n",
      "           1       0.95      1.00      0.98        20\n",
      "\n",
      "    accuracy                           0.97        36\n",
      "   macro avg       0.98      0.97      0.97        36\n",
      "weighted avg       0.97      0.97      0.97        36\n",
      "\n"
     ]
    }
   ],
   "source": [
    "dt = mymodel(DecisionTreeClassifier())"
   ]
  },
  {
   "cell_type": "markdown",
   "metadata": {
    "id": "hrSTqI4HhKbK",
    "papermill": {
     "duration": 0.066335,
     "end_time": "2022-12-01T13:44:47.067632",
     "exception": false,
     "start_time": "2022-12-01T13:44:47.001297",
     "status": "completed"
    },
    "tags": []
   },
   "source": [
    "#Cross-validation\n"
   ]
  },
  {
   "cell_type": "code",
   "execution_count": 22,
   "metadata": {
    "execution": {
     "iopub.execute_input": "2022-12-01T13:44:47.214068Z",
     "iopub.status.busy": "2022-12-01T13:44:47.213152Z",
     "iopub.status.idle": "2022-12-01T13:44:47.217492Z",
     "shell.execute_reply": "2022-12-01T13:44:47.216712Z",
     "shell.execute_reply.started": "2022-12-01T13:43:31.413153Z"
    },
    "id": "RvHAtsjQWUpI",
    "papermill": {
     "duration": 0.07861,
     "end_time": "2022-12-01T13:44:47.217635",
     "exception": false,
     "start_time": "2022-12-01T13:44:47.139025",
     "status": "completed"
    },
    "tags": []
   },
   "outputs": [],
   "source": [
    "from sklearn.model_selection import cross_val_score"
   ]
  },
  {
   "cell_type": "code",
   "execution_count": 23,
   "metadata": {
    "execution": {
     "iopub.execute_input": "2022-12-01T13:44:47.365031Z",
     "iopub.status.busy": "2022-12-01T13:44:47.364089Z",
     "iopub.status.idle": "2022-12-01T13:44:49.407575Z",
     "shell.execute_reply": "2022-12-01T13:44:49.408596Z",
     "shell.execute_reply.started": "2022-12-01T13:43:31.418533Z"
    },
    "executionInfo": {
     "elapsed": 996,
     "status": "ok",
     "timestamp": 1661249531187,
     "user": {
      "displayName": "Ruturaj Ranpise",
      "userId": "13134967451216320931"
     },
     "user_tz": -330
    },
    "id": "ZE_rbsnQWYL3",
    "outputId": "1fcc6e70-b77e-4e2b-e919-986aba89a187",
    "papermill": {
     "duration": 2.119592,
     "end_time": "2022-12-01T13:44:49.408861",
     "exception": false,
     "start_time": "2022-12-01T13:44:47.289269",
     "status": "completed"
    },
    "tags": []
   },
   "outputs": [
    {
     "data": {
      "text/plain": [
       "0.9166666666666666"
      ]
     },
     "execution_count": 23,
     "metadata": {},
     "output_type": "execute_result"
    }
   ],
   "source": [
    "knn_accuracy = cross_val_score(knn,xtest,ytest,cv=3,scoring='accuracy',n_jobs=-1)\n",
    "knn_accuracy.mean()"
   ]
  },
  {
   "cell_type": "code",
   "execution_count": 24,
   "metadata": {
    "execution": {
     "iopub.execute_input": "2022-12-01T13:44:49.553145Z",
     "iopub.status.busy": "2022-12-01T13:44:49.552387Z",
     "iopub.status.idle": "2022-12-01T13:44:50.598529Z",
     "shell.execute_reply": "2022-12-01T13:44:50.597832Z",
     "shell.execute_reply.started": "2022-12-01T13:43:33.143239Z"
    },
    "executionInfo": {
     "elapsed": 2608,
     "status": "ok",
     "timestamp": 1661249533790,
     "user": {
      "displayName": "Ruturaj Ranpise",
      "userId": "13134967451216320931"
     },
     "user_tz": -330
    },
    "id": "dAz5S1HrWi3Q",
    "outputId": "bb4a19df-07a4-4a12-cc89-c12b239cfad6",
    "papermill": {
     "duration": 1.116809,
     "end_time": "2022-12-01T13:44:50.598652",
     "exception": false,
     "start_time": "2022-12-01T13:44:49.481843",
     "status": "completed"
    },
    "tags": []
   },
   "outputs": [
    {
     "data": {
      "text/plain": [
       "0.9444444444444443"
      ]
     },
     "execution_count": 24,
     "metadata": {},
     "output_type": "execute_result"
    }
   ],
   "source": [
    "logreg_accuracy = cross_val_score(logreg,xtest,ytest,cv=3,scoring='accuracy',n_jobs=-1)\n",
    "logreg_accuracy.mean()"
   ]
  },
  {
   "cell_type": "code",
   "execution_count": 25,
   "metadata": {
    "execution": {
     "iopub.execute_input": "2022-12-01T13:44:50.736655Z",
     "iopub.status.busy": "2022-12-01T13:44:50.735617Z",
     "iopub.status.idle": "2022-12-01T13:44:50.766841Z",
     "shell.execute_reply": "2022-12-01T13:44:50.767375Z",
     "shell.execute_reply.started": "2022-12-01T13:43:34.005012Z"
    },
    "executionInfo": {
     "elapsed": 61,
     "status": "ok",
     "timestamp": 1661249533791,
     "user": {
      "displayName": "Ruturaj Ranpise",
      "userId": "13134967451216320931"
     },
     "user_tz": -330
    },
    "id": "A1ou25ImWzc7",
    "outputId": "cf653aee-9ffe-4a85-e23e-d8f65cb5104c",
    "papermill": {
     "duration": 0.101603,
     "end_time": "2022-12-01T13:44:50.767563",
     "exception": false,
     "start_time": "2022-12-01T13:44:50.665960",
     "status": "completed"
    },
    "tags": []
   },
   "outputs": [
    {
     "data": {
      "text/plain": [
       "0.9166666666666666"
      ]
     },
     "execution_count": 25,
     "metadata": {},
     "output_type": "execute_result"
    }
   ],
   "source": [
    "svm_accuracy = cross_val_score(svm,xtest,ytest,cv=3,scoring='accuracy',n_jobs=-1)\n",
    "svm_accuracy.mean()"
   ]
  },
  {
   "cell_type": "code",
   "execution_count": 26,
   "metadata": {
    "execution": {
     "iopub.execute_input": "2022-12-01T13:44:50.911609Z",
     "iopub.status.busy": "2022-12-01T13:44:50.910912Z",
     "iopub.status.idle": "2022-12-01T13:44:50.949987Z",
     "shell.execute_reply": "2022-12-01T13:44:50.949272Z",
     "shell.execute_reply.started": "2022-12-01T13:43:34.033999Z"
    },
    "executionInfo": {
     "elapsed": 58,
     "status": "ok",
     "timestamp": 1661249533792,
     "user": {
      "displayName": "Ruturaj Ranpise",
      "userId": "13134967451216320931"
     },
     "user_tz": -330
    },
    "id": "FtVQ86ScXBae",
    "outputId": "4e48d2c6-7bd8-40d1-a040-80c995004789",
    "papermill": {
     "duration": 0.116174,
     "end_time": "2022-12-01T13:44:50.950122",
     "exception": false,
     "start_time": "2022-12-01T13:44:50.833948",
     "status": "completed"
    },
    "tags": []
   },
   "outputs": [
    {
     "data": {
      "text/plain": [
       "0.9444444444444445"
      ]
     },
     "execution_count": 26,
     "metadata": {},
     "output_type": "execute_result"
    }
   ],
   "source": [
    "dt_accuracy = cross_val_score(dt,xtest,ytest,cv=3,scoring='accuracy',n_jobs=-1)\n",
    "dt_accuracy.mean()"
   ]
  },
  {
   "cell_type": "code",
   "execution_count": 27,
   "metadata": {
    "execution": {
     "iopub.execute_input": "2022-12-01T13:44:51.086622Z",
     "iopub.status.busy": "2022-12-01T13:44:51.085953Z",
     "iopub.status.idle": "2022-12-01T13:44:51.091555Z",
     "shell.execute_reply": "2022-12-01T13:44:51.092171Z",
     "shell.execute_reply.started": "2022-12-01T13:43:34.069256Z"
    },
    "id": "2AgzE0CKYkCd",
    "papermill": {
     "duration": 0.077231,
     "end_time": "2022-12-01T13:44:51.092350",
     "exception": false,
     "start_time": "2022-12-01T13:44:51.015119",
     "status": "completed"
    },
    "tags": []
   },
   "outputs": [],
   "source": [
    "names = ['KNN','LogReg','SVM','DecisionTree']\n",
    "score =[knn_accuracy.mean(),logreg_accuracy.mean(),svm_accuracy.mean(),dt_accuracy.mean()]"
   ]
  },
  {
   "cell_type": "code",
   "execution_count": 28,
   "metadata": {
    "execution": {
     "iopub.execute_input": "2022-12-01T13:44:51.236600Z",
     "iopub.status.busy": "2022-12-01T13:44:51.235872Z",
     "iopub.status.idle": "2022-12-01T13:44:51.243171Z",
     "shell.execute_reply": "2022-12-01T13:44:51.242552Z",
     "shell.execute_reply.started": "2022-12-01T13:43:34.074749Z"
    },
    "id": "dM3Odj8QXN9N",
    "papermill": {
     "duration": 0.078676,
     "end_time": "2022-12-01T13:44:51.243310",
     "exception": false,
     "start_time": "2022-12-01T13:44:51.164634",
     "status": "completed"
    },
    "tags": []
   },
   "outputs": [],
   "source": [
    "scores = pd.DataFrame({'Algorithm Name':names,'Score':score})"
   ]
  },
  {
   "cell_type": "code",
   "execution_count": 29,
   "metadata": {
    "execution": {
     "iopub.execute_input": "2022-12-01T13:44:51.392921Z",
     "iopub.status.busy": "2022-12-01T13:44:51.392147Z",
     "iopub.status.idle": "2022-12-01T13:44:51.532079Z",
     "shell.execute_reply": "2022-12-01T13:44:51.532619Z",
     "shell.execute_reply.started": "2022-12-01T13:43:34.088855Z"
    },
    "executionInfo": {
     "elapsed": 55,
     "status": "ok",
     "timestamp": 1661249533793,
     "user": {
      "displayName": "Ruturaj Ranpise",
      "userId": "13134967451216320931"
     },
     "user_tz": -330
    },
    "id": "kLBAKr6DYhz5",
    "outputId": "b8be16e4-5b60-4688-9248-fc28436f1232",
    "papermill": {
     "duration": 0.219663,
     "end_time": "2022-12-01T13:44:51.532816",
     "exception": false,
     "start_time": "2022-12-01T13:44:51.313153",
     "status": "completed"
    },
    "tags": []
   },
   "outputs": [
    {
     "data": {
      "image/png": "[encoded data removed]",
      "text/plain": [
       "<Figure size 432x288 with 1 Axes>"
      ]
     },
     "metadata": {
      "needs_background": "light"
     },
     "output_type": "display_data"
    }
   ],
   "source": [
    "axis = sns.barplot(x='Algorithm Name',y='Score',data = scores)\n",
    "axis.set(xlabel='Classifier', ylabel='Accuracy')\n",
    "\n",
    "for p in axis.patches:\n",
    "    height = p.get_height()\n",
    "    axis.text(p.get_x() + p.get_width()/2, height + 0.005, '{:1.4f}'.format(height), ha=\"center\") \n",
    "    "
   ]
  },
  {
   "cell_type": "code",
   "execution_count": 30,
   "metadata": {
    "execution": {
     "iopub.execute_input": "2022-12-01T13:44:51.678323Z",
     "iopub.status.busy": "2022-12-01T13:44:51.677536Z",
     "iopub.status.idle": "2022-12-01T13:44:51.687798Z",
     "shell.execute_reply": "2022-12-01T13:44:51.688405Z",
     "shell.execute_reply.started": "2022-12-01T13:43:34.218338Z"
    },
    "executionInfo": {
     "elapsed": 54,
     "status": "ok",
     "timestamp": 1661249533794,
     "user": {
      "displayName": "Ruturaj Ranpise",
      "userId": "13134967451216320931"
     },
     "user_tz": -330
    },
    "id": "lVC0VdgCZeN4",
    "outputId": "3bb069b4-1b99-4ef7-a5fa-e5d2697aaba8",
    "papermill": {
     "duration": 0.084601,
     "end_time": "2022-12-01T13:44:51.688569",
     "exception": false,
     "start_time": "2022-12-01T13:44:51.603968",
     "status": "completed"
    },
    "tags": []
   },
   "outputs": [
    {
     "data": {
      "text/html": [
       "<div>\n",
       "<style scoped>\n",
       "    .dataframe tbody tr th:only-of-type {\n",
       "        vertical-align: middle;\n",
       "    }\n",
       "\n",
       "    .dataframe tbody tr th {\n",
       "        vertical-align: top;\n",
       "    }\n",
       "\n",
       "    .dataframe thead th {\n",
       "        text-align: right;\n",
       "    }\n",
       "</style>\n",
       "<table border=\"1\" class=\"dataframe\">\n",
       "  <thead>\n",
       "    <tr style=\"text-align: right;\">\n",
       "      <th></th>\n",
       "      <th>Algorithm Name</th>\n",
       "      <th>Score</th>\n",
       "    </tr>\n",
       "  </thead>\n",
       "  <tbody>\n",
       "    <tr>\n",
       "      <th>0</th>\n",
       "      <td>KNN</td>\n",
       "      <td>0.916667</td>\n",
       "    </tr>\n",
       "    <tr>\n",
       "      <th>1</th>\n",
       "      <td>LogReg</td>\n",
       "      <td>0.944444</td>\n",
       "    </tr>\n",
       "    <tr>\n",
       "      <th>2</th>\n",
       "      <td>SVM</td>\n",
       "      <td>0.916667</td>\n",
       "    </tr>\n",
       "    <tr>\n",
       "      <th>3</th>\n",
       "      <td>DecisionTree</td>\n",
       "      <td>0.944444</td>\n",
       "    </tr>\n",
       "  </tbody>\n",
       "</table>\n",
       "</div>"
      ],
      "text/plain": [
       "  Algorithm Name     Score\n",
       "0            KNN  0.916667\n",
       "1         LogReg  0.944444\n",
       "2            SVM  0.916667\n",
       "3   DecisionTree  0.944444"
      ]
     },
     "execution_count": 30,
     "metadata": {},
     "output_type": "execute_result"
    }
   ],
   "source": [
    "scores # Cross-validation"
   ]
  },
  {
   "cell_type": "markdown",
   "metadata": {
    "id": "YFKp7sPzjukq",
    "papermill": {
     "duration": 0.068022,
     "end_time": "2022-12-01T13:44:51.823343",
     "exception": false,
     "start_time": "2022-12-01T13:44:51.755321",
     "status": "completed"
    },
    "tags": []
   },
   "source": [
    "#2nd Models "
   ]
  },
  {
   "cell_type": "markdown",
   "metadata": {
    "id": "IQ4JnOyrlPQS",
    "papermill": {
     "duration": 0.072752,
     "end_time": "2022-12-01T13:44:51.961604",
     "exception": false,
     "start_time": "2022-12-01T13:44:51.888852",
     "status": "completed"
    },
    "tags": []
   },
   "source": [
    "##HyperParameter Tuning For Decsion Tree"
   ]
  },
  {
   "cell_type": "code",
   "execution_count": 31,
   "metadata": {
    "execution": {
     "iopub.execute_input": "2022-12-01T13:44:52.110363Z",
     "iopub.status.busy": "2022-12-01T13:44:52.105601Z",
     "iopub.status.idle": "2022-12-01T13:44:52.126869Z",
     "shell.execute_reply": "2022-12-01T13:44:52.126098Z",
     "shell.execute_reply.started": "2022-12-01T13:43:34.230085Z"
    },
    "executionInfo": {
     "elapsed": 53,
     "status": "ok",
     "timestamp": 1661249533794,
     "user": {
      "displayName": "Ruturaj Ranpise",
      "userId": "13134967451216320931"
     },
     "user_tz": -330
    },
    "id": "qjSPlKArnfWY",
    "outputId": "447437b1-c708-4fa9-a253-c7e24ed2bf19",
    "papermill": {
     "duration": 0.095392,
     "end_time": "2022-12-01T13:44:52.127011",
     "exception": false,
     "start_time": "2022-12-01T13:44:52.031619",
     "status": "completed"
    },
    "tags": []
   },
   "outputs": [
    {
     "name": "stdout",
     "output_type": "stream",
     "text": [
      "Training Accuracy : 1.0\n",
      "Testing Accuracy : 0.9722222222222222\n",
      "\n",
      "\n",
      "              precision    recall  f1-score   support\n",
      "\n",
      "           0       1.00      0.94      0.97        16\n",
      "           1       0.95      1.00      0.98        20\n",
      "\n",
      "    accuracy                           0.97        36\n",
      "   macro avg       0.98      0.97      0.97        36\n",
      "weighted avg       0.97      0.97      0.97        36\n",
      "\n"
     ]
    }
   ],
   "source": [
    "dt = mymodel(DecisionTreeClassifier()) # Current Accuracy"
   ]
  },
  {
   "cell_type": "markdown",
   "metadata": {
    "id": "lGXnEOhumtkj",
    "papermill": {
     "duration": 0.079345,
     "end_time": "2022-12-01T13:44:52.282369",
     "exception": false,
     "start_time": "2022-12-01T13:44:52.203024",
     "status": "completed"
    },
    "tags": []
   },
   "source": [
    "# *GridSearchCV*"
   ]
  },
  {
   "cell_type": "code",
   "execution_count": 32,
   "metadata": {
    "execution": {
     "iopub.execute_input": "2022-12-01T13:44:52.429455Z",
     "iopub.status.busy": "2022-12-01T13:44:52.428637Z",
     "iopub.status.idle": "2022-12-01T13:44:52.432405Z",
     "shell.execute_reply": "2022-12-01T13:44:52.431589Z",
     "shell.execute_reply.started": "2022-12-01T13:43:34.261474Z"
    },
    "id": "NcSAvdpQmtOr",
    "papermill": {
     "duration": 0.07955,
     "end_time": "2022-12-01T13:44:52.432533",
     "exception": false,
     "start_time": "2022-12-01T13:44:52.352983",
     "status": "completed"
    },
    "tags": []
   },
   "outputs": [],
   "source": [
    "parameters = {\n",
    "    \"criterion\":[\"gini\", \"entropy\"],\n",
    "    \"max_depth\": list(range(1,50, 5)),\n",
    "    \"min_samples_leaf\": list(range(1, 50, 5))\n",
    "}"
   ]
  },
  {
   "cell_type": "code",
   "execution_count": 33,
   "metadata": {
    "execution": {
     "iopub.execute_input": "2022-12-01T13:44:52.583523Z",
     "iopub.status.busy": "2022-12-01T13:44:52.582793Z",
     "iopub.status.idle": "2022-12-01T13:44:59.783810Z",
     "shell.execute_reply": "2022-12-01T13:44:59.784354Z",
     "shell.execute_reply.started": "2022-12-01T13:43:34.267916Z"
    },
    "id": "ID295OOzmEux",
    "papermill": {
     "duration": 7.281734,
     "end_time": "2022-12-01T13:44:59.784511",
     "exception": false,
     "start_time": "2022-12-01T13:44:52.502777",
     "status": "completed"
    },
    "tags": []
   },
   "outputs": [
    {
     "name": "stdout",
     "output_type": "stream",
     "text": [
      "Fitting 5 folds for each of 200 candidates, totalling 1000 fits\n",
      "[CV] criterion=gini, max_depth=1, min_samples_leaf=1 .................\n",
      "[CV] .. criterion=gini, max_depth=1, min_samples_leaf=1, total=   0.0s\n",
      "[CV] criterion=gini, max_depth=1, min_samples_leaf=1 .................\n",
      "[CV] .. criterion=gini, max_depth=1, min_samples_leaf=1, total=   0.0s\n",
      "[CV] criterion=gini, max_depth=1, min_samples_leaf=1 .................\n",
      "[CV] .. criterion=gini, max_depth=1, min_samples_leaf=1, total=   0.0s\n",
      "[CV] criterion=gini, max_depth=1, min_samples_leaf=1 .................\n",
      "[CV] .. criterion=gini, max_depth=1, min_samples_leaf=1, total=   0.0s\n",
      "[CV] criterion=gini, max_depth=1, min_samples_leaf=1 .................\n",
      "[CV] .. criterion=gini, max_depth=1, min_samples_leaf=1, total=   0.0s\n",
      "[CV] criterion=gini, max_depth=1, min_samples_leaf=6 .................\n",
      "[CV] .. criterion=gini, max_depth=1, min_samples_leaf=6, total=   0.0s\n",
      "[CV] criterion=gini, max_depth=1, min_samples_leaf=6 .................\n",
      "[CV] .. criterion=gini, max_depth=1, min_samples_leaf=6, total=   0.0s\n",
      "[CV] criterion=gini, max_depth=1, min_samples_leaf=6 .................\n",
      "[CV] .. criterion=gini, max_depth=1, min_samples_leaf=6, total=   0.0s\n",
      "[CV] criterion=gini, max_depth=1, min_samples_leaf=6 .................\n",
      "[CV] .. criterion=gini, max_depth=1, min_samples_leaf=6, total=   0.0s\n",
      "[CV] criterion=gini, max_depth=1, min_samples_leaf=6 .................\n",
      "[CV] .. criterion=gini, max_depth=1, min_samples_leaf=6, total=   0.0s\n",
      "[CV] criterion=gini, max_depth=1, min_samples_leaf=11 ................\n",
      "[CV] . criterion=gini, max_depth=1, min_samples_leaf=11, total=   0.0s\n",
      "[CV] criterion=gini, max_depth=1, min_samples_leaf=11 ................\n",
      "[CV] . criterion=gini, max_depth=1, min_samples_leaf=11, total=   0.0s\n",
      "[CV] criterion=gini, max_depth=1, min_samples_leaf=11 ................\n",
      "[CV] . criterion=gini, max_depth=1, min_samples_leaf=11, total=   0.0s\n",
      "[CV] criterion=gini, max_depth=1, min_samples_leaf=11 ................\n",
      "[CV] . criterion=gini, max_depth=1, min_samples_leaf=11, total=   0.0s\n",
      "[CV] criterion=gini, max_depth=1, min_samples_leaf=11 ................\n",
      "[CV] . criterion=gini, max_depth=1, min_samples_leaf=11, total=   0.0s\n",
      "[CV] criterion=gini, max_depth=1, min_samples_leaf=16 ................\n",
      "[CV] . criterion=gini, max_depth=1, min_samples_leaf=16, total=   0.0s\n",
      "[CV] criterion=gini, max_depth=1, min_samples_leaf=16 ................\n",
      "[CV] . criterion=gini, max_depth=1, min_samples_leaf=16, total=   0.0s\n",
      "[CV] criterion=gini, max_depth=1, min_samples_leaf=16 ................\n",
      "[CV] . criterion=gini, max_depth=1, min_samples_leaf=16, total=   0.0s\n",
      "[CV] criterion=gini, max_depth=1, min_samples_leaf=16 ................\n",
      "[CV] . criterion=gini, max_depth=1, min_samples_leaf=16, total=   0.0s\n",
      "[CV] criterion=gini, max_depth=1, min_samples_leaf=16 ................\n",
      "[CV] . criterion=gini, max_depth=1, min_samples_leaf=16, total=   0.0s\n",
      "[CV] criterion=gini, max_depth=1, min_samples_leaf=21 ................\n",
      "[CV] . criterion=gini, max_depth=1, min_samples_leaf=21, total=   0.0s\n",
      "[CV] criterion=gini, max_depth=1, min_samples_leaf=21 ................\n",
      "[CV] . criterion=gini, max_depth=1, min_samples_leaf=21, total=   0.0s\n",
      "[CV] criterion=gini, max_depth=1, min_samples_leaf=21 ................\n",
      "[CV] . criterion=gini, max_depth=1, min_samples_leaf=21, total=   0.0s\n",
      "[CV] criterion=gini, max_depth=1, min_samples_leaf=21 ................\n",
      "[CV] . criterion=gini, max_depth=1, min_samples_leaf=21, total=   0.0s\n",
      "[CV] criterion=gini, max_depth=1, min_samples_leaf=21 ................\n",
      "[CV] . criterion=gini, max_depth=1, min_samples_leaf=21, total=   0.0s\n",
      "[CV] criterion=gini, max_depth=1, min_samples_leaf=26 ................\n",
      "[CV] . criterion=gini, max_depth=1, min_samples_leaf=26, total=   0.0s\n",
      "[CV] criterion=gini, max_depth=1, min_samples_leaf=26 ................\n",
      "[CV] . criterion=gini, max_depth=1, min_samples_leaf=26, total=   0.0s\n",
      "[CV] criterion=gini, max_depth=1, min_samples_leaf=26 ................\n"
     ]
    },
    {
     "name": "stderr",
     "output_type": "stream",
     "text": [
      "[Parallel(n_jobs=1)]: Using backend SequentialBackend with 1 concurrent workers.\n",
      "[Parallel(n_jobs=1)]: Done   1 out of   1 | elapsed:    0.0s remaining:    0.0s\n"
     ]
    },
    {
     "name": "stdout",
     "output_type": "stream",
     "text": [
      "[CV] . criterion=gini, max_depth=1, min_samples_leaf=26, total=   0.0s\n",
      "[CV] criterion=gini, max_depth=1, min_samples_leaf=26 ................\n",
      "[CV] . criterion=gini, max_depth=1, min_samples_leaf=26, total=   0.0s\n",
      "[CV] criterion=gini, max_depth=1, min_samples_leaf=26 ................\n",
      "[CV] . criterion=gini, max_depth=1, min_samples_leaf=26, total=   0.0s\n",
      "[CV] criterion=gini, max_depth=1, min_samples_leaf=31 ................\n",
      "[CV] . criterion=gini, max_depth=1, min_samples_leaf=31, total=   0.0s\n",
      "[CV] criterion=gini, max_depth=1, min_samples_leaf=31 ................\n",
      "[CV] . criterion=gini, max_depth=1, min_samples_leaf=31, total=   0.0s\n",
      "[CV] criterion=gini, max_depth=1, min_samples_leaf=31 ................\n",
      "[CV] . criterion=gini, max_depth=1, min_samples_leaf=31, total=   0.0s\n",
      "[CV] criterion=gini, max_depth=1, min_samples_leaf=31 ................\n",
      "[CV] . criterion=gini, max_depth=1, min_samples_leaf=31, total=   0.0s\n",
      "[CV] criterion=gini, max_depth=1, min_samples_leaf=31 ................\n",
      "[CV] . criterion=gini, max_depth=1, min_samples_leaf=31, total=   0.0s\n",
      "[CV] criterion=gini, max_depth=1, min_samples_leaf=36 ................\n",
      "[CV] . criterion=gini, max_depth=1, min_samples_leaf=36, total=   0.0s\n",
      "[CV] criterion=gini, max_depth=1, min_samples_leaf=36 ................\n",
      "[CV] . criterion=gini, max_depth=1, min_samples_leaf=36, total=   0.0s\n",
      "[CV] criterion=gini, max_depth=1, min_samples_leaf=36 ................\n",
      "[CV] . criterion=gini, max_depth=1, min_samples_leaf=36, total=   0.0s\n",
      "[CV] criterion=gini, max_depth=1, min_samples_leaf=36 ................\n",
      "[CV] . criterion=gini, max_depth=1, min_samples_leaf=36, total=   0.0s\n",
      "[CV] criterion=gini, max_depth=1, min_samples_leaf=36 ................\n",
      "[CV] . criterion=gini, max_depth=1, min_samples_leaf=36, total=   0.0s\n",
      "[CV] criterion=gini, max_depth=1, min_samples_leaf=41 ................\n",
      "[CV] . criterion=gini, max_depth=1, min_samples_leaf=41, total=   0.0s\n",
      "[CV] criterion=gini, max_depth=1, min_samples_leaf=41 ................\n",
      "[CV] . criterion=gini, max_depth=1, min_samples_leaf=41, total=   0.0s\n",
      "[CV] criterion=gini, max_depth=1, min_samples_leaf=41 ................\n",
      "[CV] . criterion=gini, max_depth=1, min_samples_leaf=41, total=   0.0s\n",
      "[CV] criterion=gini, max_depth=1, min_samples_leaf=41 ................\n",
      "[CV] . criterion=gini, max_depth=1, min_samples_leaf=41, total=   0.0s\n",
      "[CV] criterion=gini, max_depth=1, min_samples_leaf=41 ................\n",
      "[CV] . criterion=gini, max_depth=1, min_samples_leaf=41, total=   0.0s\n",
      "[CV] criterion=gini, max_depth=1, min_samples_leaf=46 ................\n",
      "[CV] . criterion=gini, max_depth=1, min_samples_leaf=46, total=   0.0s\n",
      "[CV] criterion=gini, max_depth=1, min_samples_leaf=46 ................\n",
      "[CV] . criterion=gini, max_depth=1, min_samples_leaf=46, total=   0.0s\n",
      "[CV] criterion=gini, max_depth=1, min_samples_leaf=46 ................\n",
      "[CV] . criterion=gini, max_depth=1, min_samples_leaf=46, total=   0.0s\n",
      "[CV] criterion=gini, max_depth=1, min_samples_leaf=46 ................\n",
      "[CV] . criterion=gini, max_depth=1, min_samples_leaf=46, total=   0.0s\n",
      "[CV] criterion=gini, max_depth=1, min_samples_leaf=46 ................\n",
      "[CV] . criterion=gini, max_depth=1, min_samples_leaf=46, total=   0.0s\n",
      "[CV] criterion=gini, max_depth=6, min_samples_leaf=1 .................\n",
      "[CV] .. criterion=gini, max_depth=6, min_samples_leaf=1, total=   0.0s\n",
      "[CV] criterion=gini, max_depth=6, min_samples_leaf=1 .................\n",
      "[CV] .. criterion=gini, max_depth=6, min_samples_leaf=1, total=   0.0s\n",
      "[CV] criterion=gini, max_depth=6, min_samples_leaf=1 .................\n",
      "[CV] .. criterion=gini, max_depth=6, min_samples_leaf=1, total=   0.0s\n",
      "[CV] criterion=gini, max_depth=6, min_samples_leaf=1 .................\n",
      "[CV] .. criterion=gini, max_depth=6, min_samples_leaf=1, total=   0.0s\n",
      "[CV] criterion=gini, max_depth=6, min_samples_leaf=1 .................\n",
      "[CV] .. criterion=gini, max_depth=6, min_samples_leaf=1, total=   0.0s\n",
      "[CV] criterion=gini, max_depth=6, min_samples_leaf=6 .................\n",
      "[CV] .. criterion=gini, max_depth=6, min_samples_leaf=6, total=   0.0s\n",
      "[CV] criterion=gini, max_depth=6, min_samples_leaf=6 .................\n",
      "[CV] .. criterion=gini, max_depth=6, min_samples_leaf=6, total=   0.0s\n",
      "[CV] criterion=gini, max_depth=6, min_samples_leaf=6 .................\n",
      "[CV] .. criterion=gini, max_depth=6, min_samples_leaf=6, total=   0.0s\n",
      "[CV] criterion=gini, max_depth=6, min_samples_leaf=6 .................\n",
      "[CV] .. criterion=gini, max_depth=6, min_samples_leaf=6, total=   0.0s\n",
      "[CV] criterion=gini, max_depth=6, min_samples_leaf=6 .................\n",
      "[CV] .. criterion=gini, max_depth=6, min_samples_leaf=6, total=   0.0s\n",
      "[CV] criterion=gini, max_depth=6, min_samples_leaf=11 ................\n",
      "[CV] . criterion=gini, max_depth=6, min_samples_leaf=11, total=   0.0s\n",
      "[CV] criterion=gini, max_depth=6, min_samples_leaf=11 ................\n",
      "[CV] . criterion=gini, max_depth=6, min_samples_leaf=11, total=   0.0s\n",
      "[CV] criterion=gini, max_depth=6, min_samples_leaf=11 ................\n",
      "[CV] . criterion=gini, max_depth=6, min_samples_leaf=11, total=   0.0s\n",
      "[CV] criterion=gini, max_depth=6, min_samples_leaf=11 ................\n",
      "[CV] . criterion=gini, max_depth=6, min_samples_leaf=11, total=   0.0s\n",
      "[CV] criterion=gini, max_depth=6, min_samples_leaf=11 ................\n",
      "[CV] . criterion=gini, max_depth=6, min_samples_leaf=11, total=   0.0s\n",
      "[CV] criterion=gini, max_depth=6, min_samples_leaf=16 ................\n",
      "[CV] . criterion=gini, max_depth=6, min_samples_leaf=16, total=   0.0s\n",
      "[CV] criterion=gini, max_depth=6, min_samples_leaf=16 ................\n",
      "[CV] . criterion=gini, max_depth=6, min_samples_leaf=16, total=   0.0s\n",
      "[CV] criterion=gini, max_depth=6, min_samples_leaf=16 ................\n",
      "[CV] . criterion=gini, max_depth=6, min_samples_leaf=16, total=   0.0s\n",
      "[CV] criterion=gini, max_depth=6, min_samples_leaf=16 ................\n",
      "[CV] . criterion=gini, max_depth=6, min_samples_leaf=16, total=   0.0s\n",
      "[CV] criterion=gini, max_depth=6, min_samples_leaf=16 ................\n",
      "[CV] . criterion=gini, max_depth=6, min_samples_leaf=16, total=   0.0s\n",
      "[CV] criterion=gini, max_depth=6, min_samples_leaf=21 ................\n",
      "[CV] . criterion=gini, max_depth=6, min_samples_leaf=21, total=   0.0s\n",
      "[CV] criterion=gini, max_depth=6, min_samples_leaf=21 ................\n",
      "[CV] . criterion=gini, max_depth=6, min_samples_leaf=21, total=   0.0s\n",
      "[CV] criterion=gini, max_depth=6, min_samples_leaf=21 ................\n",
      "[CV] . criterion=gini, max_depth=6, min_samples_leaf=21, total=   0.0s\n",
      "[CV] criterion=gini, max_depth=6, min_samples_leaf=21 ................\n",
      "[CV] . criterion=gini, max_depth=6, min_samples_leaf=21, total=   0.0s\n",
      "[CV] criterion=gini, max_depth=6, min_samples_leaf=21 ................\n",
      "[CV] . criterion=gini, max_depth=6, min_samples_leaf=21, total=   0.0s\n",
      "[CV] criterion=gini, max_depth=6, min_samples_leaf=26 ................\n",
      "[CV] . criterion=gini, max_depth=6, min_samples_leaf=26, total=   0.0s\n",
      "[CV] criterion=gini, max_depth=6, min_samples_leaf=26 ................\n",
      "[CV] . criterion=gini, max_depth=6, min_samples_leaf=26, total=   0.0s\n",
      "[CV] criterion=gini, max_depth=6, min_samples_leaf=26 ................\n",
      "[CV] . criterion=gini, max_depth=6, min_samples_leaf=26, total=   0.0s\n",
      "[CV] criterion=gini, max_depth=6, min_samples_leaf=26 ................\n",
      "[CV] . criterion=gini, max_depth=6, min_samples_leaf=26, total=   0.0s\n",
      "[CV] criterion=gini, max_depth=6, min_samples_leaf=26 ................\n",
      "[CV] . criterion=gini, max_depth=6, min_samples_leaf=26, total=   0.0s\n",
      "[CV] criterion=gini, max_depth=6, min_samples_leaf=31 ................\n",
      "[CV] . criterion=gini, max_depth=6, min_samples_leaf=31, total=   0.0s\n",
      "[CV] criterion=gini, max_depth=6, min_samples_leaf=31 ................\n",
      "[CV] . criterion=gini, max_depth=6, min_samples_leaf=31, total=   0.0s\n",
      "[CV] criterion=gini, max_depth=6, min_samples_leaf=31 ................\n",
      "[CV] . criterion=gini, max_depth=6, min_samples_leaf=31, total=   0.0s\n",
      "[CV] criterion=gini, max_depth=6, min_samples_leaf=31 ................\n",
      "[CV] . criterion=gini, max_depth=6, min_samples_leaf=31, total=   0.0s\n",
      "[CV] criterion=gini, max_depth=6, min_samples_leaf=31 ................\n",
      "[CV] . criterion=gini, max_depth=6, min_samples_leaf=31, total=   0.0s\n",
      "[CV] criterion=gini, max_depth=6, min_samples_leaf=36 ................\n",
      "[CV] . criterion=gini, max_depth=6, min_samples_leaf=36, total=   0.0s\n",
      "[CV] criterion=gini, max_depth=6, min_samples_leaf=36 ................\n",
      "[CV] . criterion=gini, max_depth=6, min_samples_leaf=36, total=   0.0s\n",
      "[CV] criterion=gini, max_depth=6, min_samples_leaf=36 ................\n",
      "[CV] . criterion=gini, max_depth=6, min_samples_leaf=36, total=   0.0s\n",
      "[CV] criterion=gini, max_depth=6, min_samples_leaf=36 ................\n",
      "[CV] . criterion=gini, max_depth=6, min_samples_leaf=36, total=   0.0s\n",
      "[CV] criterion=gini, max_depth=6, min_samples_leaf=36 ................\n",
      "[CV] . criterion=gini, max_depth=6, min_samples_leaf=36, total=   0.0s\n",
      "[CV] criterion=gini, max_depth=6, min_samples_leaf=41 ................\n",
      "[CV] . criterion=gini, max_depth=6, min_samples_leaf=41, total=   0.0s\n",
      "[CV] criterion=gini, max_depth=6, min_samples_leaf=41 ................\n",
      "[CV] . criterion=gini, max_depth=6, min_samples_leaf=41, total=   0.0s\n",
      "[CV] criterion=gini, max_depth=6, min_samples_leaf=41 ................\n",
      "[CV] . criterion=gini, max_depth=6, min_samples_leaf=41, total=   0.0s\n",
      "[CV] criterion=gini, max_depth=6, min_samples_leaf=41 ................\n",
      "[CV] . criterion=gini, max_depth=6, min_samples_leaf=41, total=   0.0s\n",
      "[CV] criterion=gini, max_depth=6, min_samples_leaf=41 ................\n",
      "[CV] . criterion=gini, max_depth=6, min_samples_leaf=41, total=   0.0s\n",
      "[CV] criterion=gini, max_depth=6, min_samples_leaf=46 ................\n",
      "[CV] . criterion=gini, max_depth=6, min_samples_leaf=46, total=   0.0s\n",
      "[CV] criterion=gini, max_depth=6, min_samples_leaf=46 ................\n",
      "[CV] . criterion=gini, max_depth=6, min_samples_leaf=46, total=   0.0s\n",
      "[CV] criterion=gini, max_depth=6, min_samples_leaf=46 ................\n",
      "[CV] . criterion=gini, max_depth=6, min_samples_leaf=46, total=   0.0s\n",
      "[CV] criterion=gini, max_depth=6, min_samples_leaf=46 ................\n",
      "[CV] . criterion=gini, max_depth=6, min_samples_leaf=46, total=   0.0s\n",
      "[CV] criterion=gini, max_depth=6, min_samples_leaf=46 ................\n",
      "[CV] . criterion=gini, max_depth=6, min_samples_leaf=46, total=   0.0s\n",
      "[CV] criterion=gini, max_depth=11, min_samples_leaf=1 ................\n",
      "[CV] . criterion=gini, max_depth=11, min_samples_leaf=1, total=   0.0s\n",
      "[CV] criterion=gini, max_depth=11, min_samples_leaf=1 ................\n",
      "[CV] . criterion=gini, max_depth=11, min_samples_leaf=1, total=   0.0s\n",
      "[CV] criterion=gini, max_depth=11, min_samples_leaf=1 ................\n",
      "[CV] . criterion=gini, max_depth=11, min_samples_leaf=1, total=   0.0s\n",
      "[CV] criterion=gini, max_depth=11, min_samples_leaf=1 ................\n",
      "[CV] . criterion=gini, max_depth=11, min_samples_leaf=1, total=   0.0s\n",
      "[CV] criterion=gini, max_depth=11, min_samples_leaf=1 ................\n",
      "[CV] . criterion=gini, max_depth=11, min_samples_leaf=1, total=   0.0s\n",
      "[CV] criterion=gini, max_depth=11, min_samples_leaf=6 ................\n",
      "[CV] . criterion=gini, max_depth=11, min_samples_leaf=6, total=   0.0s\n",
      "[CV] criterion=gini, max_depth=11, min_samples_leaf=6 ................\n",
      "[CV] . criterion=gini, max_depth=11, min_samples_leaf=6, total=   0.0s\n",
      "[CV] criterion=gini, max_depth=11, min_samples_leaf=6 ................\n",
      "[CV] . criterion=gini, max_depth=11, min_samples_leaf=6, total=   0.0s\n",
      "[CV] criterion=gini, max_depth=11, min_samples_leaf=6 ................\n",
      "[CV] . criterion=gini, max_depth=11, min_samples_leaf=6, total=   0.0s\n",
      "[CV] criterion=gini, max_depth=11, min_samples_leaf=6 ................\n",
      "[CV] . criterion=gini, max_depth=11, min_samples_leaf=6, total=   0.0s\n",
      "[CV] criterion=gini, max_depth=11, min_samples_leaf=11 ...............\n",
      "[CV]  criterion=gini, max_depth=11, min_samples_leaf=11, total=   0.0s\n",
      "[CV] criterion=gini, max_depth=11, min_samples_leaf=11 ...............\n",
      "[CV]  criterion=gini, max_depth=11, min_samples_leaf=11, total=   0.0s\n",
      "[CV] criterion=gini, max_depth=11, min_samples_leaf=11 ...............\n",
      "[CV]  criterion=gini, max_depth=11, min_samples_leaf=11, total=   0.0s\n",
      "[CV] criterion=gini, max_depth=11, min_samples_leaf=11 ...............\n",
      "[CV]  criterion=gini, max_depth=11, min_samples_leaf=11, total=   0.0s\n",
      "[CV] criterion=gini, max_depth=11, min_samples_leaf=11 ...............\n",
      "[CV]  criterion=gini, max_depth=11, min_samples_leaf=11, total=   0.0s\n",
      "[CV] criterion=gini, max_depth=11, min_samples_leaf=16 ...............\n",
      "[CV]  criterion=gini, max_depth=11, min_samples_leaf=16, total=   0.0s\n",
      "[CV] criterion=gini, max_depth=11, min_samples_leaf=16 ...............\n",
      "[CV]  criterion=gini, max_depth=11, min_samples_leaf=16, total=   0.0s\n",
      "[CV] criterion=gini, max_depth=11, min_samples_leaf=16 ...............\n",
      "[CV]  criterion=gini, max_depth=11, min_samples_leaf=16, total=   0.0s\n",
      "[CV] criterion=gini, max_depth=11, min_samples_leaf=16 ...............\n",
      "[CV]  criterion=gini, max_depth=11, min_samples_leaf=16, total=   0.0s\n",
      "[CV] criterion=gini, max_depth=11, min_samples_leaf=16 ...............\n",
      "[CV]  criterion=gini, max_depth=11, min_samples_leaf=16, total=   0.0s\n",
      "[CV] criterion=gini, max_depth=11, min_samples_leaf=21 ...............\n",
      "[CV]  criterion=gini, max_depth=11, min_samples_leaf=21, total=   0.0s\n",
      "[CV] criterion=gini, max_depth=11, min_samples_leaf=21 ...............\n",
      "[CV]  criterion=gini, max_depth=11, min_samples_leaf=21, total=   0.0s\n",
      "[CV] criterion=gini, max_depth=11, min_samples_leaf=21 ...............\n",
      "[CV]  criterion=gini, max_depth=11, min_samples_leaf=21, total=   0.0s\n",
      "[CV] criterion=gini, max_depth=11, min_samples_leaf=21 ...............\n",
      "[CV]  criterion=gini, max_depth=11, min_samples_leaf=21, total=   0.0s\n",
      "[CV] criterion=gini, max_depth=11, min_samples_leaf=21 ...............\n",
      "[CV]  criterion=gini, max_depth=11, min_samples_leaf=21, total=   0.0s\n",
      "[CV] criterion=gini, max_depth=11, min_samples_leaf=26 ...............\n",
      "[CV]  criterion=gini, max_depth=11, min_samples_leaf=26, total=   0.0s\n",
      "[CV] criterion=gini, max_depth=11, min_samples_leaf=26 ...............\n",
      "[CV]  criterion=gini, max_depth=11, min_samples_leaf=26, total=   0.0s\n",
      "[CV] criterion=gini, max_depth=11, min_samples_leaf=26 ...............\n",
      "[CV]  criterion=gini, max_depth=11, min_samples_leaf=26, total=   0.0s\n",
      "[CV] criterion=gini, max_depth=11, min_samples_leaf=26 ...............\n",
      "[CV]  criterion=gini, max_depth=11, min_samples_leaf=26, total=   0.0s\n",
      "[CV] criterion=gini, max_depth=11, min_samples_leaf=26 ...............\n",
      "[CV]  criterion=gini, max_depth=11, min_samples_leaf=26, total=   0.0s\n",
      "[CV] criterion=gini, max_depth=11, min_samples_leaf=31 ...............\n",
      "[CV]  criterion=gini, max_depth=11, min_samples_leaf=31, total=   0.0s\n",
      "[CV] criterion=gini, max_depth=11, min_samples_leaf=31 ...............\n",
      "[CV]  criterion=gini, max_depth=11, min_samples_leaf=31, total=   0.0s\n",
      "[CV] criterion=gini, max_depth=11, min_samples_leaf=31 ...............\n",
      "[CV]  criterion=gini, max_depth=11, min_samples_leaf=31, total=   0.0s\n",
      "[CV] criterion=gini, max_depth=11, min_samples_leaf=31 ...............\n",
      "[CV]  criterion=gini, max_depth=11, min_samples_leaf=31, total=   0.0s\n",
      "[CV] criterion=gini, max_depth=11, min_samples_leaf=31 ...............\n",
      "[CV]  criterion=gini, max_depth=11, min_samples_leaf=31, total=   0.0s\n",
      "[CV] criterion=gini, max_depth=11, min_samples_leaf=36 ...............\n",
      "[CV]  criterion=gini, max_depth=11, min_samples_leaf=36, total=   0.0s\n",
      "[CV] criterion=gini, max_depth=11, min_samples_leaf=36 ...............\n",
      "[CV]  criterion=gini, max_depth=11, min_samples_leaf=36, total=   0.0s\n",
      "[CV] criterion=gini, max_depth=11, min_samples_leaf=36 ...............\n",
      "[CV]  criterion=gini, max_depth=11, min_samples_leaf=36, total=   0.0s\n",
      "[CV] criterion=gini, max_depth=11, min_samples_leaf=36 ...............\n",
      "[CV]  criterion=gini, max_depth=11, min_samples_leaf=36, total=   0.0s\n",
      "[CV] criterion=gini, max_depth=11, min_samples_leaf=36 ...............\n",
      "[CV]  criterion=gini, max_depth=11, min_samples_leaf=36, total=   0.0s\n",
      "[CV] criterion=gini, max_depth=11, min_samples_leaf=41 ...............\n",
      "[CV]  criterion=gini, max_depth=11, min_samples_leaf=41, total=   0.0s\n",
      "[CV] criterion=gini, max_depth=11, min_samples_leaf=41 ...............\n",
      "[CV]  criterion=gini, max_depth=11, min_samples_leaf=41, total=   0.0s\n",
      "[CV] criterion=gini, max_depth=11, min_samples_leaf=41 ...............\n",
      "[CV]  criterion=gini, max_depth=11, min_samples_leaf=41, total=   0.0s\n",
      "[CV] criterion=gini, max_depth=11, min_samples_leaf=41 ...............\n",
      "[CV]  criterion=gini, max_depth=11, min_samples_leaf=41, total=   0.0s\n",
      "[CV] criterion=gini, max_depth=11, min_samples_leaf=41 ...............\n",
      "[CV]  criterion=gini, max_depth=11, min_samples_leaf=41, total=   0.0s\n",
      "[CV] criterion=gini, max_depth=11, min_samples_leaf=46 ...............\n",
      "[CV]  criterion=gini, max_depth=11, min_samples_leaf=46, total=   0.0s\n",
      "[CV] criterion=gini, max_depth=11, min_samples_leaf=46 ...............\n",
      "[CV]  criterion=gini, max_depth=11, min_samples_leaf=46, total=   0.0s\n",
      "[CV] criterion=gini, max_depth=11, min_samples_leaf=46 ...............\n",
      "[CV]  criterion=gini, max_depth=11, min_samples_leaf=46, total=   0.0s\n",
      "[CV] criterion=gini, max_depth=11, min_samples_leaf=46 ...............\n",
      "[CV]  criterion=gini, max_depth=11, min_samples_leaf=46, total=   0.0s\n",
      "[CV] criterion=gini, max_depth=11, min_samples_leaf=46 ...............\n",
      "[CV]  criterion=gini, max_depth=11, min_samples_leaf=46, total=   0.0s\n",
      "[CV] criterion=gini, max_depth=16, min_samples_leaf=1 ................\n",
      "[CV] . criterion=gini, max_depth=16, min_samples_leaf=1, total=   0.0s\n",
      "[CV] criterion=gini, max_depth=16, min_samples_leaf=1 ................\n",
      "[CV] . criterion=gini, max_depth=16, min_samples_leaf=1, total=   0.0s\n",
      "[CV] criterion=gini, max_depth=16, min_samples_leaf=1 ................\n",
      "[CV] . criterion=gini, max_depth=16, min_samples_leaf=1, total=   0.0s\n",
      "[CV] criterion=gini, max_depth=16, min_samples_leaf=1 ................\n",
      "[CV] . criterion=gini, max_depth=16, min_samples_leaf=1, total=   0.0s\n",
      "[CV] criterion=gini, max_depth=16, min_samples_leaf=1 ................\n",
      "[CV] . criterion=gini, max_depth=16, min_samples_leaf=1, total=   0.0s\n",
      "[CV] criterion=gini, max_depth=16, min_samples_leaf=6 ................\n",
      "[CV] . criterion=gini, max_depth=16, min_samples_leaf=6, total=   0.0s\n",
      "[CV] criterion=gini, max_depth=16, min_samples_leaf=6 ................\n",
      "[CV] . criterion=gini, max_depth=16, min_samples_leaf=6, total=   0.0s\n",
      "[CV] criterion=gini, max_depth=16, min_samples_leaf=6 ................\n",
      "[CV] . criterion=gini, max_depth=16, min_samples_leaf=6, total=   0.0s\n",
      "[CV] criterion=gini, max_depth=16, min_samples_leaf=6 ................\n",
      "[CV] . criterion=gini, max_depth=16, min_samples_leaf=6, total=   0.0s\n",
      "[CV] criterion=gini, max_depth=16, min_samples_leaf=6 ................\n",
      "[CV] . criterion=gini, max_depth=16, min_samples_leaf=6, total=   0.0s\n",
      "[CV] criterion=gini, max_depth=16, min_samples_leaf=11 ...............\n",
      "[CV]  criterion=gini, max_depth=16, min_samples_leaf=11, total=   0.0s\n",
      "[CV] criterion=gini, max_depth=16, min_samples_leaf=11 ...............\n",
      "[CV]  criterion=gini, max_depth=16, min_samples_leaf=11, total=   0.0s\n",
      "[CV] criterion=gini, max_depth=16, min_samples_leaf=11 ...............\n",
      "[CV]  criterion=gini, max_depth=16, min_samples_leaf=11, total=   0.0s\n",
      "[CV] criterion=gini, max_depth=16, min_samples_leaf=11 ...............\n",
      "[CV]  criterion=gini, max_depth=16, min_samples_leaf=11, total=   0.0s\n",
      "[CV] criterion=gini, max_depth=16, min_samples_leaf=11 ...............\n",
      "[CV]  criterion=gini, max_depth=16, min_samples_leaf=11, total=   0.0s\n",
      "[CV] criterion=gini, max_depth=16, min_samples_leaf=16 ...............\n",
      "[CV]  criterion=gini, max_depth=16, min_samples_leaf=16, total=   0.0s\n",
      "[CV] criterion=gini, max_depth=16, min_samples_leaf=16 ...............\n",
      "[CV]  criterion=gini, max_depth=16, min_samples_leaf=16, total=   0.0s\n",
      "[CV] criterion=gini, max_depth=16, min_samples_leaf=16 ...............\n",
      "[CV]  criterion=gini, max_depth=16, min_samples_leaf=16, total=   0.0s\n",
      "[CV] criterion=gini, max_depth=16, min_samples_leaf=16 ...............\n",
      "[CV]  criterion=gini, max_depth=16, min_samples_leaf=16, total=   0.0s\n",
      "[CV] criterion=gini, max_depth=16, min_samples_leaf=16 ...............\n",
      "[CV]  criterion=gini, max_depth=16, min_samples_leaf=16, total=   0.0s\n",
      "[CV] criterion=gini, max_depth=16, min_samples_leaf=21 ...............\n",
      "[CV]  criterion=gini, max_depth=16, min_samples_leaf=21, total=   0.0s\n",
      "[CV] criterion=gini, max_depth=16, min_samples_leaf=21 ...............\n",
      "[CV]  criterion=gini, max_depth=16, min_samples_leaf=21, total=   0.0s\n",
      "[CV] criterion=gini, max_depth=16, min_samples_leaf=21 ...............\n",
      "[CV]  criterion=gini, max_depth=16, min_samples_leaf=21, total=   0.0s\n",
      "[CV] criterion=gini, max_depth=16, min_samples_leaf=21 ...............\n",
      "[CV]  criterion=gini, max_depth=16, min_samples_leaf=21, total=   0.0s\n",
      "[CV] criterion=gini, max_depth=16, min_samples_leaf=21 ...............\n",
      "[CV]  criterion=gini, max_depth=16, min_samples_leaf=21, total=   0.0s\n",
      "[CV] criterion=gini, max_depth=16, min_samples_leaf=26 ...............\n",
      "[CV]  criterion=gini, max_depth=16, min_samples_leaf=26, total=   0.0s\n",
      "[CV] criterion=gini, max_depth=16, min_samples_leaf=26 ...............\n",
      "[CV]  criterion=gini, max_depth=16, min_samples_leaf=26, total=   0.0s\n",
      "[CV] criterion=gini, max_depth=16, min_samples_leaf=26 ...............\n",
      "[CV]  criterion=gini, max_depth=16, min_samples_leaf=26, total=   0.0s\n",
      "[CV] criterion=gini, max_depth=16, min_samples_leaf=26 ...............\n",
      "[CV]  criterion=gini, max_depth=16, min_samples_leaf=26, total=   0.0s\n",
      "[CV] criterion=gini, max_depth=16, min_samples_leaf=26 ...............\n",
      "[CV]  criterion=gini, max_depth=16, min_samples_leaf=26, total=   0.0s\n",
      "[CV] criterion=gini, max_depth=16, min_samples_leaf=31 ...............\n",
      "[CV]  criterion=gini, max_depth=16, min_samples_leaf=31, total=   0.0s\n",
      "[CV] criterion=gini, max_depth=16, min_samples_leaf=31 ...............\n",
      "[CV]  criterion=gini, max_depth=16, min_samples_leaf=31, total=   0.0s\n",
      "[CV] criterion=gini, max_depth=16, min_samples_leaf=31 ...............\n",
      "[CV]  criterion=gini, max_depth=16, min_samples_leaf=31, total=   0.0s\n",
      "[CV] criterion=gini, max_depth=16, min_samples_leaf=31 ...............\n",
      "[CV]  criterion=gini, max_depth=16, min_samples_leaf=31, total=   0.0s\n",
      "[CV] criterion=gini, max_depth=16, min_samples_leaf=31 ...............\n",
      "[CV]  criterion=gini, max_depth=16, min_samples_leaf=31, total=   0.0s\n",
      "[CV] criterion=gini, max_depth=16, min_samples_leaf=36 ...............\n",
      "[CV]  criterion=gini, max_depth=16, min_samples_leaf=36, total=   0.0s\n",
      "[CV] criterion=gini, max_depth=16, min_samples_leaf=36 ...............\n",
      "[CV]  criterion=gini, max_depth=16, min_samples_leaf=36, total=   0.0s\n",
      "[CV] criterion=gini, max_depth=16, min_samples_leaf=36 ...............\n",
      "[CV]  criterion=gini, max_depth=16, min_samples_leaf=36, total=   0.0s\n",
      "[CV] criterion=gini, max_depth=16, min_samples_leaf=36 ...............\n",
      "[CV]  criterion=gini, max_depth=16, min_samples_leaf=36, total=   0.0s\n",
      "[CV] criterion=gini, max_depth=16, min_samples_leaf=36 ...............\n",
      "[CV]  criterion=gini, max_depth=16, min_samples_leaf=36, total=   0.0s\n",
      "[CV] criterion=gini, max_depth=16, min_samples_leaf=41 ...............\n",
      "[CV]  criterion=gini, max_depth=16, min_samples_leaf=41, total=   0.0s\n",
      "[CV] criterion=gini, max_depth=16, min_samples_leaf=41 ...............\n",
      "[CV]  criterion=gini, max_depth=16, min_samples_leaf=41, total=   0.0s\n",
      "[CV] criterion=gini, max_depth=16, min_samples_leaf=41 ...............\n",
      "[CV]  criterion=gini, max_depth=16, min_samples_leaf=41, total=   0.0s\n",
      "[CV] criterion=gini, max_depth=16, min_samples_leaf=41 ...............\n",
      "[CV]  criterion=gini, max_depth=16, min_samples_leaf=41, total=   0.0s\n",
      "[CV] criterion=gini, max_depth=16, min_samples_leaf=41 ...............\n",
      "[CV]  criterion=gini, max_depth=16, min_samples_leaf=41, total=   0.0s\n",
      "[CV] criterion=gini, max_depth=16, min_samples_leaf=46 ...............\n",
      "[CV]  criterion=gini, max_depth=16, min_samples_leaf=46, total=   0.0s\n",
      "[CV] criterion=gini, max_depth=16, min_samples_leaf=46 ...............\n",
      "[CV]  criterion=gini, max_depth=16, min_samples_leaf=46, total=   0.0s\n",
      "[CV] criterion=gini, max_depth=16, min_samples_leaf=46 ...............\n",
      "[CV]  criterion=gini, max_depth=16, min_samples_leaf=46, total=   0.0s\n",
      "[CV] criterion=gini, max_depth=16, min_samples_leaf=46 ...............\n",
      "[CV]  criterion=gini, max_depth=16, min_samples_leaf=46, total=   0.0s\n",
      "[CV] criterion=gini, max_depth=16, min_samples_leaf=46 ...............\n",
      "[CV]  criterion=gini, max_depth=16, min_samples_leaf=46, total=   0.0s\n",
      "[CV] criterion=gini, max_depth=21, min_samples_leaf=1 ................\n",
      "[CV] . criterion=gini, max_depth=21, min_samples_leaf=1, total=   0.0s\n",
      "[CV] criterion=gini, max_depth=21, min_samples_leaf=1 ................\n",
      "[CV] . criterion=gini, max_depth=21, min_samples_leaf=1, total=   0.0s\n",
      "[CV] criterion=gini, max_depth=21, min_samples_leaf=1 ................\n",
      "[CV] . criterion=gini, max_depth=21, min_samples_leaf=1, total=   0.0s\n",
      "[CV] criterion=gini, max_depth=21, min_samples_leaf=1 ................\n",
      "[CV] . criterion=gini, max_depth=21, min_samples_leaf=1, total=   0.0s\n",
      "[CV] criterion=gini, max_depth=21, min_samples_leaf=1 ................\n",
      "[CV] . criterion=gini, max_depth=21, min_samples_leaf=1, total=   0.0s\n",
      "[CV] criterion=gini, max_depth=21, min_samples_leaf=6 ................\n",
      "[CV] . criterion=gini, max_depth=21, min_samples_leaf=6, total=   0.0s\n",
      "[CV] criterion=gini, max_depth=21, min_samples_leaf=6 ................\n",
      "[CV] . criterion=gini, max_depth=21, min_samples_leaf=6, total=   0.0s\n",
      "[CV] criterion=gini, max_depth=21, min_samples_leaf=6 ................\n",
      "[CV] . criterion=gini, max_depth=21, min_samples_leaf=6, total=   0.0s\n",
      "[CV] criterion=gini, max_depth=21, min_samples_leaf=6 ................\n",
      "[CV] . criterion=gini, max_depth=21, min_samples_leaf=6, total=   0.0s\n",
      "[CV] criterion=gini, max_depth=21, min_samples_leaf=6 ................\n",
      "[CV] . criterion=gini, max_depth=21, min_samples_leaf=6, total=   0.0s\n",
      "[CV] criterion=gini, max_depth=21, min_samples_leaf=11 ...............\n",
      "[CV]  criterion=gini, max_depth=21, min_samples_leaf=11, total=   0.0s\n",
      "[CV] criterion=gini, max_depth=21, min_samples_leaf=11 ...............\n",
      "[CV]  criterion=gini, max_depth=21, min_samples_leaf=11, total=   0.0s\n",
      "[CV] criterion=gini, max_depth=21, min_samples_leaf=11 ...............\n",
      "[CV]  criterion=gini, max_depth=21, min_samples_leaf=11, total=   0.0s\n",
      "[CV] criterion=gini, max_depth=21, min_samples_leaf=11 ...............\n",
      "[CV]  criterion=gini, max_depth=21, min_samples_leaf=11, total=   0.0s\n",
      "[CV] criterion=gini, max_depth=21, min_samples_leaf=11 ...............\n",
      "[CV]  criterion=gini, max_depth=21, min_samples_leaf=11, total=   0.0s\n",
      "[CV] criterion=gini, max_depth=21, min_samples_leaf=16 ...............\n",
      "[CV]  criterion=gini, max_depth=21, min_samples_leaf=16, total=   0.0s\n",
      "[CV] criterion=gini, max_depth=21, min_samples_leaf=16 ...............\n",
      "[CV]  criterion=gini, max_depth=21, min_samples_leaf=16, total=   0.0s\n",
      "[CV] criterion=gini, max_depth=21, min_samples_leaf=16 ...............\n",
      "[CV]  criterion=gini, max_depth=21, min_samples_leaf=16, total=   0.0s\n",
      "[CV] criterion=gini, max_depth=21, min_samples_leaf=16 ...............\n",
      "[CV]  criterion=gini, max_depth=21, min_samples_leaf=16, total=   0.0s\n",
      "[CV] criterion=gini, max_depth=21, min_samples_leaf=16 ...............\n",
      "[CV]  criterion=gini, max_depth=21, min_samples_leaf=16, total=   0.0s\n",
      "[CV] criterion=gini, max_depth=21, min_samples_leaf=21 ...............\n",
      "[CV]  criterion=gini, max_depth=21, min_samples_leaf=21, total=   0.0s\n",
      "[CV] criterion=gini, max_depth=21, min_samples_leaf=21 ...............\n",
      "[CV]  criterion=gini, max_depth=21, min_samples_leaf=21, total=   0.0s\n",
      "[CV] criterion=gini, max_depth=21, min_samples_leaf=21 ...............\n",
      "[CV]  criterion=gini, max_depth=21, min_samples_leaf=21, total=   0.0s\n",
      "[CV] criterion=gini, max_depth=21, min_samples_leaf=21 ...............\n",
      "[CV]  criterion=gini, max_depth=21, min_samples_leaf=21, total=   0.0s\n",
      "[CV] criterion=gini, max_depth=21, min_samples_leaf=21 ...............\n",
      "[CV]  criterion=gini, max_depth=21, min_samples_leaf=21, total=   0.0s\n",
      "[CV] criterion=gini, max_depth=21, min_samples_leaf=26 ...............\n",
      "[CV]  criterion=gini, max_depth=21, min_samples_leaf=26, total=   0.0s\n",
      "[CV] criterion=gini, max_depth=21, min_samples_leaf=26 ...............\n",
      "[CV]  criterion=gini, max_depth=21, min_samples_leaf=26, total=   0.0s\n",
      "[CV] criterion=gini, max_depth=21, min_samples_leaf=26 ...............\n",
      "[CV]  criterion=gini, max_depth=21, min_samples_leaf=26, total=   0.0s\n",
      "[CV] criterion=gini, max_depth=21, min_samples_leaf=26 ...............\n",
      "[CV]  criterion=gini, max_depth=21, min_samples_leaf=26, total=   0.0s\n",
      "[CV] criterion=gini, max_depth=21, min_samples_leaf=26 ...............\n",
      "[CV]  criterion=gini, max_depth=21, min_samples_leaf=26, total=   0.0s\n",
      "[CV] criterion=gini, max_depth=21, min_samples_leaf=31 ...............\n",
      "[CV]  criterion=gini, max_depth=21, min_samples_leaf=31, total=   0.0s\n",
      "[CV] criterion=gini, max_depth=21, min_samples_leaf=31 ...............\n",
      "[CV]  criterion=gini, max_depth=21, min_samples_leaf=31, total=   0.0s\n",
      "[CV] criterion=gini, max_depth=21, min_samples_leaf=31 ...............\n",
      "[CV]  criterion=gini, max_depth=21, min_samples_leaf=31, total=   0.0s\n",
      "[CV] criterion=gini, max_depth=21, min_samples_leaf=31 ...............\n",
      "[CV]  criterion=gini, max_depth=21, min_samples_leaf=31, total=   0.0s\n",
      "[CV] criterion=gini, max_depth=21, min_samples_leaf=31 ...............\n",
      "[CV]  criterion=gini, max_depth=21, min_samples_leaf=31, total=   0.0s\n",
      "[CV] criterion=gini, max_depth=21, min_samples_leaf=36 ...............\n",
      "[CV]  criterion=gini, max_depth=21, min_samples_leaf=36, total=   0.0s\n",
      "[CV] criterion=gini, max_depth=21, min_samples_leaf=36 ...............\n",
      "[CV]  criterion=gini, max_depth=21, min_samples_leaf=36, total=   0.0s\n",
      "[CV] criterion=gini, max_depth=21, min_samples_leaf=36 ...............\n",
      "[CV]  criterion=gini, max_depth=21, min_samples_leaf=36, total=   0.0s\n",
      "[CV] criterion=gini, max_depth=21, min_samples_leaf=36 ...............\n",
      "[CV]  criterion=gini, max_depth=21, min_samples_leaf=36, total=   0.0s\n",
      "[CV] criterion=gini, max_depth=21, min_samples_leaf=36 ...............\n",
      "[CV]  criterion=gini, max_depth=21, min_samples_leaf=36, total=   0.0s\n",
      "[CV] criterion=gini, max_depth=21, min_samples_leaf=41 ...............\n",
      "[CV]  criterion=gini, max_depth=21, min_samples_leaf=41, total=   0.0s\n",
      "[CV] criterion=gini, max_depth=21, min_samples_leaf=41 ...............\n",
      "[CV]  criterion=gini, max_depth=21, min_samples_leaf=41, total=   0.0s\n",
      "[CV] criterion=gini, max_depth=21, min_samples_leaf=41 ...............\n",
      "[CV]  criterion=gini, max_depth=21, min_samples_leaf=41, total=   0.0s\n",
      "[CV] criterion=gini, max_depth=21, min_samples_leaf=41 ...............\n",
      "[CV]  criterion=gini, max_depth=21, min_samples_leaf=41, total=   0.0s\n",
      "[CV] criterion=gini, max_depth=21, min_samples_leaf=41 ...............\n",
      "[CV]  criterion=gini, max_depth=21, min_samples_leaf=41, total=   0.0s\n",
      "[CV] criterion=gini, max_depth=21, min_samples_leaf=46 ...............\n",
      "[CV]  criterion=gini, max_depth=21, min_samples_leaf=46, total=   0.0s\n",
      "[CV] criterion=gini, max_depth=21, min_samples_leaf=46 ...............\n",
      "[CV]  criterion=gini, max_depth=21, min_samples_leaf=46, total=   0.0s\n",
      "[CV] criterion=gini, max_depth=21, min_samples_leaf=46 ...............\n",
      "[CV]  criterion=gini, max_depth=21, min_samples_leaf=46, total=   0.0s\n",
      "[CV] criterion=gini, max_depth=21, min_samples_leaf=46 ...............\n",
      "[CV]  criterion=gini, max_depth=21, min_samples_leaf=46, total=   0.0s\n",
      "[CV] criterion=gini, max_depth=21, min_samples_leaf=46 ...............\n",
      "[CV]  criterion=gini, max_depth=21, min_samples_leaf=46, total=   0.0s\n",
      "[CV] criterion=gini, max_depth=26, min_samples_leaf=1 ................\n",
      "[CV] . criterion=gini, max_depth=26, min_samples_leaf=1, total=   0.0s\n",
      "[CV] criterion=gini, max_depth=26, min_samples_leaf=1 ................\n",
      "[CV] . criterion=gini, max_depth=26, min_samples_leaf=1, total=   0.0s\n",
      "[CV] criterion=gini, max_depth=26, min_samples_leaf=1 ................\n",
      "[CV] . criterion=gini, max_depth=26, min_samples_leaf=1, total=   0.0s\n",
      "[CV] criterion=gini, max_depth=26, min_samples_leaf=1 ................\n",
      "[CV] . criterion=gini, max_depth=26, min_samples_leaf=1, total=   0.0s\n",
      "[CV] criterion=gini, max_depth=26, min_samples_leaf=1 ................\n",
      "[CV] . criterion=gini, max_depth=26, min_samples_leaf=1, total=   0.0s\n",
      "[CV] criterion=gini, max_depth=26, min_samples_leaf=6 ................\n",
      "[CV] . criterion=gini, max_depth=26, min_samples_leaf=6, total=   0.0s\n",
      "[CV] criterion=gini, max_depth=26, min_samples_leaf=6 ................\n",
      "[CV] . criterion=gini, max_depth=26, min_samples_leaf=6, total=   0.0s\n",
      "[CV] criterion=gini, max_depth=26, min_samples_leaf=6 ................\n",
      "[CV] . criterion=gini, max_depth=26, min_samples_leaf=6, total=   0.0s\n",
      "[CV] criterion=gini, max_depth=26, min_samples_leaf=6 ................\n",
      "[CV] . criterion=gini, max_depth=26, min_samples_leaf=6, total=   0.0s\n",
      "[CV] criterion=gini, max_depth=26, min_samples_leaf=6 ................\n",
      "[CV] . criterion=gini, max_depth=26, min_samples_leaf=6, total=   0.0s\n",
      "[CV] criterion=gini, max_depth=26, min_samples_leaf=11 ...............\n",
      "[CV]  criterion=gini, max_depth=26, min_samples_leaf=11, total=   0.0s\n",
      "[CV] criterion=gini, max_depth=26, min_samples_leaf=11 ...............\n",
      "[CV]  criterion=gini, max_depth=26, min_samples_leaf=11, total=   0.0s\n",
      "[CV] criterion=gini, max_depth=26, min_samples_leaf=11 ...............\n",
      "[CV]  criterion=gini, max_depth=26, min_samples_leaf=11, total=   0.0s\n",
      "[CV] criterion=gini, max_depth=26, min_samples_leaf=11 ...............\n",
      "[CV]  criterion=gini, max_depth=26, min_samples_leaf=11, total=   0.0s\n",
      "[CV] criterion=gini, max_depth=26, min_samples_leaf=11 ...............\n",
      "[CV]  criterion=gini, max_depth=26, min_samples_leaf=11, total=   0.0s\n",
      "[CV] criterion=gini, max_depth=26, min_samples_leaf=16 ...............\n",
      "[CV]  criterion=gini, max_depth=26, min_samples_leaf=16, total=   0.0s\n",
      "[CV] criterion=gini, max_depth=26, min_samples_leaf=16 ...............\n",
      "[CV]  criterion=gini, max_depth=26, min_samples_leaf=16, total=   0.0s\n",
      "[CV] criterion=gini, max_depth=26, min_samples_leaf=16 ...............\n",
      "[CV]  criterion=gini, max_depth=26, min_samples_leaf=16, total=   0.0s\n",
      "[CV] criterion=gini, max_depth=26, min_samples_leaf=16 ...............\n",
      "[CV]  criterion=gini, max_depth=26, min_samples_leaf=16, total=   0.0s\n",
      "[CV] criterion=gini, max_depth=26, min_samples_leaf=16 ...............\n",
      "[CV]  criterion=gini, max_depth=26, min_samples_leaf=16, total=   0.0s\n",
      "[CV] criterion=gini, max_depth=26, min_samples_leaf=21 ...............\n",
      "[CV]  criterion=gini, max_depth=26, min_samples_leaf=21, total=   0.0s\n",
      "[CV] criterion=gini, max_depth=26, min_samples_leaf=21 ...............\n",
      "[CV]  criterion=gini, max_depth=26, min_samples_leaf=21, total=   0.0s\n",
      "[CV] criterion=gini, max_depth=26, min_samples_leaf=21 ...............\n",
      "[CV]  criterion=gini, max_depth=26, min_samples_leaf=21, total=   0.0s\n",
      "[CV] criterion=gini, max_depth=26, min_samples_leaf=21 ...............\n",
      "[CV]  criterion=gini, max_depth=26, min_samples_leaf=21, total=   0.0s\n",
      "[CV] criterion=gini, max_depth=26, min_samples_leaf=21 ...............\n",
      "[CV]  criterion=gini, max_depth=26, min_samples_leaf=21, total=   0.0s\n",
      "[CV] criterion=gini, max_depth=26, min_samples_leaf=26 ...............\n",
      "[CV]  criterion=gini, max_depth=26, min_samples_leaf=26, total=   0.0s\n",
      "[CV] criterion=gini, max_depth=26, min_samples_leaf=26 ...............\n",
      "[CV]  criterion=gini, max_depth=26, min_samples_leaf=26, total=   0.0s\n",
      "[CV] criterion=gini, max_depth=26, min_samples_leaf=26 ...............\n",
      "[CV]  criterion=gini, max_depth=26, min_samples_leaf=26, total=   0.0s\n",
      "[CV] criterion=gini, max_depth=26, min_samples_leaf=26 ...............\n",
      "[CV]  criterion=gini, max_depth=26, min_samples_leaf=26, total=   0.0s\n",
      "[CV] criterion=gini, max_depth=26, min_samples_leaf=26 ...............\n",
      "[CV]  criterion=gini, max_depth=26, min_samples_leaf=26, total=   0.0s\n",
      "[CV] criterion=gini, max_depth=26, min_samples_leaf=31 ...............\n",
      "[CV]  criterion=gini, max_depth=26, min_samples_leaf=31, total=   0.0s\n",
      "[CV] criterion=gini, max_depth=26, min_samples_leaf=31 ...............\n",
      "[CV]  criterion=gini, max_depth=26, min_samples_leaf=31, total=   0.0s\n",
      "[CV] criterion=gini, max_depth=26, min_samples_leaf=31 ...............\n",
      "[CV]  criterion=gini, max_depth=26, min_samples_leaf=31, total=   0.0s\n",
      "[CV] criterion=gini, max_depth=26, min_samples_leaf=31 ...............\n",
      "[CV]  criterion=gini, max_depth=26, min_samples_leaf=31, total=   0.0s\n",
      "[CV] criterion=gini, max_depth=26, min_samples_leaf=31 ...............\n",
      "[CV]  criterion=gini, max_depth=26, min_samples_leaf=31, total=   0.0s\n",
      "[CV] criterion=gini, max_depth=26, min_samples_leaf=36 ...............\n",
      "[CV]  criterion=gini, max_depth=26, min_samples_leaf=36, total=   0.0s\n",
      "[CV] criterion=gini, max_depth=26, min_samples_leaf=36 ...............\n",
      "[CV]  criterion=gini, max_depth=26, min_samples_leaf=36, total=   0.0s\n",
      "[CV] criterion=gini, max_depth=26, min_samples_leaf=36 ...............\n",
      "[CV]  criterion=gini, max_depth=26, min_samples_leaf=36, total=   0.0s\n",
      "[CV] criterion=gini, max_depth=26, min_samples_leaf=36 ...............\n",
      "[CV]  criterion=gini, max_depth=26, min_samples_leaf=36, total=   0.0s\n",
      "[CV] criterion=gini, max_depth=26, min_samples_leaf=36 ...............\n",
      "[CV]  criterion=gini, max_depth=26, min_samples_leaf=36, total=   0.0s\n",
      "[CV] criterion=gini, max_depth=26, min_samples_leaf=41 ...............\n",
      "[CV]  criterion=gini, max_depth=26, min_samples_leaf=41, total=   0.0s\n",
      "[CV] criterion=gini, max_depth=26, min_samples_leaf=41 ...............\n",
      "[CV]  criterion=gini, max_depth=26, min_samples_leaf=41, total=   0.0s\n",
      "[CV] criterion=gini, max_depth=26, min_samples_leaf=41 ...............\n",
      "[CV]  criterion=gini, max_depth=26, min_samples_leaf=41, total=   0.0s\n",
      "[CV] criterion=gini, max_depth=26, min_samples_leaf=41 ...............\n",
      "[CV]  criterion=gini, max_depth=26, min_samples_leaf=41, total=   0.0s\n",
      "[CV] criterion=gini, max_depth=26, min_samples_leaf=41 ...............\n",
      "[CV]  criterion=gini, max_depth=26, min_samples_leaf=41, total=   0.0s\n",
      "[CV] criterion=gini, max_depth=26, min_samples_leaf=46 ...............\n",
      "[CV]  criterion=gini, max_depth=26, min_samples_leaf=46, total=   0.0s\n",
      "[CV] criterion=gini, max_depth=26, min_samples_leaf=46 ...............\n",
      "[CV]  criterion=gini, max_depth=26, min_samples_leaf=46, total=   0.0s\n",
      "[CV] criterion=gini, max_depth=26, min_samples_leaf=46 ...............\n",
      "[CV]  criterion=gini, max_depth=26, min_samples_leaf=46, total=   0.0s\n",
      "[CV] criterion=gini, max_depth=26, min_samples_leaf=46 ...............\n",
      "[CV]  criterion=gini, max_depth=26, min_samples_leaf=46, total=   0.0s\n",
      "[CV] criterion=gini, max_depth=26, min_samples_leaf=46 ...............\n",
      "[CV]  criterion=gini, max_depth=26, min_samples_leaf=46, total=   0.0s\n",
      "[CV] criterion=gini, max_depth=31, min_samples_leaf=1 ................\n",
      "[CV] . criterion=gini, max_depth=31, min_samples_leaf=1, total=   0.0s\n",
      "[CV] criterion=gini, max_depth=31, min_samples_leaf=1 ................\n",
      "[CV] . criterion=gini, max_depth=31, min_samples_leaf=1, total=   0.0s\n",
      "[CV] criterion=gini, max_depth=31, min_samples_leaf=1 ................\n",
      "[CV] . criterion=gini, max_depth=31, min_samples_leaf=1, total=   0.0s\n",
      "[CV] criterion=gini, max_depth=31, min_samples_leaf=1 ................\n",
      "[CV] . criterion=gini, max_depth=31, min_samples_leaf=1, total=   0.0s\n",
      "[CV] criterion=gini, max_depth=31, min_samples_leaf=1 ................\n",
      "[CV] . criterion=gini, max_depth=31, min_samples_leaf=1, total=   0.0s\n",
      "[CV] criterion=gini, max_depth=31, min_samples_leaf=6 ................\n",
      "[CV] . criterion=gini, max_depth=31, min_samples_leaf=6, total=   0.0s\n",
      "[CV] criterion=gini, max_depth=31, min_samples_leaf=6 ................\n",
      "[CV] . criterion=gini, max_depth=31, min_samples_leaf=6, total=   0.0s\n",
      "[CV] criterion=gini, max_depth=31, min_samples_leaf=6 ................\n",
      "[CV] . criterion=gini, max_depth=31, min_samples_leaf=6, total=   0.0s\n",
      "[CV] criterion=gini, max_depth=31, min_samples_leaf=6 ................\n",
      "[CV] . criterion=gini, max_depth=31, min_samples_leaf=6, total=   0.0s\n",
      "[CV] criterion=gini, max_depth=31, min_samples_leaf=6 ................\n",
      "[CV] . criterion=gini, max_depth=31, min_samples_leaf=6, total=   0.0s\n",
      "[CV] criterion=gini, max_depth=31, min_samples_leaf=11 ...............\n",
      "[CV]  criterion=gini, max_depth=31, min_samples_leaf=11, total=   0.0s\n",
      "[CV] criterion=gini, max_depth=31, min_samples_leaf=11 ...............\n",
      "[CV]  criterion=gini, max_depth=31, min_samples_leaf=11, total=   0.0s\n",
      "[CV] criterion=gini, max_depth=31, min_samples_leaf=11 ...............\n",
      "[CV]  criterion=gini, max_depth=31, min_samples_leaf=11, total=   0.0s\n",
      "[CV] criterion=gini, max_depth=31, min_samples_leaf=11 ...............\n",
      "[CV]  criterion=gini, max_depth=31, min_samples_leaf=11, total=   0.0s\n",
      "[CV] criterion=gini, max_depth=31, min_samples_leaf=11 ...............\n",
      "[CV]  criterion=gini, max_depth=31, min_samples_leaf=11, total=   0.0s\n",
      "[CV] criterion=gini, max_depth=31, min_samples_leaf=16 ...............\n",
      "[CV]  criterion=gini, max_depth=31, min_samples_leaf=16, total=   0.0s\n",
      "[CV] criterion=gini, max_depth=31, min_samples_leaf=16 ...............\n",
      "[CV]  criterion=gini, max_depth=31, min_samples_leaf=16, total=   0.0s\n",
      "[CV] criterion=gini, max_depth=31, min_samples_leaf=16 ...............\n",
      "[CV]  criterion=gini, max_depth=31, min_samples_leaf=16, total=   0.0s\n",
      "[CV] criterion=gini, max_depth=31, min_samples_leaf=16 ...............\n",
      "[CV]  criterion=gini, max_depth=31, min_samples_leaf=16, total=   0.0s\n",
      "[CV] criterion=gini, max_depth=31, min_samples_leaf=16 ...............\n",
      "[CV]  criterion=gini, max_depth=31, min_samples_leaf=16, total=   0.0s\n",
      "[CV] criterion=gini, max_depth=31, min_samples_leaf=21 ...............\n",
      "[CV]  criterion=gini, max_depth=31, min_samples_leaf=21, total=   0.0s\n",
      "[CV] criterion=gini, max_depth=31, min_samples_leaf=21 ...............\n",
      "[CV]  criterion=gini, max_depth=31, min_samples_leaf=21, total=   0.0s\n",
      "[CV] criterion=gini, max_depth=31, min_samples_leaf=21 ...............\n",
      "[CV]  criterion=gini, max_depth=31, min_samples_leaf=21, total=   0.0s\n",
      "[CV] criterion=gini, max_depth=31, min_samples_leaf=21 ...............\n",
      "[CV]  criterion=gini, max_depth=31, min_samples_leaf=21, total=   0.0s\n",
      "[CV] criterion=gini, max_depth=31, min_samples_leaf=21 ...............\n",
      "[CV]  criterion=gini, max_depth=31, min_samples_leaf=21, total=   0.0s\n",
      "[CV] criterion=gini, max_depth=31, min_samples_leaf=26 ...............\n",
      "[CV]  criterion=gini, max_depth=31, min_samples_leaf=26, total=   0.0s\n",
      "[CV] criterion=gini, max_depth=31, min_samples_leaf=26 ...............\n",
      "[CV]  criterion=gini, max_depth=31, min_samples_leaf=26, total=   0.0s\n",
      "[CV] criterion=gini, max_depth=31, min_samples_leaf=26 ...............\n",
      "[CV]  criterion=gini, max_depth=31, min_samples_leaf=26, total=   0.0s\n",
      "[CV] criterion=gini, max_depth=31, min_samples_leaf=26 ...............\n",
      "[CV]  criterion=gini, max_depth=31, min_samples_leaf=26, total=   0.0s\n",
      "[CV] criterion=gini, max_depth=31, min_samples_leaf=26 ...............\n",
      "[CV]  criterion=gini, max_depth=31, min_samples_leaf=26, total=   0.0s\n",
      "[CV] criterion=gini, max_depth=31, min_samples_leaf=31 ...............\n",
      "[CV]  criterion=gini, max_depth=31, min_samples_leaf=31, total=   0.0s\n",
      "[CV] criterion=gini, max_depth=31, min_samples_leaf=31 ...............\n",
      "[CV]  criterion=gini, max_depth=31, min_samples_leaf=31, total=   0.0s\n",
      "[CV] criterion=gini, max_depth=31, min_samples_leaf=31 ...............\n",
      "[CV]  criterion=gini, max_depth=31, min_samples_leaf=31, total=   0.0s\n",
      "[CV] criterion=gini, max_depth=31, min_samples_leaf=31 ...............\n",
      "[CV]  criterion=gini, max_depth=31, min_samples_leaf=31, total=   0.0s\n",
      "[CV] criterion=gini, max_depth=31, min_samples_leaf=31 ...............\n",
      "[CV]  criterion=gini, max_depth=31, min_samples_leaf=31, total=   0.0s\n",
      "[CV] criterion=gini, max_depth=31, min_samples_leaf=36 ...............\n",
      "[CV]  criterion=gini, max_depth=31, min_samples_leaf=36, total=   0.0s\n",
      "[CV] criterion=gini, max_depth=31, min_samples_leaf=36 ...............\n",
      "[CV]  criterion=gini, max_depth=31, min_samples_leaf=36, total=   0.0s\n",
      "[CV] criterion=gini, max_depth=31, min_samples_leaf=36 ...............\n",
      "[CV]  criterion=gini, max_depth=31, min_samples_leaf=36, total=   0.0s\n",
      "[CV] criterion=gini, max_depth=31, min_samples_leaf=36 ...............\n",
      "[CV]  criterion=gini, max_depth=31, min_samples_leaf=36, total=   0.0s\n",
      "[CV] criterion=gini, max_depth=31, min_samples_leaf=36 ...............\n",
      "[CV]  criterion=gini, max_depth=31, min_samples_leaf=36, total=   0.0s\n",
      "[CV] criterion=gini, max_depth=31, min_samples_leaf=41 ...............\n",
      "[CV]  criterion=gini, max_depth=31, min_samples_leaf=41, total=   0.0s\n",
      "[CV] criterion=gini, max_depth=31, min_samples_leaf=41 ...............\n",
      "[CV]  criterion=gini, max_depth=31, min_samples_leaf=41, total=   0.0s\n",
      "[CV] criterion=gini, max_depth=31, min_samples_leaf=41 ...............\n",
      "[CV]  criterion=gini, max_depth=31, min_samples_leaf=41, total=   0.0s\n",
      "[CV] criterion=gini, max_depth=31, min_samples_leaf=41 ...............\n",
      "[CV]  criterion=gini, max_depth=31, min_samples_leaf=41, total=   0.0s\n",
      "[CV] criterion=gini, max_depth=31, min_samples_leaf=41 ...............\n",
      "[CV]  criterion=gini, max_depth=31, min_samples_leaf=41, total=   0.0s\n",
      "[CV] criterion=gini, max_depth=31, min_samples_leaf=46 ...............\n",
      "[CV]  criterion=gini, max_depth=31, min_samples_leaf=46, total=   0.0s\n",
      "[CV] criterion=gini, max_depth=31, min_samples_leaf=46 ...............\n",
      "[CV]  criterion=gini, max_depth=31, min_samples_leaf=46, total=   0.0s\n",
      "[CV] criterion=gini, max_depth=31, min_samples_leaf=46 ...............\n",
      "[CV]  criterion=gini, max_depth=31, min_samples_leaf=46, total=   0.0s\n",
      "[CV] criterion=gini, max_depth=31, min_samples_leaf=46 ...............\n",
      "[CV]  criterion=gini, max_depth=31, min_samples_leaf=46, total=   0.0s\n",
      "[CV] criterion=gini, max_depth=31, min_samples_leaf=46 ...............\n",
      "[CV]  criterion=gini, max_depth=31, min_samples_leaf=46, total=   0.0s\n",
      "[CV] criterion=gini, max_depth=36, min_samples_leaf=1 ................\n",
      "[CV] . criterion=gini, max_depth=36, min_samples_leaf=1, total=   0.0s\n",
      "[CV] criterion=gini, max_depth=36, min_samples_leaf=1 ................\n",
      "[CV] . criterion=gini, max_depth=36, min_samples_leaf=1, total=   0.0s\n",
      "[CV] criterion=gini, max_depth=36, min_samples_leaf=1 ................\n",
      "[CV] . criterion=gini, max_depth=36, min_samples_leaf=1, total=   0.0s\n",
      "[CV] criterion=gini, max_depth=36, min_samples_leaf=1 ................\n",
      "[CV] . criterion=gini, max_depth=36, min_samples_leaf=1, total=   0.0s\n",
      "[CV] criterion=gini, max_depth=36, min_samples_leaf=1 ................\n",
      "[CV] . criterion=gini, max_depth=36, min_samples_leaf=1, total=   0.0s\n",
      "[CV] criterion=gini, max_depth=36, min_samples_leaf=6 ................\n",
      "[CV] . criterion=gini, max_depth=36, min_samples_leaf=6, total=   0.0s\n",
      "[CV] criterion=gini, max_depth=36, min_samples_leaf=6 ................\n",
      "[CV] . criterion=gini, max_depth=36, min_samples_leaf=6, total=   0.0s\n",
      "[CV] criterion=gini, max_depth=36, min_samples_leaf=6 ................\n",
      "[CV] . criterion=gini, max_depth=36, min_samples_leaf=6, total=   0.0s\n",
      "[CV] criterion=gini, max_depth=36, min_samples_leaf=6 ................\n",
      "[CV] . criterion=gini, max_depth=36, min_samples_leaf=6, total=   0.0s\n",
      "[CV] criterion=gini, max_depth=36, min_samples_leaf=6 ................\n",
      "[CV] . criterion=gini, max_depth=36, min_samples_leaf=6, total=   0.0s\n",
      "[CV] criterion=gini, max_depth=36, min_samples_leaf=11 ...............\n",
      "[CV]  criterion=gini, max_depth=36, min_samples_leaf=11, total=   0.0s\n",
      "[CV] criterion=gini, max_depth=36, min_samples_leaf=11 ...............\n",
      "[CV]  criterion=gini, max_depth=36, min_samples_leaf=11, total=   0.0s\n",
      "[CV] criterion=gini, max_depth=36, min_samples_leaf=11 ...............\n",
      "[CV]  criterion=gini, max_depth=36, min_samples_leaf=11, total=   0.0s\n",
      "[CV] criterion=gini, max_depth=36, min_samples_leaf=11 ...............\n",
      "[CV]  criterion=gini, max_depth=36, min_samples_leaf=11, total=   0.0s\n",
      "[CV] criterion=gini, max_depth=36, min_samples_leaf=11 ...............\n",
      "[CV]  criterion=gini, max_depth=36, min_samples_leaf=11, total=   0.0s\n",
      "[CV] criterion=gini, max_depth=36, min_samples_leaf=16 ...............\n",
      "[CV]  criterion=gini, max_depth=36, min_samples_leaf=16, total=   0.0s\n",
      "[CV] criterion=gini, max_depth=36, min_samples_leaf=16 ...............\n",
      "[CV]  criterion=gini, max_depth=36, min_samples_leaf=16, total=   0.0s\n",
      "[CV] criterion=gini, max_depth=36, min_samples_leaf=16 ...............\n",
      "[CV]  criterion=gini, max_depth=36, min_samples_leaf=16, total=   0.0s\n",
      "[CV] criterion=gini, max_depth=36, min_samples_leaf=16 ...............\n",
      "[CV]  criterion=gini, max_depth=36, min_samples_leaf=16, total=   0.0s\n",
      "[CV] criterion=gini, max_depth=36, min_samples_leaf=16 ...............\n",
      "[CV]  criterion=gini, max_depth=36, min_samples_leaf=16, total=   0.0s\n",
      "[CV] criterion=gini, max_depth=36, min_samples_leaf=21 ...............\n",
      "[CV]  criterion=gini, max_depth=36, min_samples_leaf=21, total=   0.0s\n",
      "[CV] criterion=gini, max_depth=36, min_samples_leaf=21 ...............\n",
      "[CV]  criterion=gini, max_depth=36, min_samples_leaf=21, total=   0.0s\n",
      "[CV] criterion=gini, max_depth=36, min_samples_leaf=21 ...............\n",
      "[CV]  criterion=gini, max_depth=36, min_samples_leaf=21, total=   0.0s\n",
      "[CV] criterion=gini, max_depth=36, min_samples_leaf=21 ...............\n",
      "[CV]  criterion=gini, max_depth=36, min_samples_leaf=21, total=   0.0s\n",
      "[CV] criterion=gini, max_depth=36, min_samples_leaf=21 ...............\n",
      "[CV]  criterion=gini, max_depth=36, min_samples_leaf=21, total=   0.0s\n",
      "[CV] criterion=gini, max_depth=36, min_samples_leaf=26 ...............\n",
      "[CV]  criterion=gini, max_depth=36, min_samples_leaf=26, total=   0.0s\n",
      "[CV] criterion=gini, max_depth=36, min_samples_leaf=26 ...............\n",
      "[CV]  criterion=gini, max_depth=36, min_samples_leaf=26, total=   0.0s\n",
      "[CV] criterion=gini, max_depth=36, min_samples_leaf=26 ...............\n",
      "[CV]  criterion=gini, max_depth=36, min_samples_leaf=26, total=   0.0s\n",
      "[CV] criterion=gini, max_depth=36, min_samples_leaf=26 ...............\n",
      "[CV]  criterion=gini, max_depth=36, min_samples_leaf=26, total=   0.0s\n",
      "[CV] criterion=gini, max_depth=36, min_samples_leaf=26 ...............\n",
      "[CV]  criterion=gini, max_depth=36, min_samples_leaf=26, total=   0.0s\n",
      "[CV] criterion=gini, max_depth=36, min_samples_leaf=31 ...............\n",
      "[CV]  criterion=gini, max_depth=36, min_samples_leaf=31, total=   0.0s\n",
      "[CV] criterion=gini, max_depth=36, min_samples_leaf=31 ...............\n",
      "[CV]  criterion=gini, max_depth=36, min_samples_leaf=31, total=   0.0s\n",
      "[CV] criterion=gini, max_depth=36, min_samples_leaf=31 ...............\n",
      "[CV]  criterion=gini, max_depth=36, min_samples_leaf=31, total=   0.0s\n",
      "[CV] criterion=gini, max_depth=36, min_samples_leaf=31 ...............\n",
      "[CV]  criterion=gini, max_depth=36, min_samples_leaf=31, total=   0.0s\n",
      "[CV] criterion=gini, max_depth=36, min_samples_leaf=31 ...............\n",
      "[CV]  criterion=gini, max_depth=36, min_samples_leaf=31, total=   0.0s\n",
      "[CV] criterion=gini, max_depth=36, min_samples_leaf=36 ...............\n",
      "[CV]  criterion=gini, max_depth=36, min_samples_leaf=36, total=   0.0s\n",
      "[CV] criterion=gini, max_depth=36, min_samples_leaf=36 ...............\n",
      "[CV]  criterion=gini, max_depth=36, min_samples_leaf=36, total=   0.0s\n",
      "[CV] criterion=gini, max_depth=36, min_samples_leaf=36 ...............\n",
      "[CV]  criterion=gini, max_depth=36, min_samples_leaf=36, total=   0.0s\n",
      "[CV] criterion=gini, max_depth=36, min_samples_leaf=36 ...............\n",
      "[CV]  criterion=gini, max_depth=36, min_samples_leaf=36, total=   0.0s\n",
      "[CV] criterion=gini, max_depth=36, min_samples_leaf=36 ...............\n",
      "[CV]  criterion=gini, max_depth=36, min_samples_leaf=36, total=   0.0s\n",
      "[CV] criterion=gini, max_depth=36, min_samples_leaf=41 ...............\n",
      "[CV]  criterion=gini, max_depth=36, min_samples_leaf=41, total=   0.0s\n",
      "[CV] criterion=gini, max_depth=36, min_samples_leaf=41 ...............\n",
      "[CV]  criterion=gini, max_depth=36, min_samples_leaf=41, total=   0.0s\n",
      "[CV] criterion=gini, max_depth=36, min_samples_leaf=41 ...............\n",
      "[CV]  criterion=gini, max_depth=36, min_samples_leaf=41, total=   0.0s\n",
      "[CV] criterion=gini, max_depth=36, min_samples_leaf=41 ...............\n",
      "[CV]  criterion=gini, max_depth=36, min_samples_leaf=41, total=   0.0s\n",
      "[CV] criterion=gini, max_depth=36, min_samples_leaf=41 ...............\n",
      "[CV]  criterion=gini, max_depth=36, min_samples_leaf=41, total=   0.0s\n",
      "[CV] criterion=gini, max_depth=36, min_samples_leaf=46 ...............\n",
      "[CV]  criterion=gini, max_depth=36, min_samples_leaf=46, total=   0.0s\n",
      "[CV] criterion=gini, max_depth=36, min_samples_leaf=46 ...............\n",
      "[CV]  criterion=gini, max_depth=36, min_samples_leaf=46, total=   0.0s\n",
      "[CV] criterion=gini, max_depth=36, min_samples_leaf=46 ...............\n",
      "[CV]  criterion=gini, max_depth=36, min_samples_leaf=46, total=   0.0s\n",
      "[CV] criterion=gini, max_depth=36, min_samples_leaf=46 ...............\n",
      "[CV]  criterion=gini, max_depth=36, min_samples_leaf=46, total=   0.0s\n",
      "[CV] criterion=gini, max_depth=36, min_samples_leaf=46 ...............\n",
      "[CV]  criterion=gini, max_depth=36, min_samples_leaf=46, total=   0.0s\n",
      "[CV] criterion=gini, max_depth=41, min_samples_leaf=1 ................\n",
      "[CV] . criterion=gini, max_depth=41, min_samples_leaf=1, total=   0.0s\n",
      "[CV] criterion=gini, max_depth=41, min_samples_leaf=1 ................\n",
      "[CV] . criterion=gini, max_depth=41, min_samples_leaf=1, total=   0.0s\n",
      "[CV] criterion=gini, max_depth=41, min_samples_leaf=1 ................\n",
      "[CV] . criterion=gini, max_depth=41, min_samples_leaf=1, total=   0.0s\n",
      "[CV] criterion=gini, max_depth=41, min_samples_leaf=1 ................\n",
      "[CV] . criterion=gini, max_depth=41, min_samples_leaf=1, total=   0.0s\n",
      "[CV] criterion=gini, max_depth=41, min_samples_leaf=1 ................\n",
      "[CV] . criterion=gini, max_depth=41, min_samples_leaf=1, total=   0.0s\n",
      "[CV] criterion=gini, max_depth=41, min_samples_leaf=6 ................\n",
      "[CV] . criterion=gini, max_depth=41, min_samples_leaf=6, total=   0.0s\n",
      "[CV] criterion=gini, max_depth=41, min_samples_leaf=6 ................\n",
      "[CV] . criterion=gini, max_depth=41, min_samples_leaf=6, total=   0.0s\n",
      "[CV] criterion=gini, max_depth=41, min_samples_leaf=6 ................\n",
      "[CV] . criterion=gini, max_depth=41, min_samples_leaf=6, total=   0.0s\n",
      "[CV] criterion=gini, max_depth=41, min_samples_leaf=6 ................\n",
      "[CV] . criterion=gini, max_depth=41, min_samples_leaf=6, total=   0.0s\n",
      "[CV] criterion=gini, max_depth=41, min_samples_leaf=6 ................\n",
      "[CV] . criterion=gini, max_depth=41, min_samples_leaf=6, total=   0.0s\n",
      "[CV] criterion=gini, max_depth=41, min_samples_leaf=11 ...............\n",
      "[CV]  criterion=gini, max_depth=41, min_samples_leaf=11, total=   0.0s\n",
      "[CV] criterion=gini, max_depth=41, min_samples_leaf=11 ...............\n",
      "[CV]  criterion=gini, max_depth=41, min_samples_leaf=11, total=   0.0s\n",
      "[CV] criterion=gini, max_depth=41, min_samples_leaf=11 ...............\n",
      "[CV]  criterion=gini, max_depth=41, min_samples_leaf=11, total=   0.0s\n",
      "[CV] criterion=gini, max_depth=41, min_samples_leaf=11 ...............\n",
      "[CV]  criterion=gini, max_depth=41, min_samples_leaf=11, total=   0.0s\n",
      "[CV] criterion=gini, max_depth=41, min_samples_leaf=11 ...............\n",
      "[CV]  criterion=gini, max_depth=41, min_samples_leaf=11, total=   0.0s\n",
      "[CV] criterion=gini, max_depth=41, min_samples_leaf=16 ...............\n",
      "[CV]  criterion=gini, max_depth=41, min_samples_leaf=16, total=   0.0s\n",
      "[CV] criterion=gini, max_depth=41, min_samples_leaf=16 ...............\n",
      "[CV]  criterion=gini, max_depth=41, min_samples_leaf=16, total=   0.0s\n",
      "[CV] criterion=gini, max_depth=41, min_samples_leaf=16 ...............\n",
      "[CV]  criterion=gini, max_depth=41, min_samples_leaf=16, total=   0.0s\n",
      "[CV] criterion=gini, max_depth=41, min_samples_leaf=16 ...............\n",
      "[CV]  criterion=gini, max_depth=41, min_samples_leaf=16, total=   0.0s\n",
      "[CV] criterion=gini, max_depth=41, min_samples_leaf=16 ...............\n",
      "[CV]  criterion=gini, max_depth=41, min_samples_leaf=16, total=   0.0s\n",
      "[CV] criterion=gini, max_depth=41, min_samples_leaf=21 ...............\n",
      "[CV]  criterion=gini, max_depth=41, min_samples_leaf=21, total=   0.0s\n",
      "[CV] criterion=gini, max_depth=41, min_samples_leaf=21 ...............\n",
      "[CV]  criterion=gini, max_depth=41, min_samples_leaf=21, total=   0.0s\n",
      "[CV] criterion=gini, max_depth=41, min_samples_leaf=21 ...............\n",
      "[CV]  criterion=gini, max_depth=41, min_samples_leaf=21, total=   0.0s\n",
      "[CV] criterion=gini, max_depth=41, min_samples_leaf=21 ...............\n",
      "[CV]  criterion=gini, max_depth=41, min_samples_leaf=21, total=   0.0s\n",
      "[CV] criterion=gini, max_depth=41, min_samples_leaf=21 ...............\n",
      "[CV]  criterion=gini, max_depth=41, min_samples_leaf=21, total=   0.0s\n",
      "[CV] criterion=gini, max_depth=41, min_samples_leaf=26 ...............\n",
      "[CV]  criterion=gini, max_depth=41, min_samples_leaf=26, total=   0.0s\n",
      "[CV] criterion=gini, max_depth=41, min_samples_leaf=26 ...............\n",
      "[CV]  criterion=gini, max_depth=41, min_samples_leaf=26, total=   0.0s\n",
      "[CV] criterion=gini, max_depth=41, min_samples_leaf=26 ...............\n",
      "[CV]  criterion=gini, max_depth=41, min_samples_leaf=26, total=   0.0s\n",
      "[CV] criterion=gini, max_depth=41, min_samples_leaf=26 ...............\n",
      "[CV]  criterion=gini, max_depth=41, min_samples_leaf=26, total=   0.0s\n",
      "[CV] criterion=gini, max_depth=41, min_samples_leaf=26 ...............\n",
      "[CV]  criterion=gini, max_depth=41, min_samples_leaf=26, total=   0.0s\n",
      "[CV] criterion=gini, max_depth=41, min_samples_leaf=31 ...............\n",
      "[CV]  criterion=gini, max_depth=41, min_samples_leaf=31, total=   0.0s\n",
      "[CV] criterion=gini, max_depth=41, min_samples_leaf=31 ...............\n",
      "[CV]  criterion=gini, max_depth=41, min_samples_leaf=31, total=   0.0s\n",
      "[CV] criterion=gini, max_depth=41, min_samples_leaf=31 ...............\n",
      "[CV]  criterion=gini, max_depth=41, min_samples_leaf=31, total=   0.0s\n",
      "[CV] criterion=gini, max_depth=41, min_samples_leaf=31 ...............\n",
      "[CV]  criterion=gini, max_depth=41, min_samples_leaf=31, total=   0.0s\n",
      "[CV] criterion=gini, max_depth=41, min_samples_leaf=31 ...............\n",
      "[CV]  criterion=gini, max_depth=41, min_samples_leaf=31, total=   0.0s\n",
      "[CV] criterion=gini, max_depth=41, min_samples_leaf=36 ...............\n",
      "[CV]  criterion=gini, max_depth=41, min_samples_leaf=36, total=   0.0s\n",
      "[CV] criterion=gini, max_depth=41, min_samples_leaf=36 ...............\n",
      "[CV]  criterion=gini, max_depth=41, min_samples_leaf=36, total=   0.0s\n",
      "[CV] criterion=gini, max_depth=41, min_samples_leaf=36 ...............\n",
      "[CV]  criterion=gini, max_depth=41, min_samples_leaf=36, total=   0.0s\n",
      "[CV] criterion=gini, max_depth=41, min_samples_leaf=36 ...............\n",
      "[CV]  criterion=gini, max_depth=41, min_samples_leaf=36, total=   0.0s\n",
      "[CV] criterion=gini, max_depth=41, min_samples_leaf=36 ...............\n",
      "[CV]  criterion=gini, max_depth=41, min_samples_leaf=36, total=   0.0s\n",
      "[CV] criterion=gini, max_depth=41, min_samples_leaf=41 ...............\n",
      "[CV]  criterion=gini, max_depth=41, min_samples_leaf=41, total=   0.0s\n",
      "[CV] criterion=gini, max_depth=41, min_samples_leaf=41 ...............\n",
      "[CV]  criterion=gini, max_depth=41, min_samples_leaf=41, total=   0.0s\n",
      "[CV] criterion=gini, max_depth=41, min_samples_leaf=41 ...............\n",
      "[CV]  criterion=gini, max_depth=41, min_samples_leaf=41, total=   0.0s\n",
      "[CV] criterion=gini, max_depth=41, min_samples_leaf=41 ...............\n",
      "[CV]  criterion=gini, max_depth=41, min_samples_leaf=41, total=   0.0s\n",
      "[CV] criterion=gini, max_depth=41, min_samples_leaf=41 ...............\n",
      "[CV]  criterion=gini, max_depth=41, min_samples_leaf=41, total=   0.0s\n",
      "[CV] criterion=gini, max_depth=41, min_samples_leaf=46 ...............\n",
      "[CV]  criterion=gini, max_depth=41, min_samples_leaf=46, total=   0.0s\n",
      "[CV] criterion=gini, max_depth=41, min_samples_leaf=46 ...............\n",
      "[CV]  criterion=gini, max_depth=41, min_samples_leaf=46, total=   0.0s\n",
      "[CV] criterion=gini, max_depth=41, min_samples_leaf=46 ...............\n",
      "[CV]  criterion=gini, max_depth=41, min_samples_leaf=46, total=   0.0s\n",
      "[CV] criterion=gini, max_depth=41, min_samples_leaf=46 ...............\n",
      "[CV]  criterion=gini, max_depth=41, min_samples_leaf=46, total=   0.0s\n",
      "[CV] criterion=gini, max_depth=41, min_samples_leaf=46 ...............\n",
      "[CV]  criterion=gini, max_depth=41, min_samples_leaf=46, total=   0.0s\n",
      "[CV] criterion=gini, max_depth=46, min_samples_leaf=1 ................\n",
      "[CV] . criterion=gini, max_depth=46, min_samples_leaf=1, total=   0.0s\n",
      "[CV] criterion=gini, max_depth=46, min_samples_leaf=1 ................\n",
      "[CV] . criterion=gini, max_depth=46, min_samples_leaf=1, total=   0.0s\n",
      "[CV] criterion=gini, max_depth=46, min_samples_leaf=1 ................\n",
      "[CV] . criterion=gini, max_depth=46, min_samples_leaf=1, total=   0.0s\n",
      "[CV] criterion=gini, max_depth=46, min_samples_leaf=1 ................\n",
      "[CV] . criterion=gini, max_depth=46, min_samples_leaf=1, total=   0.0s\n",
      "[CV] criterion=gini, max_depth=46, min_samples_leaf=1 ................\n",
      "[CV] . criterion=gini, max_depth=46, min_samples_leaf=1, total=   0.0s\n",
      "[CV] criterion=gini, max_depth=46, min_samples_leaf=6 ................\n",
      "[CV] . criterion=gini, max_depth=46, min_samples_leaf=6, total=   0.0s\n",
      "[CV] criterion=gini, max_depth=46, min_samples_leaf=6 ................\n",
      "[CV] . criterion=gini, max_depth=46, min_samples_leaf=6, total=   0.0s\n",
      "[CV] criterion=gini, max_depth=46, min_samples_leaf=6 ................\n",
      "[CV] . criterion=gini, max_depth=46, min_samples_leaf=6, total=   0.0s\n",
      "[CV] criterion=gini, max_depth=46, min_samples_leaf=6 ................\n",
      "[CV] . criterion=gini, max_depth=46, min_samples_leaf=6, total=   0.0s\n",
      "[CV] criterion=gini, max_depth=46, min_samples_leaf=6 ................\n",
      "[CV] . criterion=gini, max_depth=46, min_samples_leaf=6, total=   0.0s\n",
      "[CV] criterion=gini, max_depth=46, min_samples_leaf=11 ...............\n",
      "[CV]  criterion=gini, max_depth=46, min_samples_leaf=11, total=   0.0s\n",
      "[CV] criterion=gini, max_depth=46, min_samples_leaf=11 ...............\n",
      "[CV]  criterion=gini, max_depth=46, min_samples_leaf=11, total=   0.0s\n",
      "[CV] criterion=gini, max_depth=46, min_samples_leaf=11 ...............\n",
      "[CV]  criterion=gini, max_depth=46, min_samples_leaf=11, total=   0.0s\n",
      "[CV] criterion=gini, max_depth=46, min_samples_leaf=11 ...............\n",
      "[CV]  criterion=gini, max_depth=46, min_samples_leaf=11, total=   0.0s\n",
      "[CV] criterion=gini, max_depth=46, min_samples_leaf=11 ...............\n",
      "[CV]  criterion=gini, max_depth=46, min_samples_leaf=11, total=   0.0s\n",
      "[CV] criterion=gini, max_depth=46, min_samples_leaf=16 ...............\n",
      "[CV]  criterion=gini, max_depth=46, min_samples_leaf=16, total=   0.0s\n",
      "[CV] criterion=gini, max_depth=46, min_samples_leaf=16 ...............\n",
      "[CV]  criterion=gini, max_depth=46, min_samples_leaf=16, total=   0.0s\n",
      "[CV] criterion=gini, max_depth=46, min_samples_leaf=16 ...............\n",
      "[CV]  criterion=gini, max_depth=46, min_samples_leaf=16, total=   0.0s\n",
      "[CV] criterion=gini, max_depth=46, min_samples_leaf=16 ...............\n",
      "[CV]  criterion=gini, max_depth=46, min_samples_leaf=16, total=   0.0s\n",
      "[CV] criterion=gini, max_depth=46, min_samples_leaf=16 ...............\n",
      "[CV]  criterion=gini, max_depth=46, min_samples_leaf=16, total=   0.0s\n",
      "[CV] criterion=gini, max_depth=46, min_samples_leaf=21 ...............\n",
      "[CV]  criterion=gini, max_depth=46, min_samples_leaf=21, total=   0.0s\n",
      "[CV] criterion=gini, max_depth=46, min_samples_leaf=21 ...............\n",
      "[CV]  criterion=gini, max_depth=46, min_samples_leaf=21, total=   0.0s\n",
      "[CV] criterion=gini, max_depth=46, min_samples_leaf=21 ...............\n",
      "[CV]  criterion=gini, max_depth=46, min_samples_leaf=21, total=   0.0s\n",
      "[CV] criterion=gini, max_depth=46, min_samples_leaf=21 ...............\n",
      "[CV]  criterion=gini, max_depth=46, min_samples_leaf=21, total=   0.0s\n",
      "[CV] criterion=gini, max_depth=46, min_samples_leaf=21 ...............\n",
      "[CV]  criterion=gini, max_depth=46, min_samples_leaf=21, total=   0.0s\n",
      "[CV] criterion=gini, max_depth=46, min_samples_leaf=26 ...............\n",
      "[CV]  criterion=gini, max_depth=46, min_samples_leaf=26, total=   0.0s\n",
      "[CV] criterion=gini, max_depth=46, min_samples_leaf=26 ...............\n",
      "[CV]  criterion=gini, max_depth=46, min_samples_leaf=26, total=   0.0s\n",
      "[CV] criterion=gini, max_depth=46, min_samples_leaf=26 ...............\n",
      "[CV]  criterion=gini, max_depth=46, min_samples_leaf=26, total=   0.0s\n",
      "[CV] criterion=gini, max_depth=46, min_samples_leaf=26 ...............\n",
      "[CV]  criterion=gini, max_depth=46, min_samples_leaf=26, total=   0.0s\n",
      "[CV] criterion=gini, max_depth=46, min_samples_leaf=26 ...............\n",
      "[CV]  criterion=gini, max_depth=46, min_samples_leaf=26, total=   0.0s\n",
      "[CV] criterion=gini, max_depth=46, min_samples_leaf=31 ...............\n",
      "[CV]  criterion=gini, max_depth=46, min_samples_leaf=31, total=   0.0s\n",
      "[CV] criterion=gini, max_depth=46, min_samples_leaf=31 ...............\n",
      "[CV]  criterion=gini, max_depth=46, min_samples_leaf=31, total=   0.0s\n",
      "[CV] criterion=gini, max_depth=46, min_samples_leaf=31 ...............\n",
      "[CV]  criterion=gini, max_depth=46, min_samples_leaf=31, total=   0.0s\n",
      "[CV] criterion=gini, max_depth=46, min_samples_leaf=31 ...............\n",
      "[CV]  criterion=gini, max_depth=46, min_samples_leaf=31, total=   0.0s\n",
      "[CV] criterion=gini, max_depth=46, min_samples_leaf=31 ...............\n",
      "[CV]  criterion=gini, max_depth=46, min_samples_leaf=31, total=   0.0s\n",
      "[CV] criterion=gini, max_depth=46, min_samples_leaf=36 ...............\n",
      "[CV]  criterion=gini, max_depth=46, min_samples_leaf=36, total=   0.0s\n",
      "[CV] criterion=gini, max_depth=46, min_samples_leaf=36 ...............\n",
      "[CV]  criterion=gini, max_depth=46, min_samples_leaf=36, total=   0.0s\n",
      "[CV] criterion=gini, max_depth=46, min_samples_leaf=36 ...............\n",
      "[CV]  criterion=gini, max_depth=46, min_samples_leaf=36, total=   0.0s\n",
      "[CV] criterion=gini, max_depth=46, min_samples_leaf=36 ...............\n",
      "[CV]  criterion=gini, max_depth=46, min_samples_leaf=36, total=   0.0s\n",
      "[CV] criterion=gini, max_depth=46, min_samples_leaf=36 ...............\n",
      "[CV]  criterion=gini, max_depth=46, min_samples_leaf=36, total=   0.0s\n",
      "[CV] criterion=gini, max_depth=46, min_samples_leaf=41 ...............\n",
      "[CV]  criterion=gini, max_depth=46, min_samples_leaf=41, total=   0.0s\n",
      "[CV] criterion=gini, max_depth=46, min_samples_leaf=41 ...............\n",
      "[CV]  criterion=gini, max_depth=46, min_samples_leaf=41, total=   0.0s\n",
      "[CV] criterion=gini, max_depth=46, min_samples_leaf=41 ...............\n",
      "[CV]  criterion=gini, max_depth=46, min_samples_leaf=41, total=   0.0s\n",
      "[CV] criterion=gini, max_depth=46, min_samples_leaf=41 ...............\n",
      "[CV]  criterion=gini, max_depth=46, min_samples_leaf=41, total=   0.0s\n",
      "[CV] criterion=gini, max_depth=46, min_samples_leaf=41 ...............\n",
      "[CV]  criterion=gini, max_depth=46, min_samples_leaf=41, total=   0.0s\n",
      "[CV] criterion=gini, max_depth=46, min_samples_leaf=46 ...............\n",
      "[CV]  criterion=gini, max_depth=46, min_samples_leaf=46, total=   0.0s\n",
      "[CV] criterion=gini, max_depth=46, min_samples_leaf=46 ...............\n",
      "[CV]  criterion=gini, max_depth=46, min_samples_leaf=46, total=   0.0s\n",
      "[CV] criterion=gini, max_depth=46, min_samples_leaf=46 ...............\n",
      "[CV]  criterion=gini, max_depth=46, min_samples_leaf=46, total=   0.0s\n",
      "[CV] criterion=gini, max_depth=46, min_samples_leaf=46 ...............\n",
      "[CV]  criterion=gini, max_depth=46, min_samples_leaf=46, total=   0.0s\n",
      "[CV] criterion=gini, max_depth=46, min_samples_leaf=46 ...............\n",
      "[CV]  criterion=gini, max_depth=46, min_samples_leaf=46, total=   0.0s\n",
      "[CV] criterion=entropy, max_depth=1, min_samples_leaf=1 ..............\n",
      "[CV]  criterion=entropy, max_depth=1, min_samples_leaf=1, total=   0.0s\n",
      "[CV] criterion=entropy, max_depth=1, min_samples_leaf=1 ..............\n",
      "[CV]  criterion=entropy, max_depth=1, min_samples_leaf=1, total=   0.0s\n",
      "[CV] criterion=entropy, max_depth=1, min_samples_leaf=1 ..............\n",
      "[CV]  criterion=entropy, max_depth=1, min_samples_leaf=1, total=   0.0s\n",
      "[CV] criterion=entropy, max_depth=1, min_samples_leaf=1 ..............\n",
      "[CV]  criterion=entropy, max_depth=1, min_samples_leaf=1, total=   0.0s\n",
      "[CV] criterion=entropy, max_depth=1, min_samples_leaf=1 ..............\n",
      "[CV]  criterion=entropy, max_depth=1, min_samples_leaf=1, total=   0.0s\n",
      "[CV] criterion=entropy, max_depth=1, min_samples_leaf=6 ..............\n",
      "[CV]  criterion=entropy, max_depth=1, min_samples_leaf=6, total=   0.0s\n",
      "[CV] criterion=entropy, max_depth=1, min_samples_leaf=6 ..............\n",
      "[CV]  criterion=entropy, max_depth=1, min_samples_leaf=6, total=   0.0s\n",
      "[CV] criterion=entropy, max_depth=1, min_samples_leaf=6 ..............\n",
      "[CV]  criterion=entropy, max_depth=1, min_samples_leaf=6, total=   0.0s\n",
      "[CV] criterion=entropy, max_depth=1, min_samples_leaf=6 ..............\n",
      "[CV]  criterion=entropy, max_depth=1, min_samples_leaf=6, total=   0.0s\n",
      "[CV] criterion=entropy, max_depth=1, min_samples_leaf=6 ..............\n",
      "[CV]  criterion=entropy, max_depth=1, min_samples_leaf=6, total=   0.0s\n",
      "[CV] criterion=entropy, max_depth=1, min_samples_leaf=11 .............\n",
      "[CV]  criterion=entropy, max_depth=1, min_samples_leaf=11, total=   0.0s\n",
      "[CV] criterion=entropy, max_depth=1, min_samples_leaf=11 .............\n",
      "[CV]  criterion=entropy, max_depth=1, min_samples_leaf=11, total=   0.0s\n",
      "[CV] criterion=entropy, max_depth=1, min_samples_leaf=11 .............\n",
      "[CV]  criterion=entropy, max_depth=1, min_samples_leaf=11, total=   0.0s\n",
      "[CV] criterion=entropy, max_depth=1, min_samples_leaf=11 .............\n",
      "[CV]  criterion=entropy, max_depth=1, min_samples_leaf=11, total=   0.0s\n",
      "[CV] criterion=entropy, max_depth=1, min_samples_leaf=11 .............\n",
      "[CV]  criterion=entropy, max_depth=1, min_samples_leaf=11, total=   0.0s\n",
      "[CV] criterion=entropy, max_depth=1, min_samples_leaf=16 .............\n",
      "[CV]  criterion=entropy, max_depth=1, min_samples_leaf=16, total=   0.0s\n",
      "[CV] criterion=entropy, max_depth=1, min_samples_leaf=16 .............\n",
      "[CV]  criterion=entropy, max_depth=1, min_samples_leaf=16, total=   0.0s\n",
      "[CV] criterion=entropy, max_depth=1, min_samples_leaf=16 .............\n",
      "[CV]  criterion=entropy, max_depth=1, min_samples_leaf=16, total=   0.0s\n",
      "[CV] criterion=entropy, max_depth=1, min_samples_leaf=16 .............\n",
      "[CV]  criterion=entropy, max_depth=1, min_samples_leaf=16, total=   0.0s\n",
      "[CV] criterion=entropy, max_depth=1, min_samples_leaf=16 .............\n",
      "[CV]  criterion=entropy, max_depth=1, min_samples_leaf=16, total=   0.0s\n",
      "[CV] criterion=entropy, max_depth=1, min_samples_leaf=21 .............\n",
      "[CV]  criterion=entropy, max_depth=1, min_samples_leaf=21, total=   0.0s\n",
      "[CV] criterion=entropy, max_depth=1, min_samples_leaf=21 .............\n",
      "[CV]  criterion=entropy, max_depth=1, min_samples_leaf=21, total=   0.0s\n",
      "[CV] criterion=entropy, max_depth=1, min_samples_leaf=21 .............\n",
      "[CV]  criterion=entropy, max_depth=1, min_samples_leaf=21, total=   0.0s\n",
      "[CV] criterion=entropy, max_depth=1, min_samples_leaf=21 .............\n",
      "[CV]  criterion=entropy, max_depth=1, min_samples_leaf=21, total=   0.0s\n",
      "[CV] criterion=entropy, max_depth=1, min_samples_leaf=21 .............\n",
      "[CV]  criterion=entropy, max_depth=1, min_samples_leaf=21, total=   0.0s\n",
      "[CV] criterion=entropy, max_depth=1, min_samples_leaf=26 .............\n",
      "[CV]  criterion=entropy, max_depth=1, min_samples_leaf=26, total=   0.0s\n",
      "[CV] criterion=entropy, max_depth=1, min_samples_leaf=26 .............\n",
      "[CV]  criterion=entropy, max_depth=1, min_samples_leaf=26, total=   0.0s\n",
      "[CV] criterion=entropy, max_depth=1, min_samples_leaf=26 .............\n",
      "[CV]  criterion=entropy, max_depth=1, min_samples_leaf=26, total=   0.0s\n",
      "[CV] criterion=entropy, max_depth=1, min_samples_leaf=26 .............\n",
      "[CV]  criterion=entropy, max_depth=1, min_samples_leaf=26, total=   0.0s\n",
      "[CV] criterion=entropy, max_depth=1, min_samples_leaf=26 .............\n",
      "[CV]  criterion=entropy, max_depth=1, min_samples_leaf=26, total=   0.0s\n",
      "[CV] criterion=entropy, max_depth=1, min_samples_leaf=31 .............\n",
      "[CV]  criterion=entropy, max_depth=1, min_samples_leaf=31, total=   0.0s\n",
      "[CV] criterion=entropy, max_depth=1, min_samples_leaf=31 .............\n",
      "[CV]  criterion=entropy, max_depth=1, min_samples_leaf=31, total=   0.0s\n",
      "[CV] criterion=entropy, max_depth=1, min_samples_leaf=31 .............\n",
      "[CV]  criterion=entropy, max_depth=1, min_samples_leaf=31, total=   0.0s\n",
      "[CV] criterion=entropy, max_depth=1, min_samples_leaf=31 .............\n",
      "[CV]  criterion=entropy, max_depth=1, min_samples_leaf=31, total=   0.0s\n",
      "[CV] criterion=entropy, max_depth=1, min_samples_leaf=31 .............\n",
      "[CV]  criterion=entropy, max_depth=1, min_samples_leaf=31, total=   0.0s\n",
      "[CV] criterion=entropy, max_depth=1, min_samples_leaf=36 .............\n",
      "[CV]  criterion=entropy, max_depth=1, min_samples_leaf=36, total=   0.0s\n",
      "[CV] criterion=entropy, max_depth=1, min_samples_leaf=36 .............\n",
      "[CV]  criterion=entropy, max_depth=1, min_samples_leaf=36, total=   0.0s\n",
      "[CV] criterion=entropy, max_depth=1, min_samples_leaf=36 .............\n",
      "[CV]  criterion=entropy, max_depth=1, min_samples_leaf=36, total=   0.0s\n",
      "[CV] criterion=entropy, max_depth=1, min_samples_leaf=36 .............\n",
      "[CV]  criterion=entropy, max_depth=1, min_samples_leaf=36, total=   0.0s\n",
      "[CV] criterion=entropy, max_depth=1, min_samples_leaf=36 .............\n",
      "[CV]  criterion=entropy, max_depth=1, min_samples_leaf=36, total=   0.0s\n",
      "[CV] criterion=entropy, max_depth=1, min_samples_leaf=41 .............\n",
      "[CV]  criterion=entropy, max_depth=1, min_samples_leaf=41, total=   0.0s\n",
      "[CV] criterion=entropy, max_depth=1, min_samples_leaf=41 .............\n",
      "[CV]  criterion=entropy, max_depth=1, min_samples_leaf=41, total=   0.0s\n",
      "[CV] criterion=entropy, max_depth=1, min_samples_leaf=41 .............\n",
      "[CV]  criterion=entropy, max_depth=1, min_samples_leaf=41, total=   0.0s\n",
      "[CV] criterion=entropy, max_depth=1, min_samples_leaf=41 .............\n",
      "[CV]  criterion=entropy, max_depth=1, min_samples_leaf=41, total=   0.0s\n",
      "[CV] criterion=entropy, max_depth=1, min_samples_leaf=41 .............\n",
      "[CV]  criterion=entropy, max_depth=1, min_samples_leaf=41, total=   0.0s\n",
      "[CV] criterion=entropy, max_depth=1, min_samples_leaf=46 .............\n",
      "[CV]  criterion=entropy, max_depth=1, min_samples_leaf=46, total=   0.0s\n",
      "[CV] criterion=entropy, max_depth=1, min_samples_leaf=46 .............\n",
      "[CV]  criterion=entropy, max_depth=1, min_samples_leaf=46, total=   0.0s\n",
      "[CV] criterion=entropy, max_depth=1, min_samples_leaf=46 .............\n",
      "[CV]  criterion=entropy, max_depth=1, min_samples_leaf=46, total=   0.0s\n",
      "[CV] criterion=entropy, max_depth=1, min_samples_leaf=46 .............\n",
      "[CV]  criterion=entropy, max_depth=1, min_samples_leaf=46, total=   0.0s\n",
      "[CV] criterion=entropy, max_depth=1, min_samples_leaf=46 .............\n",
      "[CV]  criterion=entropy, max_depth=1, min_samples_leaf=46, total=   0.0s\n",
      "[CV] criterion=entropy, max_depth=6, min_samples_leaf=1 ..............\n",
      "[CV]  criterion=entropy, max_depth=6, min_samples_leaf=1, total=   0.0s\n",
      "[CV] criterion=entropy, max_depth=6, min_samples_leaf=1 ..............\n",
      "[CV]  criterion=entropy, max_depth=6, min_samples_leaf=1, total=   0.0s\n",
      "[CV] criterion=entropy, max_depth=6, min_samples_leaf=1 ..............\n",
      "[CV]  criterion=entropy, max_depth=6, min_samples_leaf=1, total=   0.0s\n",
      "[CV] criterion=entropy, max_depth=6, min_samples_leaf=1 ..............\n",
      "[CV]  criterion=entropy, max_depth=6, min_samples_leaf=1, total=   0.0s\n",
      "[CV] criterion=entropy, max_depth=6, min_samples_leaf=1 ..............\n",
      "[CV]  criterion=entropy, max_depth=6, min_samples_leaf=1, total=   0.0s\n",
      "[CV] criterion=entropy, max_depth=6, min_samples_leaf=6 ..............\n",
      "[CV]  criterion=entropy, max_depth=6, min_samples_leaf=6, total=   0.0s\n",
      "[CV] criterion=entropy, max_depth=6, min_samples_leaf=6 ..............\n",
      "[CV]  criterion=entropy, max_depth=6, min_samples_leaf=6, total=   0.0s\n",
      "[CV] criterion=entropy, max_depth=6, min_samples_leaf=6 ..............\n",
      "[CV]  criterion=entropy, max_depth=6, min_samples_leaf=6, total=   0.0s\n",
      "[CV] criterion=entropy, max_depth=6, min_samples_leaf=6 ..............\n",
      "[CV]  criterion=entropy, max_depth=6, min_samples_leaf=6, total=   0.0s\n",
      "[CV] criterion=entropy, max_depth=6, min_samples_leaf=6 ..............\n",
      "[CV]  criterion=entropy, max_depth=6, min_samples_leaf=6, total=   0.0s\n",
      "[CV] criterion=entropy, max_depth=6, min_samples_leaf=11 .............\n",
      "[CV]  criterion=entropy, max_depth=6, min_samples_leaf=11, total=   0.0s\n",
      "[CV] criterion=entropy, max_depth=6, min_samples_leaf=11 .............\n",
      "[CV]  criterion=entropy, max_depth=6, min_samples_leaf=11, total=   0.0s\n",
      "[CV] criterion=entropy, max_depth=6, min_samples_leaf=11 .............\n",
      "[CV]  criterion=entropy, max_depth=6, min_samples_leaf=11, total=   0.0s\n",
      "[CV] criterion=entropy, max_depth=6, min_samples_leaf=11 .............\n",
      "[CV]  criterion=entropy, max_depth=6, min_samples_leaf=11, total=   0.0s\n",
      "[CV] criterion=entropy, max_depth=6, min_samples_leaf=11 .............\n",
      "[CV]  criterion=entropy, max_depth=6, min_samples_leaf=11, total=   0.0s\n",
      "[CV] criterion=entropy, max_depth=6, min_samples_leaf=16 .............\n",
      "[CV]  criterion=entropy, max_depth=6, min_samples_leaf=16, total=   0.0s\n",
      "[CV] criterion=entropy, max_depth=6, min_samples_leaf=16 .............\n",
      "[CV]  criterion=entropy, max_depth=6, min_samples_leaf=16, total=   0.0s\n",
      "[CV] criterion=entropy, max_depth=6, min_samples_leaf=16 .............\n",
      "[CV]  criterion=entropy, max_depth=6, min_samples_leaf=16, total=   0.0s\n",
      "[CV] criterion=entropy, max_depth=6, min_samples_leaf=16 .............\n",
      "[CV]  criterion=entropy, max_depth=6, min_samples_leaf=16, total=   0.0s\n",
      "[CV] criterion=entropy, max_depth=6, min_samples_leaf=16 .............\n",
      "[CV]  criterion=entropy, max_depth=6, min_samples_leaf=16, total=   0.0s\n",
      "[CV] criterion=entropy, max_depth=6, min_samples_leaf=21 .............\n",
      "[CV]  criterion=entropy, max_depth=6, min_samples_leaf=21, total=   0.0s\n",
      "[CV] criterion=entropy, max_depth=6, min_samples_leaf=21 .............\n",
      "[CV]  criterion=entropy, max_depth=6, min_samples_leaf=21, total=   0.0s\n",
      "[CV] criterion=entropy, max_depth=6, min_samples_leaf=21 .............\n",
      "[CV]  criterion=entropy, max_depth=6, min_samples_leaf=21, total=   0.0s\n",
      "[CV] criterion=entropy, max_depth=6, min_samples_leaf=21 .............\n",
      "[CV]  criterion=entropy, max_depth=6, min_samples_leaf=21, total=   0.0s\n",
      "[CV] criterion=entropy, max_depth=6, min_samples_leaf=21 .............\n",
      "[CV]  criterion=entropy, max_depth=6, min_samples_leaf=21, total=   0.0s\n",
      "[CV] criterion=entropy, max_depth=6, min_samples_leaf=26 .............\n",
      "[CV]  criterion=entropy, max_depth=6, min_samples_leaf=26, total=   0.0s\n",
      "[CV] criterion=entropy, max_depth=6, min_samples_leaf=26 .............\n",
      "[CV]  criterion=entropy, max_depth=6, min_samples_leaf=26, total=   0.0s\n",
      "[CV] criterion=entropy, max_depth=6, min_samples_leaf=26 .............\n",
      "[CV]  criterion=entropy, max_depth=6, min_samples_leaf=26, total=   0.0s\n",
      "[CV] criterion=entropy, max_depth=6, min_samples_leaf=26 .............\n",
      "[CV]  criterion=entropy, max_depth=6, min_samples_leaf=26, total=   0.0s\n",
      "[CV] criterion=entropy, max_depth=6, min_samples_leaf=26 .............\n",
      "[CV]  criterion=entropy, max_depth=6, min_samples_leaf=26, total=   0.0s\n",
      "[CV] criterion=entropy, max_depth=6, min_samples_leaf=31 .............\n",
      "[CV]  criterion=entropy, max_depth=6, min_samples_leaf=31, total=   0.0s\n",
      "[CV] criterion=entropy, max_depth=6, min_samples_leaf=31 .............\n",
      "[CV]  criterion=entropy, max_depth=6, min_samples_leaf=31, total=   0.0s\n",
      "[CV] criterion=entropy, max_depth=6, min_samples_leaf=31 .............\n",
      "[CV]  criterion=entropy, max_depth=6, min_samples_leaf=31, total=   0.0s\n",
      "[CV] criterion=entropy, max_depth=6, min_samples_leaf=31 .............\n",
      "[CV]  criterion=entropy, max_depth=6, min_samples_leaf=31, total=   0.0s\n",
      "[CV] criterion=entropy, max_depth=6, min_samples_leaf=31 .............\n",
      "[CV]  criterion=entropy, max_depth=6, min_samples_leaf=31, total=   0.0s\n",
      "[CV] criterion=entropy, max_depth=6, min_samples_leaf=36 .............\n",
      "[CV]  criterion=entropy, max_depth=6, min_samples_leaf=36, total=   0.0s\n",
      "[CV] criterion=entropy, max_depth=6, min_samples_leaf=36 .............\n",
      "[CV]  criterion=entropy, max_depth=6, min_samples_leaf=36, total=   0.0s\n",
      "[CV] criterion=entropy, max_depth=6, min_samples_leaf=36 .............\n",
      "[CV]  criterion=entropy, max_depth=6, min_samples_leaf=36, total=   0.0s\n",
      "[CV] criterion=entropy, max_depth=6, min_samples_leaf=36 .............\n",
      "[CV]  criterion=entropy, max_depth=6, min_samples_leaf=36, total=   0.0s\n",
      "[CV] criterion=entropy, max_depth=6, min_samples_leaf=36 .............\n",
      "[CV]  criterion=entropy, max_depth=6, min_samples_leaf=36, total=   0.0s\n",
      "[CV] criterion=entropy, max_depth=6, min_samples_leaf=41 .............\n",
      "[CV]  criterion=entropy, max_depth=6, min_samples_leaf=41, total=   0.0s\n",
      "[CV] criterion=entropy, max_depth=6, min_samples_leaf=41 .............\n",
      "[CV]  criterion=entropy, max_depth=6, min_samples_leaf=41, total=   0.0s\n",
      "[CV] criterion=entropy, max_depth=6, min_samples_leaf=41 .............\n",
      "[CV]  criterion=entropy, max_depth=6, min_samples_leaf=41, total=   0.0s\n",
      "[CV] criterion=entropy, max_depth=6, min_samples_leaf=41 .............\n",
      "[CV]  criterion=entropy, max_depth=6, min_samples_leaf=41, total=   0.0s\n",
      "[CV] criterion=entropy, max_depth=6, min_samples_leaf=41 .............\n",
      "[CV]  criterion=entropy, max_depth=6, min_samples_leaf=41, total=   0.0s\n",
      "[CV] criterion=entropy, max_depth=6, min_samples_leaf=46 .............\n",
      "[CV]  criterion=entropy, max_depth=6, min_samples_leaf=46, total=   0.0s\n",
      "[CV] criterion=entropy, max_depth=6, min_samples_leaf=46 .............\n",
      "[CV]  criterion=entropy, max_depth=6, min_samples_leaf=46, total=   0.0s\n",
      "[CV] criterion=entropy, max_depth=6, min_samples_leaf=46 .............\n",
      "[CV]  criterion=entropy, max_depth=6, min_samples_leaf=46, total=   0.0s\n",
      "[CV] criterion=entropy, max_depth=6, min_samples_leaf=46 .............\n",
      "[CV]  criterion=entropy, max_depth=6, min_samples_leaf=46, total=   0.0s\n",
      "[CV] criterion=entropy, max_depth=6, min_samples_leaf=46 .............\n",
      "[CV]  criterion=entropy, max_depth=6, min_samples_leaf=46, total=   0.0s\n",
      "[CV] criterion=entropy, max_depth=11, min_samples_leaf=1 .............\n",
      "[CV]  criterion=entropy, max_depth=11, min_samples_leaf=1, total=   0.0s\n",
      "[CV] criterion=entropy, max_depth=11, min_samples_leaf=1 .............\n",
      "[CV]  criterion=entropy, max_depth=11, min_samples_leaf=1, total=   0.0s\n",
      "[CV] criterion=entropy, max_depth=11, min_samples_leaf=1 .............\n",
      "[CV]  criterion=entropy, max_depth=11, min_samples_leaf=1, total=   0.0s\n",
      "[CV] criterion=entropy, max_depth=11, min_samples_leaf=1 .............\n",
      "[CV]  criterion=entropy, max_depth=11, min_samples_leaf=1, total=   0.0s\n",
      "[CV] criterion=entropy, max_depth=11, min_samples_leaf=1 .............\n",
      "[CV]  criterion=entropy, max_depth=11, min_samples_leaf=1, total=   0.0s\n",
      "[CV] criterion=entropy, max_depth=11, min_samples_leaf=6 .............\n",
      "[CV]  criterion=entropy, max_depth=11, min_samples_leaf=6, total=   0.0s\n",
      "[CV] criterion=entropy, max_depth=11, min_samples_leaf=6 .............\n",
      "[CV]  criterion=entropy, max_depth=11, min_samples_leaf=6, total=   0.0s\n",
      "[CV] criterion=entropy, max_depth=11, min_samples_leaf=6 .............\n",
      "[CV]  criterion=entropy, max_depth=11, min_samples_leaf=6, total=   0.0s\n",
      "[CV] criterion=entropy, max_depth=11, min_samples_leaf=6 .............\n",
      "[CV]  criterion=entropy, max_depth=11, min_samples_leaf=6, total=   0.0s\n",
      "[CV] criterion=entropy, max_depth=11, min_samples_leaf=6 .............\n",
      "[CV]  criterion=entropy, max_depth=11, min_samples_leaf=6, total=   0.0s\n",
      "[CV] criterion=entropy, max_depth=11, min_samples_leaf=11 ............\n",
      "[CV]  criterion=entropy, max_depth=11, min_samples_leaf=11, total=   0.0s\n",
      "[CV] criterion=entropy, max_depth=11, min_samples_leaf=11 ............\n",
      "[CV]  criterion=entropy, max_depth=11, min_samples_leaf=11, total=   0.0s\n",
      "[CV] criterion=entropy, max_depth=11, min_samples_leaf=11 ............\n",
      "[CV]  criterion=entropy, max_depth=11, min_samples_leaf=11, total=   0.0s\n",
      "[CV] criterion=entropy, max_depth=11, min_samples_leaf=11 ............\n",
      "[CV]  criterion=entropy, max_depth=11, min_samples_leaf=11, total=   0.0s\n",
      "[CV] criterion=entropy, max_depth=11, min_samples_leaf=11 ............\n",
      "[CV]  criterion=entropy, max_depth=11, min_samples_leaf=11, total=   0.0s\n",
      "[CV] criterion=entropy, max_depth=11, min_samples_leaf=16 ............\n",
      "[CV]  criterion=entropy, max_depth=11, min_samples_leaf=16, total=   0.0s\n",
      "[CV] criterion=entropy, max_depth=11, min_samples_leaf=16 ............\n",
      "[CV]  criterion=entropy, max_depth=11, min_samples_leaf=16, total=   0.0s\n",
      "[CV] criterion=entropy, max_depth=11, min_samples_leaf=16 ............\n",
      "[CV]  criterion=entropy, max_depth=11, min_samples_leaf=16, total=   0.0s\n",
      "[CV] criterion=entropy, max_depth=11, min_samples_leaf=16 ............\n",
      "[CV]  criterion=entropy, max_depth=11, min_samples_leaf=16, total=   0.0s\n",
      "[CV] criterion=entropy, max_depth=11, min_samples_leaf=16 ............\n",
      "[CV]  criterion=entropy, max_depth=11, min_samples_leaf=16, total=   0.0s\n",
      "[CV] criterion=entropy, max_depth=11, min_samples_leaf=21 ............\n",
      "[CV]  criterion=entropy, max_depth=11, min_samples_leaf=21, total=   0.0s\n",
      "[CV] criterion=entropy, max_depth=11, min_samples_leaf=21 ............\n",
      "[CV]  criterion=entropy, max_depth=11, min_samples_leaf=21, total=   0.0s\n",
      "[CV] criterion=entropy, max_depth=11, min_samples_leaf=21 ............\n",
      "[CV]  criterion=entropy, max_depth=11, min_samples_leaf=21, total=   0.0s\n",
      "[CV] criterion=entropy, max_depth=11, min_samples_leaf=21 ............\n",
      "[CV]  criterion=entropy, max_depth=11, min_samples_leaf=21, total=   0.0s\n",
      "[CV] criterion=entropy, max_depth=11, min_samples_leaf=21 ............\n",
      "[CV]  criterion=entropy, max_depth=11, min_samples_leaf=21, total=   0.0s\n",
      "[CV] criterion=entropy, max_depth=11, min_samples_leaf=26 ............\n",
      "[CV]  criterion=entropy, max_depth=11, min_samples_leaf=26, total=   0.0s\n",
      "[CV] criterion=entropy, max_depth=11, min_samples_leaf=26 ............\n",
      "[CV]  criterion=entropy, max_depth=11, min_samples_leaf=26, total=   0.0s\n",
      "[CV] criterion=entropy, max_depth=11, min_samples_leaf=26 ............\n",
      "[CV]  criterion=entropy, max_depth=11, min_samples_leaf=26, total=   0.0s\n",
      "[CV] criterion=entropy, max_depth=11, min_samples_leaf=26 ............\n",
      "[CV]  criterion=entropy, max_depth=11, min_samples_leaf=26, total=   0.0s\n",
      "[CV] criterion=entropy, max_depth=11, min_samples_leaf=26 ............\n",
      "[CV]  criterion=entropy, max_depth=11, min_samples_leaf=26, total=   0.0s\n",
      "[CV] criterion=entropy, max_depth=11, min_samples_leaf=31 ............\n",
      "[CV]  criterion=entropy, max_depth=11, min_samples_leaf=31, total=   0.0s\n",
      "[CV] criterion=entropy, max_depth=11, min_samples_leaf=31 ............\n",
      "[CV]  criterion=entropy, max_depth=11, min_samples_leaf=31, total=   0.0s\n",
      "[CV] criterion=entropy, max_depth=11, min_samples_leaf=31 ............\n",
      "[CV]  criterion=entropy, max_depth=11, min_samples_leaf=31, total=   0.0s\n",
      "[CV] criterion=entropy, max_depth=11, min_samples_leaf=31 ............\n",
      "[CV]  criterion=entropy, max_depth=11, min_samples_leaf=31, total=   0.0s\n",
      "[CV] criterion=entropy, max_depth=11, min_samples_leaf=31 ............\n",
      "[CV]  criterion=entropy, max_depth=11, min_samples_leaf=31, total=   0.0s\n",
      "[CV] criterion=entropy, max_depth=11, min_samples_leaf=36 ............\n",
      "[CV]  criterion=entropy, max_depth=11, min_samples_leaf=36, total=   0.0s\n",
      "[CV] criterion=entropy, max_depth=11, min_samples_leaf=36 ............\n",
      "[CV]  criterion=entropy, max_depth=11, min_samples_leaf=36, total=   0.0s\n",
      "[CV] criterion=entropy, max_depth=11, min_samples_leaf=36 ............\n",
      "[CV]  criterion=entropy, max_depth=11, min_samples_leaf=36, total=   0.0s\n",
      "[CV] criterion=entropy, max_depth=11, min_samples_leaf=36 ............\n",
      "[CV]  criterion=entropy, max_depth=11, min_samples_leaf=36, total=   0.0s\n",
      "[CV] criterion=entropy, max_depth=11, min_samples_leaf=36 ............\n",
      "[CV]  criterion=entropy, max_depth=11, min_samples_leaf=36, total=   0.0s\n",
      "[CV] criterion=entropy, max_depth=11, min_samples_leaf=41 ............\n",
      "[CV]  criterion=entropy, max_depth=11, min_samples_leaf=41, total=   0.0s\n",
      "[CV] criterion=entropy, max_depth=11, min_samples_leaf=41 ............\n",
      "[CV]  criterion=entropy, max_depth=11, min_samples_leaf=41, total=   0.0s\n",
      "[CV] criterion=entropy, max_depth=11, min_samples_leaf=41 ............\n",
      "[CV]  criterion=entropy, max_depth=11, min_samples_leaf=41, total=   0.0s\n",
      "[CV] criterion=entropy, max_depth=11, min_samples_leaf=41 ............\n",
      "[CV]  criterion=entropy, max_depth=11, min_samples_leaf=41, total=   0.0s\n",
      "[CV] criterion=entropy, max_depth=11, min_samples_leaf=41 ............\n",
      "[CV]  criterion=entropy, max_depth=11, min_samples_leaf=41, total=   0.0s\n",
      "[CV] criterion=entropy, max_depth=11, min_samples_leaf=46 ............\n",
      "[CV]  criterion=entropy, max_depth=11, min_samples_leaf=46, total=   0.0s\n",
      "[CV] criterion=entropy, max_depth=11, min_samples_leaf=46 ............\n",
      "[CV]  criterion=entropy, max_depth=11, min_samples_leaf=46, total=   0.0s\n",
      "[CV] criterion=entropy, max_depth=11, min_samples_leaf=46 ............\n",
      "[CV]  criterion=entropy, max_depth=11, min_samples_leaf=46, total=   0.0s\n",
      "[CV] criterion=entropy, max_depth=11, min_samples_leaf=46 ............\n",
      "[CV]  criterion=entropy, max_depth=11, min_samples_leaf=46, total=   0.0s\n",
      "[CV] criterion=entropy, max_depth=11, min_samples_leaf=46 ............\n",
      "[CV]  criterion=entropy, max_depth=11, min_samples_leaf=46, total=   0.0s\n",
      "[CV] criterion=entropy, max_depth=16, min_samples_leaf=1 .............\n",
      "[CV]  criterion=entropy, max_depth=16, min_samples_leaf=1, total=   0.0s\n",
      "[CV] criterion=entropy, max_depth=16, min_samples_leaf=1 .............\n",
      "[CV]  criterion=entropy, max_depth=16, min_samples_leaf=1, total=   0.0s\n",
      "[CV] criterion=entropy, max_depth=16, min_samples_leaf=1 .............\n",
      "[CV]  criterion=entropy, max_depth=16, min_samples_leaf=1, total=   0.0s\n",
      "[CV] criterion=entropy, max_depth=16, min_samples_leaf=1 .............\n",
      "[CV]  criterion=entropy, max_depth=16, min_samples_leaf=1, total=   0.0s\n",
      "[CV] criterion=entropy, max_depth=16, min_samples_leaf=1 .............\n",
      "[CV]  criterion=entropy, max_depth=16, min_samples_leaf=1, total=   0.0s\n",
      "[CV] criterion=entropy, max_depth=16, min_samples_leaf=6 .............\n",
      "[CV]  criterion=entropy, max_depth=16, min_samples_leaf=6, total=   0.0s\n",
      "[CV] criterion=entropy, max_depth=16, min_samples_leaf=6 .............\n",
      "[CV]  criterion=entropy, max_depth=16, min_samples_leaf=6, total=   0.0s\n",
      "[CV] criterion=entropy, max_depth=16, min_samples_leaf=6 .............\n",
      "[CV]  criterion=entropy, max_depth=16, min_samples_leaf=6, total=   0.0s\n",
      "[CV] criterion=entropy, max_depth=16, min_samples_leaf=6 .............\n",
      "[CV]  criterion=entropy, max_depth=16, min_samples_leaf=6, total=   0.0s\n",
      "[CV] criterion=entropy, max_depth=16, min_samples_leaf=6 .............\n",
      "[CV]  criterion=entropy, max_depth=16, min_samples_leaf=6, total=   0.0s\n",
      "[CV] criterion=entropy, max_depth=16, min_samples_leaf=11 ............\n",
      "[CV]  criterion=entropy, max_depth=16, min_samples_leaf=11, total=   0.0s\n",
      "[CV] criterion=entropy, max_depth=16, min_samples_leaf=11 ............\n",
      "[CV]  criterion=entropy, max_depth=16, min_samples_leaf=11, total=   0.0s\n",
      "[CV] criterion=entropy, max_depth=16, min_samples_leaf=11 ............\n",
      "[CV]  criterion=entropy, max_depth=16, min_samples_leaf=11, total=   0.0s\n",
      "[CV] criterion=entropy, max_depth=16, min_samples_leaf=11 ............\n",
      "[CV]  criterion=entropy, max_depth=16, min_samples_leaf=11, total=   0.0s\n",
      "[CV] criterion=entropy, max_depth=16, min_samples_leaf=11 ............\n",
      "[CV]  criterion=entropy, max_depth=16, min_samples_leaf=11, total=   0.0s\n",
      "[CV] criterion=entropy, max_depth=16, min_samples_leaf=16 ............\n",
      "[CV]  criterion=entropy, max_depth=16, min_samples_leaf=16, total=   0.0s\n",
      "[CV] criterion=entropy, max_depth=16, min_samples_leaf=16 ............\n",
      "[CV]  criterion=entropy, max_depth=16, min_samples_leaf=16, total=   0.0s\n",
      "[CV] criterion=entropy, max_depth=16, min_samples_leaf=16 ............\n",
      "[CV]  criterion=entropy, max_depth=16, min_samples_leaf=16, total=   0.0s\n",
      "[CV] criterion=entropy, max_depth=16, min_samples_leaf=16 ............\n",
      "[CV]  criterion=entropy, max_depth=16, min_samples_leaf=16, total=   0.0s\n",
      "[CV] criterion=entropy, max_depth=16, min_samples_leaf=16 ............\n",
      "[CV]  criterion=entropy, max_depth=16, min_samples_leaf=16, total=   0.0s\n",
      "[CV] criterion=entropy, max_depth=16, min_samples_leaf=21 ............\n",
      "[CV]  criterion=entropy, max_depth=16, min_samples_leaf=21, total=   0.0s\n",
      "[CV] criterion=entropy, max_depth=16, min_samples_leaf=21 ............\n",
      "[CV]  criterion=entropy, max_depth=16, min_samples_leaf=21, total=   0.0s\n",
      "[CV] criterion=entropy, max_depth=16, min_samples_leaf=21 ............\n",
      "[CV]  criterion=entropy, max_depth=16, min_samples_leaf=21, total=   0.0s\n",
      "[CV] criterion=entropy, max_depth=16, min_samples_leaf=21 ............\n",
      "[CV]  criterion=entropy, max_depth=16, min_samples_leaf=21, total=   0.0s\n",
      "[CV] criterion=entropy, max_depth=16, min_samples_leaf=21 ............\n",
      "[CV]  criterion=entropy, max_depth=16, min_samples_leaf=21, total=   0.0s\n",
      "[CV] criterion=entropy, max_depth=16, min_samples_leaf=26 ............\n",
      "[CV]  criterion=entropy, max_depth=16, min_samples_leaf=26, total=   0.0s\n",
      "[CV] criterion=entropy, max_depth=16, min_samples_leaf=26 ............\n",
      "[CV]  criterion=entropy, max_depth=16, min_samples_leaf=26, total=   0.0s\n",
      "[CV] criterion=entropy, max_depth=16, min_samples_leaf=26 ............\n",
      "[CV]  criterion=entropy, max_depth=16, min_samples_leaf=26, total=   0.0s\n",
      "[CV] criterion=entropy, max_depth=16, min_samples_leaf=26 ............\n",
      "[CV]  criterion=entropy, max_depth=16, min_samples_leaf=26, total=   0.0s\n",
      "[CV] criterion=entropy, max_depth=16, min_samples_leaf=26 ............\n",
      "[CV]  criterion=entropy, max_depth=16, min_samples_leaf=26, total=   0.0s\n",
      "[CV] criterion=entropy, max_depth=16, min_samples_leaf=31 ............\n",
      "[CV]  criterion=entropy, max_depth=16, min_samples_leaf=31, total=   0.0s\n",
      "[CV] criterion=entropy, max_depth=16, min_samples_leaf=31 ............\n",
      "[CV]  criterion=entropy, max_depth=16, min_samples_leaf=31, total=   0.0s\n",
      "[CV] criterion=entropy, max_depth=16, min_samples_leaf=31 ............\n",
      "[CV]  criterion=entropy, max_depth=16, min_samples_leaf=31, total=   0.0s\n",
      "[CV] criterion=entropy, max_depth=16, min_samples_leaf=31 ............\n",
      "[CV]  criterion=entropy, max_depth=16, min_samples_leaf=31, total=   0.0s\n",
      "[CV] criterion=entropy, max_depth=16, min_samples_leaf=31 ............\n",
      "[CV]  criterion=entropy, max_depth=16, min_samples_leaf=31, total=   0.0s\n",
      "[CV] criterion=entropy, max_depth=16, min_samples_leaf=36 ............\n",
      "[CV]  criterion=entropy, max_depth=16, min_samples_leaf=36, total=   0.0s\n",
      "[CV] criterion=entropy, max_depth=16, min_samples_leaf=36 ............\n",
      "[CV]  criterion=entropy, max_depth=16, min_samples_leaf=36, total=   0.0s\n",
      "[CV] criterion=entropy, max_depth=16, min_samples_leaf=36 ............\n",
      "[CV]  criterion=entropy, max_depth=16, min_samples_leaf=36, total=   0.0s\n",
      "[CV] criterion=entropy, max_depth=16, min_samples_leaf=36 ............\n",
      "[CV]  criterion=entropy, max_depth=16, min_samples_leaf=36, total=   0.0s\n",
      "[CV] criterion=entropy, max_depth=16, min_samples_leaf=36 ............\n",
      "[CV]  criterion=entropy, max_depth=16, min_samples_leaf=36, total=   0.0s\n",
      "[CV] criterion=entropy, max_depth=16, min_samples_leaf=41 ............\n",
      "[CV]  criterion=entropy, max_depth=16, min_samples_leaf=41, total=   0.0s\n",
      "[CV] criterion=entropy, max_depth=16, min_samples_leaf=41 ............\n",
      "[CV]  criterion=entropy, max_depth=16, min_samples_leaf=41, total=   0.0s\n",
      "[CV] criterion=entropy, max_depth=16, min_samples_leaf=41 ............\n",
      "[CV]  criterion=entropy, max_depth=16, min_samples_leaf=41, total=   0.0s\n",
      "[CV] criterion=entropy, max_depth=16, min_samples_leaf=41 ............\n",
      "[CV]  criterion=entropy, max_depth=16, min_samples_leaf=41, total=   0.0s\n",
      "[CV] criterion=entropy, max_depth=16, min_samples_leaf=41 ............\n",
      "[CV]  criterion=entropy, max_depth=16, min_samples_leaf=41, total=   0.0s\n",
      "[CV] criterion=entropy, max_depth=16, min_samples_leaf=46 ............\n",
      "[CV]  criterion=entropy, max_depth=16, min_samples_leaf=46, total=   0.0s\n",
      "[CV] criterion=entropy, max_depth=16, min_samples_leaf=46 ............\n",
      "[CV]  criterion=entropy, max_depth=16, min_samples_leaf=46, total=   0.0s\n",
      "[CV] criterion=entropy, max_depth=16, min_samples_leaf=46 ............\n",
      "[CV]  criterion=entropy, max_depth=16, min_samples_leaf=46, total=   0.0s\n",
      "[CV] criterion=entropy, max_depth=16, min_samples_leaf=46 ............\n",
      "[CV]  criterion=entropy, max_depth=16, min_samples_leaf=46, total=   0.0s\n",
      "[CV] criterion=entropy, max_depth=16, min_samples_leaf=46 ............\n",
      "[CV]  criterion=entropy, max_depth=16, min_samples_leaf=46, total=   0.0s\n",
      "[CV] criterion=entropy, max_depth=21, min_samples_leaf=1 .............\n",
      "[CV]  criterion=entropy, max_depth=21, min_samples_leaf=1, total=   0.0s\n",
      "[CV] criterion=entropy, max_depth=21, min_samples_leaf=1 .............\n",
      "[CV]  criterion=entropy, max_depth=21, min_samples_leaf=1, total=   0.0s\n",
      "[CV] criterion=entropy, max_depth=21, min_samples_leaf=1 .............\n",
      "[CV]  criterion=entropy, max_depth=21, min_samples_leaf=1, total=   0.0s\n",
      "[CV] criterion=entropy, max_depth=21, min_samples_leaf=1 .............\n",
      "[CV]  criterion=entropy, max_depth=21, min_samples_leaf=1, total=   0.0s\n",
      "[CV] criterion=entropy, max_depth=21, min_samples_leaf=1 .............\n",
      "[CV]  criterion=entropy, max_depth=21, min_samples_leaf=1, total=   0.0s\n",
      "[CV] criterion=entropy, max_depth=21, min_samples_leaf=6 .............\n",
      "[CV]  criterion=entropy, max_depth=21, min_samples_leaf=6, total=   0.0s\n",
      "[CV] criterion=entropy, max_depth=21, min_samples_leaf=6 .............\n",
      "[CV]  criterion=entropy, max_depth=21, min_samples_leaf=6, total=   0.0s\n",
      "[CV] criterion=entropy, max_depth=21, min_samples_leaf=6 .............\n",
      "[CV]  criterion=entropy, max_depth=21, min_samples_leaf=6, total=   0.0s\n",
      "[CV] criterion=entropy, max_depth=21, min_samples_leaf=6 .............\n",
      "[CV]  criterion=entropy, max_depth=21, min_samples_leaf=6, total=   0.0s\n",
      "[CV] criterion=entropy, max_depth=21, min_samples_leaf=6 .............\n",
      "[CV]  criterion=entropy, max_depth=21, min_samples_leaf=6, total=   0.0s\n",
      "[CV] criterion=entropy, max_depth=21, min_samples_leaf=11 ............\n",
      "[CV]  criterion=entropy, max_depth=21, min_samples_leaf=11, total=   0.0s\n",
      "[CV] criterion=entropy, max_depth=21, min_samples_leaf=11 ............\n",
      "[CV]  criterion=entropy, max_depth=21, min_samples_leaf=11, total=   0.0s\n",
      "[CV] criterion=entropy, max_depth=21, min_samples_leaf=11 ............\n",
      "[CV]  criterion=entropy, max_depth=21, min_samples_leaf=11, total=   0.0s\n",
      "[CV] criterion=entropy, max_depth=21, min_samples_leaf=11 ............\n",
      "[CV]  criterion=entropy, max_depth=21, min_samples_leaf=11, total=   0.0s\n",
      "[CV] criterion=entropy, max_depth=21, min_samples_leaf=11 ............\n",
      "[CV]  criterion=entropy, max_depth=21, min_samples_leaf=11, total=   0.0s\n",
      "[CV] criterion=entropy, max_depth=21, min_samples_leaf=16 ............\n",
      "[CV]  criterion=entropy, max_depth=21, min_samples_leaf=16, total=   0.0s\n",
      "[CV] criterion=entropy, max_depth=21, min_samples_leaf=16 ............\n",
      "[CV]  criterion=entropy, max_depth=21, min_samples_leaf=16, total=   0.0s\n",
      "[CV] criterion=entropy, max_depth=21, min_samples_leaf=16 ............\n",
      "[CV]  criterion=entropy, max_depth=21, min_samples_leaf=16, total=   0.0s\n",
      "[CV] criterion=entropy, max_depth=21, min_samples_leaf=16 ............\n",
      "[CV]  criterion=entropy, max_depth=21, min_samples_leaf=16, total=   0.0s\n",
      "[CV] criterion=entropy, max_depth=21, min_samples_leaf=16 ............\n",
      "[CV]  criterion=entropy, max_depth=21, min_samples_leaf=16, total=   0.0s\n",
      "[CV] criterion=entropy, max_depth=21, min_samples_leaf=21 ............\n",
      "[CV]  criterion=entropy, max_depth=21, min_samples_leaf=21, total=   0.0s\n",
      "[CV] criterion=entropy, max_depth=21, min_samples_leaf=21 ............\n",
      "[CV]  criterion=entropy, max_depth=21, min_samples_leaf=21, total=   0.0s\n",
      "[CV] criterion=entropy, max_depth=21, min_samples_leaf=21 ............\n",
      "[CV]  criterion=entropy, max_depth=21, min_samples_leaf=21, total=   0.0s\n",
      "[CV] criterion=entropy, max_depth=21, min_samples_leaf=21 ............\n",
      "[CV]  criterion=entropy, max_depth=21, min_samples_leaf=21, total=   0.0s\n",
      "[CV] criterion=entropy, max_depth=21, min_samples_leaf=21 ............\n",
      "[CV]  criterion=entropy, max_depth=21, min_samples_leaf=21, total=   0.0s\n",
      "[CV] criterion=entropy, max_depth=21, min_samples_leaf=26 ............\n",
      "[CV]  criterion=entropy, max_depth=21, min_samples_leaf=26, total=   0.0s\n",
      "[CV] criterion=entropy, max_depth=21, min_samples_leaf=26 ............\n",
      "[CV]  criterion=entropy, max_depth=21, min_samples_leaf=26, total=   0.0s\n",
      "[CV] criterion=entropy, max_depth=21, min_samples_leaf=26 ............\n",
      "[CV]  criterion=entropy, max_depth=21, min_samples_leaf=26, total=   0.0s\n",
      "[CV] criterion=entropy, max_depth=21, min_samples_leaf=26 ............\n",
      "[CV]  criterion=entropy, max_depth=21, min_samples_leaf=26, total=   0.0s\n",
      "[CV] criterion=entropy, max_depth=21, min_samples_leaf=26 ............\n",
      "[CV]  criterion=entropy, max_depth=21, min_samples_leaf=26, total=   0.0s\n",
      "[CV] criterion=entropy, max_depth=21, min_samples_leaf=31 ............\n",
      "[CV]  criterion=entropy, max_depth=21, min_samples_leaf=31, total=   0.0s\n",
      "[CV] criterion=entropy, max_depth=21, min_samples_leaf=31 ............\n",
      "[CV]  criterion=entropy, max_depth=21, min_samples_leaf=31, total=   0.0s\n",
      "[CV] criterion=entropy, max_depth=21, min_samples_leaf=31 ............\n",
      "[CV]  criterion=entropy, max_depth=21, min_samples_leaf=31, total=   0.0s\n",
      "[CV] criterion=entropy, max_depth=21, min_samples_leaf=31 ............\n",
      "[CV]  criterion=entropy, max_depth=21, min_samples_leaf=31, total=   0.0s\n",
      "[CV] criterion=entropy, max_depth=21, min_samples_leaf=31 ............\n",
      "[CV]  criterion=entropy, max_depth=21, min_samples_leaf=31, total=   0.0s\n",
      "[CV] criterion=entropy, max_depth=21, min_samples_leaf=36 ............\n",
      "[CV]  criterion=entropy, max_depth=21, min_samples_leaf=36, total=   0.0s\n",
      "[CV] criterion=entropy, max_depth=21, min_samples_leaf=36 ............\n",
      "[CV]  criterion=entropy, max_depth=21, min_samples_leaf=36, total=   0.0s\n",
      "[CV] criterion=entropy, max_depth=21, min_samples_leaf=36 ............\n",
      "[CV]  criterion=entropy, max_depth=21, min_samples_leaf=36, total=   0.0s\n",
      "[CV] criterion=entropy, max_depth=21, min_samples_leaf=36 ............\n",
      "[CV]  criterion=entropy, max_depth=21, min_samples_leaf=36, total=   0.0s\n",
      "[CV] criterion=entropy, max_depth=21, min_samples_leaf=36 ............\n",
      "[CV]  criterion=entropy, max_depth=21, min_samples_leaf=36, total=   0.0s\n",
      "[CV] criterion=entropy, max_depth=21, min_samples_leaf=41 ............\n",
      "[CV]  criterion=entropy, max_depth=21, min_samples_leaf=41, total=   0.0s\n",
      "[CV] criterion=entropy, max_depth=21, min_samples_leaf=41 ............\n",
      "[CV]  criterion=entropy, max_depth=21, min_samples_leaf=41, total=   0.0s\n",
      "[CV] criterion=entropy, max_depth=21, min_samples_leaf=41 ............\n",
      "[CV]  criterion=entropy, max_depth=21, min_samples_leaf=41, total=   0.0s\n",
      "[CV] criterion=entropy, max_depth=21, min_samples_leaf=41 ............\n",
      "[CV]  criterion=entropy, max_depth=21, min_samples_leaf=41, total=   0.0s\n",
      "[CV] criterion=entropy, max_depth=21, min_samples_leaf=41 ............\n",
      "[CV]  criterion=entropy, max_depth=21, min_samples_leaf=41, total=   0.0s\n",
      "[CV] criterion=entropy, max_depth=21, min_samples_leaf=46 ............\n",
      "[CV]  criterion=entropy, max_depth=21, min_samples_leaf=46, total=   0.0s\n",
      "[CV] criterion=entropy, max_depth=21, min_samples_leaf=46 ............\n",
      "[CV]  criterion=entropy, max_depth=21, min_samples_leaf=46, total=   0.0s\n",
      "[CV] criterion=entropy, max_depth=21, min_samples_leaf=46 ............\n",
      "[CV]  criterion=entropy, max_depth=21, min_samples_leaf=46, total=   0.0s\n",
      "[CV] criterion=entropy, max_depth=21, min_samples_leaf=46 ............\n",
      "[CV]  criterion=entropy, max_depth=21, min_samples_leaf=46, total=   0.0s\n",
      "[CV] criterion=entropy, max_depth=21, min_samples_leaf=46 ............\n",
      "[CV]  criterion=entropy, max_depth=21, min_samples_leaf=46, total=   0.0s\n",
      "[CV] criterion=entropy, max_depth=26, min_samples_leaf=1 .............\n",
      "[CV]  criterion=entropy, max_depth=26, min_samples_leaf=1, total=   0.0s\n",
      "[CV] criterion=entropy, max_depth=26, min_samples_leaf=1 .............\n",
      "[CV]  criterion=entropy, max_depth=26, min_samples_leaf=1, total=   0.0s\n",
      "[CV] criterion=entropy, max_depth=26, min_samples_leaf=1 .............\n",
      "[CV]  criterion=entropy, max_depth=26, min_samples_leaf=1, total=   0.0s\n",
      "[CV] criterion=entropy, max_depth=26, min_samples_leaf=1 .............\n",
      "[CV]  criterion=entropy, max_depth=26, min_samples_leaf=1, total=   0.0s\n",
      "[CV] criterion=entropy, max_depth=26, min_samples_leaf=1 .............\n",
      "[CV]  criterion=entropy, max_depth=26, min_samples_leaf=1, total=   0.0s\n",
      "[CV] criterion=entropy, max_depth=26, min_samples_leaf=6 .............\n",
      "[CV]  criterion=entropy, max_depth=26, min_samples_leaf=6, total=   0.0s\n",
      "[CV] criterion=entropy, max_depth=26, min_samples_leaf=6 .............\n",
      "[CV]  criterion=entropy, max_depth=26, min_samples_leaf=6, total=   0.0s\n",
      "[CV] criterion=entropy, max_depth=26, min_samples_leaf=6 .............\n",
      "[CV]  criterion=entropy, max_depth=26, min_samples_leaf=6, total=   0.0s\n",
      "[CV] criterion=entropy, max_depth=26, min_samples_leaf=6 .............\n",
      "[CV]  criterion=entropy, max_depth=26, min_samples_leaf=6, total=   0.0s\n",
      "[CV] criterion=entropy, max_depth=26, min_samples_leaf=6 .............\n",
      "[CV]  criterion=entropy, max_depth=26, min_samples_leaf=6, total=   0.0s\n",
      "[CV] criterion=entropy, max_depth=26, min_samples_leaf=11 ............\n",
      "[CV]  criterion=entropy, max_depth=26, min_samples_leaf=11, total=   0.0s\n",
      "[CV] criterion=entropy, max_depth=26, min_samples_leaf=11 ............\n",
      "[CV]  criterion=entropy, max_depth=26, min_samples_leaf=11, total=   0.0s\n",
      "[CV] criterion=entropy, max_depth=26, min_samples_leaf=11 ............\n",
      "[CV]  criterion=entropy, max_depth=26, min_samples_leaf=11, total=   0.0s\n",
      "[CV] criterion=entropy, max_depth=26, min_samples_leaf=11 ............\n",
      "[CV]  criterion=entropy, max_depth=26, min_samples_leaf=11, total=   0.0s\n",
      "[CV] criterion=entropy, max_depth=26, min_samples_leaf=11 ............\n",
      "[CV]  criterion=entropy, max_depth=26, min_samples_leaf=11, total=   0.0s\n",
      "[CV] criterion=entropy, max_depth=26, min_samples_leaf=16 ............\n",
      "[CV]  criterion=entropy, max_depth=26, min_samples_leaf=16, total=   0.0s\n",
      "[CV] criterion=entropy, max_depth=26, min_samples_leaf=16 ............\n",
      "[CV]  criterion=entropy, max_depth=26, min_samples_leaf=16, total=   0.0s\n",
      "[CV] criterion=entropy, max_depth=26, min_samples_leaf=16 ............\n",
      "[CV]  criterion=entropy, max_depth=26, min_samples_leaf=16, total=   0.0s\n",
      "[CV] criterion=entropy, max_depth=26, min_samples_leaf=16 ............\n",
      "[CV]  criterion=entropy, max_depth=26, min_samples_leaf=16, total=   0.0s\n",
      "[CV] criterion=entropy, max_depth=26, min_samples_leaf=16 ............\n",
      "[CV]  criterion=entropy, max_depth=26, min_samples_leaf=16, total=   0.0s\n",
      "[CV] criterion=entropy, max_depth=26, min_samples_leaf=21 ............\n",
      "[CV]  criterion=entropy, max_depth=26, min_samples_leaf=21, total=   0.0s\n",
      "[CV] criterion=entropy, max_depth=26, min_samples_leaf=21 ............\n",
      "[CV]  criterion=entropy, max_depth=26, min_samples_leaf=21, total=   0.0s\n",
      "[CV] criterion=entropy, max_depth=26, min_samples_leaf=21 ............\n",
      "[CV]  criterion=entropy, max_depth=26, min_samples_leaf=21, total=   0.0s\n",
      "[CV] criterion=entropy, max_depth=26, min_samples_leaf=21 ............\n",
      "[CV]  criterion=entropy, max_depth=26, min_samples_leaf=21, total=   0.0s\n",
      "[CV] criterion=entropy, max_depth=26, min_samples_leaf=21 ............\n",
      "[CV]  criterion=entropy, max_depth=26, min_samples_leaf=21, total=   0.0s\n",
      "[CV] criterion=entropy, max_depth=26, min_samples_leaf=26 ............\n",
      "[CV]  criterion=entropy, max_depth=26, min_samples_leaf=26, total=   0.0s\n",
      "[CV] criterion=entropy, max_depth=26, min_samples_leaf=26 ............\n",
      "[CV]  criterion=entropy, max_depth=26, min_samples_leaf=26, total=   0.0s\n",
      "[CV] criterion=entropy, max_depth=26, min_samples_leaf=26 ............\n",
      "[CV]  criterion=entropy, max_depth=26, min_samples_leaf=26, total=   0.0s\n",
      "[CV] criterion=entropy, max_depth=26, min_samples_leaf=26 ............\n",
      "[CV]  criterion=entropy, max_depth=26, min_samples_leaf=26, total=   0.0s\n",
      "[CV] criterion=entropy, max_depth=26, min_samples_leaf=26 ............\n",
      "[CV]  criterion=entropy, max_depth=26, min_samples_leaf=26, total=   0.0s\n",
      "[CV] criterion=entropy, max_depth=26, min_samples_leaf=31 ............\n",
      "[CV]  criterion=entropy, max_depth=26, min_samples_leaf=31, total=   0.0s\n",
      "[CV] criterion=entropy, max_depth=26, min_samples_leaf=31 ............\n",
      "[CV]  criterion=entropy, max_depth=26, min_samples_leaf=31, total=   0.0s\n",
      "[CV] criterion=entropy, max_depth=26, min_samples_leaf=31 ............\n",
      "[CV]  criterion=entropy, max_depth=26, min_samples_leaf=31, total=   0.0s\n",
      "[CV] criterion=entropy, max_depth=26, min_samples_leaf=31 ............\n",
      "[CV]  criterion=entropy, max_depth=26, min_samples_leaf=31, total=   0.0s\n",
      "[CV] criterion=entropy, max_depth=26, min_samples_leaf=31 ............\n",
      "[CV]  criterion=entropy, max_depth=26, min_samples_leaf=31, total=   0.0s\n",
      "[CV] criterion=entropy, max_depth=26, min_samples_leaf=36 ............\n",
      "[CV]  criterion=entropy, max_depth=26, min_samples_leaf=36, total=   0.0s\n",
      "[CV] criterion=entropy, max_depth=26, min_samples_leaf=36 ............\n",
      "[CV]  criterion=entropy, max_depth=26, min_samples_leaf=36, total=   0.0s\n",
      "[CV] criterion=entropy, max_depth=26, min_samples_leaf=36 ............\n",
      "[CV]  criterion=entropy, max_depth=26, min_samples_leaf=36, total=   0.0s\n",
      "[CV] criterion=entropy, max_depth=26, min_samples_leaf=36 ............\n",
      "[CV]  criterion=entropy, max_depth=26, min_samples_leaf=36, total=   0.0s\n",
      "[CV] criterion=entropy, max_depth=26, min_samples_leaf=36 ............\n",
      "[CV]  criterion=entropy, max_depth=26, min_samples_leaf=36, total=   0.0s\n",
      "[CV] criterion=entropy, max_depth=26, min_samples_leaf=41 ............\n",
      "[CV]  criterion=entropy, max_depth=26, min_samples_leaf=41, total=   0.0s\n",
      "[CV] criterion=entropy, max_depth=26, min_samples_leaf=41 ............\n",
      "[CV]  criterion=entropy, max_depth=26, min_samples_leaf=41, total=   0.0s\n",
      "[CV] criterion=entropy, max_depth=26, min_samples_leaf=41 ............\n",
      "[CV]  criterion=entropy, max_depth=26, min_samples_leaf=41, total=   0.0s\n",
      "[CV] criterion=entropy, max_depth=26, min_samples_leaf=41 ............\n",
      "[CV]  criterion=entropy, max_depth=26, min_samples_leaf=41, total=   0.0s\n",
      "[CV] criterion=entropy, max_depth=26, min_samples_leaf=41 ............\n",
      "[CV]  criterion=entropy, max_depth=26, min_samples_leaf=41, total=   0.0s\n",
      "[CV] criterion=entropy, max_depth=26, min_samples_leaf=46 ............\n",
      "[CV]  criterion=entropy, max_depth=26, min_samples_leaf=46, total=   0.0s\n",
      "[CV] criterion=entropy, max_depth=26, min_samples_leaf=46 ............\n",
      "[CV]  criterion=entropy, max_depth=26, min_samples_leaf=46, total=   0.0s\n",
      "[CV] criterion=entropy, max_depth=26, min_samples_leaf=46 ............\n",
      "[CV]  criterion=entropy, max_depth=26, min_samples_leaf=46, total=   0.0s\n",
      "[CV] criterion=entropy, max_depth=26, min_samples_leaf=46 ............\n",
      "[CV]  criterion=entropy, max_depth=26, min_samples_leaf=46, total=   0.0s\n",
      "[CV] criterion=entropy, max_depth=26, min_samples_leaf=46 ............\n",
      "[CV]  criterion=entropy, max_depth=26, min_samples_leaf=46, total=   0.0s\n",
      "[CV] criterion=entropy, max_depth=31, min_samples_leaf=1 .............\n",
      "[CV]  criterion=entropy, max_depth=31, min_samples_leaf=1, total=   0.0s\n",
      "[CV] criterion=entropy, max_depth=31, min_samples_leaf=1 .............\n",
      "[CV]  criterion=entropy, max_depth=31, min_samples_leaf=1, total=   0.0s\n",
      "[CV] criterion=entropy, max_depth=31, min_samples_leaf=1 .............\n",
      "[CV]  criterion=entropy, max_depth=31, min_samples_leaf=1, total=   0.0s\n",
      "[CV] criterion=entropy, max_depth=31, min_samples_leaf=1 .............\n",
      "[CV]  criterion=entropy, max_depth=31, min_samples_leaf=1, total=   0.0s\n",
      "[CV] criterion=entropy, max_depth=31, min_samples_leaf=1 .............\n",
      "[CV]  criterion=entropy, max_depth=31, min_samples_leaf=1, total=   0.0s\n",
      "[CV] criterion=entropy, max_depth=31, min_samples_leaf=6 .............\n",
      "[CV]  criterion=entropy, max_depth=31, min_samples_leaf=6, total=   0.0s\n",
      "[CV] criterion=entropy, max_depth=31, min_samples_leaf=6 .............\n",
      "[CV]  criterion=entropy, max_depth=31, min_samples_leaf=6, total=   0.0s\n",
      "[CV] criterion=entropy, max_depth=31, min_samples_leaf=6 .............\n",
      "[CV]  criterion=entropy, max_depth=31, min_samples_leaf=6, total=   0.0s\n",
      "[CV] criterion=entropy, max_depth=31, min_samples_leaf=6 .............\n",
      "[CV]  criterion=entropy, max_depth=31, min_samples_leaf=6, total=   0.0s\n",
      "[CV] criterion=entropy, max_depth=31, min_samples_leaf=6 .............\n",
      "[CV]  criterion=entropy, max_depth=31, min_samples_leaf=6, total=   0.0s\n",
      "[CV] criterion=entropy, max_depth=31, min_samples_leaf=11 ............\n",
      "[CV]  criterion=entropy, max_depth=31, min_samples_leaf=11, total=   0.0s\n",
      "[CV] criterion=entropy, max_depth=31, min_samples_leaf=11 ............\n",
      "[CV]  criterion=entropy, max_depth=31, min_samples_leaf=11, total=   0.0s\n",
      "[CV] criterion=entropy, max_depth=31, min_samples_leaf=11 ............\n",
      "[CV]  criterion=entropy, max_depth=31, min_samples_leaf=11, total=   0.0s\n",
      "[CV] criterion=entropy, max_depth=31, min_samples_leaf=11 ............\n",
      "[CV]  criterion=entropy, max_depth=31, min_samples_leaf=11, total=   0.0s\n",
      "[CV] criterion=entropy, max_depth=31, min_samples_leaf=11 ............\n",
      "[CV]  criterion=entropy, max_depth=31, min_samples_leaf=11, total=   0.0s\n",
      "[CV] criterion=entropy, max_depth=31, min_samples_leaf=16 ............\n",
      "[CV]  criterion=entropy, max_depth=31, min_samples_leaf=16, total=   0.0s\n",
      "[CV] criterion=entropy, max_depth=31, min_samples_leaf=16 ............\n",
      "[CV]  criterion=entropy, max_depth=31, min_samples_leaf=16, total=   0.0s\n",
      "[CV] criterion=entropy, max_depth=31, min_samples_leaf=16 ............\n",
      "[CV]  criterion=entropy, max_depth=31, min_samples_leaf=16, total=   0.0s\n",
      "[CV] criterion=entropy, max_depth=31, min_samples_leaf=16 ............\n",
      "[CV]  criterion=entropy, max_depth=31, min_samples_leaf=16, total=   0.0s\n",
      "[CV] criterion=entropy, max_depth=31, min_samples_leaf=16 ............\n",
      "[CV]  criterion=entropy, max_depth=31, min_samples_leaf=16, total=   0.0s\n",
      "[CV] criterion=entropy, max_depth=31, min_samples_leaf=21 ............\n",
      "[CV]  criterion=entropy, max_depth=31, min_samples_leaf=21, total=   0.0s\n",
      "[CV] criterion=entropy, max_depth=31, min_samples_leaf=21 ............\n",
      "[CV]  criterion=entropy, max_depth=31, min_samples_leaf=21, total=   0.0s\n",
      "[CV] criterion=entropy, max_depth=31, min_samples_leaf=21 ............\n",
      "[CV]  criterion=entropy, max_depth=31, min_samples_leaf=21, total=   0.0s\n",
      "[CV] criterion=entropy, max_depth=31, min_samples_leaf=21 ............\n",
      "[CV]  criterion=entropy, max_depth=31, min_samples_leaf=21, total=   0.0s\n",
      "[CV] criterion=entropy, max_depth=31, min_samples_leaf=21 ............\n",
      "[CV]  criterion=entropy, max_depth=31, min_samples_leaf=21, total=   0.0s\n",
      "[CV] criterion=entropy, max_depth=31, min_samples_leaf=26 ............\n",
      "[CV]  criterion=entropy, max_depth=31, min_samples_leaf=26, total=   0.0s\n",
      "[CV] criterion=entropy, max_depth=31, min_samples_leaf=26 ............\n",
      "[CV]  criterion=entropy, max_depth=31, min_samples_leaf=26, total=   0.0s\n",
      "[CV] criterion=entropy, max_depth=31, min_samples_leaf=26 ............\n",
      "[CV]  criterion=entropy, max_depth=31, min_samples_leaf=26, total=   0.0s\n",
      "[CV] criterion=entropy, max_depth=31, min_samples_leaf=26 ............\n",
      "[CV]  criterion=entropy, max_depth=31, min_samples_leaf=26, total=   0.0s\n",
      "[CV] criterion=entropy, max_depth=31, min_samples_leaf=26 ............\n",
      "[CV]  criterion=entropy, max_depth=31, min_samples_leaf=26, total=   0.0s\n",
      "[CV] criterion=entropy, max_depth=31, min_samples_leaf=31 ............\n",
      "[CV]  criterion=entropy, max_depth=31, min_samples_leaf=31, total=   0.0s\n",
      "[CV] criterion=entropy, max_depth=31, min_samples_leaf=31 ............\n",
      "[CV]  criterion=entropy, max_depth=31, min_samples_leaf=31, total=   0.0s\n",
      "[CV] criterion=entropy, max_depth=31, min_samples_leaf=31 ............\n",
      "[CV]  criterion=entropy, max_depth=31, min_samples_leaf=31, total=   0.0s\n",
      "[CV] criterion=entropy, max_depth=31, min_samples_leaf=31 ............\n",
      "[CV]  criterion=entropy, max_depth=31, min_samples_leaf=31, total=   0.0s\n",
      "[CV] criterion=entropy, max_depth=31, min_samples_leaf=31 ............\n",
      "[CV]  criterion=entropy, max_depth=31, min_samples_leaf=31, total=   0.0s\n",
      "[CV] criterion=entropy, max_depth=31, min_samples_leaf=36 ............\n",
      "[CV]  criterion=entropy, max_depth=31, min_samples_leaf=36, total=   0.0s\n",
      "[CV] criterion=entropy, max_depth=31, min_samples_leaf=36 ............\n",
      "[CV]  criterion=entropy, max_depth=31, min_samples_leaf=36, total=   0.0s\n",
      "[CV] criterion=entropy, max_depth=31, min_samples_leaf=36 ............\n",
      "[CV]  criterion=entropy, max_depth=31, min_samples_leaf=36, total=   0.0s\n",
      "[CV] criterion=entropy, max_depth=31, min_samples_leaf=36 ............\n",
      "[CV]  criterion=entropy, max_depth=31, min_samples_leaf=36, total=   0.0s\n",
      "[CV] criterion=entropy, max_depth=31, min_samples_leaf=36 ............\n",
      "[CV]  criterion=entropy, max_depth=31, min_samples_leaf=36, total=   0.0s\n",
      "[CV] criterion=entropy, max_depth=31, min_samples_leaf=41 ............\n",
      "[CV]  criterion=entropy, max_depth=31, min_samples_leaf=41, total=   0.0s\n",
      "[CV] criterion=entropy, max_depth=31, min_samples_leaf=41 ............\n",
      "[CV]  criterion=entropy, max_depth=31, min_samples_leaf=41, total=   0.0s\n",
      "[CV] criterion=entropy, max_depth=31, min_samples_leaf=41 ............\n",
      "[CV]  criterion=entropy, max_depth=31, min_samples_leaf=41, total=   0.0s\n",
      "[CV] criterion=entropy, max_depth=31, min_samples_leaf=41 ............\n",
      "[CV]  criterion=entropy, max_depth=31, min_samples_leaf=41, total=   0.0s\n",
      "[CV] criterion=entropy, max_depth=31, min_samples_leaf=41 ............\n",
      "[CV]  criterion=entropy, max_depth=31, min_samples_leaf=41, total=   0.0s\n",
      "[CV] criterion=entropy, max_depth=31, min_samples_leaf=46 ............\n",
      "[CV]  criterion=entropy, max_depth=31, min_samples_leaf=46, total=   0.0s\n",
      "[CV] criterion=entropy, max_depth=31, min_samples_leaf=46 ............\n",
      "[CV]  criterion=entropy, max_depth=31, min_samples_leaf=46, total=   0.0s\n",
      "[CV] criterion=entropy, max_depth=31, min_samples_leaf=46 ............\n",
      "[CV]  criterion=entropy, max_depth=31, min_samples_leaf=46, total=   0.0s\n",
      "[CV] criterion=entropy, max_depth=31, min_samples_leaf=46 ............\n",
      "[CV]  criterion=entropy, max_depth=31, min_samples_leaf=46, total=   0.0s\n",
      "[CV] criterion=entropy, max_depth=31, min_samples_leaf=46 ............\n",
      "[CV]  criterion=entropy, max_depth=31, min_samples_leaf=46, total=   0.0s\n",
      "[CV] criterion=entropy, max_depth=36, min_samples_leaf=1 .............\n",
      "[CV]  criterion=entropy, max_depth=36, min_samples_leaf=1, total=   0.0s\n",
      "[CV] criterion=entropy, max_depth=36, min_samples_leaf=1 .............\n",
      "[CV]  criterion=entropy, max_depth=36, min_samples_leaf=1, total=   0.0s\n",
      "[CV] criterion=entropy, max_depth=36, min_samples_leaf=1 .............\n",
      "[CV]  criterion=entropy, max_depth=36, min_samples_leaf=1, total=   0.0s\n",
      "[CV] criterion=entropy, max_depth=36, min_samples_leaf=1 .............\n",
      "[CV]  criterion=entropy, max_depth=36, min_samples_leaf=1, total=   0.0s\n",
      "[CV] criterion=entropy, max_depth=36, min_samples_leaf=1 .............\n",
      "[CV]  criterion=entropy, max_depth=36, min_samples_leaf=1, total=   0.0s\n",
      "[CV] criterion=entropy, max_depth=36, min_samples_leaf=6 .............\n",
      "[CV]  criterion=entropy, max_depth=36, min_samples_leaf=6, total=   0.0s\n",
      "[CV] criterion=entropy, max_depth=36, min_samples_leaf=6 .............\n",
      "[CV]  criterion=entropy, max_depth=36, min_samples_leaf=6, total=   0.0s\n",
      "[CV] criterion=entropy, max_depth=36, min_samples_leaf=6 .............\n",
      "[CV]  criterion=entropy, max_depth=36, min_samples_leaf=6, total=   0.0s\n",
      "[CV] criterion=entropy, max_depth=36, min_samples_leaf=6 .............\n",
      "[CV]  criterion=entropy, max_depth=36, min_samples_leaf=6, total=   0.0s\n",
      "[CV] criterion=entropy, max_depth=36, min_samples_leaf=6 .............\n",
      "[CV]  criterion=entropy, max_depth=36, min_samples_leaf=6, total=   0.0s\n",
      "[CV] criterion=entropy, max_depth=36, min_samples_leaf=11 ............\n",
      "[CV]  criterion=entropy, max_depth=36, min_samples_leaf=11, total=   0.0s\n",
      "[CV] criterion=entropy, max_depth=36, min_samples_leaf=11 ............\n",
      "[CV]  criterion=entropy, max_depth=36, min_samples_leaf=11, total=   0.0s\n",
      "[CV] criterion=entropy, max_depth=36, min_samples_leaf=11 ............\n",
      "[CV]  criterion=entropy, max_depth=36, min_samples_leaf=11, total=   0.0s\n",
      "[CV] criterion=entropy, max_depth=36, min_samples_leaf=11 ............\n",
      "[CV]  criterion=entropy, max_depth=36, min_samples_leaf=11, total=   0.0s\n",
      "[CV] criterion=entropy, max_depth=36, min_samples_leaf=11 ............\n",
      "[CV]  criterion=entropy, max_depth=36, min_samples_leaf=11, total=   0.0s\n",
      "[CV] criterion=entropy, max_depth=36, min_samples_leaf=16 ............\n",
      "[CV]  criterion=entropy, max_depth=36, min_samples_leaf=16, total=   0.0s\n",
      "[CV] criterion=entropy, max_depth=36, min_samples_leaf=16 ............\n",
      "[CV]  criterion=entropy, max_depth=36, min_samples_leaf=16, total=   0.0s\n",
      "[CV] criterion=entropy, max_depth=36, min_samples_leaf=16 ............\n",
      "[CV]  criterion=entropy, max_depth=36, min_samples_leaf=16, total=   0.0s\n",
      "[CV] criterion=entropy, max_depth=36, min_samples_leaf=16 ............\n",
      "[CV]  criterion=entropy, max_depth=36, min_samples_leaf=16, total=   0.0s\n",
      "[CV] criterion=entropy, max_depth=36, min_samples_leaf=16 ............\n",
      "[CV]  criterion=entropy, max_depth=36, min_samples_leaf=16, total=   0.0s\n",
      "[CV] criterion=entropy, max_depth=36, min_samples_leaf=21 ............\n",
      "[CV]  criterion=entropy, max_depth=36, min_samples_leaf=21, total=   0.0s\n",
      "[CV] criterion=entropy, max_depth=36, min_samples_leaf=21 ............\n",
      "[CV]  criterion=entropy, max_depth=36, min_samples_leaf=21, total=   0.0s\n",
      "[CV] criterion=entropy, max_depth=36, min_samples_leaf=21 ............\n",
      "[CV]  criterion=entropy, max_depth=36, min_samples_leaf=21, total=   0.0s\n",
      "[CV] criterion=entropy, max_depth=36, min_samples_leaf=21 ............\n",
      "[CV]  criterion=entropy, max_depth=36, min_samples_leaf=21, total=   0.0s\n",
      "[CV] criterion=entropy, max_depth=36, min_samples_leaf=21 ............\n",
      "[CV]  criterion=entropy, max_depth=36, min_samples_leaf=21, total=   0.0s\n",
      "[CV] criterion=entropy, max_depth=36, min_samples_leaf=26 ............\n",
      "[CV]  criterion=entropy, max_depth=36, min_samples_leaf=26, total=   0.0s\n",
      "[CV] criterion=entropy, max_depth=36, min_samples_leaf=26 ............\n",
      "[CV]  criterion=entropy, max_depth=36, min_samples_leaf=26, total=   0.0s\n",
      "[CV] criterion=entropy, max_depth=36, min_samples_leaf=26 ............\n",
      "[CV]  criterion=entropy, max_depth=36, min_samples_leaf=26, total=   0.0s\n",
      "[CV] criterion=entropy, max_depth=36, min_samples_leaf=26 ............\n",
      "[CV]  criterion=entropy, max_depth=36, min_samples_leaf=26, total=   0.0s\n",
      "[CV] criterion=entropy, max_depth=36, min_samples_leaf=26 ............\n",
      "[CV]  criterion=entropy, max_depth=36, min_samples_leaf=26, total=   0.0s\n",
      "[CV] criterion=entropy, max_depth=36, min_samples_leaf=31 ............\n",
      "[CV]  criterion=entropy, max_depth=36, min_samples_leaf=31, total=   0.0s\n",
      "[CV] criterion=entropy, max_depth=36, min_samples_leaf=31 ............\n",
      "[CV]  criterion=entropy, max_depth=36, min_samples_leaf=31, total=   0.0s\n",
      "[CV] criterion=entropy, max_depth=36, min_samples_leaf=31 ............\n",
      "[CV]  criterion=entropy, max_depth=36, min_samples_leaf=31, total=   0.0s\n",
      "[CV] criterion=entropy, max_depth=36, min_samples_leaf=31 ............\n",
      "[CV]  criterion=entropy, max_depth=36, min_samples_leaf=31, total=   0.0s\n",
      "[CV] criterion=entropy, max_depth=36, min_samples_leaf=31 ............\n",
      "[CV]  criterion=entropy, max_depth=36, min_samples_leaf=31, total=   0.0s\n",
      "[CV] criterion=entropy, max_depth=36, min_samples_leaf=36 ............\n",
      "[CV]  criterion=entropy, max_depth=36, min_samples_leaf=36, total=   0.0s\n",
      "[CV] criterion=entropy, max_depth=36, min_samples_leaf=36 ............\n",
      "[CV]  criterion=entropy, max_depth=36, min_samples_leaf=36, total=   0.0s\n",
      "[CV] criterion=entropy, max_depth=36, min_samples_leaf=36 ............\n",
      "[CV]  criterion=entropy, max_depth=36, min_samples_leaf=36, total=   0.0s\n",
      "[CV] criterion=entropy, max_depth=36, min_samples_leaf=36 ............\n",
      "[CV]  criterion=entropy, max_depth=36, min_samples_leaf=36, total=   0.0s\n",
      "[CV] criterion=entropy, max_depth=36, min_samples_leaf=36 ............\n",
      "[CV]  criterion=entropy, max_depth=36, min_samples_leaf=36, total=   0.0s\n",
      "[CV] criterion=entropy, max_depth=36, min_samples_leaf=41 ............\n",
      "[CV]  criterion=entropy, max_depth=36, min_samples_leaf=41, total=   0.0s\n",
      "[CV] criterion=entropy, max_depth=36, min_samples_leaf=41 ............\n",
      "[CV]  criterion=entropy, max_depth=36, min_samples_leaf=41, total=   0.0s\n",
      "[CV] criterion=entropy, max_depth=36, min_samples_leaf=41 ............\n",
      "[CV]  criterion=entropy, max_depth=36, min_samples_leaf=41, total=   0.0s\n",
      "[CV] criterion=entropy, max_depth=36, min_samples_leaf=41 ............\n",
      "[CV]  criterion=entropy, max_depth=36, min_samples_leaf=41, total=   0.0s\n",
      "[CV] criterion=entropy, max_depth=36, min_samples_leaf=41 ............\n",
      "[CV]  criterion=entropy, max_depth=36, min_samples_leaf=41, total=   0.0s\n",
      "[CV] criterion=entropy, max_depth=36, min_samples_leaf=46 ............\n",
      "[CV]  criterion=entropy, max_depth=36, min_samples_leaf=46, total=   0.0s\n",
      "[CV] criterion=entropy, max_depth=36, min_samples_leaf=46 ............\n",
      "[CV]  criterion=entropy, max_depth=36, min_samples_leaf=46, total=   0.0s\n",
      "[CV] criterion=entropy, max_depth=36, min_samples_leaf=46 ............\n",
      "[CV]  criterion=entropy, max_depth=36, min_samples_leaf=46, total=   0.0s\n",
      "[CV] criterion=entropy, max_depth=36, min_samples_leaf=46 ............\n",
      "[CV]  criterion=entropy, max_depth=36, min_samples_leaf=46, total=   0.0s\n",
      "[CV] criterion=entropy, max_depth=36, min_samples_leaf=46 ............\n",
      "[CV]  criterion=entropy, max_depth=36, min_samples_leaf=46, total=   0.0s\n",
      "[CV] criterion=entropy, max_depth=41, min_samples_leaf=1 .............\n",
      "[CV]  criterion=entropy, max_depth=41, min_samples_leaf=1, total=   0.0s\n",
      "[CV] criterion=entropy, max_depth=41, min_samples_leaf=1 .............\n",
      "[CV]  criterion=entropy, max_depth=41, min_samples_leaf=1, total=   0.0s\n",
      "[CV] criterion=entropy, max_depth=41, min_samples_leaf=1 .............\n",
      "[CV]  criterion=entropy, max_depth=41, min_samples_leaf=1, total=   0.0s\n",
      "[CV] criterion=entropy, max_depth=41, min_samples_leaf=1 .............\n",
      "[CV]  criterion=entropy, max_depth=41, min_samples_leaf=1, total=   0.0s\n",
      "[CV] criterion=entropy, max_depth=41, min_samples_leaf=1 .............\n",
      "[CV]  criterion=entropy, max_depth=41, min_samples_leaf=1, total=   0.0s\n",
      "[CV] criterion=entropy, max_depth=41, min_samples_leaf=6 .............\n",
      "[CV]  criterion=entropy, max_depth=41, min_samples_leaf=6, total=   0.0s\n",
      "[CV] criterion=entropy, max_depth=41, min_samples_leaf=6 .............\n",
      "[CV]  criterion=entropy, max_depth=41, min_samples_leaf=6, total=   0.0s\n",
      "[CV] criterion=entropy, max_depth=41, min_samples_leaf=6 .............\n",
      "[CV]  criterion=entropy, max_depth=41, min_samples_leaf=6, total=   0.0s\n",
      "[CV] criterion=entropy, max_depth=41, min_samples_leaf=6 .............\n",
      "[CV]  criterion=entropy, max_depth=41, min_samples_leaf=6, total=   0.0s\n",
      "[CV] criterion=entropy, max_depth=41, min_samples_leaf=6 .............\n",
      "[CV]  criterion=entropy, max_depth=41, min_samples_leaf=6, total=   0.0s\n",
      "[CV] criterion=entropy, max_depth=41, min_samples_leaf=11 ............\n",
      "[CV]  criterion=entropy, max_depth=41, min_samples_leaf=11, total=   0.0s\n",
      "[CV] criterion=entropy, max_depth=41, min_samples_leaf=11 ............\n",
      "[CV]  criterion=entropy, max_depth=41, min_samples_leaf=11, total=   0.0s\n",
      "[CV] criterion=entropy, max_depth=41, min_samples_leaf=11 ............\n",
      "[CV]  criterion=entropy, max_depth=41, min_samples_leaf=11, total=   0.0s\n",
      "[CV] criterion=entropy, max_depth=41, min_samples_leaf=11 ............\n",
      "[CV]  criterion=entropy, max_depth=41, min_samples_leaf=11, total=   0.0s\n",
      "[CV] criterion=entropy, max_depth=41, min_samples_leaf=11 ............\n",
      "[CV]  criterion=entropy, max_depth=41, min_samples_leaf=11, total=   0.0s\n",
      "[CV] criterion=entropy, max_depth=41, min_samples_leaf=16 ............\n",
      "[CV]  criterion=entropy, max_depth=41, min_samples_leaf=16, total=   0.0s\n",
      "[CV] criterion=entropy, max_depth=41, min_samples_leaf=16 ............\n",
      "[CV]  criterion=entropy, max_depth=41, min_samples_leaf=16, total=   0.0s\n",
      "[CV] criterion=entropy, max_depth=41, min_samples_leaf=16 ............\n",
      "[CV]  criterion=entropy, max_depth=41, min_samples_leaf=16, total=   0.0s\n",
      "[CV] criterion=entropy, max_depth=41, min_samples_leaf=16 ............\n",
      "[CV]  criterion=entropy, max_depth=41, min_samples_leaf=16, total=   0.0s\n",
      "[CV] criterion=entropy, max_depth=41, min_samples_leaf=16 ............\n",
      "[CV]  criterion=entropy, max_depth=41, min_samples_leaf=16, total=   0.0s\n",
      "[CV] criterion=entropy, max_depth=41, min_samples_leaf=21 ............\n",
      "[CV]  criterion=entropy, max_depth=41, min_samples_leaf=21, total=   0.0s\n",
      "[CV] criterion=entropy, max_depth=41, min_samples_leaf=21 ............\n",
      "[CV]  criterion=entropy, max_depth=41, min_samples_leaf=21, total=   0.0s\n",
      "[CV] criterion=entropy, max_depth=41, min_samples_leaf=21 ............\n",
      "[CV]  criterion=entropy, max_depth=41, min_samples_leaf=21, total=   0.0s\n",
      "[CV] criterion=entropy, max_depth=41, min_samples_leaf=21 ............\n",
      "[CV]  criterion=entropy, max_depth=41, min_samples_leaf=21, total=   0.0s\n",
      "[CV] criterion=entropy, max_depth=41, min_samples_leaf=21 ............\n",
      "[CV]  criterion=entropy, max_depth=41, min_samples_leaf=21, total=   0.0s\n",
      "[CV] criterion=entropy, max_depth=41, min_samples_leaf=26 ............\n",
      "[CV]  criterion=entropy, max_depth=41, min_samples_leaf=26, total=   0.0s\n",
      "[CV] criterion=entropy, max_depth=41, min_samples_leaf=26 ............\n",
      "[CV]  criterion=entropy, max_depth=41, min_samples_leaf=26, total=   0.0s\n",
      "[CV] criterion=entropy, max_depth=41, min_samples_leaf=26 ............\n",
      "[CV]  criterion=entropy, max_depth=41, min_samples_leaf=26, total=   0.0s\n",
      "[CV] criterion=entropy, max_depth=41, min_samples_leaf=26 ............\n",
      "[CV]  criterion=entropy, max_depth=41, min_samples_leaf=26, total=   0.0s\n",
      "[CV] criterion=entropy, max_depth=41, min_samples_leaf=26 ............\n",
      "[CV]  criterion=entropy, max_depth=41, min_samples_leaf=26, total=   0.0s\n",
      "[CV] criterion=entropy, max_depth=41, min_samples_leaf=31 ............\n",
      "[CV]  criterion=entropy, max_depth=41, min_samples_leaf=31, total=   0.0s\n",
      "[CV] criterion=entropy, max_depth=41, min_samples_leaf=31 ............\n",
      "[CV]  criterion=entropy, max_depth=41, min_samples_leaf=31, total=   0.0s\n",
      "[CV] criterion=entropy, max_depth=41, min_samples_leaf=31 ............\n",
      "[CV]  criterion=entropy, max_depth=41, min_samples_leaf=31, total=   0.0s\n",
      "[CV] criterion=entropy, max_depth=41, min_samples_leaf=31 ............\n",
      "[CV]  criterion=entropy, max_depth=41, min_samples_leaf=31, total=   0.0s\n",
      "[CV] criterion=entropy, max_depth=41, min_samples_leaf=31 ............\n",
      "[CV]  criterion=entropy, max_depth=41, min_samples_leaf=31, total=   0.0s\n",
      "[CV] criterion=entropy, max_depth=41, min_samples_leaf=36 ............\n",
      "[CV]  criterion=entropy, max_depth=41, min_samples_leaf=36, total=   0.0s\n",
      "[CV] criterion=entropy, max_depth=41, min_samples_leaf=36 ............\n",
      "[CV]  criterion=entropy, max_depth=41, min_samples_leaf=36, total=   0.0s\n",
      "[CV] criterion=entropy, max_depth=41, min_samples_leaf=36 ............\n",
      "[CV]  criterion=entropy, max_depth=41, min_samples_leaf=36, total=   0.0s\n",
      "[CV] criterion=entropy, max_depth=41, min_samples_leaf=36 ............\n",
      "[CV]  criterion=entropy, max_depth=41, min_samples_leaf=36, total=   0.0s\n",
      "[CV] criterion=entropy, max_depth=41, min_samples_leaf=36 ............\n",
      "[CV]  criterion=entropy, max_depth=41, min_samples_leaf=36, total=   0.0s\n",
      "[CV] criterion=entropy, max_depth=41, min_samples_leaf=41 ............\n",
      "[CV]  criterion=entropy, max_depth=41, min_samples_leaf=41, total=   0.0s\n",
      "[CV] criterion=entropy, max_depth=41, min_samples_leaf=41 ............\n",
      "[CV]  criterion=entropy, max_depth=41, min_samples_leaf=41, total=   0.0s\n",
      "[CV] criterion=entropy, max_depth=41, min_samples_leaf=41 ............\n",
      "[CV]  criterion=entropy, max_depth=41, min_samples_leaf=41, total=   0.0s\n",
      "[CV] criterion=entropy, max_depth=41, min_samples_leaf=41 ............\n",
      "[CV]  criterion=entropy, max_depth=41, min_samples_leaf=41, total=   0.0s\n",
      "[CV] criterion=entropy, max_depth=41, min_samples_leaf=41 ............\n",
      "[CV]  criterion=entropy, max_depth=41, min_samples_leaf=41, total=   0.0s\n",
      "[CV] criterion=entropy, max_depth=41, min_samples_leaf=46 ............\n",
      "[CV]  criterion=entropy, max_depth=41, min_samples_leaf=46, total=   0.0s\n",
      "[CV] criterion=entropy, max_depth=41, min_samples_leaf=46 ............\n",
      "[CV]  criterion=entropy, max_depth=41, min_samples_leaf=46, total=   0.0s\n",
      "[CV] criterion=entropy, max_depth=41, min_samples_leaf=46 ............\n",
      "[CV]  criterion=entropy, max_depth=41, min_samples_leaf=46, total=   0.0s\n",
      "[CV] criterion=entropy, max_depth=41, min_samples_leaf=46 ............\n",
      "[CV]  criterion=entropy, max_depth=41, min_samples_leaf=46, total=   0.0s\n",
      "[CV] criterion=entropy, max_depth=41, min_samples_leaf=46 ............\n",
      "[CV]  criterion=entropy, max_depth=41, min_samples_leaf=46, total=   0.0s\n",
      "[CV] criterion=entropy, max_depth=46, min_samples_leaf=1 .............\n",
      "[CV]  criterion=entropy, max_depth=46, min_samples_leaf=1, total=   0.0s\n",
      "[CV] criterion=entropy, max_depth=46, min_samples_leaf=1 .............\n",
      "[CV]  criterion=entropy, max_depth=46, min_samples_leaf=1, total=   0.0s\n",
      "[CV] criterion=entropy, max_depth=46, min_samples_leaf=1 .............\n",
      "[CV]  criterion=entropy, max_depth=46, min_samples_leaf=1, total=   0.0s\n",
      "[CV] criterion=entropy, max_depth=46, min_samples_leaf=1 .............\n",
      "[CV]  criterion=entropy, max_depth=46, min_samples_leaf=1, total=   0.0s\n",
      "[CV] criterion=entropy, max_depth=46, min_samples_leaf=1 .............\n",
      "[CV]  criterion=entropy, max_depth=46, min_samples_leaf=1, total=   0.0s\n",
      "[CV] criterion=entropy, max_depth=46, min_samples_leaf=6 .............\n",
      "[CV]  criterion=entropy, max_depth=46, min_samples_leaf=6, total=   0.0s\n",
      "[CV] criterion=entropy, max_depth=46, min_samples_leaf=6 .............\n",
      "[CV]  criterion=entropy, max_depth=46, min_samples_leaf=6, total=   0.0s\n",
      "[CV] criterion=entropy, max_depth=46, min_samples_leaf=6 .............\n",
      "[CV]  criterion=entropy, max_depth=46, min_samples_leaf=6, total=   0.0s\n",
      "[CV] criterion=entropy, max_depth=46, min_samples_leaf=6 .............\n",
      "[CV]  criterion=entropy, max_depth=46, min_samples_leaf=6, total=   0.0s\n",
      "[CV] criterion=entropy, max_depth=46, min_samples_leaf=6 .............\n",
      "[CV]  criterion=entropy, max_depth=46, min_samples_leaf=6, total=   0.0s\n",
      "[CV] criterion=entropy, max_depth=46, min_samples_leaf=11 ............\n",
      "[CV]  criterion=entropy, max_depth=46, min_samples_leaf=11, total=   0.0s\n",
      "[CV] criterion=entropy, max_depth=46, min_samples_leaf=11 ............\n",
      "[CV]  criterion=entropy, max_depth=46, min_samples_leaf=11, total=   0.0s\n",
      "[CV] criterion=entropy, max_depth=46, min_samples_leaf=11 ............\n",
      "[CV]  criterion=entropy, max_depth=46, min_samples_leaf=11, total=   0.0s\n",
      "[CV] criterion=entropy, max_depth=46, min_samples_leaf=11 ............\n",
      "[CV]  criterion=entropy, max_depth=46, min_samples_leaf=11, total=   0.0s\n",
      "[CV] criterion=entropy, max_depth=46, min_samples_leaf=11 ............\n",
      "[CV]  criterion=entropy, max_depth=46, min_samples_leaf=11, total=   0.0s\n",
      "[CV] criterion=entropy, max_depth=46, min_samples_leaf=16 ............\n",
      "[CV]  criterion=entropy, max_depth=46, min_samples_leaf=16, total=   0.0s\n",
      "[CV] criterion=entropy, max_depth=46, min_samples_leaf=16 ............\n",
      "[CV]  criterion=entropy, max_depth=46, min_samples_leaf=16, total=   0.0s\n",
      "[CV] criterion=entropy, max_depth=46, min_samples_leaf=16 ............\n",
      "[CV]  criterion=entropy, max_depth=46, min_samples_leaf=16, total=   0.0s\n",
      "[CV] criterion=entropy, max_depth=46, min_samples_leaf=16 ............\n",
      "[CV]  criterion=entropy, max_depth=46, min_samples_leaf=16, total=   0.0s\n",
      "[CV] criterion=entropy, max_depth=46, min_samples_leaf=16 ............\n",
      "[CV]  criterion=entropy, max_depth=46, min_samples_leaf=16, total=   0.0s\n",
      "[CV] criterion=entropy, max_depth=46, min_samples_leaf=21 ............\n",
      "[CV]  criterion=entropy, max_depth=46, min_samples_leaf=21, total=   0.0s\n",
      "[CV] criterion=entropy, max_depth=46, min_samples_leaf=21 ............\n",
      "[CV]  criterion=entropy, max_depth=46, min_samples_leaf=21, total=   0.0s\n",
      "[CV] criterion=entropy, max_depth=46, min_samples_leaf=21 ............\n",
      "[CV]  criterion=entropy, max_depth=46, min_samples_leaf=21, total=   0.0s\n",
      "[CV] criterion=entropy, max_depth=46, min_samples_leaf=21 ............\n",
      "[CV]  criterion=entropy, max_depth=46, min_samples_leaf=21, total=   0.0s\n",
      "[CV] criterion=entropy, max_depth=46, min_samples_leaf=21 ............\n",
      "[CV]  criterion=entropy, max_depth=46, min_samples_leaf=21, total=   0.0s\n",
      "[CV] criterion=entropy, max_depth=46, min_samples_leaf=26 ............\n",
      "[CV]  criterion=entropy, max_depth=46, min_samples_leaf=26, total=   0.0s\n",
      "[CV] criterion=entropy, max_depth=46, min_samples_leaf=26 ............\n",
      "[CV]  criterion=entropy, max_depth=46, min_samples_leaf=26, total=   0.0s\n",
      "[CV] criterion=entropy, max_depth=46, min_samples_leaf=26 ............\n",
      "[CV]  criterion=entropy, max_depth=46, min_samples_leaf=26, total=   0.0s\n",
      "[CV] criterion=entropy, max_depth=46, min_samples_leaf=26 ............\n",
      "[CV]  criterion=entropy, max_depth=46, min_samples_leaf=26, total=   0.0s\n",
      "[CV] criterion=entropy, max_depth=46, min_samples_leaf=26 ............\n",
      "[CV]  criterion=entropy, max_depth=46, min_samples_leaf=26, total=   0.0s\n",
      "[CV] criterion=entropy, max_depth=46, min_samples_leaf=31 ............\n",
      "[CV]  criterion=entropy, max_depth=46, min_samples_leaf=31, total=   0.0s\n",
      "[CV] criterion=entropy, max_depth=46, min_samples_leaf=31 ............\n",
      "[CV]  criterion=entropy, max_depth=46, min_samples_leaf=31, total=   0.0s\n",
      "[CV] criterion=entropy, max_depth=46, min_samples_leaf=31 ............\n",
      "[CV]  criterion=entropy, max_depth=46, min_samples_leaf=31, total=   0.0s\n",
      "[CV] criterion=entropy, max_depth=46, min_samples_leaf=31 ............\n",
      "[CV]  criterion=entropy, max_depth=46, min_samples_leaf=31, total=   0.0s\n",
      "[CV] criterion=entropy, max_depth=46, min_samples_leaf=31 ............\n",
      "[CV]  criterion=entropy, max_depth=46, min_samples_leaf=31, total=   0.0s\n",
      "[CV] criterion=entropy, max_depth=46, min_samples_leaf=36 ............\n",
      "[CV]  criterion=entropy, max_depth=46, min_samples_leaf=36, total=   0.0s\n",
      "[CV] criterion=entropy, max_depth=46, min_samples_leaf=36 ............\n",
      "[CV]  criterion=entropy, max_depth=46, min_samples_leaf=36, total=   0.0s\n",
      "[CV] criterion=entropy, max_depth=46, min_samples_leaf=36 ............\n",
      "[CV]  criterion=entropy, max_depth=46, min_samples_leaf=36, total=   0.0s\n",
      "[CV] criterion=entropy, max_depth=46, min_samples_leaf=36 ............\n",
      "[CV]  criterion=entropy, max_depth=46, min_samples_leaf=36, total=   0.0s\n",
      "[CV] criterion=entropy, max_depth=46, min_samples_leaf=36 ............\n",
      "[CV]  criterion=entropy, max_depth=46, min_samples_leaf=36, total=   0.0s\n",
      "[CV] criterion=entropy, max_depth=46, min_samples_leaf=41 ............\n",
      "[CV]  criterion=entropy, max_depth=46, min_samples_leaf=41, total=   0.0s\n",
      "[CV] criterion=entropy, max_depth=46, min_samples_leaf=41 ............\n",
      "[CV]  criterion=entropy, max_depth=46, min_samples_leaf=41, total=   0.0s\n",
      "[CV] criterion=entropy, max_depth=46, min_samples_leaf=41 ............\n",
      "[CV]  criterion=entropy, max_depth=46, min_samples_leaf=41, total=   0.0s\n",
      "[CV] criterion=entropy, max_depth=46, min_samples_leaf=41 ............\n",
      "[CV]  criterion=entropy, max_depth=46, min_samples_leaf=41, total=   0.0s\n",
      "[CV] criterion=entropy, max_depth=46, min_samples_leaf=41 ............\n",
      "[CV]  criterion=entropy, max_depth=46, min_samples_leaf=41, total=   0.0s\n",
      "[CV] criterion=entropy, max_depth=46, min_samples_leaf=46 ............\n",
      "[CV]  criterion=entropy, max_depth=46, min_samples_leaf=46, total=   0.0s\n",
      "[CV] criterion=entropy, max_depth=46, min_samples_leaf=46 ............\n",
      "[CV]  criterion=entropy, max_depth=46, min_samples_leaf=46, total=   0.0s\n",
      "[CV] criterion=entropy, max_depth=46, min_samples_leaf=46 ............\n",
      "[CV]  criterion=entropy, max_depth=46, min_samples_leaf=46, total=   0.0s\n",
      "[CV] criterion=entropy, max_depth=46, min_samples_leaf=46 ............\n",
      "[CV]  criterion=entropy, max_depth=46, min_samples_leaf=46, total=   0.0s\n",
      "[CV] criterion=entropy, max_depth=46, min_samples_leaf=46 ............\n",
      "[CV]  criterion=entropy, max_depth=46, min_samples_leaf=46, total=   0.0s\n"
     ]
    },
    {
     "name": "stderr",
     "output_type": "stream",
     "text": [
      "[Parallel(n_jobs=1)]: Done 1000 out of 1000 | elapsed:    7.2s finished\n"
     ]
    },
    {
     "data": {
      "text/plain": [
       "GridSearchCV(estimator=DecisionTreeClassifier(),\n",
       "             param_grid={'criterion': ['gini', 'entropy'],\n",
       "                         'max_depth': [1, 6, 11, 16, 21, 26, 31, 36, 41, 46],\n",
       "                         'min_samples_leaf': [1, 6, 11, 16, 21, 26, 31, 36, 41,\n",
       "                                              46]},\n",
       "             verbose=2)"
      ]
     },
     "execution_count": 33,
     "metadata": {},
     "output_type": "execute_result"
    }
   ],
   "source": [
    "from sklearn.model_selection import GridSearchCV\n",
    "grid = GridSearchCV(DecisionTreeClassifier(), parameters, verbose=2)\n",
    "grid.fit(xtrain, ytrain)"
   ]
  },
  {
   "cell_type": "code",
   "execution_count": 34,
   "metadata": {
    "execution": {
     "iopub.execute_input": "2022-12-01T13:44:59.951988Z",
     "iopub.status.busy": "2022-12-01T13:44:59.950861Z",
     "iopub.status.idle": "2022-12-01T13:44:59.955204Z",
     "shell.execute_reply": "2022-12-01T13:44:59.954621Z",
     "shell.execute_reply.started": "2022-12-01T13:43:40.202989Z"
    },
    "executionInfo": {
     "elapsed": 81,
     "status": "ok",
     "timestamp": 1661249538597,
     "user": {
      "displayName": "Ruturaj Ranpise",
      "userId": "13134967451216320931"
     },
     "user_tz": -330
    },
    "id": "vnd4oMYwnA_Z",
    "outputId": "a0d3bdfa-49b4-49a4-f6cd-993eb4301c1c",
    "papermill": {
     "duration": 0.090041,
     "end_time": "2022-12-01T13:44:59.955325",
     "exception": false,
     "start_time": "2022-12-01T13:44:59.865284",
     "status": "completed"
    },
    "tags": []
   },
   "outputs": [
    {
     "data": {
      "text/plain": [
       "{'criterion': 'gini', 'max_depth': 1, 'min_samples_leaf': 1}"
      ]
     },
     "execution_count": 34,
     "metadata": {},
     "output_type": "execute_result"
    }
   ],
   "source": [
    "grid.best_params_"
   ]
  },
  {
   "cell_type": "code",
   "execution_count": 35,
   "metadata": {
    "execution": {
     "iopub.execute_input": "2022-12-01T13:45:00.125068Z",
     "iopub.status.busy": "2022-12-01T13:45:00.124277Z",
     "iopub.status.idle": "2022-12-01T13:45:00.127193Z",
     "shell.execute_reply": "2022-12-01T13:45:00.127764Z",
     "shell.execute_reply.started": "2022-12-01T13:43:40.211479Z"
    },
    "executionInfo": {
     "elapsed": 57,
     "status": "ok",
     "timestamp": 1661249538597,
     "user": {
      "displayName": "Ruturaj Ranpise",
      "userId": "13134967451216320931"
     },
     "user_tz": -330
    },
    "id": "yYfH6q53m5X5",
    "outputId": "08a9ed73-b364-41db-c4a3-3f4f0892eba3",
    "papermill": {
     "duration": 0.090613,
     "end_time": "2022-12-01T13:45:00.127932",
     "exception": false,
     "start_time": "2022-12-01T13:45:00.037319",
     "status": "completed"
    },
    "tags": []
   },
   "outputs": [
    {
     "data": {
      "text/plain": [
       "0.9757352941176471"
      ]
     },
     "execution_count": 35,
     "metadata": {},
     "output_type": "execute_result"
    }
   ],
   "source": [
    "grid.best_score_"
   ]
  },
  {
   "cell_type": "code",
   "execution_count": 36,
   "metadata": {
    "execution": {
     "iopub.execute_input": "2022-12-01T13:45:00.303972Z",
     "iopub.status.busy": "2022-12-01T13:45:00.303177Z",
     "iopub.status.idle": "2022-12-01T13:45:00.308691Z",
     "shell.execute_reply": "2022-12-01T13:45:00.309230Z",
     "shell.execute_reply.started": "2022-12-01T13:43:40.219955Z"
    },
    "executionInfo": {
     "elapsed": 54,
     "status": "ok",
     "timestamp": 1661249538598,
     "user": {
      "displayName": "Ruturaj Ranpise",
      "userId": "13134967451216320931"
     },
     "user_tz": -330
    },
    "id": "dzDqYLFonGKG",
    "outputId": "35822b57-94bf-4283-827e-dcddd89c1531",
    "papermill": {
     "duration": 0.095342,
     "end_time": "2022-12-01T13:45:00.309403",
     "exception": false,
     "start_time": "2022-12-01T13:45:00.214061",
     "status": "completed"
    },
    "tags": []
   },
   "outputs": [
    {
     "data": {
      "text/plain": [
       "DecisionTreeClassifier(max_depth=1)"
      ]
     },
     "execution_count": 36,
     "metadata": {},
     "output_type": "execute_result"
    }
   ],
   "source": [
    "grid.best_estimator_"
   ]
  },
  {
   "cell_type": "code",
   "execution_count": 37,
   "metadata": {
    "execution": {
     "iopub.execute_input": "2022-12-01T13:45:00.483616Z",
     "iopub.status.busy": "2022-12-01T13:45:00.482910Z",
     "iopub.status.idle": "2022-12-01T13:45:00.500475Z",
     "shell.execute_reply": "2022-12-01T13:45:00.501033Z",
     "shell.execute_reply.started": "2022-12-01T13:43:40.236705Z"
    },
    "executionInfo": {
     "elapsed": 51,
     "status": "ok",
     "timestamp": 1661249538598,
     "user": {
      "displayName": "Ruturaj Ranpise",
      "userId": "13134967451216320931"
     },
     "user_tz": -330
    },
    "id": "5Hy9OeCbnJKH",
    "outputId": "d2869261-1620-4234-edca-e395b2d9fada",
    "papermill": {
     "duration": 0.105838,
     "end_time": "2022-12-01T13:45:00.501193",
     "exception": false,
     "start_time": "2022-12-01T13:45:00.395355",
     "status": "completed"
    },
    "tags": []
   },
   "outputs": [
    {
     "name": "stdout",
     "output_type": "stream",
     "text": [
      "Training Accuracy : 0.9878048780487805\n",
      "Testing Accuracy : 0.9722222222222222\n",
      "\n",
      "\n",
      "              precision    recall  f1-score   support\n",
      "\n",
      "           0       1.00      0.94      0.97        16\n",
      "           1       0.95      1.00      0.98        20\n",
      "\n",
      "    accuracy                           0.97        36\n",
      "   macro avg       0.98      0.97      0.97        36\n",
      "weighted avg       0.97      0.97      0.97        36\n",
      "\n"
     ]
    }
   ],
   "source": [
    "dt2 = mymodel(grid.best_estimator_) # Post- HyperParameter Tuning For Decision Tree"
   ]
  },
  {
   "cell_type": "markdown",
   "metadata": {
    "id": "A3YS30mdoL85",
    "papermill": {
     "duration": 0.080395,
     "end_time": "2022-12-01T13:45:00.663137",
     "exception": false,
     "start_time": "2022-12-01T13:45:00.582742",
     "status": "completed"
    },
    "tags": []
   },
   "source": [
    "##HyperParameter Tuning For SVM"
   ]
  },
  {
   "cell_type": "markdown",
   "metadata": {
    "id": "v9DrTmvxpAHN",
    "papermill": {
     "duration": 0.081449,
     "end_time": "2022-12-01T13:45:00.826658",
     "exception": false,
     "start_time": "2022-12-01T13:45:00.745209",
     "status": "completed"
    },
    "tags": []
   },
   "source": [
    "# *GridSearchCV*"
   ]
  },
  {
   "cell_type": "code",
   "execution_count": 38,
   "metadata": {
    "execution": {
     "iopub.execute_input": "2022-12-01T13:45:00.993241Z",
     "iopub.status.busy": "2022-12-01T13:45:00.992550Z",
     "iopub.status.idle": "2022-12-01T13:45:00.996892Z",
     "shell.execute_reply": "2022-12-01T13:45:00.997424Z",
     "shell.execute_reply.started": "2022-12-01T13:43:40.260058Z"
    },
    "id": "JtFtCH13nMql",
    "papermill": {
     "duration": 0.089551,
     "end_time": "2022-12-01T13:45:00.997579",
     "exception": false,
     "start_time": "2022-12-01T13:45:00.908028",
     "status": "completed"
    },
    "tags": []
   },
   "outputs": [],
   "source": [
    "parameters = {\n",
    "    'C': [0.1, 1, 10, 100, 1000],\n",
    "    'gamma': [1, 0.1, 0.01, 0.001, 0.0001],\n",
    "    'kernel': ['rbf']\n",
    "}"
   ]
  },
  {
   "cell_type": "code",
   "execution_count": 39,
   "metadata": {
    "execution": {
     "iopub.execute_input": "2022-12-01T13:45:01.173172Z",
     "iopub.status.busy": "2022-12-01T13:45:01.171937Z",
     "iopub.status.idle": "2022-12-01T13:45:02.066007Z",
     "shell.execute_reply": "2022-12-01T13:45:02.065412Z",
     "shell.execute_reply.started": "2022-12-01T13:43:40.267128Z"
    },
    "id": "yO3nUs8HpzcJ",
    "papermill": {
     "duration": 0.986325,
     "end_time": "2022-12-01T13:45:02.066135",
     "exception": false,
     "start_time": "2022-12-01T13:45:01.079810",
     "status": "completed"
    },
    "tags": []
   },
   "outputs": [
    {
     "name": "stdout",
     "output_type": "stream",
     "text": [
      "Fitting 5 folds for each of 25 candidates, totalling 125 fits\n",
      "[CV] C=0.1, gamma=1, kernel=rbf ......................................\n",
      "[CV] .......... C=0.1, gamma=1, kernel=rbf, score=0.529, total=   0.0s\n",
      "[CV] C=0.1, gamma=1, kernel=rbf ......................................\n",
      "[CV] .......... C=0.1, gamma=1, kernel=rbf, score=0.529, total=   0.0s\n",
      "[CV] C=0.1, gamma=1, kernel=rbf ......................................\n",
      "[CV] .......... C=0.1, gamma=1, kernel=rbf, score=0.500, total=   0.0s\n",
      "[CV] C=0.1, gamma=1, kernel=rbf ......................................\n",
      "[CV] .......... C=0.1, gamma=1, kernel=rbf, score=0.500, total=   0.0s\n",
      "[CV] C=0.1, gamma=1, kernel=rbf ......................................\n",
      "[CV] .......... C=0.1, gamma=1, kernel=rbf, score=0.500, total=   0.0s\n",
      "[CV] C=0.1, gamma=0.1, kernel=rbf ....................................\n",
      "[CV] ........ C=0.1, gamma=0.1, kernel=rbf, score=0.529, total=   0.0s\n",
      "[CV] C=0.1, gamma=0.1, kernel=rbf ....................................\n",
      "[CV] ........ C=0.1, gamma=0.1, kernel=rbf, score=0.529, total=   0.0s\n",
      "[CV] C=0.1, gamma=0.1, kernel=rbf ....................................\n",
      "[CV] ........ C=0.1, gamma=0.1, kernel=rbf, score=0.500, total=   0.0s\n",
      "[CV] C=0.1, gamma=0.1, kernel=rbf ....................................\n",
      "[CV] ........ C=0.1, gamma=0.1, kernel=rbf, score=0.500, total=   0.0s\n",
      "[CV] C=0.1, gamma=0.1, kernel=rbf ....................................\n",
      "[CV] ........ C=0.1, gamma=0.1, kernel=rbf, score=0.500, total=   0.0s\n",
      "[CV] C=0.1, gamma=0.01, kernel=rbf ...................................\n",
      "[CV] ....... C=0.1, gamma=0.01, kernel=rbf, score=0.529, total=   0.0s\n",
      "[CV] C=0.1, gamma=0.01, kernel=rbf ...................................\n",
      "[CV] ....... C=0.1, gamma=0.01, kernel=rbf, score=0.529, total=   0.0s\n",
      "[CV] C=0.1, gamma=0.01, kernel=rbf ...................................\n",
      "[CV] ....... C=0.1, gamma=0.01, kernel=rbf, score=0.500, total=   0.0s\n",
      "[CV] C=0.1, gamma=0.01, kernel=rbf ...................................\n",
      "[CV] ....... C=0.1, gamma=0.01, kernel=rbf, score=0.500, total=   0.0s\n",
      "[CV] C=0.1, gamma=0.01, kernel=rbf ...................................\n",
      "[CV] ....... C=0.1, gamma=0.01, kernel=rbf, score=0.500, total=   0.0s\n",
      "[CV] C=0.1, gamma=0.001, kernel=rbf ..................................\n",
      "[CV] ...... C=0.1, gamma=0.001, kernel=rbf, score=0.529, total=   0.0s\n",
      "[CV] C=0.1, gamma=0.001, kernel=rbf ..................................\n",
      "[CV] ...... C=0.1, gamma=0.001, kernel=rbf, score=0.529, total=   0.0s\n",
      "[CV] C=0.1, gamma=0.001, kernel=rbf ..................................\n",
      "[CV] ...... C=0.1, gamma=0.001, kernel=rbf, score=0.500, total=   0.0s\n",
      "[CV] C=0.1, gamma=0.001, kernel=rbf ..................................\n",
      "[CV] ...... C=0.1, gamma=0.001, kernel=rbf, score=0.500, total=   0.0s\n",
      "[CV] C=0.1, gamma=0.001, kernel=rbf ..................................\n",
      "[CV] ...... C=0.1, gamma=0.001, kernel=rbf, score=0.500, total=   0.0s\n",
      "[CV] C=0.1, gamma=0.0001, kernel=rbf .................................\n",
      "[CV] ..... C=0.1, gamma=0.0001, kernel=rbf, score=0.529, total=   0.0s\n",
      "[CV] C=0.1, gamma=0.0001, kernel=rbf .................................\n",
      "[CV] ..... C=0.1, gamma=0.0001, kernel=rbf, score=0.529, total=   0.0s\n",
      "[CV] C=0.1, gamma=0.0001, kernel=rbf .................................\n",
      "[CV] ..... C=0.1, gamma=0.0001, kernel=rbf, score=0.500, total=   0.0s\n",
      "[CV] C=0.1, gamma=0.0001, kernel=rbf .................................\n",
      "[CV] ..... C=0.1, gamma=0.0001, kernel=rbf, score=0.500, total=   0.0s\n",
      "[CV] C=0.1, gamma=0.0001, kernel=rbf .................................\n",
      "[CV] ..... C=0.1, gamma=0.0001, kernel=rbf, score=0.500, total=   0.0s\n",
      "[CV] C=1, gamma=1, kernel=rbf ........................................\n",
      "[CV] ............ C=1, gamma=1, kernel=rbf, score=0.529, total=   0.0s\n",
      "[CV] C=1, gamma=1, kernel=rbf ........................................\n",
      "[CV] ............ C=1, gamma=1, kernel=rbf, score=0.529, total=   0.0s\n",
      "[CV] C=1, gamma=1, kernel=rbf ........................................\n",
      "[CV] ............ C=1, gamma=1, kernel=rbf, score=0.500, total=   0.0s\n",
      "[CV] C=1, gamma=1, kernel=rbf ........................................\n"
     ]
    },
    {
     "name": "stderr",
     "output_type": "stream",
     "text": [
      "[Parallel(n_jobs=1)]: Using backend SequentialBackend with 1 concurrent workers.\n",
      "[Parallel(n_jobs=1)]: Done   1 out of   1 | elapsed:    0.0s remaining:    0.0s\n",
      "[Parallel(n_jobs=1)]: Done   2 out of   2 | elapsed:    0.0s remaining:    0.0s\n"
     ]
    },
    {
     "name": "stdout",
     "output_type": "stream",
     "text": [
      "[CV] ............ C=1, gamma=1, kernel=rbf, score=0.500, total=   0.0s\n",
      "[CV] C=1, gamma=1, kernel=rbf ........................................\n",
      "[CV] ............ C=1, gamma=1, kernel=rbf, score=0.500, total=   0.0s\n",
      "[CV] C=1, gamma=0.1, kernel=rbf ......................................\n",
      "[CV] .......... C=1, gamma=0.1, kernel=rbf, score=0.529, total=   0.0s\n",
      "[CV] C=1, gamma=0.1, kernel=rbf ......................................\n",
      "[CV] .......... C=1, gamma=0.1, kernel=rbf, score=0.529, total=   0.0s\n",
      "[CV] C=1, gamma=0.1, kernel=rbf ......................................\n",
      "[CV] .......... C=1, gamma=0.1, kernel=rbf, score=0.500, total=   0.0s\n",
      "[CV] C=1, gamma=0.1, kernel=rbf ......................................\n",
      "[CV] .......... C=1, gamma=0.1, kernel=rbf, score=0.500, total=   0.0s\n",
      "[CV] C=1, gamma=0.1, kernel=rbf ......................................\n",
      "[CV] .......... C=1, gamma=0.1, kernel=rbf, score=0.500, total=   0.0s\n",
      "[CV] C=1, gamma=0.01, kernel=rbf .....................................\n",
      "[CV] ......... C=1, gamma=0.01, kernel=rbf, score=0.529, total=   0.0s\n",
      "[CV] C=1, gamma=0.01, kernel=rbf .....................................\n",
      "[CV] ......... C=1, gamma=0.01, kernel=rbf, score=0.529, total=   0.0s\n",
      "[CV] C=1, gamma=0.01, kernel=rbf .....................................\n",
      "[CV] ......... C=1, gamma=0.01, kernel=rbf, score=0.500, total=   0.0s\n",
      "[CV] C=1, gamma=0.01, kernel=rbf .....................................\n",
      "[CV] ......... C=1, gamma=0.01, kernel=rbf, score=0.500, total=   0.0s\n",
      "[CV] C=1, gamma=0.01, kernel=rbf .....................................\n",
      "[CV] ......... C=1, gamma=0.01, kernel=rbf, score=0.500, total=   0.0s\n",
      "[CV] C=1, gamma=0.001, kernel=rbf ....................................\n",
      "[CV] ........ C=1, gamma=0.001, kernel=rbf, score=0.529, total=   0.0s\n",
      "[CV] C=1, gamma=0.001, kernel=rbf ....................................\n",
      "[CV] ........ C=1, gamma=0.001, kernel=rbf, score=0.529, total=   0.0s\n",
      "[CV] C=1, gamma=0.001, kernel=rbf ....................................\n",
      "[CV] ........ C=1, gamma=0.001, kernel=rbf, score=0.500, total=   0.0s\n",
      "[CV] C=1, gamma=0.001, kernel=rbf ....................................\n",
      "[CV] ........ C=1, gamma=0.001, kernel=rbf, score=0.500, total=   0.0s\n",
      "[CV] C=1, gamma=0.001, kernel=rbf ....................................\n",
      "[CV] ........ C=1, gamma=0.001, kernel=rbf, score=0.500, total=   0.0s\n",
      "[CV] C=1, gamma=0.0001, kernel=rbf ...................................\n",
      "[CV] ....... C=1, gamma=0.0001, kernel=rbf, score=0.529, total=   0.0s\n",
      "[CV] C=1, gamma=0.0001, kernel=rbf ...................................\n",
      "[CV] ....... C=1, gamma=0.0001, kernel=rbf, score=0.529, total=   0.0s\n",
      "[CV] C=1, gamma=0.0001, kernel=rbf ...................................\n",
      "[CV] ....... C=1, gamma=0.0001, kernel=rbf, score=0.500, total=   0.0s\n",
      "[CV] C=1, gamma=0.0001, kernel=rbf ...................................\n",
      "[CV] ....... C=1, gamma=0.0001, kernel=rbf, score=0.500, total=   0.0s\n",
      "[CV] C=1, gamma=0.0001, kernel=rbf ...................................\n",
      "[CV] ....... C=1, gamma=0.0001, kernel=rbf, score=0.500, total=   0.0s\n",
      "[CV] C=10, gamma=1, kernel=rbf .......................................\n",
      "[CV] ........... C=10, gamma=1, kernel=rbf, score=0.529, total=   0.0s\n",
      "[CV] C=10, gamma=1, kernel=rbf .......................................\n",
      "[CV] ........... C=10, gamma=1, kernel=rbf, score=0.529, total=   0.0s\n",
      "[CV] C=10, gamma=1, kernel=rbf .......................................\n",
      "[CV] ........... C=10, gamma=1, kernel=rbf, score=0.500, total=   0.0s\n",
      "[CV] C=10, gamma=1, kernel=rbf .......................................\n",
      "[CV] ........... C=10, gamma=1, kernel=rbf, score=0.500, total=   0.0s\n",
      "[CV] C=10, gamma=1, kernel=rbf .......................................\n",
      "[CV] ........... C=10, gamma=1, kernel=rbf, score=0.500, total=   0.0s\n",
      "[CV] C=10, gamma=0.1, kernel=rbf .....................................\n",
      "[CV] ......... C=10, gamma=0.1, kernel=rbf, score=0.529, total=   0.0s\n",
      "[CV] C=10, gamma=0.1, kernel=rbf .....................................\n",
      "[CV] ......... C=10, gamma=0.1, kernel=rbf, score=0.529, total=   0.0s\n",
      "[CV] C=10, gamma=0.1, kernel=rbf .....................................\n",
      "[CV] ......... C=10, gamma=0.1, kernel=rbf, score=0.500, total=   0.0s\n",
      "[CV] C=10, gamma=0.1, kernel=rbf .....................................\n",
      "[CV] ......... C=10, gamma=0.1, kernel=rbf, score=0.500, total=   0.0s\n",
      "[CV] C=10, gamma=0.1, kernel=rbf .....................................\n",
      "[CV] ......... C=10, gamma=0.1, kernel=rbf, score=0.500, total=   0.0s\n",
      "[CV] C=10, gamma=0.01, kernel=rbf ....................................\n",
      "[CV] ........ C=10, gamma=0.01, kernel=rbf, score=0.529, total=   0.0s\n",
      "[CV] C=10, gamma=0.01, kernel=rbf ....................................\n",
      "[CV] ........ C=10, gamma=0.01, kernel=rbf, score=0.529, total=   0.0s\n",
      "[CV] C=10, gamma=0.01, kernel=rbf ....................................\n",
      "[CV] ........ C=10, gamma=0.01, kernel=rbf, score=0.500, total=   0.0s\n",
      "[CV] C=10, gamma=0.01, kernel=rbf ....................................\n",
      "[CV] ........ C=10, gamma=0.01, kernel=rbf, score=0.500, total=   0.0s\n",
      "[CV] C=10, gamma=0.01, kernel=rbf ....................................\n",
      "[CV] ........ C=10, gamma=0.01, kernel=rbf, score=0.500, total=   0.0s\n",
      "[CV] C=10, gamma=0.001, kernel=rbf ...................................\n",
      "[CV] ....... C=10, gamma=0.001, kernel=rbf, score=0.529, total=   0.0s\n",
      "[CV] C=10, gamma=0.001, kernel=rbf ...................................\n",
      "[CV] ....... C=10, gamma=0.001, kernel=rbf, score=0.529, total=   0.0s\n",
      "[CV] C=10, gamma=0.001, kernel=rbf ...................................\n",
      "[CV] ....... C=10, gamma=0.001, kernel=rbf, score=0.500, total=   0.0s\n",
      "[CV] C=10, gamma=0.001, kernel=rbf ...................................\n",
      "[CV] ....... C=10, gamma=0.001, kernel=rbf, score=0.500, total=   0.0s\n",
      "[CV] C=10, gamma=0.001, kernel=rbf ...................................\n",
      "[CV] ....... C=10, gamma=0.001, kernel=rbf, score=0.500, total=   0.0s\n",
      "[CV] C=10, gamma=0.0001, kernel=rbf ..................................\n",
      "[CV] ...... C=10, gamma=0.0001, kernel=rbf, score=0.529, total=   0.0s\n",
      "[CV] C=10, gamma=0.0001, kernel=rbf ..................................\n",
      "[CV] ...... C=10, gamma=0.0001, kernel=rbf, score=0.529, total=   0.0s\n",
      "[CV] C=10, gamma=0.0001, kernel=rbf ..................................\n",
      "[CV] ...... C=10, gamma=0.0001, kernel=rbf, score=0.562, total=   0.0s\n",
      "[CV] C=10, gamma=0.0001, kernel=rbf ..................................\n",
      "[CV] ...... C=10, gamma=0.0001, kernel=rbf, score=0.500, total=   0.0s\n",
      "[CV] C=10, gamma=0.0001, kernel=rbf ..................................\n",
      "[CV] ...... C=10, gamma=0.0001, kernel=rbf, score=0.562, total=   0.0s\n",
      "[CV] C=100, gamma=1, kernel=rbf ......................................\n",
      "[CV] .......... C=100, gamma=1, kernel=rbf, score=0.529, total=   0.0s\n",
      "[CV] C=100, gamma=1, kernel=rbf ......................................\n",
      "[CV] .......... C=100, gamma=1, kernel=rbf, score=0.529, total=   0.0s\n",
      "[CV] C=100, gamma=1, kernel=rbf ......................................\n",
      "[CV] .......... C=100, gamma=1, kernel=rbf, score=0.500, total=   0.0s\n",
      "[CV] C=100, gamma=1, kernel=rbf ......................................\n",
      "[CV] .......... C=100, gamma=1, kernel=rbf, score=0.500, total=   0.0s\n",
      "[CV] C=100, gamma=1, kernel=rbf ......................................\n",
      "[CV] .......... C=100, gamma=1, kernel=rbf, score=0.500, total=   0.0s\n",
      "[CV] C=100, gamma=0.1, kernel=rbf ....................................\n",
      "[CV] ........ C=100, gamma=0.1, kernel=rbf, score=0.529, total=   0.0s\n",
      "[CV] C=100, gamma=0.1, kernel=rbf ....................................\n",
      "[CV] ........ C=100, gamma=0.1, kernel=rbf, score=0.529, total=   0.0s\n",
      "[CV] C=100, gamma=0.1, kernel=rbf ....................................\n",
      "[CV] ........ C=100, gamma=0.1, kernel=rbf, score=0.500, total=   0.0s\n",
      "[CV] C=100, gamma=0.1, kernel=rbf ....................................\n",
      "[CV] ........ C=100, gamma=0.1, kernel=rbf, score=0.500, total=   0.0s\n",
      "[CV] C=100, gamma=0.1, kernel=rbf ....................................\n",
      "[CV] ........ C=100, gamma=0.1, kernel=rbf, score=0.500, total=   0.0s\n",
      "[CV] C=100, gamma=0.01, kernel=rbf ...................................\n",
      "[CV] ....... C=100, gamma=0.01, kernel=rbf, score=0.529, total=   0.0s\n",
      "[CV] C=100, gamma=0.01, kernel=rbf ...................................\n",
      "[CV] ....... C=100, gamma=0.01, kernel=rbf, score=0.529, total=   0.0s\n",
      "[CV] C=100, gamma=0.01, kernel=rbf ...................................\n",
      "[CV] ....... C=100, gamma=0.01, kernel=rbf, score=0.500, total=   0.0s\n",
      "[CV] C=100, gamma=0.01, kernel=rbf ...................................\n",
      "[CV] ....... C=100, gamma=0.01, kernel=rbf, score=0.500, total=   0.0s\n",
      "[CV] C=100, gamma=0.01, kernel=rbf ...................................\n",
      "[CV] ....... C=100, gamma=0.01, kernel=rbf, score=0.500, total=   0.0s\n",
      "[CV] C=100, gamma=0.001, kernel=rbf ..................................\n",
      "[CV] ...... C=100, gamma=0.001, kernel=rbf, score=0.529, total=   0.0s\n",
      "[CV] C=100, gamma=0.001, kernel=rbf ..................................\n",
      "[CV] ...... C=100, gamma=0.001, kernel=rbf, score=0.529, total=   0.0s\n",
      "[CV] C=100, gamma=0.001, kernel=rbf ..................................\n",
      "[CV] ...... C=100, gamma=0.001, kernel=rbf, score=0.500, total=   0.0s\n",
      "[CV] C=100, gamma=0.001, kernel=rbf ..................................\n",
      "[CV] ...... C=100, gamma=0.001, kernel=rbf, score=0.500, total=   0.0s\n",
      "[CV] C=100, gamma=0.001, kernel=rbf ..................................\n",
      "[CV] ...... C=100, gamma=0.001, kernel=rbf, score=0.500, total=   0.0s\n",
      "[CV] C=100, gamma=0.0001, kernel=rbf .................................\n",
      "[CV] ..... C=100, gamma=0.0001, kernel=rbf, score=0.529, total=   0.0s\n",
      "[CV] C=100, gamma=0.0001, kernel=rbf .................................\n",
      "[CV] ..... C=100, gamma=0.0001, kernel=rbf, score=0.529, total=   0.0s\n",
      "[CV] C=100, gamma=0.0001, kernel=rbf .................................\n",
      "[CV] ..... C=100, gamma=0.0001, kernel=rbf, score=0.562, total=   0.0s\n",
      "[CV] C=100, gamma=0.0001, kernel=rbf .................................\n",
      "[CV] ..... C=100, gamma=0.0001, kernel=rbf, score=0.500, total=   0.0s\n",
      "[CV] C=100, gamma=0.0001, kernel=rbf .................................\n",
      "[CV] ..... C=100, gamma=0.0001, kernel=rbf, score=0.562, total=   0.0s\n",
      "[CV] C=1000, gamma=1, kernel=rbf .....................................\n",
      "[CV] ......... C=1000, gamma=1, kernel=rbf, score=0.529, total=   0.0s\n",
      "[CV] C=1000, gamma=1, kernel=rbf .....................................\n",
      "[CV] ......... C=1000, gamma=1, kernel=rbf, score=0.529, total=   0.0s\n",
      "[CV] C=1000, gamma=1, kernel=rbf .....................................\n",
      "[CV] ......... C=1000, gamma=1, kernel=rbf, score=0.500, total=   0.0s\n",
      "[CV] C=1000, gamma=1, kernel=rbf .....................................\n",
      "[CV] ......... C=1000, gamma=1, kernel=rbf, score=0.500, total=   0.0s\n",
      "[CV] C=1000, gamma=1, kernel=rbf .....................................\n",
      "[CV] ......... C=1000, gamma=1, kernel=rbf, score=0.500, total=   0.0s\n",
      "[CV] C=1000, gamma=0.1, kernel=rbf ...................................\n",
      "[CV] ....... C=1000, gamma=0.1, kernel=rbf, score=0.529, total=   0.0s\n",
      "[CV] C=1000, gamma=0.1, kernel=rbf ...................................\n",
      "[CV] ....... C=1000, gamma=0.1, kernel=rbf, score=0.529, total=   0.0s\n",
      "[CV] C=1000, gamma=0.1, kernel=rbf ...................................\n",
      "[CV] ....... C=1000, gamma=0.1, kernel=rbf, score=0.500, total=   0.0s\n",
      "[CV] C=1000, gamma=0.1, kernel=rbf ...................................\n",
      "[CV] ....... C=1000, gamma=0.1, kernel=rbf, score=0.500, total=   0.0s\n",
      "[CV] C=1000, gamma=0.1, kernel=rbf ...................................\n",
      "[CV] ....... C=1000, gamma=0.1, kernel=rbf, score=0.500, total=   0.0s\n",
      "[CV] C=1000, gamma=0.01, kernel=rbf ..................................\n",
      "[CV] ...... C=1000, gamma=0.01, kernel=rbf, score=0.529, total=   0.0s\n",
      "[CV] C=1000, gamma=0.01, kernel=rbf ..................................\n",
      "[CV] ...... C=1000, gamma=0.01, kernel=rbf, score=0.529, total=   0.0s\n",
      "[CV] C=1000, gamma=0.01, kernel=rbf ..................................\n",
      "[CV] ...... C=1000, gamma=0.01, kernel=rbf, score=0.500, total=   0.0s\n",
      "[CV] C=1000, gamma=0.01, kernel=rbf ..................................\n",
      "[CV] ...... C=1000, gamma=0.01, kernel=rbf, score=0.500, total=   0.0s\n",
      "[CV] C=1000, gamma=0.01, kernel=rbf ..................................\n",
      "[CV] ...... C=1000, gamma=0.01, kernel=rbf, score=0.500, total=   0.0s\n",
      "[CV] C=1000, gamma=0.001, kernel=rbf .................................\n",
      "[CV] ..... C=1000, gamma=0.001, kernel=rbf, score=0.529, total=   0.0s\n",
      "[CV] C=1000, gamma=0.001, kernel=rbf .................................\n",
      "[CV] ..... C=1000, gamma=0.001, kernel=rbf, score=0.529, total=   0.0s\n",
      "[CV] C=1000, gamma=0.001, kernel=rbf .................................\n",
      "[CV] ..... C=1000, gamma=0.001, kernel=rbf, score=0.500, total=   0.0s\n",
      "[CV] C=1000, gamma=0.001, kernel=rbf .................................\n",
      "[CV] ..... C=1000, gamma=0.001, kernel=rbf, score=0.500, total=   0.0s\n",
      "[CV] C=1000, gamma=0.001, kernel=rbf .................................\n",
      "[CV] ..... C=1000, gamma=0.001, kernel=rbf, score=0.500, total=   0.0s\n",
      "[CV] C=1000, gamma=0.0001, kernel=rbf ................................\n",
      "[CV] .... C=1000, gamma=0.0001, kernel=rbf, score=0.529, total=   0.0s\n",
      "[CV] C=1000, gamma=0.0001, kernel=rbf ................................\n",
      "[CV] .... C=1000, gamma=0.0001, kernel=rbf, score=0.529, total=   0.0s\n",
      "[CV] C=1000, gamma=0.0001, kernel=rbf ................................\n",
      "[CV] .... C=1000, gamma=0.0001, kernel=rbf, score=0.562, total=   0.0s\n",
      "[CV] C=1000, gamma=0.0001, kernel=rbf ................................\n",
      "[CV] .... C=1000, gamma=0.0001, kernel=rbf, score=0.500, total=   0.0s\n",
      "[CV] C=1000, gamma=0.0001, kernel=rbf ................................\n",
      "[CV] .... C=1000, gamma=0.0001, kernel=rbf, score=0.562, total=   0.0s\n"
     ]
    },
    {
     "name": "stderr",
     "output_type": "stream",
     "text": [
      "[Parallel(n_jobs=1)]: Done 125 out of 125 | elapsed:    0.9s finished\n"
     ]
    },
    {
     "data": {
      "text/plain": [
       "GridSearchCV(estimator=SVC(),\n",
       "             param_grid={'C': [0.1, 1, 10, 100, 1000],\n",
       "                         'gamma': [1, 0.1, 0.01, 0.001, 0.0001],\n",
       "                         'kernel': ['rbf']},\n",
       "             verbose=3)"
      ]
     },
     "execution_count": 39,
     "metadata": {},
     "output_type": "execute_result"
    }
   ],
   "source": [
    "from sklearn.model_selection import GridSearchCV\n",
    "grid = GridSearchCV(SVC(), parameters, verbose=3)\n",
    "grid.fit(xtrain, ytrain)"
   ]
  },
  {
   "cell_type": "code",
   "execution_count": 40,
   "metadata": {
    "execution": {
     "iopub.execute_input": "2022-12-01T13:45:02.243626Z",
     "iopub.status.busy": "2022-12-01T13:45:02.242977Z",
     "iopub.status.idle": "2022-12-01T13:45:02.248729Z",
     "shell.execute_reply": "2022-12-01T13:45:02.249260Z",
     "shell.execute_reply.started": "2022-12-01T13:43:41.050408Z"
    },
    "executionInfo": {
     "elapsed": 42,
     "status": "ok",
     "timestamp": 1661249538599,
     "user": {
      "displayName": "Ruturaj Ranpise",
      "userId": "13134967451216320931"
     },
     "user_tz": -330
    },
    "id": "dQmSBFUzp39Q",
    "outputId": "061ac30d-21c9-4232-9ec2-e35feef35ade",
    "papermill": {
     "duration": 0.098495,
     "end_time": "2022-12-01T13:45:02.249410",
     "exception": false,
     "start_time": "2022-12-01T13:45:02.150915",
     "status": "completed"
    },
    "tags": []
   },
   "outputs": [
    {
     "data": {
      "text/plain": [
       "{'C': 10, 'gamma': 0.0001, 'kernel': 'rbf'}"
      ]
     },
     "execution_count": 40,
     "metadata": {},
     "output_type": "execute_result"
    }
   ],
   "source": [
    "grid.best_params_"
   ]
  },
  {
   "cell_type": "code",
   "execution_count": 41,
   "metadata": {
    "execution": {
     "iopub.execute_input": "2022-12-01T13:45:02.423158Z",
     "iopub.status.busy": "2022-12-01T13:45:02.422340Z",
     "iopub.status.idle": "2022-12-01T13:45:02.428856Z",
     "shell.execute_reply": "2022-12-01T13:45:02.428183Z",
     "shell.execute_reply.started": "2022-12-01T13:43:41.059011Z"
    },
    "executionInfo": {
     "elapsed": 35,
     "status": "ok",
     "timestamp": 1661249538599,
     "user": {
      "displayName": "Ruturaj Ranpise",
      "userId": "13134967451216320931"
     },
     "user_tz": -330
    },
    "id": "hLomfG_IqR27",
    "outputId": "4384fe2f-c1fd-4d13-bf8a-98044f02455d",
    "papermill": {
     "duration": 0.095218,
     "end_time": "2022-12-01T13:45:02.428998",
     "exception": false,
     "start_time": "2022-12-01T13:45:02.333780",
     "status": "completed"
    },
    "tags": []
   },
   "outputs": [
    {
     "data": {
      "text/plain": [
       "0.5367647058823529"
      ]
     },
     "execution_count": 41,
     "metadata": {},
     "output_type": "execute_result"
    }
   ],
   "source": [
    "grid.best_score_"
   ]
  },
  {
   "cell_type": "code",
   "execution_count": 42,
   "metadata": {
    "execution": {
     "iopub.execute_input": "2022-12-01T13:45:02.602971Z",
     "iopub.status.busy": "2022-12-01T13:45:02.602156Z",
     "iopub.status.idle": "2022-12-01T13:45:02.606953Z",
     "shell.execute_reply": "2022-12-01T13:45:02.606391Z",
     "shell.execute_reply.started": "2022-12-01T13:43:41.069206Z"
    },
    "executionInfo": {
     "elapsed": 935,
     "status": "ok",
     "timestamp": 1661249539502,
     "user": {
      "displayName": "Ruturaj Ranpise",
      "userId": "13134967451216320931"
     },
     "user_tz": -330
    },
    "id": "oVKYpDA_qSpH",
    "outputId": "d7ce8c43-8bce-4c3d-9b7a-8cbb28fd4283",
    "papermill": {
     "duration": 0.093538,
     "end_time": "2022-12-01T13:45:02.607085",
     "exception": false,
     "start_time": "2022-12-01T13:45:02.513547",
     "status": "completed"
    },
    "tags": []
   },
   "outputs": [
    {
     "data": {
      "text/plain": [
       "SVC(C=10, gamma=0.0001)"
      ]
     },
     "execution_count": 42,
     "metadata": {},
     "output_type": "execute_result"
    }
   ],
   "source": [
    "grid.best_estimator_"
   ]
  },
  {
   "cell_type": "code",
   "execution_count": 43,
   "metadata": {
    "execution": {
     "iopub.execute_input": "2022-12-01T13:45:02.784924Z",
     "iopub.status.busy": "2022-12-01T13:45:02.784137Z",
     "iopub.status.idle": "2022-12-01T13:45:02.802539Z",
     "shell.execute_reply": "2022-12-01T13:45:02.801817Z",
     "shell.execute_reply.started": "2022-12-01T13:43:41.080466Z"
    },
    "executionInfo": {
     "elapsed": 23,
     "status": "ok",
     "timestamp": 1661249539502,
     "user": {
      "displayName": "Ruturaj Ranpise",
      "userId": "13134967451216320931"
     },
     "user_tz": -330
    },
    "id": "j3Ks4Mh4qWVb",
    "outputId": "953f9809-9eb0-4819-90d7-36de2d9e6a96",
    "papermill": {
     "duration": 0.10944,
     "end_time": "2022-12-01T13:45:02.802665",
     "exception": false,
     "start_time": "2022-12-01T13:45:02.693225",
     "status": "completed"
    },
    "tags": []
   },
   "outputs": [
    {
     "name": "stdout",
     "output_type": "stream",
     "text": [
      "Training Accuracy : 1.0\n",
      "Testing Accuracy : 0.4722222222222222\n",
      "\n",
      "\n",
      "              precision    recall  f1-score   support\n",
      "\n",
      "           0       0.46      1.00      0.63        16\n",
      "           1       1.00      0.05      0.10        20\n",
      "\n",
      "    accuracy                           0.47        36\n",
      "   macro avg       0.73      0.53      0.36        36\n",
      "weighted avg       0.76      0.47      0.33        36\n",
      "\n"
     ]
    }
   ],
   "source": [
    "svm = mymodel(grid.best_estimator_)"
   ]
  },
  {
   "cell_type": "markdown",
   "metadata": {
    "id": "MsNOScJkq7pq",
    "papermill": {
     "duration": 0.08705,
     "end_time": "2022-12-01T13:45:02.979625",
     "exception": false,
     "start_time": "2022-12-01T13:45:02.892575",
     "status": "completed"
    },
    "tags": []
   },
   "source": [
    "##HyperParameter Tuning For LogReg\n",
    "\n",
    "# *GridSearchCV*"
   ]
  },
  {
   "cell_type": "code",
   "execution_count": 44,
   "metadata": {
    "execution": {
     "iopub.execute_input": "2022-12-01T13:45:03.160369Z",
     "iopub.status.busy": "2022-12-01T13:45:03.159265Z",
     "iopub.status.idle": "2022-12-01T13:45:03.162695Z",
     "shell.execute_reply": "2022-12-01T13:45:03.162028Z",
     "shell.execute_reply.started": "2022-12-01T13:43:41.100884Z"
    },
    "id": "zyQDM-lhqZ4u",
    "papermill": {
     "duration": 0.096903,
     "end_time": "2022-12-01T13:45:03.162858",
     "exception": false,
     "start_time": "2022-12-01T13:45:03.065955",
     "status": "completed"
    },
    "tags": []
   },
   "outputs": [],
   "source": [
    "parameters = {\n",
    "    'penalty' : ['l1','l2'], \n",
    "    'C'       : np.logspace(-3,3,7),\n",
    "    'solver'  : ['newton-cg', 'lbfgs', 'liblinear'],\n",
    "}"
   ]
  },
  {
   "cell_type": "code",
   "execution_count": 45,
   "metadata": {
    "execution": {
     "iopub.execute_input": "2022-12-01T13:45:03.347670Z",
     "iopub.status.busy": "2022-12-01T13:45:03.345374Z",
     "iopub.status.idle": "2022-12-01T13:45:09.013958Z",
     "shell.execute_reply": "2022-12-01T13:45:09.014499Z",
     "shell.execute_reply.started": "2022-12-01T13:43:41.107159Z"
    },
    "id": "d_Fh4no_r5I1",
    "papermill": {
     "duration": 5.763183,
     "end_time": "2022-12-01T13:45:09.014656",
     "exception": false,
     "start_time": "2022-12-01T13:45:03.251473",
     "status": "completed"
    },
    "tags": []
   },
   "outputs": [
    {
     "name": "stdout",
     "output_type": "stream",
     "text": [
      "Fitting 5 folds for each of 42 candidates, totalling 210 fits\n",
      "[CV] C=0.001, penalty=l1, solver=newton-cg ...........................\n",
      "[CV] ............ C=0.001, penalty=l1, solver=newton-cg, total=   0.0s\n",
      "[CV] C=0.001, penalty=l1, solver=newton-cg ...........................\n",
      "[CV] ............ C=0.001, penalty=l1, solver=newton-cg, total=   0.0s\n",
      "[CV] C=0.001, penalty=l1, solver=newton-cg ...........................\n",
      "[CV] ............ C=0.001, penalty=l1, solver=newton-cg, total=   0.0s\n",
      "[CV] C=0.001, penalty=l1, solver=newton-cg ...........................\n",
      "[CV] ............ C=0.001, penalty=l1, solver=newton-cg, total=   0.0s\n",
      "[CV] C=0.001, penalty=l1, solver=newton-cg ...........................\n",
      "[CV] ............ C=0.001, penalty=l1, solver=newton-cg, total=   0.0s\n",
      "[CV] C=0.001, penalty=l1, solver=lbfgs ...............................\n",
      "[CV] ................ C=0.001, penalty=l1, solver=lbfgs, total=   0.0s\n",
      "[CV] C=0.001, penalty=l1, solver=lbfgs ...............................\n",
      "[CV] ................ C=0.001, penalty=l1, solver=lbfgs, total=   0.0s\n",
      "[CV] C=0.001, penalty=l1, solver=lbfgs ...............................\n",
      "[CV] ................ C=0.001, penalty=l1, solver=lbfgs, total=   0.0s\n",
      "[CV] C=0.001, penalty=l1, solver=lbfgs ...............................\n",
      "[CV] ................ C=0.001, penalty=l1, solver=lbfgs, total=   0.0s\n",
      "[CV] C=0.001, penalty=l1, solver=lbfgs ...............................\n",
      "[CV] ................ C=0.001, penalty=l1, solver=lbfgs, total=   0.0s\n",
      "[CV] C=0.001, penalty=l1, solver=liblinear ...........................\n",
      "[CV] ............ C=0.001, penalty=l1, solver=liblinear, total=   0.0s\n",
      "[CV] C=0.001, penalty=l1, solver=liblinear ...........................\n",
      "[CV] ............ C=0.001, penalty=l1, solver=liblinear, total=   0.0s\n",
      "[CV] C=0.001, penalty=l1, solver=liblinear ...........................\n",
      "[CV] ............ C=0.001, penalty=l1, solver=liblinear, total=   0.0s\n",
      "[CV] C=0.001, penalty=l1, solver=liblinear ...........................\n",
      "[CV] ............ C=0.001, penalty=l1, solver=liblinear, total=   0.0s\n",
      "[CV] C=0.001, penalty=l1, solver=liblinear ...........................\n",
      "[CV] ............ C=0.001, penalty=l1, solver=liblinear, total=   0.0s\n",
      "[CV] C=0.001, penalty=l2, solver=newton-cg ...........................\n",
      "[CV] ............ C=0.001, penalty=l2, solver=newton-cg, total=   0.1s\n",
      "[CV] C=0.001, penalty=l2, solver=newton-cg ...........................\n"
     ]
    },
    {
     "name": "stderr",
     "output_type": "stream",
     "text": [
      "[Parallel(n_jobs=1)]: Using backend SequentialBackend with 1 concurrent workers.\n",
      "[Parallel(n_jobs=1)]: Done   1 out of   1 | elapsed:    0.0s remaining:    0.0s\n"
     ]
    },
    {
     "name": "stdout",
     "output_type": "stream",
     "text": [
      "[CV] ............ C=0.001, penalty=l2, solver=newton-cg, total=   0.1s\n",
      "[CV] C=0.001, penalty=l2, solver=newton-cg ...........................\n",
      "[CV] ............ C=0.001, penalty=l2, solver=newton-cg, total=   0.1s\n",
      "[CV] C=0.001, penalty=l2, solver=newton-cg ...........................\n",
      "[CV] ............ C=0.001, penalty=l2, solver=newton-cg, total=   0.1s\n",
      "[CV] C=0.001, penalty=l2, solver=newton-cg ...........................\n",
      "[CV] ............ C=0.001, penalty=l2, solver=newton-cg, total=   0.1s\n",
      "[CV] C=0.001, penalty=l2, solver=lbfgs ...............................\n",
      "[CV] ................ C=0.001, penalty=l2, solver=lbfgs, total=   0.0s\n",
      "[CV] C=0.001, penalty=l2, solver=lbfgs ...............................\n",
      "[CV] ................ C=0.001, penalty=l2, solver=lbfgs, total=   0.0s\n",
      "[CV] C=0.001, penalty=l2, solver=lbfgs ...............................\n",
      "[CV] ................ C=0.001, penalty=l2, solver=lbfgs, total=   0.0s\n",
      "[CV] C=0.001, penalty=l2, solver=lbfgs ...............................\n",
      "[CV] ................ C=0.001, penalty=l2, solver=lbfgs, total=   0.0s\n",
      "[CV] C=0.001, penalty=l2, solver=lbfgs ...............................\n",
      "[CV] ................ C=0.001, penalty=l2, solver=lbfgs, total=   0.0s\n",
      "[CV] C=0.001, penalty=l2, solver=liblinear ...........................\n",
      "[CV] ............ C=0.001, penalty=l2, solver=liblinear, total=   0.0s\n",
      "[CV] C=0.001, penalty=l2, solver=liblinear ...........................\n",
      "[CV] ............ C=0.001, penalty=l2, solver=liblinear, total=   0.0s\n",
      "[CV] C=0.001, penalty=l2, solver=liblinear ...........................\n",
      "[CV] ............ C=0.001, penalty=l2, solver=liblinear, total=   0.0s\n",
      "[CV] C=0.001, penalty=l2, solver=liblinear ...........................\n",
      "[CV] ............ C=0.001, penalty=l2, solver=liblinear, total=   0.0s\n",
      "[CV] C=0.001, penalty=l2, solver=liblinear ...........................\n",
      "[CV] ............ C=0.001, penalty=l2, solver=liblinear, total=   0.0s\n",
      "[CV] C=0.01, penalty=l1, solver=newton-cg ............................\n",
      "[CV] ............. C=0.01, penalty=l1, solver=newton-cg, total=   0.0s\n",
      "[CV] C=0.01, penalty=l1, solver=newton-cg ............................\n",
      "[CV] ............. C=0.01, penalty=l1, solver=newton-cg, total=   0.0s\n",
      "[CV] C=0.01, penalty=l1, solver=newton-cg ............................\n",
      "[CV] ............. C=0.01, penalty=l1, solver=newton-cg, total=   0.0s\n",
      "[CV] C=0.01, penalty=l1, solver=newton-cg ............................\n",
      "[CV] ............. C=0.01, penalty=l1, solver=newton-cg, total=   0.0s\n",
      "[CV] C=0.01, penalty=l1, solver=newton-cg ............................\n",
      "[CV] ............. C=0.01, penalty=l1, solver=newton-cg, total=   0.0s\n",
      "[CV] C=0.01, penalty=l1, solver=lbfgs ................................\n",
      "[CV] ................. C=0.01, penalty=l1, solver=lbfgs, total=   0.0s\n",
      "[CV] C=0.01, penalty=l1, solver=lbfgs ................................\n",
      "[CV] ................. C=0.01, penalty=l1, solver=lbfgs, total=   0.0s\n",
      "[CV] C=0.01, penalty=l1, solver=lbfgs ................................\n",
      "[CV] ................. C=0.01, penalty=l1, solver=lbfgs, total=   0.0s\n",
      "[CV] C=0.01, penalty=l1, solver=lbfgs ................................\n",
      "[CV] ................. C=0.01, penalty=l1, solver=lbfgs, total=   0.0s\n",
      "[CV] C=0.01, penalty=l1, solver=lbfgs ................................\n",
      "[CV] ................. C=0.01, penalty=l1, solver=lbfgs, total=   0.0s\n",
      "[CV] C=0.01, penalty=l1, solver=liblinear ............................\n",
      "[CV] ............. C=0.01, penalty=l1, solver=liblinear, total=   0.0s\n",
      "[CV] C=0.01, penalty=l1, solver=liblinear ............................\n",
      "[CV] ............. C=0.01, penalty=l1, solver=liblinear, total=   0.0s\n",
      "[CV] C=0.01, penalty=l1, solver=liblinear ............................\n",
      "[CV] ............. C=0.01, penalty=l1, solver=liblinear, total=   0.0s\n",
      "[CV] C=0.01, penalty=l1, solver=liblinear ............................\n",
      "[CV] ............. C=0.01, penalty=l1, solver=liblinear, total=   0.0s\n",
      "[CV] C=0.01, penalty=l1, solver=liblinear ............................\n",
      "[CV] ............. C=0.01, penalty=l1, solver=liblinear, total=   0.0s\n",
      "[CV] C=0.01, penalty=l2, solver=newton-cg ............................\n",
      "[CV] ............. C=0.01, penalty=l2, solver=newton-cg, total=   0.1s\n",
      "[CV] C=0.01, penalty=l2, solver=newton-cg ............................\n",
      "[CV] ............. C=0.01, penalty=l2, solver=newton-cg, total=   0.1s\n",
      "[CV] C=0.01, penalty=l2, solver=newton-cg ............................\n",
      "[CV] ............. C=0.01, penalty=l2, solver=newton-cg, total=   0.1s\n",
      "[CV] C=0.01, penalty=l2, solver=newton-cg ............................\n",
      "[CV] ............. C=0.01, penalty=l2, solver=newton-cg, total=   0.1s\n",
      "[CV] C=0.01, penalty=l2, solver=newton-cg ............................\n",
      "[CV] ............. C=0.01, penalty=l2, solver=newton-cg, total=   0.1s\n",
      "[CV] C=0.01, penalty=l2, solver=lbfgs ................................\n",
      "[CV] ................. C=0.01, penalty=l2, solver=lbfgs, total=   0.0s\n",
      "[CV] C=0.01, penalty=l2, solver=lbfgs ................................\n",
      "[CV] ................. C=0.01, penalty=l2, solver=lbfgs, total=   0.0s\n",
      "[CV] C=0.01, penalty=l2, solver=lbfgs ................................\n",
      "[CV] ................. C=0.01, penalty=l2, solver=lbfgs, total=   0.0s\n",
      "[CV] C=0.01, penalty=l2, solver=lbfgs ................................\n",
      "[CV] ................. C=0.01, penalty=l2, solver=lbfgs, total=   0.0s\n",
      "[CV] C=0.01, penalty=l2, solver=lbfgs ................................\n",
      "[CV] ................. C=0.01, penalty=l2, solver=lbfgs, total=   0.0s\n",
      "[CV] C=0.01, penalty=l2, solver=liblinear ............................\n",
      "[CV] ............. C=0.01, penalty=l2, solver=liblinear, total=   0.0s\n",
      "[CV] C=0.01, penalty=l2, solver=liblinear ............................\n",
      "[CV] ............. C=0.01, penalty=l2, solver=liblinear, total=   0.0s\n",
      "[CV] C=0.01, penalty=l2, solver=liblinear ............................\n",
      "[CV] ............. C=0.01, penalty=l2, solver=liblinear, total=   0.0s\n",
      "[CV] C=0.01, penalty=l2, solver=liblinear ............................\n",
      "[CV] ............. C=0.01, penalty=l2, solver=liblinear, total=   0.0s\n",
      "[CV] C=0.01, penalty=l2, solver=liblinear ............................\n",
      "[CV] ............. C=0.01, penalty=l2, solver=liblinear, total=   0.0s\n",
      "[CV] C=0.1, penalty=l1, solver=newton-cg .............................\n",
      "[CV] .............. C=0.1, penalty=l1, solver=newton-cg, total=   0.0s\n",
      "[CV] C=0.1, penalty=l1, solver=newton-cg .............................\n",
      "[CV] .............. C=0.1, penalty=l1, solver=newton-cg, total=   0.0s\n",
      "[CV] C=0.1, penalty=l1, solver=newton-cg .............................\n",
      "[CV] .............. C=0.1, penalty=l1, solver=newton-cg, total=   0.0s\n",
      "[CV] C=0.1, penalty=l1, solver=newton-cg .............................\n",
      "[CV] .............. C=0.1, penalty=l1, solver=newton-cg, total=   0.0s\n",
      "[CV] C=0.1, penalty=l1, solver=newton-cg .............................\n",
      "[CV] .............. C=0.1, penalty=l1, solver=newton-cg, total=   0.0s\n",
      "[CV] C=0.1, penalty=l1, solver=lbfgs .................................\n",
      "[CV] .................. C=0.1, penalty=l1, solver=lbfgs, total=   0.0s\n",
      "[CV] C=0.1, penalty=l1, solver=lbfgs .................................\n",
      "[CV] .................. C=0.1, penalty=l1, solver=lbfgs, total=   0.0s\n",
      "[CV] C=0.1, penalty=l1, solver=lbfgs .................................\n",
      "[CV] .................. C=0.1, penalty=l1, solver=lbfgs, total=   0.0s\n",
      "[CV] C=0.1, penalty=l1, solver=lbfgs .................................\n",
      "[CV] .................. C=0.1, penalty=l1, solver=lbfgs, total=   0.0s\n",
      "[CV] C=0.1, penalty=l1, solver=lbfgs .................................\n",
      "[CV] .................. C=0.1, penalty=l1, solver=lbfgs, total=   0.0s\n",
      "[CV] C=0.1, penalty=l1, solver=liblinear .............................\n",
      "[CV] .............. C=0.1, penalty=l1, solver=liblinear, total=   0.0s\n",
      "[CV] C=0.1, penalty=l1, solver=liblinear .............................\n",
      "[CV] .............. C=0.1, penalty=l1, solver=liblinear, total=   0.1s\n",
      "[CV] C=0.1, penalty=l1, solver=liblinear .............................\n",
      "[CV] .............. C=0.1, penalty=l1, solver=liblinear, total=   0.1s\n",
      "[CV] C=0.1, penalty=l1, solver=liblinear .............................\n",
      "[CV] .............. C=0.1, penalty=l1, solver=liblinear, total=   0.0s\n",
      "[CV] C=0.1, penalty=l1, solver=liblinear .............................\n",
      "[CV] .............. C=0.1, penalty=l1, solver=liblinear, total=   0.0s\n",
      "[CV] C=0.1, penalty=l2, solver=newton-cg .............................\n",
      "[CV] .............. C=0.1, penalty=l2, solver=newton-cg, total=   0.1s\n",
      "[CV] C=0.1, penalty=l2, solver=newton-cg .............................\n",
      "[CV] .............. C=0.1, penalty=l2, solver=newton-cg, total=   0.1s\n",
      "[CV] C=0.1, penalty=l2, solver=newton-cg .............................\n",
      "[CV] .............. C=0.1, penalty=l2, solver=newton-cg, total=   0.1s\n",
      "[CV] C=0.1, penalty=l2, solver=newton-cg .............................\n",
      "[CV] .............. C=0.1, penalty=l2, solver=newton-cg, total=   0.1s\n",
      "[CV] C=0.1, penalty=l2, solver=newton-cg .............................\n",
      "[CV] .............. C=0.1, penalty=l2, solver=newton-cg, total=   0.1s\n",
      "[CV] C=0.1, penalty=l2, solver=lbfgs .................................\n",
      "[CV] .................. C=0.1, penalty=l2, solver=lbfgs, total=   0.0s\n",
      "[CV] C=0.1, penalty=l2, solver=lbfgs .................................\n",
      "[CV] .................. C=0.1, penalty=l2, solver=lbfgs, total=   0.0s\n",
      "[CV] C=0.1, penalty=l2, solver=lbfgs .................................\n",
      "[CV] .................. C=0.1, penalty=l2, solver=lbfgs, total=   0.0s\n",
      "[CV] C=0.1, penalty=l2, solver=lbfgs .................................\n",
      "[CV] .................. C=0.1, penalty=l2, solver=lbfgs, total=   0.0s\n",
      "[CV] C=0.1, penalty=l2, solver=lbfgs .................................\n",
      "[CV] .................. C=0.1, penalty=l2, solver=lbfgs, total=   0.0s\n",
      "[CV] C=0.1, penalty=l2, solver=liblinear .............................\n",
      "[CV] .............. C=0.1, penalty=l2, solver=liblinear, total=   0.0s\n",
      "[CV] C=0.1, penalty=l2, solver=liblinear .............................\n",
      "[CV] .............. C=0.1, penalty=l2, solver=liblinear, total=   0.0s\n",
      "[CV] C=0.1, penalty=l2, solver=liblinear .............................\n",
      "[CV] .............. C=0.1, penalty=l2, solver=liblinear, total=   0.0s\n",
      "[CV] C=0.1, penalty=l2, solver=liblinear .............................\n",
      "[CV] .............. C=0.1, penalty=l2, solver=liblinear, total=   0.0s\n",
      "[CV] C=0.1, penalty=l2, solver=liblinear .............................\n",
      "[CV] .............. C=0.1, penalty=l2, solver=liblinear, total=   0.0s\n",
      "[CV] C=1.0, penalty=l1, solver=newton-cg .............................\n",
      "[CV] .............. C=1.0, penalty=l1, solver=newton-cg, total=   0.0s\n",
      "[CV] C=1.0, penalty=l1, solver=newton-cg .............................\n",
      "[CV] .............. C=1.0, penalty=l1, solver=newton-cg, total=   0.0s\n",
      "[CV] C=1.0, penalty=l1, solver=newton-cg .............................\n",
      "[CV] .............. C=1.0, penalty=l1, solver=newton-cg, total=   0.0s\n",
      "[CV] C=1.0, penalty=l1, solver=newton-cg .............................\n",
      "[CV] .............. C=1.0, penalty=l1, solver=newton-cg, total=   0.0s\n",
      "[CV] C=1.0, penalty=l1, solver=newton-cg .............................\n",
      "[CV] .............. C=1.0, penalty=l1, solver=newton-cg, total=   0.0s\n",
      "[CV] C=1.0, penalty=l1, solver=lbfgs .................................\n",
      "[CV] .................. C=1.0, penalty=l1, solver=lbfgs, total=   0.0s\n",
      "[CV] C=1.0, penalty=l1, solver=lbfgs .................................\n",
      "[CV] .................. C=1.0, penalty=l1, solver=lbfgs, total=   0.0s\n",
      "[CV] C=1.0, penalty=l1, solver=lbfgs .................................\n",
      "[CV] .................. C=1.0, penalty=l1, solver=lbfgs, total=   0.0s\n",
      "[CV] C=1.0, penalty=l1, solver=lbfgs .................................\n",
      "[CV] .................. C=1.0, penalty=l1, solver=lbfgs, total=   0.0s\n",
      "[CV] C=1.0, penalty=l1, solver=lbfgs .................................\n",
      "[CV] .................. C=1.0, penalty=l1, solver=lbfgs, total=   0.0s\n",
      "[CV] C=1.0, penalty=l1, solver=liblinear .............................\n",
      "[CV] .............. C=1.0, penalty=l1, solver=liblinear, total=   0.1s\n",
      "[CV] C=1.0, penalty=l1, solver=liblinear .............................\n",
      "[CV] .............. C=1.0, penalty=l1, solver=liblinear, total=   0.1s\n",
      "[CV] C=1.0, penalty=l1, solver=liblinear .............................\n",
      "[CV] .............. C=1.0, penalty=l1, solver=liblinear, total=   0.1s\n",
      "[CV] C=1.0, penalty=l1, solver=liblinear .............................\n",
      "[CV] .............. C=1.0, penalty=l1, solver=liblinear, total=   0.1s\n",
      "[CV] C=1.0, penalty=l1, solver=liblinear .............................\n",
      "[CV] .............. C=1.0, penalty=l1, solver=liblinear, total=   0.1s\n",
      "[CV] C=1.0, penalty=l2, solver=newton-cg .............................\n",
      "[CV] .............. C=1.0, penalty=l2, solver=newton-cg, total=   0.0s\n",
      "[CV] C=1.0, penalty=l2, solver=newton-cg .............................\n",
      "[CV] .............. C=1.0, penalty=l2, solver=newton-cg, total=   0.1s\n",
      "[CV] C=1.0, penalty=l2, solver=newton-cg .............................\n",
      "[CV] .............. C=1.0, penalty=l2, solver=newton-cg, total=   0.0s\n",
      "[CV] C=1.0, penalty=l2, solver=newton-cg .............................\n",
      "[CV] .............. C=1.0, penalty=l2, solver=newton-cg, total=   0.0s\n",
      "[CV] C=1.0, penalty=l2, solver=newton-cg .............................\n",
      "[CV] .............. C=1.0, penalty=l2, solver=newton-cg, total=   0.0s\n",
      "[CV] C=1.0, penalty=l2, solver=lbfgs .................................\n",
      "[CV] .................. C=1.0, penalty=l2, solver=lbfgs, total=   0.0s\n",
      "[CV] C=1.0, penalty=l2, solver=lbfgs .................................\n",
      "[CV] .................. C=1.0, penalty=l2, solver=lbfgs, total=   0.0s\n",
      "[CV] C=1.0, penalty=l2, solver=lbfgs .................................\n",
      "[CV] .................. C=1.0, penalty=l2, solver=lbfgs, total=   0.0s\n",
      "[CV] C=1.0, penalty=l2, solver=lbfgs .................................\n",
      "[CV] .................. C=1.0, penalty=l2, solver=lbfgs, total=   0.0s\n",
      "[CV] C=1.0, penalty=l2, solver=lbfgs .................................\n",
      "[CV] .................. C=1.0, penalty=l2, solver=lbfgs, total=   0.0s\n",
      "[CV] C=1.0, penalty=l2, solver=liblinear .............................\n",
      "[CV] .............. C=1.0, penalty=l2, solver=liblinear, total=   0.0s\n",
      "[CV] C=1.0, penalty=l2, solver=liblinear .............................\n",
      "[CV] .............. C=1.0, penalty=l2, solver=liblinear, total=   0.0s\n",
      "[CV] C=1.0, penalty=l2, solver=liblinear .............................\n",
      "[CV] .............. C=1.0, penalty=l2, solver=liblinear, total=   0.0s\n",
      "[CV] C=1.0, penalty=l2, solver=liblinear .............................\n",
      "[CV] .............. C=1.0, penalty=l2, solver=liblinear, total=   0.0s\n",
      "[CV] C=1.0, penalty=l2, solver=liblinear .............................\n",
      "[CV] .............. C=1.0, penalty=l2, solver=liblinear, total=   0.0s\n",
      "[CV] C=10.0, penalty=l1, solver=newton-cg ............................\n",
      "[CV] ............. C=10.0, penalty=l1, solver=newton-cg, total=   0.0s\n",
      "[CV] C=10.0, penalty=l1, solver=newton-cg ............................\n",
      "[CV] ............. C=10.0, penalty=l1, solver=newton-cg, total=   0.0s\n",
      "[CV] C=10.0, penalty=l1, solver=newton-cg ............................\n",
      "[CV] ............. C=10.0, penalty=l1, solver=newton-cg, total=   0.0s\n",
      "[CV] C=10.0, penalty=l1, solver=newton-cg ............................\n",
      "[CV] ............. C=10.0, penalty=l1, solver=newton-cg, total=   0.0s\n",
      "[CV] C=10.0, penalty=l1, solver=newton-cg ............................\n",
      "[CV] ............. C=10.0, penalty=l1, solver=newton-cg, total=   0.0s\n",
      "[CV] C=10.0, penalty=l1, solver=lbfgs ................................\n",
      "[CV] ................. C=10.0, penalty=l1, solver=lbfgs, total=   0.0s\n",
      "[CV] C=10.0, penalty=l1, solver=lbfgs ................................\n",
      "[CV] ................. C=10.0, penalty=l1, solver=lbfgs, total=   0.0s\n",
      "[CV] C=10.0, penalty=l1, solver=lbfgs ................................\n",
      "[CV] ................. C=10.0, penalty=l1, solver=lbfgs, total=   0.0s\n",
      "[CV] C=10.0, penalty=l1, solver=lbfgs ................................\n",
      "[CV] ................. C=10.0, penalty=l1, solver=lbfgs, total=   0.0s\n",
      "[CV] C=10.0, penalty=l1, solver=lbfgs ................................\n",
      "[CV] ................. C=10.0, penalty=l1, solver=lbfgs, total=   0.0s\n",
      "[CV] C=10.0, penalty=l1, solver=liblinear ............................\n",
      "[CV] ............. C=10.0, penalty=l1, solver=liblinear, total=   0.1s\n",
      "[CV] C=10.0, penalty=l1, solver=liblinear ............................\n",
      "[CV] ............. C=10.0, penalty=l1, solver=liblinear, total=   0.1s\n",
      "[CV] C=10.0, penalty=l1, solver=liblinear ............................\n",
      "[CV] ............. C=10.0, penalty=l1, solver=liblinear, total=   0.1s\n",
      "[CV] C=10.0, penalty=l1, solver=liblinear ............................\n",
      "[CV] ............. C=10.0, penalty=l1, solver=liblinear, total=   0.1s\n",
      "[CV] C=10.0, penalty=l1, solver=liblinear ............................\n",
      "[CV] ............. C=10.0, penalty=l1, solver=liblinear, total=   0.1s\n",
      "[CV] C=10.0, penalty=l2, solver=newton-cg ............................\n",
      "[CV] ............. C=10.0, penalty=l2, solver=newton-cg, total=   0.0s\n",
      "[CV] C=10.0, penalty=l2, solver=newton-cg ............................\n",
      "[CV] ............. C=10.0, penalty=l2, solver=newton-cg, total=   0.0s\n",
      "[CV] C=10.0, penalty=l2, solver=newton-cg ............................\n",
      "[CV] ............. C=10.0, penalty=l2, solver=newton-cg, total=   0.0s\n",
      "[CV] C=10.0, penalty=l2, solver=newton-cg ............................\n",
      "[CV] ............. C=10.0, penalty=l2, solver=newton-cg, total=   0.0s\n",
      "[CV] C=10.0, penalty=l2, solver=newton-cg ............................\n",
      "[CV] ............. C=10.0, penalty=l2, solver=newton-cg, total=   0.0s\n",
      "[CV] C=10.0, penalty=l2, solver=lbfgs ................................\n",
      "[CV] ................. C=10.0, penalty=l2, solver=lbfgs, total=   0.0s\n",
      "[CV] C=10.0, penalty=l2, solver=lbfgs ................................\n",
      "[CV] ................. C=10.0, penalty=l2, solver=lbfgs, total=   0.0s\n",
      "[CV] C=10.0, penalty=l2, solver=lbfgs ................................\n",
      "[CV] ................. C=10.0, penalty=l2, solver=lbfgs, total=   0.0s\n",
      "[CV] C=10.0, penalty=l2, solver=lbfgs ................................\n",
      "[CV] ................. C=10.0, penalty=l2, solver=lbfgs, total=   0.0s\n",
      "[CV] C=10.0, penalty=l2, solver=lbfgs ................................\n",
      "[CV] ................. C=10.0, penalty=l2, solver=lbfgs, total=   0.0s\n",
      "[CV] C=10.0, penalty=l2, solver=liblinear ............................\n",
      "[CV] ............. C=10.0, penalty=l2, solver=liblinear, total=   0.0s\n",
      "[CV] C=10.0, penalty=l2, solver=liblinear ............................\n",
      "[CV] ............. C=10.0, penalty=l2, solver=liblinear, total=   0.0s\n",
      "[CV] C=10.0, penalty=l2, solver=liblinear ............................\n",
      "[CV] ............. C=10.0, penalty=l2, solver=liblinear, total=   0.0s\n",
      "[CV] C=10.0, penalty=l2, solver=liblinear ............................\n",
      "[CV] ............. C=10.0, penalty=l2, solver=liblinear, total=   0.0s\n",
      "[CV] C=10.0, penalty=l2, solver=liblinear ............................\n",
      "[CV] ............. C=10.0, penalty=l2, solver=liblinear, total=   0.0s\n",
      "[CV] C=100.0, penalty=l1, solver=newton-cg ...........................\n",
      "[CV] ............ C=100.0, penalty=l1, solver=newton-cg, total=   0.0s\n",
      "[CV] C=100.0, penalty=l1, solver=newton-cg ...........................\n",
      "[CV] ............ C=100.0, penalty=l1, solver=newton-cg, total=   0.0s\n",
      "[CV] C=100.0, penalty=l1, solver=newton-cg ...........................\n",
      "[CV] ............ C=100.0, penalty=l1, solver=newton-cg, total=   0.0s\n",
      "[CV] C=100.0, penalty=l1, solver=newton-cg ...........................\n",
      "[CV] ............ C=100.0, penalty=l1, solver=newton-cg, total=   0.0s\n",
      "[CV] C=100.0, penalty=l1, solver=newton-cg ...........................\n",
      "[CV] ............ C=100.0, penalty=l1, solver=newton-cg, total=   0.0s\n",
      "[CV] C=100.0, penalty=l1, solver=lbfgs ...............................\n",
      "[CV] ................ C=100.0, penalty=l1, solver=lbfgs, total=   0.0s\n",
      "[CV] C=100.0, penalty=l1, solver=lbfgs ...............................\n",
      "[CV] ................ C=100.0, penalty=l1, solver=lbfgs, total=   0.0s\n",
      "[CV] C=100.0, penalty=l1, solver=lbfgs ...............................\n",
      "[CV] ................ C=100.0, penalty=l1, solver=lbfgs, total=   0.0s\n",
      "[CV] C=100.0, penalty=l1, solver=lbfgs ...............................\n",
      "[CV] ................ C=100.0, penalty=l1, solver=lbfgs, total=   0.0s\n",
      "[CV] C=100.0, penalty=l1, solver=lbfgs ...............................\n",
      "[CV] ................ C=100.0, penalty=l1, solver=lbfgs, total=   0.0s\n",
      "[CV] C=100.0, penalty=l1, solver=liblinear ...........................\n",
      "[CV] ............ C=100.0, penalty=l1, solver=liblinear, total=   0.0s\n",
      "[CV] C=100.0, penalty=l1, solver=liblinear ...........................\n",
      "[CV] ............ C=100.0, penalty=l1, solver=liblinear, total=   0.1s\n",
      "[CV] C=100.0, penalty=l1, solver=liblinear ...........................\n",
      "[CV] ............ C=100.0, penalty=l1, solver=liblinear, total=   0.1s\n",
      "[CV] C=100.0, penalty=l1, solver=liblinear ...........................\n",
      "[CV] ............ C=100.0, penalty=l1, solver=liblinear, total=   0.1s\n",
      "[CV] C=100.0, penalty=l1, solver=liblinear ...........................\n",
      "[CV] ............ C=100.0, penalty=l1, solver=liblinear, total=   0.1s\n",
      "[CV] C=100.0, penalty=l2, solver=newton-cg ...........................\n",
      "[CV] ............ C=100.0, penalty=l2, solver=newton-cg, total=   0.0s\n",
      "[CV] C=100.0, penalty=l2, solver=newton-cg ...........................\n",
      "[CV] ............ C=100.0, penalty=l2, solver=newton-cg, total=   0.0s\n",
      "[CV] C=100.0, penalty=l2, solver=newton-cg ...........................\n",
      "[CV] ............ C=100.0, penalty=l2, solver=newton-cg, total=   0.0s\n",
      "[CV] C=100.0, penalty=l2, solver=newton-cg ...........................\n",
      "[CV] ............ C=100.0, penalty=l2, solver=newton-cg, total=   0.0s\n",
      "[CV] C=100.0, penalty=l2, solver=newton-cg ...........................\n",
      "[CV] ............ C=100.0, penalty=l2, solver=newton-cg, total=   0.0s\n",
      "[CV] C=100.0, penalty=l2, solver=lbfgs ...............................\n",
      "[CV] ................ C=100.0, penalty=l2, solver=lbfgs, total=   0.1s\n",
      "[CV] C=100.0, penalty=l2, solver=lbfgs ...............................\n",
      "[CV] ................ C=100.0, penalty=l2, solver=lbfgs, total=   0.0s\n",
      "[CV] C=100.0, penalty=l2, solver=lbfgs ...............................\n",
      "[CV] ................ C=100.0, penalty=l2, solver=lbfgs, total=   0.0s\n",
      "[CV] C=100.0, penalty=l2, solver=lbfgs ...............................\n",
      "[CV] ................ C=100.0, penalty=l2, solver=lbfgs, total=   0.0s\n",
      "[CV] C=100.0, penalty=l2, solver=lbfgs ...............................\n",
      "[CV] ................ C=100.0, penalty=l2, solver=lbfgs, total=   0.0s\n",
      "[CV] C=100.0, penalty=l2, solver=liblinear ...........................\n",
      "[CV] ............ C=100.0, penalty=l2, solver=liblinear, total=   0.0s\n",
      "[CV] C=100.0, penalty=l2, solver=liblinear ...........................\n",
      "[CV] ............ C=100.0, penalty=l2, solver=liblinear, total=   0.0s\n",
      "[CV] C=100.0, penalty=l2, solver=liblinear ...........................\n",
      "[CV] ............ C=100.0, penalty=l2, solver=liblinear, total=   0.0s\n",
      "[CV] C=100.0, penalty=l2, solver=liblinear ...........................\n",
      "[CV] ............ C=100.0, penalty=l2, solver=liblinear, total=   0.0s\n",
      "[CV] C=100.0, penalty=l2, solver=liblinear ...........................\n",
      "[CV] ............ C=100.0, penalty=l2, solver=liblinear, total=   0.0s\n",
      "[CV] C=1000.0, penalty=l1, solver=newton-cg ..........................\n",
      "[CV] ........... C=1000.0, penalty=l1, solver=newton-cg, total=   0.0s\n",
      "[CV] C=1000.0, penalty=l1, solver=newton-cg ..........................\n",
      "[CV] ........... C=1000.0, penalty=l1, solver=newton-cg, total=   0.0s\n",
      "[CV] C=1000.0, penalty=l1, solver=newton-cg ..........................\n",
      "[CV] ........... C=1000.0, penalty=l1, solver=newton-cg, total=   0.0s\n",
      "[CV] C=1000.0, penalty=l1, solver=newton-cg ..........................\n",
      "[CV] ........... C=1000.0, penalty=l1, solver=newton-cg, total=   0.0s\n",
      "[CV] C=1000.0, penalty=l1, solver=newton-cg ..........................\n",
      "[CV] ........... C=1000.0, penalty=l1, solver=newton-cg, total=   0.0s\n",
      "[CV] C=1000.0, penalty=l1, solver=lbfgs ..............................\n",
      "[CV] ............... C=1000.0, penalty=l1, solver=lbfgs, total=   0.0s\n",
      "[CV] C=1000.0, penalty=l1, solver=lbfgs ..............................\n",
      "[CV] ............... C=1000.0, penalty=l1, solver=lbfgs, total=   0.0s\n",
      "[CV] C=1000.0, penalty=l1, solver=lbfgs ..............................\n",
      "[CV] ............... C=1000.0, penalty=l1, solver=lbfgs, total=   0.0s\n",
      "[CV] C=1000.0, penalty=l1, solver=lbfgs ..............................\n",
      "[CV] ............... C=1000.0, penalty=l1, solver=lbfgs, total=   0.0s\n",
      "[CV] C=1000.0, penalty=l1, solver=lbfgs ..............................\n",
      "[CV] ............... C=1000.0, penalty=l1, solver=lbfgs, total=   0.0s\n",
      "[CV] C=1000.0, penalty=l1, solver=liblinear ..........................\n",
      "[CV] ........... C=1000.0, penalty=l1, solver=liblinear, total=   0.1s\n",
      "[CV] C=1000.0, penalty=l1, solver=liblinear ..........................\n",
      "[CV] ........... C=1000.0, penalty=l1, solver=liblinear, total=   0.0s\n",
      "[CV] C=1000.0, penalty=l1, solver=liblinear ..........................\n",
      "[CV] ........... C=1000.0, penalty=l1, solver=liblinear, total=   0.0s\n",
      "[CV] C=1000.0, penalty=l1, solver=liblinear ..........................\n",
      "[CV] ........... C=1000.0, penalty=l1, solver=liblinear, total=   0.0s\n",
      "[CV] C=1000.0, penalty=l1, solver=liblinear ..........................\n",
      "[CV] ........... C=1000.0, penalty=l1, solver=liblinear, total=   0.1s\n",
      "[CV] C=1000.0, penalty=l2, solver=newton-cg ..........................\n",
      "[CV] ........... C=1000.0, penalty=l2, solver=newton-cg, total=   0.0s\n",
      "[CV] C=1000.0, penalty=l2, solver=newton-cg ..........................\n",
      "[CV] ........... C=1000.0, penalty=l2, solver=newton-cg, total=   0.0s\n",
      "[CV] C=1000.0, penalty=l2, solver=newton-cg ..........................\n",
      "[CV] ........... C=1000.0, penalty=l2, solver=newton-cg, total=   0.0s\n",
      "[CV] C=1000.0, penalty=l2, solver=newton-cg ..........................\n",
      "[CV] ........... C=1000.0, penalty=l2, solver=newton-cg, total=   0.0s\n",
      "[CV] C=1000.0, penalty=l2, solver=newton-cg ..........................\n",
      "[CV] ........... C=1000.0, penalty=l2, solver=newton-cg, total=   0.0s\n",
      "[CV] C=1000.0, penalty=l2, solver=lbfgs ..............................\n",
      "[CV] ............... C=1000.0, penalty=l2, solver=lbfgs, total=   0.0s\n",
      "[CV] C=1000.0, penalty=l2, solver=lbfgs ..............................\n",
      "[CV] ............... C=1000.0, penalty=l2, solver=lbfgs, total=   0.0s\n",
      "[CV] C=1000.0, penalty=l2, solver=lbfgs ..............................\n",
      "[CV] ............... C=1000.0, penalty=l2, solver=lbfgs, total=   0.0s\n",
      "[CV] C=1000.0, penalty=l2, solver=lbfgs ..............................\n",
      "[CV] ............... C=1000.0, penalty=l2, solver=lbfgs, total=   0.0s\n",
      "[CV] C=1000.0, penalty=l2, solver=lbfgs ..............................\n",
      "[CV] ............... C=1000.0, penalty=l2, solver=lbfgs, total=   0.0s\n",
      "[CV] C=1000.0, penalty=l2, solver=liblinear ..........................\n",
      "[CV] ........... C=1000.0, penalty=l2, solver=liblinear, total=   0.0s\n",
      "[CV] C=1000.0, penalty=l2, solver=liblinear ..........................\n",
      "[CV] ........... C=1000.0, penalty=l2, solver=liblinear, total=   0.0s\n",
      "[CV] C=1000.0, penalty=l2, solver=liblinear ..........................\n",
      "[CV] ........... C=1000.0, penalty=l2, solver=liblinear, total=   0.0s\n",
      "[CV] C=1000.0, penalty=l2, solver=liblinear ..........................\n",
      "[CV] ........... C=1000.0, penalty=l2, solver=liblinear, total=   0.0s\n",
      "[CV] C=1000.0, penalty=l2, solver=liblinear ..........................\n",
      "[CV] ........... C=1000.0, penalty=l2, solver=liblinear, total=   0.0s\n"
     ]
    },
    {
     "name": "stderr",
     "output_type": "stream",
     "text": [
      "[Parallel(n_jobs=1)]: Done 210 out of 210 | elapsed:    5.7s finished\n"
     ]
    },
    {
     "data": {
      "text/plain": [
       "GridSearchCV(estimator=LogisticRegression(),\n",
       "             param_grid={'C': array([1.e-03, 1.e-02, 1.e-01, 1.e+00, 1.e+01, 1.e+02, 1.e+03]),\n",
       "                         'penalty': ['l1', 'l2'],\n",
       "                         'solver': ['newton-cg', 'lbfgs', 'liblinear']},\n",
       "             verbose=2)"
      ]
     },
     "execution_count": 45,
     "metadata": {},
     "output_type": "execute_result"
    }
   ],
   "source": [
    "from sklearn.model_selection import GridSearchCV\n",
    "grid = GridSearchCV(LogisticRegression(), parameters, verbose=2)\n",
    "grid.fit(xtrain, ytrain)"
   ]
  },
  {
   "cell_type": "code",
   "execution_count": 46,
   "metadata": {
    "execution": {
     "iopub.execute_input": "2022-12-01T13:45:09.214897Z",
     "iopub.status.busy": "2022-12-01T13:45:09.213638Z",
     "iopub.status.idle": "2022-12-01T13:45:09.218247Z",
     "shell.execute_reply": "2022-12-01T13:45:09.217510Z",
     "shell.execute_reply.started": "2022-12-01T13:43:46.148564Z"
    },
    "executionInfo": {
     "elapsed": 57,
     "status": "ok",
     "timestamp": 1661249543624,
     "user": {
      "displayName": "Ruturaj Ranpise",
      "userId": "13134967451216320931"
     },
     "user_tz": -330
    },
    "id": "uROM747XsN9G",
    "outputId": "ea884a84-cd16-4959-e22b-9ffc22fd266c",
    "papermill": {
     "duration": 0.105817,
     "end_time": "2022-12-01T13:45:09.218376",
     "exception": false,
     "start_time": "2022-12-01T13:45:09.112559",
     "status": "completed"
    },
    "tags": []
   },
   "outputs": [
    {
     "data": {
      "text/plain": [
       "{'C': 0.001, 'penalty': 'l1', 'solver': 'liblinear'}"
      ]
     },
     "execution_count": 46,
     "metadata": {},
     "output_type": "execute_result"
    }
   ],
   "source": [
    "grid.best_params_"
   ]
  },
  {
   "cell_type": "code",
   "execution_count": 47,
   "metadata": {
    "execution": {
     "iopub.execute_input": "2022-12-01T13:45:09.413725Z",
     "iopub.status.busy": "2022-12-01T13:45:09.412964Z",
     "iopub.status.idle": "2022-12-01T13:45:09.417365Z",
     "shell.execute_reply": "2022-12-01T13:45:09.416794Z",
     "shell.execute_reply.started": "2022-12-01T13:43:46.156219Z"
    },
    "executionInfo": {
     "elapsed": 44,
     "status": "ok",
     "timestamp": 1661249543625,
     "user": {
      "displayName": "Ruturaj Ranpise",
      "userId": "13134967451216320931"
     },
     "user_tz": -330
    },
    "id": "qDLYDo4IsZy9",
    "outputId": "5e448221-d612-4c63-f8cb-f04bc7a5efb4",
    "papermill": {
     "duration": 0.104109,
     "end_time": "2022-12-01T13:45:09.417484",
     "exception": false,
     "start_time": "2022-12-01T13:45:09.313375",
     "status": "completed"
    },
    "tags": []
   },
   "outputs": [
    {
     "data": {
      "text/plain": [
       "0.975"
      ]
     },
     "execution_count": 47,
     "metadata": {},
     "output_type": "execute_result"
    }
   ],
   "source": [
    "grid.best_score_"
   ]
  },
  {
   "cell_type": "code",
   "execution_count": 48,
   "metadata": {
    "execution": {
     "iopub.execute_input": "2022-12-01T13:45:09.612213Z",
     "iopub.status.busy": "2022-12-01T13:45:09.611291Z",
     "iopub.status.idle": "2022-12-01T13:45:09.615211Z",
     "shell.execute_reply": "2022-12-01T13:45:09.615798Z",
     "shell.execute_reply.started": "2022-12-01T13:43:46.171354Z"
    },
    "executionInfo": {
     "elapsed": 39,
     "status": "ok",
     "timestamp": 1661249543625,
     "user": {
      "displayName": "Ruturaj Ranpise",
      "userId": "13134967451216320931"
     },
     "user_tz": -330
    },
    "id": "f0Wt3AcZsbrR",
    "outputId": "66610549-0ae8-4630-ba2c-44c674cad4fa",
    "papermill": {
     "duration": 0.105052,
     "end_time": "2022-12-01T13:45:09.615959",
     "exception": false,
     "start_time": "2022-12-01T13:45:09.510907",
     "status": "completed"
    },
    "tags": []
   },
   "outputs": [
    {
     "data": {
      "text/plain": [
       "LogisticRegression(C=0.001, penalty='l1', solver='liblinear')"
      ]
     },
     "execution_count": 48,
     "metadata": {},
     "output_type": "execute_result"
    }
   ],
   "source": [
    "grid.best_estimator_"
   ]
  },
  {
   "cell_type": "code",
   "execution_count": 49,
   "metadata": {
    "execution": {
     "iopub.execute_input": "2022-12-01T13:45:09.817230Z",
     "iopub.status.busy": "2022-12-01T13:45:09.816428Z",
     "iopub.status.idle": "2022-12-01T13:45:09.834771Z",
     "shell.execute_reply": "2022-12-01T13:45:09.833993Z",
     "shell.execute_reply.started": "2022-12-01T13:43:46.184109Z"
    },
    "executionInfo": {
     "elapsed": 33,
     "status": "ok",
     "timestamp": 1661249543625,
     "user": {
      "displayName": "Ruturaj Ranpise",
      "userId": "13134967451216320931"
     },
     "user_tz": -330
    },
    "id": "8ZeJrCRbsgZx",
    "outputId": "c8674358-208c-443d-ebe8-e63c89f0bcff",
    "papermill": {
     "duration": 0.123444,
     "end_time": "2022-12-01T13:45:09.834906",
     "exception": false,
     "start_time": "2022-12-01T13:45:09.711462",
     "status": "completed"
    },
    "tags": []
   },
   "outputs": [
    {
     "name": "stdout",
     "output_type": "stream",
     "text": [
      "Training Accuracy : 0.975609756097561\n",
      "Testing Accuracy : 1.0\n",
      "\n",
      "\n",
      "              precision    recall  f1-score   support\n",
      "\n",
      "           0       1.00      1.00      1.00        16\n",
      "           1       1.00      1.00      1.00        20\n",
      "\n",
      "    accuracy                           1.00        36\n",
      "   macro avg       1.00      1.00      1.00        36\n",
      "weighted avg       1.00      1.00      1.00        36\n",
      "\n"
     ]
    }
   ],
   "source": [
    "logreg = mymodel(grid.best_estimator_)"
   ]
  },
  {
   "cell_type": "markdown",
   "metadata": {
    "id": "9oD3cKk-s3MO",
    "papermill": {
     "duration": 0.097455,
     "end_time": "2022-12-01T13:45:10.034392",
     "exception": false,
     "start_time": "2022-12-01T13:45:09.936937",
     "status": "completed"
    },
    "tags": []
   },
   "source": [
    "##HyperParameter Tuning For KNN\n",
    "\n",
    "# *GridSearchCV*"
   ]
  },
  {
   "cell_type": "code",
   "execution_count": 50,
   "metadata": {
    "execution": {
     "iopub.execute_input": "2022-12-01T13:45:10.236606Z",
     "iopub.status.busy": "2022-12-01T13:45:10.235591Z",
     "iopub.status.idle": "2022-12-01T13:45:10.242975Z",
     "shell.execute_reply": "2022-12-01T13:45:10.242116Z",
     "shell.execute_reply.started": "2022-12-01T13:43:46.209790Z"
    },
    "id": "ztLWdX-w1If1",
    "papermill": {
     "duration": 0.112698,
     "end_time": "2022-12-01T13:45:10.243126",
     "exception": false,
     "start_time": "2022-12-01T13:45:10.130428",
     "status": "completed"
    },
    "tags": []
   },
   "outputs": [],
   "source": [
    "from sklearn.pipeline import Pipeline\n",
    "from sklearn.preprocessing import StandardScaler\n",
    "\n",
    "pipe = Pipeline(\n",
    "    [\n",
    "        (\"sc\", StandardScaler()),\n",
    "        (\"knn\", KNeighborsClassifier())\n",
    "    ]\n",
    ")"
   ]
  },
  {
   "cell_type": "code",
   "execution_count": 51,
   "metadata": {
    "execution": {
     "iopub.execute_input": "2022-12-01T13:45:10.446839Z",
     "iopub.status.busy": "2022-12-01T13:45:10.445722Z",
     "iopub.status.idle": "2022-12-01T13:45:10.451090Z",
     "shell.execute_reply": "2022-12-01T13:45:10.451604Z",
     "shell.execute_reply.started": "2022-12-01T13:43:46.219014Z"
    },
    "id": "MJfVaZg_smUR",
    "papermill": {
     "duration": 0.110717,
     "end_time": "2022-12-01T13:45:10.451793",
     "exception": false,
     "start_time": "2022-12-01T13:45:10.341076",
     "status": "completed"
    },
    "tags": []
   },
   "outputs": [],
   "source": [
    "from sklearn.model_selection import GridSearchCV\n",
    "parameters = [{\"knn__n_neighbors\": [3, 5, 7, 9],\n",
    "              \"knn__weights\": [\"uniform\", \"distance\"],\n",
    "              \"knn__leaf_size\": [15, 20]}]"
   ]
  },
  {
   "cell_type": "code",
   "execution_count": 52,
   "metadata": {
    "execution": {
     "iopub.execute_input": "2022-12-01T13:45:10.661974Z",
     "iopub.status.busy": "2022-12-01T13:45:10.660957Z",
     "iopub.status.idle": "2022-12-01T13:45:11.507526Z",
     "shell.execute_reply": "2022-12-01T13:45:11.506620Z",
     "shell.execute_reply.started": "2022-12-01T13:43:46.227818Z"
    },
    "executionInfo": {
     "elapsed": 24,
     "status": "ok",
     "timestamp": 1661249543626,
     "user": {
      "displayName": "Ruturaj Ranpise",
      "userId": "13134967451216320931"
     },
     "user_tz": -330
    },
    "id": "AVgy9KlH1LiM",
    "outputId": "438da4e1-ad3e-4120-af23-09e24ba9d56b",
    "papermill": {
     "duration": 0.953754,
     "end_time": "2022-12-01T13:45:11.507681",
     "exception": false,
     "start_time": "2022-12-01T13:45:10.553927",
     "status": "completed"
    },
    "tags": []
   },
   "outputs": [
    {
     "data": {
      "text/plain": [
       "GridSearchCV(cv=5,\n",
       "             estimator=Pipeline(steps=[('sc', StandardScaler()),\n",
       "                                       ('knn', KNeighborsClassifier())]),\n",
       "             param_grid=[{'knn__leaf_size': [15, 20],\n",
       "                          'knn__n_neighbors': [3, 5, 7, 9],\n",
       "                          'knn__weights': ['uniform', 'distance']}],\n",
       "             scoring='accuracy')"
      ]
     },
     "execution_count": 52,
     "metadata": {},
     "output_type": "execute_result"
    }
   ],
   "source": [
    "grid = GridSearchCV(pipe, parameters, cv=5, scoring=\"accuracy\")\n",
    "grid.fit(xtrain, ytrain)"
   ]
  },
  {
   "cell_type": "code",
   "execution_count": 53,
   "metadata": {
    "execution": {
     "iopub.execute_input": "2022-12-01T13:45:11.705482Z",
     "iopub.status.busy": "2022-12-01T13:45:11.704666Z",
     "iopub.status.idle": "2022-12-01T13:45:11.708715Z",
     "shell.execute_reply": "2022-12-01T13:45:11.708148Z",
     "shell.execute_reply.started": "2022-12-01T13:43:46.958222Z"
    },
    "executionInfo": {
     "elapsed": 75,
     "status": "ok",
     "timestamp": 1661249546684,
     "user": {
      "displayName": "Ruturaj Ranpise",
      "userId": "13134967451216320931"
     },
     "user_tz": -330
    },
    "id": "PrguojGDtIYG",
    "outputId": "3750800e-c86c-4785-ed68-65f0550f441e",
    "papermill": {
     "duration": 0.105624,
     "end_time": "2022-12-01T13:45:11.708860",
     "exception": false,
     "start_time": "2022-12-01T13:45:11.603236",
     "status": "completed"
    },
    "tags": []
   },
   "outputs": [
    {
     "data": {
      "text/plain": [
       "{'knn__leaf_size': 15, 'knn__n_neighbors': 5, 'knn__weights': 'uniform'}"
      ]
     },
     "execution_count": 53,
     "metadata": {},
     "output_type": "execute_result"
    }
   ],
   "source": [
    "grid.best_params_"
   ]
  },
  {
   "cell_type": "code",
   "execution_count": 54,
   "metadata": {
    "execution": {
     "iopub.execute_input": "2022-12-01T13:45:11.912045Z",
     "iopub.status.busy": "2022-12-01T13:45:11.911291Z",
     "iopub.status.idle": "2022-12-01T13:45:11.914936Z",
     "shell.execute_reply": "2022-12-01T13:45:11.915571Z",
     "shell.execute_reply.started": "2022-12-01T13:43:46.964535Z"
    },
    "executionInfo": {
     "elapsed": 74,
     "status": "ok",
     "timestamp": 1661249546685,
     "user": {
      "displayName": "Ruturaj Ranpise",
      "userId": "13134967451216320931"
     },
     "user_tz": -330
    },
    "id": "kxVEV2auuS79",
    "outputId": "f61431b1-4f02-4601-80a7-ed0eb7d6829e",
    "papermill": {
     "duration": 0.105341,
     "end_time": "2022-12-01T13:45:11.915728",
     "exception": false,
     "start_time": "2022-12-01T13:45:11.810387",
     "status": "completed"
    },
    "tags": []
   },
   "outputs": [
    {
     "data": {
      "text/plain": [
       "0.8441176470588235"
      ]
     },
     "execution_count": 54,
     "metadata": {},
     "output_type": "execute_result"
    }
   ],
   "source": [
    "grid.best_score_"
   ]
  },
  {
   "cell_type": "code",
   "execution_count": 55,
   "metadata": {
    "execution": {
     "iopub.execute_input": "2022-12-01T13:45:12.116215Z",
     "iopub.status.busy": "2022-12-01T13:45:12.115311Z",
     "iopub.status.idle": "2022-12-01T13:45:12.123547Z",
     "shell.execute_reply": "2022-12-01T13:45:12.124261Z",
     "shell.execute_reply.started": "2022-12-01T13:43:46.977199Z"
    },
    "executionInfo": {
     "elapsed": 71,
     "status": "ok",
     "timestamp": 1661249546686,
     "user": {
      "displayName": "Ruturaj Ranpise",
      "userId": "13134967451216320931"
     },
     "user_tz": -330
    },
    "id": "O0jV5uNMuUaV",
    "outputId": "9b63c166-e32f-43be-d696-0c99901a9113",
    "papermill": {
     "duration": 0.111189,
     "end_time": "2022-12-01T13:45:12.124429",
     "exception": false,
     "start_time": "2022-12-01T13:45:12.013240",
     "status": "completed"
    },
    "tags": []
   },
   "outputs": [
    {
     "data": {
      "text/plain": [
       "Pipeline(steps=[('sc', StandardScaler()),\n",
       "                ('knn', KNeighborsClassifier(leaf_size=15))])"
      ]
     },
     "execution_count": 55,
     "metadata": {},
     "output_type": "execute_result"
    }
   ],
   "source": [
    "grid.best_estimator_"
   ]
  },
  {
   "cell_type": "code",
   "execution_count": 56,
   "metadata": {
    "execution": {
     "iopub.execute_input": "2022-12-01T13:45:12.337300Z",
     "iopub.status.busy": "2022-12-01T13:45:12.336434Z",
     "iopub.status.idle": "2022-12-01T13:45:12.367121Z",
     "shell.execute_reply": "2022-12-01T13:45:12.367682Z",
     "shell.execute_reply.started": "2022-12-01T13:43:46.989678Z"
    },
    "executionInfo": {
     "elapsed": 68,
     "status": "ok",
     "timestamp": 1661249546686,
     "user": {
      "displayName": "Ruturaj Ranpise",
      "userId": "13134967451216320931"
     },
     "user_tz": -330
    },
    "id": "Q6jgqaAduV9g",
    "outputId": "6177065b-ad48-429c-d918-b5743a86daaf",
    "papermill": {
     "duration": 0.134945,
     "end_time": "2022-12-01T13:45:12.367869",
     "exception": false,
     "start_time": "2022-12-01T13:45:12.232924",
     "status": "completed"
    },
    "tags": []
   },
   "outputs": [
    {
     "name": "stdout",
     "output_type": "stream",
     "text": [
      "Training Accuracy : 0.8902439024390244\n",
      "Testing Accuracy : 0.8611111111111112\n",
      "\n",
      "\n",
      "              precision    recall  f1-score   support\n",
      "\n",
      "           0       0.82      0.88      0.85        16\n",
      "           1       0.89      0.85      0.87        20\n",
      "\n",
      "    accuracy                           0.86        36\n",
      "   macro avg       0.86      0.86      0.86        36\n",
      "weighted avg       0.86      0.86      0.86        36\n",
      "\n"
     ]
    }
   ],
   "source": [
    "knn2 = mymodel(grid.best_estimator_)"
   ]
  },
  {
   "cell_type": "code",
   "execution_count": 57,
   "metadata": {
    "execution": {
     "iopub.execute_input": "2022-12-01T13:45:12.577683Z",
     "iopub.status.busy": "2022-12-01T13:45:12.576965Z",
     "iopub.status.idle": "2022-12-01T13:45:12.580624Z",
     "shell.execute_reply": "2022-12-01T13:45:12.580046Z",
     "shell.execute_reply.started": "2022-12-01T13:43:47.020917Z"
    },
    "id": "Kxvhm5Y40RR5",
    "papermill": {
     "duration": 0.110574,
     "end_time": "2022-12-01T13:45:12.580761",
     "exception": false,
     "start_time": "2022-12-01T13:45:12.470187",
     "status": "completed"
    },
    "tags": []
   },
   "outputs": [],
   "source": [
    "xtrain, xtest, ytrain, ytest = train_test_split(x,y, test_size=0.3, random_state=1, stratify=y)"
   ]
  },
  {
   "cell_type": "code",
   "execution_count": 58,
   "metadata": {
    "execution": {
     "iopub.execute_input": "2022-12-01T13:45:12.782112Z",
     "iopub.status.busy": "2022-12-01T13:45:12.778954Z",
     "iopub.status.idle": "2022-12-01T13:45:12.816422Z",
     "shell.execute_reply": "2022-12-01T13:45:12.816954Z",
     "shell.execute_reply.started": "2022-12-01T13:43:47.030174Z"
    },
    "executionInfo": {
     "elapsed": 66,
     "status": "ok",
     "timestamp": 1661249546687,
     "user": {
      "displayName": "Ruturaj Ranpise",
      "userId": "13134967451216320931"
     },
     "user_tz": -330
    },
    "id": "AlsJej6fuY4e",
    "outputId": "f675b30c-c569-4ef3-8939-eccd2c2ede1d",
    "papermill": {
     "duration": 0.139047,
     "end_time": "2022-12-01T13:45:12.817130",
     "exception": false,
     "start_time": "2022-12-01T13:45:12.678083",
     "status": "completed"
    },
    "tags": []
   },
   "outputs": [
    {
     "data": {
      "text/plain": [
       "0.8055555555555555"
      ]
     },
     "execution_count": 58,
     "metadata": {},
     "output_type": "execute_result"
    }
   ],
   "source": [
    "knn_accuracy = cross_val_score(knn2,xtest,ytest,cv=3,scoring='accuracy')\n",
    "knn_accuracy.mean()"
   ]
  },
  {
   "cell_type": "code",
   "execution_count": 59,
   "metadata": {
    "execution": {
     "iopub.execute_input": "2022-12-01T13:45:13.022956Z",
     "iopub.status.busy": "2022-12-01T13:45:13.021776Z",
     "iopub.status.idle": "2022-12-01T13:45:13.051532Z",
     "shell.execute_reply": "2022-12-01T13:45:13.052058Z",
     "shell.execute_reply.started": "2022-12-01T13:43:47.067548Z"
    },
    "executionInfo": {
     "elapsed": 63,
     "status": "ok",
     "timestamp": 1661249546687,
     "user": {
      "displayName": "Ruturaj Ranpise",
      "userId": "13134967451216320931"
     },
     "user_tz": -330
    },
    "id": "vb0J4GPzvIdZ",
    "outputId": "4dd8fcc0-6ccc-44af-fcd2-9c9c14fa3c71",
    "papermill": {
     "duration": 0.136231,
     "end_time": "2022-12-01T13:45:13.052227",
     "exception": false,
     "start_time": "2022-12-01T13:45:12.915996",
     "status": "completed"
    },
    "tags": []
   },
   "outputs": [
    {
     "data": {
      "text/plain": [
       "0.9166666666666666"
      ]
     },
     "execution_count": 59,
     "metadata": {},
     "output_type": "execute_result"
    }
   ],
   "source": [
    "logreg_accuracy = cross_val_score(logreg,xtest,ytest,cv=3,scoring='accuracy',n_jobs=-1)\n",
    "logreg_accuracy.mean()"
   ]
  },
  {
   "cell_type": "code",
   "execution_count": 60,
   "metadata": {
    "execution": {
     "iopub.execute_input": "2022-12-01T13:45:13.266098Z",
     "iopub.status.busy": "2022-12-01T13:45:13.265007Z",
     "iopub.status.idle": "2022-12-01T13:45:13.291817Z",
     "shell.execute_reply": "2022-12-01T13:45:13.292532Z",
     "shell.execute_reply.started": "2022-12-01T13:43:47.102307Z"
    },
    "executionInfo": {
     "elapsed": 61,
     "status": "ok",
     "timestamp": 1661249546688,
     "user": {
      "displayName": "Ruturaj Ranpise",
      "userId": "13134967451216320931"
     },
     "user_tz": -330
    },
    "id": "qSDTmk5SvU5s",
    "outputId": "00c1ecd0-d92b-4a30-c533-058a9366c847",
    "papermill": {
     "duration": 0.136898,
     "end_time": "2022-12-01T13:45:13.292705",
     "exception": false,
     "start_time": "2022-12-01T13:45:13.155807",
     "status": "completed"
    },
    "tags": []
   },
   "outputs": [
    {
     "data": {
      "text/plain": [
       "0.7222222222222222"
      ]
     },
     "execution_count": 60,
     "metadata": {},
     "output_type": "execute_result"
    }
   ],
   "source": [
    "svm_accuracy = cross_val_score(svm,xtest,ytest,cv=3,scoring='accuracy',n_jobs=-1)\n",
    "svm_accuracy.mean()"
   ]
  },
  {
   "cell_type": "code",
   "execution_count": 61,
   "metadata": {
    "execution": {
     "iopub.execute_input": "2022-12-01T13:45:13.504510Z",
     "iopub.status.busy": "2022-12-01T13:45:13.503364Z",
     "iopub.status.idle": "2022-12-01T13:45:13.537813Z",
     "shell.execute_reply": "2022-12-01T13:45:13.538489Z",
     "shell.execute_reply.started": "2022-12-01T13:43:47.133751Z"
    },
    "executionInfo": {
     "elapsed": 57,
     "status": "ok",
     "timestamp": 1661249546688,
     "user": {
      "displayName": "Ruturaj Ranpise",
      "userId": "13134967451216320931"
     },
     "user_tz": -330
    },
    "id": "2-0vvMarvW-x",
    "outputId": "326489bc-beac-42e5-ec74-e021468fd130",
    "papermill": {
     "duration": 0.145236,
     "end_time": "2022-12-01T13:45:13.538646",
     "exception": false,
     "start_time": "2022-12-01T13:45:13.393410",
     "status": "completed"
    },
    "tags": []
   },
   "outputs": [
    {
     "data": {
      "text/plain": [
       "0.9722222222222222"
      ]
     },
     "execution_count": 61,
     "metadata": {},
     "output_type": "execute_result"
    }
   ],
   "source": [
    "dt_accuracy = cross_val_score(dt,xtest,ytest,cv=3,scoring='accuracy',n_jobs=-1)\n",
    "dt_accuracy.mean()"
   ]
  },
  {
   "cell_type": "code",
   "execution_count": 62,
   "metadata": {
    "execution": {
     "iopub.execute_input": "2022-12-01T13:45:13.748239Z",
     "iopub.status.busy": "2022-12-01T13:45:13.747457Z",
     "iopub.status.idle": "2022-12-01T13:45:13.752967Z",
     "shell.execute_reply": "2022-12-01T13:45:13.752250Z",
     "shell.execute_reply.started": "2022-12-01T13:43:47.166275Z"
    },
    "id": "N0OGq2Twv0c4",
    "papermill": {
     "duration": 0.114374,
     "end_time": "2022-12-01T13:45:13.753097",
     "exception": false,
     "start_time": "2022-12-01T13:45:13.638723",
     "status": "completed"
    },
    "tags": []
   },
   "outputs": [],
   "source": [
    "names = ['KNN','LogReg','SVM','DecisionTree']\n",
    "score =[knn_accuracy.mean(),logreg_accuracy.mean(),svm_accuracy.mean(),dt_accuracy.mean()]"
   ]
  },
  {
   "cell_type": "code",
   "execution_count": 63,
   "metadata": {
    "execution": {
     "iopub.execute_input": "2022-12-01T13:45:13.951712Z",
     "iopub.status.busy": "2022-12-01T13:45:13.951040Z",
     "iopub.status.idle": "2022-12-01T13:45:13.956448Z",
     "shell.execute_reply": "2022-12-01T13:45:13.957019Z",
     "shell.execute_reply.started": "2022-12-01T13:43:47.172974Z"
    },
    "id": "3a8rvCujv2nd",
    "papermill": {
     "duration": 0.106281,
     "end_time": "2022-12-01T13:45:13.957180",
     "exception": false,
     "start_time": "2022-12-01T13:45:13.850899",
     "status": "completed"
    },
    "tags": []
   },
   "outputs": [],
   "source": [
    "scores_2nd = pd.DataFrame({'Algorithm Name':names,'Score':score})"
   ]
  },
  {
   "cell_type": "code",
   "execution_count": 64,
   "metadata": {
    "execution": {
     "iopub.execute_input": "2022-12-01T13:45:14.164859Z",
     "iopub.status.busy": "2022-12-01T13:45:14.159145Z",
     "iopub.status.idle": "2022-12-01T13:45:14.310418Z",
     "shell.execute_reply": "2022-12-01T13:45:14.310978Z",
     "shell.execute_reply.started": "2022-12-01T13:43:47.184353Z"
    },
    "executionInfo": {
     "elapsed": 54,
     "status": "ok",
     "timestamp": 1661249546689,
     "user": {
      "displayName": "Ruturaj Ranpise",
      "userId": "13134967451216320931"
     },
     "user_tz": -330
    },
    "id": "h9mSZXKMvZn3",
    "outputId": "a75e86ae-8be5-4902-bfe4-b32624d5bf2c",
    "papermill": {
     "duration": 0.252754,
     "end_time": "2022-12-01T13:45:14.311136",
     "exception": false,
     "start_time": "2022-12-01T13:45:14.058382",
     "status": "completed"
    },
    "tags": []
   },
   "outputs": [
    {
     "data": {
      "image/png": "[encoded data removed]",
      "text/plain": [
       "<Figure size 432x288 with 1 Axes>"
      ]
     },
     "metadata": {
      "needs_background": "light"
     },
     "output_type": "display_data"
    }
   ],
   "source": [
    "axis = sns.barplot(x='Algorithm Name',y='Score',data = scores_2nd)\n",
    "axis.set(xlabel='Classifier', ylabel='Accuracy')\n",
    "\n",
    "for p in axis.patches:\n",
    "    height = p.get_height()\n",
    "    axis.text(p.get_x() + p.get_width()/2, height + 0.005, '{:1.4f}'.format(height), ha=\"center\") \n",
    "    "
   ]
  },
  {
   "cell_type": "code",
   "execution_count": 65,
   "metadata": {
    "execution": {
     "iopub.execute_input": "2022-12-01T13:45:14.514253Z",
     "iopub.status.busy": "2022-12-01T13:45:14.513329Z",
     "iopub.status.idle": "2022-12-01T13:45:14.523345Z",
     "shell.execute_reply": "2022-12-01T13:45:14.522602Z",
     "shell.execute_reply.started": "2022-12-01T13:43:47.317516Z"
    },
    "executionInfo": {
     "elapsed": 54,
     "status": "ok",
     "timestamp": 1661249546690,
     "user": {
      "displayName": "Ruturaj Ranpise",
      "userId": "13134967451216320931"
     },
     "user_tz": -330
    },
    "id": "V6eBeXX_v6GP",
    "outputId": "c7b55b27-6176-4a5f-e866-02adf8a727fa",
    "papermill": {
     "duration": 0.111631,
     "end_time": "2022-12-01T13:45:14.523473",
     "exception": false,
     "start_time": "2022-12-01T13:45:14.411842",
     "status": "completed"
    },
    "tags": []
   },
   "outputs": [
    {
     "data": {
      "text/html": [
       "<div>\n",
       "<style scoped>\n",
       "    .dataframe tbody tr th:only-of-type {\n",
       "        vertical-align: middle;\n",
       "    }\n",
       "\n",
       "    .dataframe tbody tr th {\n",
       "        vertical-align: top;\n",
       "    }\n",
       "\n",
       "    .dataframe thead th {\n",
       "        text-align: right;\n",
       "    }\n",
       "</style>\n",
       "<table border=\"1\" class=\"dataframe\">\n",
       "  <thead>\n",
       "    <tr style=\"text-align: right;\">\n",
       "      <th></th>\n",
       "      <th>Algorithm Name</th>\n",
       "      <th>Score</th>\n",
       "    </tr>\n",
       "  </thead>\n",
       "  <tbody>\n",
       "    <tr>\n",
       "      <th>0</th>\n",
       "      <td>KNN</td>\n",
       "      <td>0.805556</td>\n",
       "    </tr>\n",
       "    <tr>\n",
       "      <th>1</th>\n",
       "      <td>LogReg</td>\n",
       "      <td>0.916667</td>\n",
       "    </tr>\n",
       "    <tr>\n",
       "      <th>2</th>\n",
       "      <td>SVM</td>\n",
       "      <td>0.722222</td>\n",
       "    </tr>\n",
       "    <tr>\n",
       "      <th>3</th>\n",
       "      <td>DecisionTree</td>\n",
       "      <td>0.972222</td>\n",
       "    </tr>\n",
       "  </tbody>\n",
       "</table>\n",
       "</div>"
      ],
      "text/plain": [
       "  Algorithm Name     Score\n",
       "0            KNN  0.805556\n",
       "1         LogReg  0.916667\n",
       "2            SVM  0.722222\n",
       "3   DecisionTree  0.972222"
      ]
     },
     "execution_count": 65,
     "metadata": {},
     "output_type": "execute_result"
    }
   ],
   "source": [
    "scores_2nd # Cross-validation post HyperParameter Tuning "
   ]
  },
  {
   "cell_type": "code",
   "execution_count": 66,
   "metadata": {
    "execution": {
     "iopub.execute_input": "2022-12-01T13:45:14.732093Z",
     "iopub.status.busy": "2022-12-01T13:45:14.731347Z",
     "iopub.status.idle": "2022-12-01T13:45:14.740643Z",
     "shell.execute_reply": "2022-12-01T13:45:14.741140Z",
     "shell.execute_reply.started": "2022-12-01T13:43:47.329194Z"
    },
    "executionInfo": {
     "elapsed": 53,
     "status": "ok",
     "timestamp": 1661249546690,
     "user": {
      "displayName": "Ruturaj Ranpise",
      "userId": "13134967451216320931"
     },
     "user_tz": -330
    },
    "id": "Yc3RtXoevb8Q",
    "outputId": "160b6c68-fe83-44d7-ae21-dda44267b039",
    "papermill": {
     "duration": 0.113809,
     "end_time": "2022-12-01T13:45:14.741304",
     "exception": false,
     "start_time": "2022-12-01T13:45:14.627495",
     "status": "completed"
    },
    "tags": []
   },
   "outputs": [
    {
     "data": {
      "text/html": [
       "<div>\n",
       "<style scoped>\n",
       "    .dataframe tbody tr th:only-of-type {\n",
       "        vertical-align: middle;\n",
       "    }\n",
       "\n",
       "    .dataframe tbody tr th {\n",
       "        vertical-align: top;\n",
       "    }\n",
       "\n",
       "    .dataframe thead th {\n",
       "        text-align: right;\n",
       "    }\n",
       "</style>\n",
       "<table border=\"1\" class=\"dataframe\">\n",
       "  <thead>\n",
       "    <tr style=\"text-align: right;\">\n",
       "      <th></th>\n",
       "      <th>Algorithm Name</th>\n",
       "      <th>Score</th>\n",
       "    </tr>\n",
       "  </thead>\n",
       "  <tbody>\n",
       "    <tr>\n",
       "      <th>0</th>\n",
       "      <td>KNN</td>\n",
       "      <td>0.916667</td>\n",
       "    </tr>\n",
       "    <tr>\n",
       "      <th>1</th>\n",
       "      <td>LogReg</td>\n",
       "      <td>0.944444</td>\n",
       "    </tr>\n",
       "    <tr>\n",
       "      <th>2</th>\n",
       "      <td>SVM</td>\n",
       "      <td>0.916667</td>\n",
       "    </tr>\n",
       "    <tr>\n",
       "      <th>3</th>\n",
       "      <td>DecisionTree</td>\n",
       "      <td>0.944444</td>\n",
       "    </tr>\n",
       "  </tbody>\n",
       "</table>\n",
       "</div>"
      ],
      "text/plain": [
       "  Algorithm Name     Score\n",
       "0            KNN  0.916667\n",
       "1         LogReg  0.944444\n",
       "2            SVM  0.916667\n",
       "3   DecisionTree  0.944444"
      ]
     },
     "execution_count": 66,
     "metadata": {},
     "output_type": "execute_result"
    }
   ],
   "source": [
    "scores # Cross-validation for the Base model"
   ]
  },
  {
   "cell_type": "markdown",
   "metadata": {
    "id": "wBn216MW3H3H",
    "papermill": {
     "duration": 0.100198,
     "end_time": "2022-12-01T13:45:14.944596",
     "exception": false,
     "start_time": "2022-12-01T13:45:14.844398",
     "status": "completed"
    },
    "tags": []
   },
   "source": [
    ">Cross-validation post HyperParameter Tuning "
   ]
  },
  {
   "cell_type": "code",
   "execution_count": 67,
   "metadata": {
    "execution": {
     "iopub.execute_input": "2022-12-01T13:45:15.151402Z",
     "iopub.status.busy": "2022-12-01T13:45:15.150656Z",
     "iopub.status.idle": "2022-12-01T13:45:15.156742Z",
     "shell.execute_reply": "2022-12-01T13:45:15.157400Z",
     "shell.execute_reply.started": "2022-12-01T13:43:47.343593Z"
    },
    "executionInfo": {
     "elapsed": 52,
     "status": "ok",
     "timestamp": 1661249546690,
     "user": {
      "displayName": "Ruturaj Ranpise",
      "userId": "13134967451216320931"
     },
     "user_tz": -330
    },
    "id": "cuZn0V6Mwu9O",
    "outputId": "b74c8038-47d1-4f13-fb2e-9bf1e27f39b3",
    "papermill": {
     "duration": 0.112266,
     "end_time": "2022-12-01T13:45:15.157571",
     "exception": false,
     "start_time": "2022-12-01T13:45:15.045305",
     "status": "completed"
    },
    "tags": []
   },
   "outputs": [
    {
     "data": {
      "text/plain": [
       "0.9722222222222222"
      ]
     },
     "execution_count": 67,
     "metadata": {},
     "output_type": "execute_result"
    }
   ],
   "source": [
    "scores_2nd['Score'].max() "
   ]
  },
  {
   "cell_type": "markdown",
   "metadata": {
    "id": "900yHaRW3QUM",
    "papermill": {
     "duration": 0.099814,
     "end_time": "2022-12-01T13:45:15.358553",
     "exception": false,
     "start_time": "2022-12-01T13:45:15.258739",
     "status": "completed"
    },
    "tags": []
   },
   "source": [
    ">Cross-validation for the Base model"
   ]
  },
  {
   "cell_type": "code",
   "execution_count": 68,
   "metadata": {
    "execution": {
     "iopub.execute_input": "2022-12-01T13:45:15.565356Z",
     "iopub.status.busy": "2022-12-01T13:45:15.564693Z",
     "iopub.status.idle": "2022-12-01T13:45:15.569875Z",
     "shell.execute_reply": "2022-12-01T13:45:15.570436Z",
     "shell.execute_reply.started": "2022-12-01T13:43:47.352409Z"
    },
    "executionInfo": {
     "elapsed": 49,
     "status": "ok",
     "timestamp": 1661249546691,
     "user": {
      "displayName": "Ruturaj Ranpise",
      "userId": "13134967451216320931"
     },
     "user_tz": -330
    },
    "id": "9ROYHydn2EZk",
    "outputId": "f4b4213e-0f22-4fa4-e830-f39702ee8c7c",
    "papermill": {
     "duration": 0.111706,
     "end_time": "2022-12-01T13:45:15.570586",
     "exception": false,
     "start_time": "2022-12-01T13:45:15.458880",
     "status": "completed"
    },
    "tags": []
   },
   "outputs": [
    {
     "data": {
      "text/plain": [
       "0.9444444444444445"
      ]
     },
     "execution_count": 68,
     "metadata": {},
     "output_type": "execute_result"
    }
   ],
   "source": [
    "scores['Score'].max() "
   ]
  },
  {
   "cell_type": "markdown",
   "metadata": {
    "id": "mfFLvAol3UxY",
    "papermill": {
     "duration": 0.103575,
     "end_time": "2022-12-01T13:45:15.774769",
     "exception": false,
     "start_time": "2022-12-01T13:45:15.671194",
     "status": "completed"
    },
    "tags": []
   },
   "source": [
    "# **5.Conlusion**\n",
    ">This analysis aims to select a prediction model for rainfall forecasting. Since Kerala contributes a high amount of agricultural products in India, maximizing the outputs and minimizing the risks of confronting natural disasters are the concern of this analysis.\n",
    "\n",
    "\n",
    "> We can see that the baseline model gave us an Accuracy of 94%, not disappointing but after tuning the model with the hyperparameters we were able to achieve 97% Accuracy over out model, \n",
    "\n",
    "\n",
    "> Hence, we can consider this model to predict the rainfall in the state of Kerala.  "
   ]
  }
 ],
 "metadata": {
  "kernelspec": {
   "display_name": "Python 3",
   "language": "python",
   "name": "python3"
  },
  "language_info": {
   "codemirror_mode": {
    "name": "ipython",
    "version": 3
   },
   "file_extension": ".py",
   "mimetype": "text/x-python",
   "name": "python",
   "nbconvert_exporter": "python",
   "pygments_lexer": "ipython3",
   "version": "3.7.6"
  },
  "papermill": {
   "duration": 40.752364,
   "end_time": "2022-12-01T13:45:15.985511",
   "environment_variables": {},
   "exception": null,
   "input_path": "__notebook__.ipynb",
   "output_path": "__notebook__.ipynb",
   "parameters": {},
   "start_time": "2022-12-01T13:44:35.233147",
   "version": "2.1.0"
  }
 },
 "nbformat": 4,
 "nbformat_minor": 4
}
